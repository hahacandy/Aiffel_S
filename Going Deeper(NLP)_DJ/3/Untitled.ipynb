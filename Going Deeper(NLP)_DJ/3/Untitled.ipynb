{
 "cells": [
  {
   "cell_type": "markdown",
   "id": "premium-energy",
   "metadata": {},
   "source": [
    "# 3-1. 들어가며"
   ]
  },
  {
   "cell_type": "markdown",
   "id": "successful-hardware",
   "metadata": {},
   "source": [
    "$ mkdir -p ~/aiffel/topic_modelling/data"
   ]
  },
  {
   "cell_type": "markdown",
   "id": "frank-classic",
   "metadata": {},
   "source": [
    "# 3-2. 단어 빈도를 이용한 벡터화 (1) Bag of Words\n"
   ]
  },
  {
   "cell_type": "code",
   "execution_count": null,
   "id": "tired-coating",
   "metadata": {},
   "outputs": [],
   "source": []
  }
 ],
 "metadata": {
  "kernelspec": {
   "display_name": "aiffel",
   "language": "python",
   "name": "aiffel"
  },
  "language_info": {
   "codemirror_mode": {
    "name": "ipython",
    "version": 3
   },
   "file_extension": ".py",
   "mimetype": "text/x-python",
   "name": "python",
   "nbconvert_exporter": "python",
   "pygments_lexer": "ipython3",
   "version": "3.7.9"
  },
  "varInspector": {
   "cols": {
    "lenName": 16,
    "lenType": 16,
    "lenVar": 40
   },
   "kernels_config": {
    "python": {
     "delete_cmd_postfix": "",
     "delete_cmd_prefix": "del ",
     "library": "var_list.py",
     "varRefreshCmd": "print(var_dic_list())"
    },
    "r": {
     "delete_cmd_postfix": ") ",
     "delete_cmd_prefix": "rm(",
     "library": "var_list.r",
     "varRefreshCmd": "cat(var_dic_list()) "
    }
   },
   "types_to_exclude": [
    "module",
    "function",
    "builtin_function_or_method",
    "instance",
    "_Feature"
   ],
   "window_display": false
  }
 },
 "nbformat": 4,
 "nbformat_minor": 5
}
