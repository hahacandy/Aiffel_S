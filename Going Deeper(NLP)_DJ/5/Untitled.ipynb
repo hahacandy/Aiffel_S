{
 "cells": [
  {
   "cell_type": "markdown",
   "id": "legislative-money",
   "metadata": {},
   "source": [
    "# 5-1. 벡터화\n"
   ]
  },
  {
   "cell_type": "code",
   "execution_count": null,
   "id": "negative-awareness",
   "metadata": {},
   "outputs": [],
   "source": [
    "$ mkdir -p ~/aiffel/word_embedding"
   ]
  },
  {
   "cell_type": "code",
   "execution_count": null,
   "id": "front-player",
   "metadata": {},
   "outputs": [],
   "source": [
    "# Bag of words / DTM(Document-Term Matrix)\n",
    "# TF-IDF\n",
    "# 원-핫 인코딩(one-hot encoding)"
   ]
  },
  {
   "cell_type": "markdown",
   "id": "neural-mumbai",
   "metadata": {},
   "source": [
    "# 5-2. 벡터화 실습: 원-핫 인코딩 구현해보기"
   ]
  },
  {
   "cell_type": "code",
   "execution_count": null,
   "id": "national-giant",
   "metadata": {},
   "outputs": [],
   "source": [
    "# Step 1. 패키지 설치하기\n",
    "$ pip install konlpy"
   ]
  },
  {
   "cell_type": "code",
   "execution_count": 1,
   "id": "aggregate-gathering",
   "metadata": {
    "ExecuteTime": {
     "end_time": "2021-04-27T01:47:28.409801Z",
     "start_time": "2021-04-27T01:47:28.283178Z"
    }
   },
   "outputs": [
    {
     "name": "stdout",
     "output_type": "stream",
     "text": [
      "임포트 완료\n"
     ]
    }
   ],
   "source": [
    "import re\n",
    "from konlpy.tag import Okt\n",
    "from collections import Counter\n",
    "print(\"임포트 완료\")"
   ]
  },
  {
   "cell_type": "code",
   "execution_count": 2,
   "id": "saved-artist",
   "metadata": {
    "ExecuteTime": {
     "end_time": "2021-04-27T01:47:33.187187Z",
     "start_time": "2021-04-27T01:47:33.176192Z"
    }
   },
   "outputs": [
    {
     "data": {
      "text/plain": [
       "'임금님 귀는 당나귀 귀! 임금님 귀는 당나귀 귀! 실컷~ 소리치고 나니 속이 확 뚫려 살 것 같았어.'"
      ]
     },
     "execution_count": 2,
     "metadata": {},
     "output_type": "execute_result"
    }
   ],
   "source": [
    "text = \"임금님 귀는 당나귀 귀! 임금님 귀는 당나귀 귀! 실컷~ 소리치고 나니 속이 확 뚫려 살 것 같았어.\"\n",
    "text"
   ]
  },
  {
   "cell_type": "code",
   "execution_count": 3,
   "id": "unique-writer",
   "metadata": {
    "ExecuteTime": {
     "end_time": "2021-04-27T01:48:27.541124Z",
     "start_time": "2021-04-27T01:48:27.535577Z"
    }
   },
   "outputs": [
    {
     "name": "stdout",
     "output_type": "stream",
     "text": [
      "임금님 귀는 당나귀 귀 임금님 귀는 당나귀 귀 실컷 소리치고 나니 속이 확 뚫려 살 것 같았어\n"
     ]
    }
   ],
   "source": [
    "# Step 2. 전처리 이야기 \n",
    "reg = re.compile(\"[^ㄱ-ㅎㅏ-ㅣ가-힣 ]\")　#韓国語だけ取り出す\n",
    "text = reg.sub('', text)\n",
    "print(text)"
   ]
  },
  {
   "cell_type": "code",
   "execution_count": 4,
   "id": "formal-offering",
   "metadata": {
    "ExecuteTime": {
     "end_time": "2021-04-27T01:50:17.360359Z",
     "start_time": "2021-04-27T01:50:14.047481Z"
    }
   },
   "outputs": [
    {
     "name": "stdout",
     "output_type": "stream",
     "text": [
      "['임금님', '귀', '는', '당나귀', '귀', '임금님', '귀', '는', '당나귀', '귀', '실컷', '소리', '치고', '나니', '속이', '확', '뚫려', '살', '것', '같았어']\n"
     ]
    }
   ],
   "source": [
    "# Step 3. 토큰화 이야기\n",
    "okt=Okt()\n",
    "tokens = okt.morphs(text)\n",
    "print(tokens)"
   ]
  },
  {
   "cell_type": "code",
   "execution_count": 5,
   "id": "ongoing-confidentiality",
   "metadata": {
    "ExecuteTime": {
     "end_time": "2021-04-27T01:50:24.985067Z",
     "start_time": "2021-04-27T01:50:24.982678Z"
    }
   },
   "outputs": [
    {
     "name": "stdout",
     "output_type": "stream",
     "text": [
      "Counter({'귀': 4, '임금님': 2, '는': 2, '당나귀': 2, '실컷': 1, '소리': 1, '치고': 1, '나니': 1, '속이': 1, '확': 1, '뚫려': 1, '살': 1, '것': 1, '같았어': 1})\n"
     ]
    }
   ],
   "source": [
    "# Step 4. 단어장 만들기\n",
    "vocab = Counter(tokens)\n",
    "print(vocab)"
   ]
  },
  {
   "cell_type": "code",
   "execution_count": 6,
   "id": "sharp-efficiency",
   "metadata": {
    "ExecuteTime": {
     "end_time": "2021-04-27T01:50:31.537676Z",
     "start_time": "2021-04-27T01:50:31.534743Z"
    }
   },
   "outputs": [
    {
     "data": {
      "text/plain": [
       "2"
      ]
     },
     "execution_count": 6,
     "metadata": {},
     "output_type": "execute_result"
    }
   ],
   "source": [
    "vocab['임금님']"
   ]
  },
  {
   "cell_type": "code",
   "execution_count": 7,
   "id": "distributed-being",
   "metadata": {
    "ExecuteTime": {
     "end_time": "2021-04-27T01:50:56.129130Z",
     "start_time": "2021-04-27T01:50:56.126594Z"
    }
   },
   "outputs": [
    {
     "name": "stdout",
     "output_type": "stream",
     "text": [
      "[('귀', 4), ('임금님', 2), ('는', 2), ('당나귀', 2), ('실컷', 1)]\n"
     ]
    }
   ],
   "source": [
    "vocab_size = 5\n",
    "vocab = vocab.most_common(vocab_size) # 등장 빈도수가 높은 상위 5개의 단어만 저장\n",
    "print(vocab)"
   ]
  },
  {
   "cell_type": "code",
   "execution_count": 8,
   "id": "settled-grove",
   "metadata": {
    "ExecuteTime": {
     "end_time": "2021-04-27T01:51:07.120937Z",
     "start_time": "2021-04-27T01:51:07.118400Z"
    }
   },
   "outputs": [
    {
     "name": "stdout",
     "output_type": "stream",
     "text": [
      "{'귀': 1, '임금님': 2, '는': 3, '당나귀': 4, '실컷': 5}\n"
     ]
    }
   ],
   "source": [
    "word2idx={word[0] : index+1 for index, word in enumerate(vocab)}\n",
    "print(word2idx)"
   ]
  },
  {
   "cell_type": "code",
   "execution_count": 9,
   "id": "tough-wiring",
   "metadata": {
    "ExecuteTime": {
     "end_time": "2021-04-27T01:51:21.001093Z",
     "start_time": "2021-04-27T01:51:20.998367Z"
    }
   },
   "outputs": [
    {
     "name": "stdout",
     "output_type": "stream",
     "text": [
      "슝=3\n"
     ]
    }
   ],
   "source": [
    "# Step 5: 원-핫 벡터 만들기\n",
    "def one_hot_encoding(word, word2index):\n",
    "       one_hot_vector = [0]*(len(word2index))\n",
    "       index = word2index[word]\n",
    "       one_hot_vector[index-1] = 1\n",
    "       return one_hot_vector\n",
    "print(\"슝=3\")"
   ]
  },
  {
   "cell_type": "code",
   "execution_count": 10,
   "id": "small-stanley",
   "metadata": {
    "ExecuteTime": {
     "end_time": "2021-04-27T01:51:30.041067Z",
     "start_time": "2021-04-27T01:51:30.038602Z"
    }
   },
   "outputs": [
    {
     "data": {
      "text/plain": [
       "[0, 1, 0, 0, 0]"
      ]
     },
     "execution_count": 10,
     "metadata": {},
     "output_type": "execute_result"
    }
   ],
   "source": [
    "one_hot_encoding(\"임금님\", word2idx)"
   ]
  },
  {
   "cell_type": "code",
   "execution_count": 11,
   "id": "unlike-payroll",
   "metadata": {
    "ExecuteTime": {
     "end_time": "2021-04-27T01:52:09.983372Z",
     "start_time": "2021-04-27T01:52:07.535089Z"
    }
   },
   "outputs": [
    {
     "name": "stdout",
     "output_type": "stream",
     "text": [
      "임포트 완료\n"
     ]
    }
   ],
   "source": [
    "# 케라스를 통한 원-핫 인코딩(one-hot encoding)\n",
    "from tensorflow.keras.preprocessing.text import Tokenizer\n",
    "from tensorflow.keras.utils import to_categorical\n",
    "print(\"임포트 완료\")"
   ]
  },
  {
   "cell_type": "code",
   "execution_count": 12,
   "id": "olive-creek",
   "metadata": {
    "ExecuteTime": {
     "end_time": "2021-04-27T01:52:11.362227Z",
     "start_time": "2021-04-27T01:52:11.358669Z"
    }
   },
   "outputs": [
    {
     "data": {
      "text/plain": [
       "[['강아지', '고양이', '강아지'], ['애교', '고양이'], ['컴퓨터', '노트북']]"
      ]
     },
     "execution_count": 12,
     "metadata": {},
     "output_type": "execute_result"
    }
   ],
   "source": [
    "text = [['강아지', '고양이', '강아지'],['애교', '고양이'], ['컴퓨터', '노트북']]\n",
    "text"
   ]
  },
  {
   "cell_type": "code",
   "execution_count": 13,
   "id": "insured-retail",
   "metadata": {
    "ExecuteTime": {
     "end_time": "2021-04-27T01:52:24.073431Z",
     "start_time": "2021-04-27T01:52:24.070638Z"
    }
   },
   "outputs": [
    {
     "name": "stdout",
     "output_type": "stream",
     "text": [
      "{'강아지': 1, '고양이': 2, '애교': 3, '컴퓨터': 4, '노트북': 5}\n"
     ]
    }
   ],
   "source": [
    "t = Tokenizer()\n",
    "t.fit_on_texts(text)\n",
    "print(t.word_index) # 각 단어에 대한 인코딩 결과 출력."
   ]
  },
  {
   "cell_type": "code",
   "execution_count": 14,
   "id": "individual-henry",
   "metadata": {
    "ExecuteTime": {
     "end_time": "2021-04-27T01:52:50.849765Z",
     "start_time": "2021-04-27T01:52:50.847237Z"
    }
   },
   "outputs": [],
   "source": [
    "vocab_size = len(t.word_index) + 1"
   ]
  },
  {
   "cell_type": "code",
   "execution_count": 15,
   "id": "billion-breakdown",
   "metadata": {
    "ExecuteTime": {
     "end_time": "2021-04-27T01:53:08.585714Z",
     "start_time": "2021-04-27T01:53:08.582748Z"
    }
   },
   "outputs": [
    {
     "data": {
      "text/plain": [
       "6"
      ]
     },
     "execution_count": 15,
     "metadata": {},
     "output_type": "execute_result"
    }
   ],
   "source": [
    "vocab_size"
   ]
  },
  {
   "cell_type": "code",
   "execution_count": 26,
   "id": "configured-schema",
   "metadata": {
    "ExecuteTime": {
     "end_time": "2021-04-27T01:56:01.776751Z",
     "start_time": "2021-04-27T01:56:01.773727Z"
    }
   },
   "outputs": [
    {
     "name": "stdout",
     "output_type": "stream",
     "text": [
      "[[1, 2, 1, 4, 3, 5]]\n"
     ]
    }
   ],
   "source": [
    "sub_text = ['강아지', '고양이', '강아지', '컴퓨터', '애교', '노트북']\n",
    "encoded = t.texts_to_sequences([sub_text])\n",
    "print(encoded)"
   ]
  },
  {
   "cell_type": "code",
   "execution_count": 28,
   "id": "constant-construction",
   "metadata": {
    "ExecuteTime": {
     "end_time": "2021-04-27T01:56:19.026396Z",
     "start_time": "2021-04-27T01:56:19.022956Z"
    }
   },
   "outputs": [
    {
     "name": "stdout",
     "output_type": "stream",
     "text": [
      "[[[0. 1. 0. 0. 0. 0.]\n",
      "  [0. 0. 1. 0. 0. 0.]\n",
      "  [0. 1. 0. 0. 0. 0.]\n",
      "  [0. 0. 0. 0. 1. 0.]\n",
      "  [0. 0. 0. 1. 0. 0.]\n",
      "  [0. 0. 0. 0. 0. 1.]]]\n"
     ]
    }
   ],
   "source": [
    "one_hot = to_categorical(encoded, num_classes = vocab_size)\n",
    "print(one_hot)"
   ]
  },
  {
   "cell_type": "markdown",
   "id": "surprised-copying",
   "metadata": {},
   "source": [
    "# 5-3. 워드 임베딩"
   ]
  },
  {
   "cell_type": "code",
   "execution_count": null,
   "id": "integrated-championship",
   "metadata": {},
   "outputs": [],
   "source": [
    "# 희소 벡터의 문제점"
   ]
  },
  {
   "cell_type": "code",
   "execution_count": null,
   "id": "painted-console",
   "metadata": {},
   "outputs": [],
   "source": [
    "# 워드 임베딩(Word Embedding)\n"
   ]
  },
  {
   "cell_type": "markdown",
   "id": "proof-personality",
   "metadata": {},
   "source": [
    "# 5-4. Word2Vec (1) 분포 가설"
   ]
  },
  {
   "cell_type": "code",
   "execution_count": null,
   "id": "streaming-subdivision",
   "metadata": {},
   "outputs": [],
   "source": [
    "https://youtu.be/sY4YyacSsLc"
   ]
  },
  {
   "cell_type": "markdown",
   "id": "medical-shame",
   "metadata": {},
   "source": [
    "# 5-5. Word2Vec (2) CBoW"
   ]
  },
  {
   "cell_type": "code",
   "execution_count": null,
   "id": "manufactured-example",
   "metadata": {},
   "outputs": [],
   "source": [
    "# CBoW(Continuous Bag of words)"
   ]
  },
  {
   "cell_type": "markdown",
   "id": "secondary-jewel",
   "metadata": {
    "ExecuteTime": {
     "end_time": "2021-04-27T02:45:33.096430Z",
     "start_time": "2021-04-27T02:45:33.094614Z"
    }
   },
   "source": [
    "# 5-6. Word2Vec (3) Skip-gram과 Negative Samplingm"
   ]
  },
  {
   "cell_type": "code",
   "execution_count": 30,
   "id": "dedicated-organ",
   "metadata": {
    "ExecuteTime": {
     "end_time": "2021-04-27T02:45:39.658239Z",
     "start_time": "2021-04-27T02:45:39.656475Z"
    }
   },
   "outputs": [],
   "source": [
    "# Skip-gram\n",
    "#네거티브 샘플링(negative sampling)"
   ]
  },
  {
   "cell_type": "markdown",
   "id": "better-integer",
   "metadata": {},
   "source": [
    "# 5-7. Word2Vec (4) 영어 Word2Vec 실습과 OOV 문제\n"
   ]
  },
  {
   "cell_type": "code",
   "execution_count": null,
   "id": "asian-lindsay",
   "metadata": {},
   "outputs": [],
   "source": [
    "$ pip install nltk\n",
    "$ pip install gensim"
   ]
  },
  {
   "cell_type": "code",
   "execution_count": 31,
   "id": "forward-sampling",
   "metadata": {
    "ExecuteTime": {
     "end_time": "2021-04-27T05:31:45.622327Z",
     "start_time": "2021-04-27T05:31:44.063770Z"
    }
   },
   "outputs": [
    {
     "name": "stderr",
     "output_type": "stream",
     "text": [
      "[nltk_data] Downloading package abc to /home/thuban/nltk_data...\n",
      "[nltk_data]   Unzipping corpora/abc.zip.\n",
      "[nltk_data] Downloading package punkt to /home/thuban/nltk_data...\n",
      "[nltk_data]   Package punkt is already up-to-date!\n"
     ]
    },
    {
     "data": {
      "text/plain": [
       "True"
      ]
     },
     "execution_count": 31,
     "metadata": {},
     "output_type": "execute_result"
    }
   ],
   "source": [
    "import nltk\n",
    "nltk.download('abc')\n",
    "nltk.download('punkt')"
   ]
  },
  {
   "cell_type": "code",
   "execution_count": 32,
   "id": "celtic-clear",
   "metadata": {
    "ExecuteTime": {
     "end_time": "2021-04-27T05:31:56.606837Z",
     "start_time": "2021-04-27T05:31:56.603932Z"
    }
   },
   "outputs": [],
   "source": [
    "from nltk.corpus import abc\n",
    "corpus = abc.sents()"
   ]
  },
  {
   "cell_type": "code",
   "execution_count": 33,
   "id": "thorough-minneapolis",
   "metadata": {
    "ExecuteTime": {
     "end_time": "2021-04-27T05:32:05.446772Z",
     "start_time": "2021-04-27T05:32:05.444417Z"
    }
   },
   "outputs": [
    {
     "name": "stdout",
     "output_type": "stream",
     "text": [
      "[['PM', 'denies', 'knowledge', 'of', 'AWB', 'kickbacks', 'The', 'Prime', 'Minister', 'has', 'denied', 'he', 'knew', 'AWB', 'was', 'paying', 'kickbacks', 'to', 'Iraq', 'despite', 'writing', 'to', 'the', 'wheat', 'exporter', 'asking', 'to', 'be', 'kept', 'fully', 'informed', 'on', 'Iraq', 'wheat', 'sales', '.'], ['Letters', 'from', 'John', 'Howard', 'and', 'Deputy', 'Prime', 'Minister', 'Mark', 'Vaile', 'to', 'AWB', 'have', 'been', 'released', 'by', 'the', 'Cole', 'inquiry', 'into', 'the', 'oil', 'for', 'food', 'program', '.'], ['In', 'one', 'of', 'the', 'letters', 'Mr', 'Howard', 'asks', 'AWB', 'managing', 'director', 'Andrew', 'Lindberg', 'to', 'remain', 'in', 'close', 'contact', 'with', 'the', 'Government', 'on', 'Iraq', 'wheat', 'sales', '.']]\n"
     ]
    }
   ],
   "source": [
    "print(corpus[:3])"
   ]
  },
  {
   "cell_type": "code",
   "execution_count": 34,
   "id": "marked-argument",
   "metadata": {
    "ExecuteTime": {
     "end_time": "2021-04-27T05:32:17.609575Z",
     "start_time": "2021-04-27T05:32:16.268310Z"
    }
   },
   "outputs": [
    {
     "name": "stdout",
     "output_type": "stream",
     "text": [
      "코퍼스의 크기 : 29059\n"
     ]
    }
   ],
   "source": [
    "print('코퍼스의 크기 :',len(corpus))"
   ]
  },
  {
   "cell_type": "code",
   "execution_count": 39,
   "id": "dramatic-default",
   "metadata": {
    "ExecuteTime": {
     "end_time": "2021-04-27T05:34:31.390875Z",
     "start_time": "2021-04-27T05:34:21.175729Z"
    }
   },
   "outputs": [
    {
     "name": "stdout",
     "output_type": "stream",
     "text": [
      "모델 학습 완료!\n"
     ]
    }
   ],
   "source": [
    "from gensim.models import Word2Vec\n",
    "\n",
    "model = Word2Vec(sentences = corpus, vector_size = 100, window = 5, min_count = 5, workers = 4, sg = 0)\n",
    "print(\"모델 학습 완료!\")"
   ]
  },
  {
   "cell_type": "code",
   "execution_count": 45,
   "id": "broke-subscriber",
   "metadata": {
    "ExecuteTime": {
     "end_time": "2021-04-27T05:38:05.419355Z",
     "start_time": "2021-04-27T05:38:05.408832Z"
    }
   },
   "outputs": [
    {
     "name": "stdout",
     "output_type": "stream",
     "text": [
      "[('woman', 0.9233418107032776), ('skull', 0.911030113697052), ('Bang', 0.905648946762085), ('asteroid', 0.9052114486694336), ('third', 0.9020071625709534), ('baby', 0.8994219303131104), ('dog', 0.898607611656189), ('bought', 0.8975202441215515), ('rally', 0.8912495374679565), ('disc', 0.8889137506484985)]\n"
     ]
    }
   ],
   "source": [
    "model_result = model.wv.most_similar(\"man\")\n",
    "print(model_result)"
   ]
  },
  {
   "cell_type": "code",
   "execution_count": 55,
   "id": "native-carrier",
   "metadata": {
    "ExecuteTime": {
     "end_time": "2021-04-27T05:42:04.826603Z",
     "start_time": "2021-04-27T05:42:03.306814Z"
    }
   },
   "outputs": [
    {
     "name": "stdout",
     "output_type": "stream",
     "text": [
      "모델  load 완료!\n"
     ]
    }
   ],
   "source": [
    "from gensim.models import KeyedVectors\n",
    "\n",
    "model.wv.save_word2vec_format('~/aiffel/word_embedding/w2v') \n",
    "loaded_model = KeyedVectors.load_word2vec_format(\"~/aiffel/word_embedding/w2v\")\n",
    "print(\"모델  load 완료!\")"
   ]
  },
  {
   "cell_type": "code",
   "execution_count": 58,
   "id": "incredible-choir",
   "metadata": {
    "ExecuteTime": {
     "end_time": "2021-04-27T05:42:57.814641Z",
     "start_time": "2021-04-27T05:42:57.794720Z"
    }
   },
   "outputs": [
    {
     "name": "stdout",
     "output_type": "stream",
     "text": [
      "[('woman', 0.9233418107032776), ('skull', 0.911030113697052), ('Bang', 0.905648946762085), ('asteroid', 0.9052114486694336), ('third', 0.9020071625709534), ('baby', 0.8994219303131104), ('dog', 0.898607611656189), ('bought', 0.8975202441215515), ('rally', 0.8912495374679565), ('disc', 0.8889137506484985)]\n"
     ]
    }
   ],
   "source": [
    "model_result = loaded_model.most_similar(\"man\")\n",
    "print(model_result)"
   ]
  },
  {
   "cell_type": "code",
   "execution_count": 59,
   "id": "strange-finland",
   "metadata": {
    "ExecuteTime": {
     "end_time": "2021-04-27T05:50:56.920538Z",
     "start_time": "2021-04-27T05:50:56.906167Z"
    }
   },
   "outputs": [
    {
     "ename": "KeyError",
     "evalue": "\"Key 'overacting' not present\"",
     "output_type": "error",
     "traceback": [
      "\u001b[0;31m---------------------------------------------------------------------------\u001b[0m",
      "\u001b[0;31mKeyError\u001b[0m                                  Traceback (most recent call last)",
      "\u001b[0;32m<ipython-input-59-e82955a79ab7>\u001b[0m in \u001b[0;36m<module>\u001b[0;34m\u001b[0m\n\u001b[1;32m      1\u001b[0m \u001b[0;31m# Word2Vec의 OOV 문제\u001b[0m\u001b[0;34m\u001b[0m\u001b[0;34m\u001b[0m\u001b[0;34m\u001b[0m\u001b[0m\n\u001b[1;32m      2\u001b[0m \u001b[0;31m# 에러가 나더라도 놀라지 마세요.\u001b[0m\u001b[0;34m\u001b[0m\u001b[0;34m\u001b[0m\u001b[0;34m\u001b[0m\u001b[0m\n\u001b[0;32m----> 3\u001b[0;31m \u001b[0mloaded_model\u001b[0m\u001b[0;34m.\u001b[0m\u001b[0mmost_similar\u001b[0m\u001b[0;34m(\u001b[0m\u001b[0;34m'overacting'\u001b[0m\u001b[0;34m)\u001b[0m\u001b[0;34m\u001b[0m\u001b[0;34m\u001b[0m\u001b[0m\n\u001b[0m",
      "\u001b[0;32m~/anaconda3/envs/aiffel/lib/python3.7/site-packages/gensim/models/keyedvectors.py\u001b[0m in \u001b[0;36mmost_similar\u001b[0;34m(self, positive, negative, topn, clip_start, clip_end, restrict_vocab, indexer)\u001b[0m\n\u001b[1;32m    760\u001b[0m                 \u001b[0mmean\u001b[0m\u001b[0;34m.\u001b[0m\u001b[0mappend\u001b[0m\u001b[0;34m(\u001b[0m\u001b[0mweight\u001b[0m \u001b[0;34m*\u001b[0m \u001b[0mkey\u001b[0m\u001b[0;34m)\u001b[0m\u001b[0;34m\u001b[0m\u001b[0;34m\u001b[0m\u001b[0m\n\u001b[1;32m    761\u001b[0m             \u001b[0;32melse\u001b[0m\u001b[0;34m:\u001b[0m\u001b[0;34m\u001b[0m\u001b[0;34m\u001b[0m\u001b[0m\n\u001b[0;32m--> 762\u001b[0;31m                 \u001b[0mmean\u001b[0m\u001b[0;34m.\u001b[0m\u001b[0mappend\u001b[0m\u001b[0;34m(\u001b[0m\u001b[0mweight\u001b[0m \u001b[0;34m*\u001b[0m \u001b[0mself\u001b[0m\u001b[0;34m.\u001b[0m\u001b[0mget_vector\u001b[0m\u001b[0;34m(\u001b[0m\u001b[0mkey\u001b[0m\u001b[0;34m,\u001b[0m \u001b[0mnorm\u001b[0m\u001b[0;34m=\u001b[0m\u001b[0;32mTrue\u001b[0m\u001b[0;34m)\u001b[0m\u001b[0;34m)\u001b[0m\u001b[0;34m\u001b[0m\u001b[0;34m\u001b[0m\u001b[0m\n\u001b[0m\u001b[1;32m    763\u001b[0m                 \u001b[0;32mif\u001b[0m \u001b[0mself\u001b[0m\u001b[0;34m.\u001b[0m\u001b[0mhas_index_for\u001b[0m\u001b[0;34m(\u001b[0m\u001b[0mkey\u001b[0m\u001b[0;34m)\u001b[0m\u001b[0;34m:\u001b[0m\u001b[0;34m\u001b[0m\u001b[0;34m\u001b[0m\u001b[0m\n\u001b[1;32m    764\u001b[0m                     \u001b[0mall_keys\u001b[0m\u001b[0;34m.\u001b[0m\u001b[0madd\u001b[0m\u001b[0;34m(\u001b[0m\u001b[0mself\u001b[0m\u001b[0;34m.\u001b[0m\u001b[0mget_index\u001b[0m\u001b[0;34m(\u001b[0m\u001b[0mkey\u001b[0m\u001b[0;34m)\u001b[0m\u001b[0;34m)\u001b[0m\u001b[0;34m\u001b[0m\u001b[0;34m\u001b[0m\u001b[0m\n",
      "\u001b[0;32m~/anaconda3/envs/aiffel/lib/python3.7/site-packages/gensim/models/keyedvectors.py\u001b[0m in \u001b[0;36mget_vector\u001b[0;34m(self, key, norm)\u001b[0m\n\u001b[1;32m    420\u001b[0m \u001b[0;34m\u001b[0m\u001b[0m\n\u001b[1;32m    421\u001b[0m         \"\"\"\n\u001b[0;32m--> 422\u001b[0;31m         \u001b[0mindex\u001b[0m \u001b[0;34m=\u001b[0m \u001b[0mself\u001b[0m\u001b[0;34m.\u001b[0m\u001b[0mget_index\u001b[0m\u001b[0;34m(\u001b[0m\u001b[0mkey\u001b[0m\u001b[0;34m)\u001b[0m\u001b[0;34m\u001b[0m\u001b[0;34m\u001b[0m\u001b[0m\n\u001b[0m\u001b[1;32m    423\u001b[0m         \u001b[0;32mif\u001b[0m \u001b[0mnorm\u001b[0m\u001b[0;34m:\u001b[0m\u001b[0;34m\u001b[0m\u001b[0;34m\u001b[0m\u001b[0m\n\u001b[1;32m    424\u001b[0m             \u001b[0mself\u001b[0m\u001b[0;34m.\u001b[0m\u001b[0mfill_norms\u001b[0m\u001b[0;34m(\u001b[0m\u001b[0;34m)\u001b[0m\u001b[0;34m\u001b[0m\u001b[0;34m\u001b[0m\u001b[0m\n",
      "\u001b[0;32m~/anaconda3/envs/aiffel/lib/python3.7/site-packages/gensim/models/keyedvectors.py\u001b[0m in \u001b[0;36mget_index\u001b[0;34m(self, key, default)\u001b[0m\n\u001b[1;32m    394\u001b[0m             \u001b[0;32mreturn\u001b[0m \u001b[0mdefault\u001b[0m\u001b[0;34m\u001b[0m\u001b[0;34m\u001b[0m\u001b[0m\n\u001b[1;32m    395\u001b[0m         \u001b[0;32melse\u001b[0m\u001b[0;34m:\u001b[0m\u001b[0;34m\u001b[0m\u001b[0;34m\u001b[0m\u001b[0m\n\u001b[0;32m--> 396\u001b[0;31m             \u001b[0;32mraise\u001b[0m \u001b[0mKeyError\u001b[0m\u001b[0;34m(\u001b[0m\u001b[0;34mf\"Key '{key}' not present\"\u001b[0m\u001b[0;34m)\u001b[0m\u001b[0;34m\u001b[0m\u001b[0;34m\u001b[0m\u001b[0m\n\u001b[0m\u001b[1;32m    397\u001b[0m \u001b[0;34m\u001b[0m\u001b[0m\n\u001b[1;32m    398\u001b[0m     \u001b[0;32mdef\u001b[0m \u001b[0mget_vector\u001b[0m\u001b[0;34m(\u001b[0m\u001b[0mself\u001b[0m\u001b[0;34m,\u001b[0m \u001b[0mkey\u001b[0m\u001b[0;34m,\u001b[0m \u001b[0mnorm\u001b[0m\u001b[0;34m=\u001b[0m\u001b[0;32mFalse\u001b[0m\u001b[0;34m)\u001b[0m\u001b[0;34m:\u001b[0m\u001b[0;34m\u001b[0m\u001b[0;34m\u001b[0m\u001b[0m\n",
      "\u001b[0;31mKeyError\u001b[0m: \"Key 'overacting' not present\""
     ]
    }
   ],
   "source": [
    "# Word2Vec의 OOV 문제\n",
    "# 에러가 나더라도 놀라지 마세요.\n",
    "loaded_model.most_similar('overacting')"
   ]
  },
  {
   "cell_type": "code",
   "execution_count": 60,
   "id": "respected-fossil",
   "metadata": {
    "ExecuteTime": {
     "end_time": "2021-04-27T05:51:14.299910Z",
     "start_time": "2021-04-27T05:51:14.287850Z"
    }
   },
   "outputs": [
    {
     "ename": "KeyError",
     "evalue": "\"Key 'memorry' not present\"",
     "output_type": "error",
     "traceback": [
      "\u001b[0;31m---------------------------------------------------------------------------\u001b[0m",
      "\u001b[0;31mKeyError\u001b[0m                                  Traceback (most recent call last)",
      "\u001b[0;32m<ipython-input-60-913270eb055a>\u001b[0m in \u001b[0;36m<module>\u001b[0;34m\u001b[0m\n\u001b[0;32m----> 1\u001b[0;31m \u001b[0mloaded_model\u001b[0m\u001b[0;34m.\u001b[0m\u001b[0mmost_similar\u001b[0m\u001b[0;34m(\u001b[0m\u001b[0;34m'memorry'\u001b[0m\u001b[0;34m)\u001b[0m\u001b[0;34m\u001b[0m\u001b[0;34m\u001b[0m\u001b[0m\n\u001b[0m",
      "\u001b[0;32m~/anaconda3/envs/aiffel/lib/python3.7/site-packages/gensim/models/keyedvectors.py\u001b[0m in \u001b[0;36mmost_similar\u001b[0;34m(self, positive, negative, topn, clip_start, clip_end, restrict_vocab, indexer)\u001b[0m\n\u001b[1;32m    760\u001b[0m                 \u001b[0mmean\u001b[0m\u001b[0;34m.\u001b[0m\u001b[0mappend\u001b[0m\u001b[0;34m(\u001b[0m\u001b[0mweight\u001b[0m \u001b[0;34m*\u001b[0m \u001b[0mkey\u001b[0m\u001b[0;34m)\u001b[0m\u001b[0;34m\u001b[0m\u001b[0;34m\u001b[0m\u001b[0m\n\u001b[1;32m    761\u001b[0m             \u001b[0;32melse\u001b[0m\u001b[0;34m:\u001b[0m\u001b[0;34m\u001b[0m\u001b[0;34m\u001b[0m\u001b[0m\n\u001b[0;32m--> 762\u001b[0;31m                 \u001b[0mmean\u001b[0m\u001b[0;34m.\u001b[0m\u001b[0mappend\u001b[0m\u001b[0;34m(\u001b[0m\u001b[0mweight\u001b[0m \u001b[0;34m*\u001b[0m \u001b[0mself\u001b[0m\u001b[0;34m.\u001b[0m\u001b[0mget_vector\u001b[0m\u001b[0;34m(\u001b[0m\u001b[0mkey\u001b[0m\u001b[0;34m,\u001b[0m \u001b[0mnorm\u001b[0m\u001b[0;34m=\u001b[0m\u001b[0;32mTrue\u001b[0m\u001b[0;34m)\u001b[0m\u001b[0;34m)\u001b[0m\u001b[0;34m\u001b[0m\u001b[0;34m\u001b[0m\u001b[0m\n\u001b[0m\u001b[1;32m    763\u001b[0m                 \u001b[0;32mif\u001b[0m \u001b[0mself\u001b[0m\u001b[0;34m.\u001b[0m\u001b[0mhas_index_for\u001b[0m\u001b[0;34m(\u001b[0m\u001b[0mkey\u001b[0m\u001b[0;34m)\u001b[0m\u001b[0;34m:\u001b[0m\u001b[0;34m\u001b[0m\u001b[0;34m\u001b[0m\u001b[0m\n\u001b[1;32m    764\u001b[0m                     \u001b[0mall_keys\u001b[0m\u001b[0;34m.\u001b[0m\u001b[0madd\u001b[0m\u001b[0;34m(\u001b[0m\u001b[0mself\u001b[0m\u001b[0;34m.\u001b[0m\u001b[0mget_index\u001b[0m\u001b[0;34m(\u001b[0m\u001b[0mkey\u001b[0m\u001b[0;34m)\u001b[0m\u001b[0;34m)\u001b[0m\u001b[0;34m\u001b[0m\u001b[0;34m\u001b[0m\u001b[0m\n",
      "\u001b[0;32m~/anaconda3/envs/aiffel/lib/python3.7/site-packages/gensim/models/keyedvectors.py\u001b[0m in \u001b[0;36mget_vector\u001b[0;34m(self, key, norm)\u001b[0m\n\u001b[1;32m    420\u001b[0m \u001b[0;34m\u001b[0m\u001b[0m\n\u001b[1;32m    421\u001b[0m         \"\"\"\n\u001b[0;32m--> 422\u001b[0;31m         \u001b[0mindex\u001b[0m \u001b[0;34m=\u001b[0m \u001b[0mself\u001b[0m\u001b[0;34m.\u001b[0m\u001b[0mget_index\u001b[0m\u001b[0;34m(\u001b[0m\u001b[0mkey\u001b[0m\u001b[0;34m)\u001b[0m\u001b[0;34m\u001b[0m\u001b[0;34m\u001b[0m\u001b[0m\n\u001b[0m\u001b[1;32m    423\u001b[0m         \u001b[0;32mif\u001b[0m \u001b[0mnorm\u001b[0m\u001b[0;34m:\u001b[0m\u001b[0;34m\u001b[0m\u001b[0;34m\u001b[0m\u001b[0m\n\u001b[1;32m    424\u001b[0m             \u001b[0mself\u001b[0m\u001b[0;34m.\u001b[0m\u001b[0mfill_norms\u001b[0m\u001b[0;34m(\u001b[0m\u001b[0;34m)\u001b[0m\u001b[0;34m\u001b[0m\u001b[0;34m\u001b[0m\u001b[0m\n",
      "\u001b[0;32m~/anaconda3/envs/aiffel/lib/python3.7/site-packages/gensim/models/keyedvectors.py\u001b[0m in \u001b[0;36mget_index\u001b[0;34m(self, key, default)\u001b[0m\n\u001b[1;32m    394\u001b[0m             \u001b[0;32mreturn\u001b[0m \u001b[0mdefault\u001b[0m\u001b[0;34m\u001b[0m\u001b[0;34m\u001b[0m\u001b[0m\n\u001b[1;32m    395\u001b[0m         \u001b[0;32melse\u001b[0m\u001b[0;34m:\u001b[0m\u001b[0;34m\u001b[0m\u001b[0;34m\u001b[0m\u001b[0m\n\u001b[0;32m--> 396\u001b[0;31m             \u001b[0;32mraise\u001b[0m \u001b[0mKeyError\u001b[0m\u001b[0;34m(\u001b[0m\u001b[0;34mf\"Key '{key}' not present\"\u001b[0m\u001b[0;34m)\u001b[0m\u001b[0;34m\u001b[0m\u001b[0;34m\u001b[0m\u001b[0m\n\u001b[0m\u001b[1;32m    397\u001b[0m \u001b[0;34m\u001b[0m\u001b[0m\n\u001b[1;32m    398\u001b[0m     \u001b[0;32mdef\u001b[0m \u001b[0mget_vector\u001b[0m\u001b[0;34m(\u001b[0m\u001b[0mself\u001b[0m\u001b[0;34m,\u001b[0m \u001b[0mkey\u001b[0m\u001b[0;34m,\u001b[0m \u001b[0mnorm\u001b[0m\u001b[0;34m=\u001b[0m\u001b[0;32mFalse\u001b[0m\u001b[0;34m)\u001b[0m\u001b[0;34m:\u001b[0m\u001b[0;34m\u001b[0m\u001b[0;34m\u001b[0m\u001b[0m\n",
      "\u001b[0;31mKeyError\u001b[0m: \"Key 'memorry' not present\""
     ]
    }
   ],
   "source": [
    "loaded_model.most_similar('memorry')"
   ]
  },
  {
   "cell_type": "markdown",
   "id": "reduced-european",
   "metadata": {},
   "source": [
    "# 5-8. 임베딩 벡터의 시각화"
   ]
  },
  {
   "cell_type": "code",
   "execution_count": null,
   "id": "disciplinary-marking",
   "metadata": {},
   "outputs": [],
   "source": [
    "#필요한 파일 만들기\n",
    "$ python -m gensim.scripts.word2vec2tensor --input ~/aiffel/word_embedding/w2v --output ~/aiffel/word_embedding/w2v"
   ]
  },
  {
   "cell_type": "code",
   "execution_count": null,
   "id": "direct-criticism",
   "metadata": {},
   "outputs": [],
   "source": [
    "https://projector.tensorflow.org/"
   ]
  },
  {
   "cell_type": "markdown",
   "id": "charitable-bachelor",
   "metadata": {
    "ExecuteTime": {
     "end_time": "2021-04-27T05:38:20.719878Z",
     "start_time": "2021-04-27T05:38:20.713921Z"
    }
   },
   "source": [
    "# 5-9. FastText\n",
    "\n"
   ]
  },
  {
   "cell_type": "code",
   "execution_count": null,
   "id": "changed-square",
   "metadata": {},
   "outputs": [],
   "source": [
    "# FastText의 학습 방법"
   ]
  },
  {
   "cell_type": "code",
   "execution_count": 62,
   "id": "independent-financing",
   "metadata": {
    "ExecuteTime": {
     "end_time": "2021-04-27T06:01:41.042428Z",
     "start_time": "2021-04-27T06:01:27.557205Z"
    }
   },
   "outputs": [
    {
     "name": "stdout",
     "output_type": "stream",
     "text": [
      "FastText 학습 완료!\n"
     ]
    }
   ],
   "source": [
    "# OOV와 오타에 대한 대응\n",
    "from gensim.models import FastText\n",
    "fasttext_model = FastText(corpus, vector_size=100, window=5, min_count=5, workers=4, sg=1)\n",
    "print(\"FastText 학습 완료!\")"
   ]
  },
  {
   "cell_type": "code",
   "execution_count": 67,
   "id": "solar-catering",
   "metadata": {
    "ExecuteTime": {
     "end_time": "2021-04-27T06:04:55.793804Z",
     "start_time": "2021-04-27T06:04:55.767424Z"
    }
   },
   "outputs": [
    {
     "data": {
      "text/plain": [
       "[('resolving', 0.9389943480491638),\n",
       " ('fluctuating', 0.9365576505661011),\n",
       " ('emptying', 0.9324092268943787),\n",
       " ('malting', 0.9311456084251404),\n",
       " ('extracting', 0.9311180114746094),\n",
       " ('mounting', 0.9302971959114075),\n",
       " ('overwhelming', 0.9296740293502808),\n",
       " ('shooting', 0.92894047498703),\n",
       " ('attracting', 0.9277688264846802),\n",
       " ('debilitating', 0.9267066717147827)]"
      ]
     },
     "execution_count": 67,
     "metadata": {},
     "output_type": "execute_result"
    }
   ],
   "source": [
    "fasttext_model.wv.most_similar('overacting')"
   ]
  },
  {
   "cell_type": "code",
   "execution_count": 68,
   "id": "stuffed-conversation",
   "metadata": {
    "ExecuteTime": {
     "end_time": "2021-04-27T06:05:00.224069Z",
     "start_time": "2021-04-27T06:05:00.214610Z"
    }
   },
   "outputs": [
    {
     "data": {
      "text/plain": [
       "[('memory', 0.9463332891464233),\n",
       " ('musical', 0.866179883480072),\n",
       " ('mechanisms', 0.8659495115280151),\n",
       " ('mechanism', 0.8633562922477722),\n",
       " ('imagine', 0.8627411723136902),\n",
       " ('basic', 0.8595907688140869),\n",
       " ('mechanical', 0.8498942852020264),\n",
       " ('technical', 0.8470525741577148),\n",
       " ('intelligence', 0.8435025811195374),\n",
       " ('duplicate', 0.8370446562767029)]"
      ]
     },
     "execution_count": 68,
     "metadata": {},
     "output_type": "execute_result"
    }
   ],
   "source": [
    "fasttext_model.wv.most_similar('memoryy')"
   ]
  },
  {
   "cell_type": "code",
   "execution_count": null,
   "id": "built-baking",
   "metadata": {},
   "outputs": [],
   "source": [
    "# 한국어에서의 FastText"
   ]
  },
  {
   "cell_type": "markdown",
   "id": "iraqi-discipline",
   "metadata": {},
   "source": [
    "# 5-10. GloVe"
   ]
  },
  {
   "cell_type": "code",
   "execution_count": null,
   "id": "velvet-norwegian",
   "metadata": {},
   "outputs": [],
   "source": [
    "# 잠재 의미 분석 / LSA(Latent Semantic Analysis)\n",
    "#윈도우 기반 동시 등장 행렬(Window based Co-occurrence Matrix)\n",
    "#동시 등장 확률(Co-occurrence Probability)\n",
    "# GloVe의 손실 함수 설계하기"
   ]
  },
  {
   "cell_type": "code",
   "execution_count": null,
   "id": "charitable-double",
   "metadata": {},
   "outputs": [],
   "source": [
    "# GloVe 실습"
   ]
  },
  {
   "cell_type": "code",
   "execution_count": null,
   "id": "intensive-middle",
   "metadata": {},
   "outputs": [],
   "source": [
    "$ pip install glove_python"
   ]
  },
  {
   "cell_type": "code",
   "execution_count": 69,
   "id": "threatened-township",
   "metadata": {
    "ExecuteTime": {
     "end_time": "2021-04-27T07:53:34.899999Z",
     "start_time": "2021-04-27T07:53:33.431806Z"
    },
    "scrolled": true
   },
   "outputs": [
    {
     "name": "stderr",
     "output_type": "stream",
     "text": [
      "[nltk_data] Downloading package movie_reviews to\n",
      "[nltk_data]     /home/thuban/nltk_data...\n",
      "[nltk_data]   Unzipping corpora/movie_reviews.zip.\n",
      "[nltk_data] Downloading package punkt to /home/thuban/nltk_data...\n",
      "[nltk_data]   Package punkt is already up-to-date!\n"
     ]
    }
   ],
   "source": [
    "import nltk\n",
    "nltk.download('movie_reviews')\n",
    "nltk.download('punkt')\n",
    "\n",
    "from nltk.corpus import movie_reviews\n",
    "corpus=movie_reviews.sents()"
   ]
  },
  {
   "cell_type": "code",
   "execution_count": null,
   "id": "missing-skiing",
   "metadata": {},
   "outputs": [],
   "source": [
    "# 밑 코드는 파이썬 3.6만됨;\n",
    "# Word2Vecと同じ性能らしい"
   ]
  },
  {
   "cell_type": "code",
   "execution_count": 71,
   "id": "peripheral-maintenance",
   "metadata": {
    "ExecuteTime": {
     "end_time": "2021-04-27T07:53:47.378618Z",
     "start_time": "2021-04-27T07:53:47.367730Z"
    }
   },
   "outputs": [
    {
     "ename": "ModuleNotFoundError",
     "evalue": "No module named 'glove'",
     "output_type": "error",
     "traceback": [
      "\u001b[0;31m---------------------------------------------------------------------------\u001b[0m",
      "\u001b[0;31mModuleNotFoundError\u001b[0m                       Traceback (most recent call last)",
      "\u001b[0;32m<ipython-input-71-92d422c6e505>\u001b[0m in \u001b[0;36m<module>\u001b[0;34m\u001b[0m\n\u001b[0;32m----> 1\u001b[0;31m \u001b[0;32mfrom\u001b[0m \u001b[0mglove\u001b[0m \u001b[0;32mimport\u001b[0m \u001b[0mCorpus\u001b[0m\u001b[0;34m,\u001b[0m \u001b[0mGlove\u001b[0m\u001b[0;34m\u001b[0m\u001b[0;34m\u001b[0m\u001b[0m\n\u001b[0m\u001b[1;32m      2\u001b[0m \u001b[0;34m\u001b[0m\u001b[0m\n\u001b[1;32m      3\u001b[0m \u001b[0;31m# 훈련 데이터로부터 GloVe에서 사용할 동시 등장 행렬 생성\u001b[0m\u001b[0;34m\u001b[0m\u001b[0;34m\u001b[0m\u001b[0;34m\u001b[0m\u001b[0m\n\u001b[1;32m      4\u001b[0m \u001b[0memb\u001b[0m \u001b[0;34m=\u001b[0m \u001b[0mCorpus\u001b[0m\u001b[0;34m(\u001b[0m\u001b[0;34m)\u001b[0m\u001b[0;34m\u001b[0m\u001b[0;34m\u001b[0m\u001b[0m\n\u001b[1;32m      5\u001b[0m \u001b[0memb\u001b[0m\u001b[0;34m.\u001b[0m\u001b[0mfit\u001b[0m\u001b[0;34m(\u001b[0m\u001b[0mcorpus\u001b[0m\u001b[0;34m,\u001b[0m \u001b[0mwindow\u001b[0m\u001b[0;34m=\u001b[0m\u001b[0;36m5\u001b[0m\u001b[0;34m)\u001b[0m\u001b[0;34m\u001b[0m\u001b[0;34m\u001b[0m\u001b[0m\n",
      "\u001b[0;31mModuleNotFoundError\u001b[0m: No module named 'glove'"
     ]
    }
   ],
   "source": [
    "from glove import Corpus, Glove\n",
    "\n",
    "# 훈련 데이터로부터 GloVe에서 사용할 동시 등장 행렬 생성\n",
    "emb = Corpus() \n",
    "emb.fit(corpus, window=5)\n",
    "\n",
    "# 벡터의 차원은 100, 학습에 이용할 쓰레드의 개수는 4로 설정, 에포크는 20.\n",
    "glove = Glove(no_components=100, learning_rate=0.05)\n",
    "glove.fit(emb.matrix, epochs=20, no_threads=4, verbose=True)\n",
    "glove.add_dictionary(emb.dictionary)"
   ]
  },
  {
   "cell_type": "code",
   "execution_count": 74,
   "id": "signal-instrument",
   "metadata": {
    "ExecuteTime": {
     "end_time": "2021-04-27T07:56:50.121768Z",
     "start_time": "2021-04-27T07:56:50.111759Z"
    }
   },
   "outputs": [
    {
     "ename": "NameError",
     "evalue": "name 'glove' is not defined",
     "output_type": "error",
     "traceback": [
      "\u001b[0;31m---------------------------------------------------------------------------\u001b[0m",
      "\u001b[0;31mNameError\u001b[0m                                 Traceback (most recent call last)",
      "\u001b[0;32m<ipython-input-74-d9af13464f4a>\u001b[0m in \u001b[0;36m<module>\u001b[0;34m\u001b[0m\n\u001b[0;32m----> 1\u001b[0;31m \u001b[0mmodel_result1\u001b[0m \u001b[0;34m=\u001b[0m \u001b[0mglove\u001b[0m\u001b[0;34m.\u001b[0m\u001b[0mmost_similar\u001b[0m\u001b[0;34m(\u001b[0m\u001b[0;34m\"man\"\u001b[0m\u001b[0;34m)\u001b[0m\u001b[0;34m\u001b[0m\u001b[0;34m\u001b[0m\u001b[0m\n\u001b[0m\u001b[1;32m      2\u001b[0m \u001b[0mprint\u001b[0m\u001b[0;34m(\u001b[0m\u001b[0mmodel_result1\u001b[0m\u001b[0;34m)\u001b[0m\u001b[0;34m\u001b[0m\u001b[0;34m\u001b[0m\u001b[0m\n\u001b[1;32m      3\u001b[0m \u001b[0mmodel_result2\u001b[0m \u001b[0;34m=\u001b[0m \u001b[0mglove\u001b[0m\u001b[0;34m.\u001b[0m\u001b[0mmost_similar\u001b[0m\u001b[0;34m(\u001b[0m\u001b[0;34m\"fiction\"\u001b[0m\u001b[0;34m)\u001b[0m\u001b[0;34m\u001b[0m\u001b[0;34m\u001b[0m\u001b[0m\n\u001b[1;32m      4\u001b[0m \u001b[0mprint\u001b[0m\u001b[0;34m(\u001b[0m\u001b[0mmodel_result2\u001b[0m\u001b[0;34m)\u001b[0m\u001b[0;34m\u001b[0m\u001b[0;34m\u001b[0m\u001b[0m\n",
      "\u001b[0;31mNameError\u001b[0m: name 'glove' is not defined"
     ]
    }
   ],
   "source": [
    "model_result1 = glove.most_similar(\"man\")\n",
    "print(model_result1)\n",
    "model_result2 = glove.most_similar(\"fiction\")\n",
    "print(model_result2)"
   ]
  },
  {
   "cell_type": "code",
   "execution_count": 75,
   "id": "outdoor-devices",
   "metadata": {
    "ExecuteTime": {
     "end_time": "2021-04-27T07:56:50.458887Z",
     "start_time": "2021-04-27T07:56:50.447504Z"
    }
   },
   "outputs": [
    {
     "ename": "ImportError",
     "evalue": "cannot import name 'Corpus' from 'mittens' (/home/thuban/anaconda3/envs/aiffel/lib/python3.7/site-packages/mittens/__init__.py)",
     "output_type": "error",
     "traceback": [
      "\u001b[0;31m---------------------------------------------------------------------------\u001b[0m",
      "\u001b[0;31mImportError\u001b[0m                               Traceback (most recent call last)",
      "\u001b[0;32m<ipython-input-75-6a4d12febc64>\u001b[0m in \u001b[0;36m<module>\u001b[0;34m\u001b[0m\n\u001b[0;32m----> 1\u001b[0;31m \u001b[0;32mfrom\u001b[0m \u001b[0mmittens\u001b[0m \u001b[0;32mimport\u001b[0m \u001b[0mGloVe\u001b[0m\u001b[0;34m,\u001b[0m \u001b[0mCorpus\u001b[0m\u001b[0;34m\u001b[0m\u001b[0;34m\u001b[0m\u001b[0m\n\u001b[0m",
      "\u001b[0;31mImportError\u001b[0m: cannot import name 'Corpus' from 'mittens' (/home/thuban/anaconda3/envs/aiffel/lib/python3.7/site-packages/mittens/__init__.py)"
     ]
    }
   ],
   "source": [
    "from mittens import GloVe, Corpus"
   ]
  },
  {
   "cell_type": "code",
   "execution_count": null,
   "id": "assured-crime",
   "metadata": {},
   "outputs": [],
   "source": []
  }
 ],
 "metadata": {
  "kernelspec": {
   "display_name": "aiffel",
   "language": "python",
   "name": "aiffel"
  },
  "language_info": {
   "codemirror_mode": {
    "name": "ipython",
    "version": 3
   },
   "file_extension": ".py",
   "mimetype": "text/x-python",
   "name": "python",
   "nbconvert_exporter": "python",
   "pygments_lexer": "ipython3",
   "version": "3.7.9"
  },
  "varInspector": {
   "cols": {
    "lenName": 16,
    "lenType": 16,
    "lenVar": 40
   },
   "kernels_config": {
    "python": {
     "delete_cmd_postfix": "",
     "delete_cmd_prefix": "del ",
     "library": "var_list.py",
     "varRefreshCmd": "print(var_dic_list())"
    },
    "r": {
     "delete_cmd_postfix": ") ",
     "delete_cmd_prefix": "rm(",
     "library": "var_list.r",
     "varRefreshCmd": "cat(var_dic_list()) "
    }
   },
   "types_to_exclude": [
    "module",
    "function",
    "builtin_function_or_method",
    "instance",
    "_Feature"
   ],
   "window_display": false
  }
 },
 "nbformat": 4,
 "nbformat_minor": 5
}
