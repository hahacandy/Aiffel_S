{
 "cells": [
  {
   "cell_type": "code",
   "execution_count": 39,
   "id": "irish-guidance",
   "metadata": {},
   "outputs": [
    {
     "name": "stdout",
     "output_type": "stream",
     "text": [
      "['car', 'bed', 'sun']\n",
      "['abcd', 'abce', 'cdx']\n"
     ]
    },
    {
     "data": {
      "text/plain": [
       "['abce', 'abcd', 'cdx']"
      ]
     },
     "execution_count": 39,
     "metadata": {},
     "output_type": "execute_result"
    }
   ],
   "source": [
    "def solution(strings, n):\n",
    "    \n",
    "    print(sorted(strings, key=lambda x:(x[n], x)))\n",
    "    \n",
    "    return strings\n",
    "\n",
    "\n",
    "solution(['sun', 'bed', 'car'], 1)\n",
    "solution(['abce', 'abcd', 'cdx'], 2)"
   ]
  },
  {
   "cell_type": "code",
   "execution_count": 70,
   "id": "grateful-brass",
   "metadata": {},
   "outputs": [
    {
     "name": "stdout",
     "output_type": "stream",
     "text": [
      "True\n",
      "False\n"
     ]
    }
   ],
   "source": [
    "def solution(s):\n",
    "    \n",
    "    s.lower()\n",
    "    \n",
    "    y_num = 0\n",
    "    p_num = 0\n",
    "    \n",
    "    answer = False\n",
    "    \n",
    "    \n",
    "    if 'y' not in s and not 'p' in s:\n",
    "        answer = True\n",
    "    else:\n",
    "        for item in s:\n",
    "            if 'y' == item:\n",
    "                y_num += 1\n",
    "            elif 'p' == item:\n",
    "                p_num += 1\n",
    "\n",
    "        if y_num == p_num:\n",
    "            answer = True\n",
    "\n",
    "\n",
    "    return answer\n",
    "\n",
    "print(solution('pPoooyY'))\n",
    "print(solution('Pyy'))"
   ]
  },
  {
   "cell_type": "code",
   "execution_count": 20,
   "id": "clear-mixer",
   "metadata": {},
   "outputs": [
    {
     "name": "stdout",
     "output_type": "stream",
     "text": [
      "00000\n",
      "00103\n",
      "02501\n",
      "02442\n",
      "35131\n",
      "\n",
      "4 00000\n",
      "00100\n",
      "02501\n",
      "02442\n",
      "35131\n",
      "\n",
      "4 3 00000\n",
      "00000\n",
      "02501\n",
      "02442\n",
      "35131\n",
      "\n",
      "4 3 1 00000\n",
      "00000\n",
      "02500\n",
      "02442\n",
      "35131\n",
      "\n",
      "4 3 1 1 00000\n",
      "00000\n",
      "02500\n",
      "02442\n",
      "05131\n",
      "\n",
      "4 3 1 1 3 00000\n",
      "00000\n",
      "00500\n",
      "02442\n",
      "05131\n",
      "\n",
      "4 3 1 1 3 2 00000\n",
      "00000\n",
      "00500\n",
      "02402\n",
      "05131\n",
      "\n",
      "4 3 1 1 3 2 4 "
     ]
    },
    {
     "data": {
      "text/plain": [
       "0"
      ]
     },
     "execution_count": 20,
     "metadata": {},
     "output_type": "execute_result"
    }
   ],
   "source": [
    "def current(board, doll_box):\n",
    "    for i in range(0, len(board)):\n",
    "        for j in range(0, len(board[i])):\n",
    "            print(board[i][j], end='')\n",
    "        print()\n",
    "        \n",
    "    print()\n",
    "    \n",
    "    for i in range(0, len(doll_box)):\n",
    "        print(doll_box[i], end=' ')\n",
    "\n",
    "def solution(board, moves):\n",
    "\n",
    "    doll_box = []\n",
    "    \n",
    "    for num_slot in moves:\n",
    "        num_slot -= 1\n",
    "        for i in range(0, len(board)):\n",
    "            if board[i][num_slot] != 0:\n",
    "                doll_box.append(board[i][num_slot])\n",
    "                board[i][num_slot] = 0\n",
    "                current(board, doll_box)\n",
    "                break\n",
    "\n",
    "\n",
    "\n",
    "                \n",
    "                \n",
    "    answer = 0\n",
    "    return answer\n",
    "\n",
    "solution([[0,0,0,0,0],[0,0,1,0,3],[0,2,5,0,1],[4,2,4,4,2],[3,5,1,3,1]], [1,5,3,5,1,2,1,4])"
   ]
  },
  {
   "cell_type": "code",
   "execution_count": 6,
   "id": "alpine-detection",
   "metadata": {},
   "outputs": [
    {
     "data": {
      "text/plain": [
       "5"
      ]
     },
     "execution_count": 6,
     "metadata": {},
     "output_type": "execute_result"
    }
   ],
   "source": [
    "[[0,0,0,0,0],\n",
    " [0,0,1,0,3],\n",
    " [0,2,5,0,1],\n",
    " [4,2,4,4,2],\n",
    " [3,5,1,3,1]]"
   ]
  }
 ],
 "metadata": {
  "kernelspec": {
   "display_name": "aiffel",
   "language": "python",
   "name": "aiffel"
  },
  "language_info": {
   "codemirror_mode": {
    "name": "ipython",
    "version": 3
   },
   "file_extension": ".py",
   "mimetype": "text/x-python",
   "name": "python",
   "nbconvert_exporter": "python",
   "pygments_lexer": "ipython3",
   "version": "3.7.9"
  }
 },
 "nbformat": 4,
 "nbformat_minor": 5
}
