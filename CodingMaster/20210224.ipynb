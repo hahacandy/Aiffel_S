{
 "cells": [
  {
   "cell_type": "code",
   "execution_count": 2,
   "id": "external-baseball",
   "metadata": {
    "ExecuteTime": {
     "end_time": "2021-02-23T07:17:01.681389Z",
     "start_time": "2021-02-23T07:17:01.664805Z"
    }
   },
   "outputs": [
    {
     "data": {
      "text/plain": [
       "65"
      ]
     },
     "execution_count": 2,
     "metadata": {},
     "output_type": "execute_result"
    }
   ],
   "source": [
    "ord('A')"
   ]
  },
  {
   "cell_type": "code",
   "execution_count": 102,
   "id": "directed-wages",
   "metadata": {
    "ExecuteTime": {
     "end_time": "2021-02-23T08:02:20.365011Z",
     "start_time": "2021-02-23T08:02:20.356024Z"
    }
   },
   "outputs": [],
   "source": [
    "def solution(s, n):\n",
    "    _dict\n",
    "            \n",
    "        answer.append(chr(_chr))\n",
    "        \n",
    "\n",
    "    return ''.join(answer)"
   ]
  },
  {
   "cell_type": "code",
   "execution_count": 103,
   "id": "persistent-newport",
   "metadata": {
    "ExecuteTime": {
     "end_time": "2021-02-23T08:02:20.545147Z",
     "start_time": "2021-02-23T08:02:20.536024Z"
    }
   },
   "outputs": [
    {
     "data": {
      "text/plain": [
       "'BC'"
      ]
     },
     "execution_count": 103,
     "metadata": {},
     "output_type": "execute_result"
    }
   ],
   "source": [
    "solution('AB', 1)"
   ]
  },
  {
   "cell_type": "code",
   "execution_count": 104,
   "id": "creative-legend",
   "metadata": {
    "ExecuteTime": {
     "end_time": "2021-02-23T08:02:20.946312Z",
     "start_time": "2021-02-23T08:02:20.938256Z"
    }
   },
   "outputs": [
    {
     "data": {
      "text/plain": [
       "'b'"
      ]
     },
     "execution_count": 104,
     "metadata": {},
     "output_type": "execute_result"
    }
   ],
   "source": [
    "solution('z', 1)"
   ]
  },
  {
   "cell_type": "code",
   "execution_count": 105,
   "id": "norman-romance",
   "metadata": {
    "ExecuteTime": {
     "end_time": "2021-02-23T08:02:21.404066Z",
     "start_time": "2021-02-23T08:02:21.393916Z"
    }
   },
   "outputs": [
    {
     "data": {
      "text/plain": [
       "122"
      ]
     },
     "execution_count": 105,
     "metadata": {},
     "output_type": "execute_result"
    }
   ],
   "source": [
    "ord('z')"
   ]
  },
  {
   "cell_type": "code",
   "execution_count": 66,
   "id": "foster-criterion",
   "metadata": {
    "ExecuteTime": {
     "end_time": "2021-02-23T07:55:37.754589Z",
     "start_time": "2021-02-23T07:55:37.747241Z"
    }
   },
   "outputs": [
    {
     "data": {
      "text/plain": [
       "22"
      ]
     },
     "execution_count": 66,
     "metadata": {},
     "output_type": "execute_result"
    }
   ],
   "source": [
    "122 % 25"
   ]
  },
  {
   "cell_type": "code",
   "execution_count": 67,
   "id": "editorial-restaurant",
   "metadata": {
    "ExecuteTime": {
     "end_time": "2021-02-23T07:55:51.500558Z",
     "start_time": "2021-02-23T07:55:51.491053Z"
    }
   },
   "outputs": [
    {
     "data": {
      "text/plain": [
       "25"
      ]
     },
     "execution_count": 67,
     "metadata": {},
     "output_type": "execute_result"
    }
   ],
   "source": [
    "122 % 97"
   ]
  },
  {
   "cell_type": "code",
   "execution_count": 68,
   "id": "following-sending",
   "metadata": {
    "ExecuteTime": {
     "end_time": "2021-02-23T07:56:38.072027Z",
     "start_time": "2021-02-23T07:56:38.068903Z"
    }
   },
   "outputs": [
    {
     "data": {
      "text/plain": [
       "26"
      ]
     },
     "execution_count": 68,
     "metadata": {},
     "output_type": "execute_result"
    }
   ],
   "source": [
    "123 % 97"
   ]
  },
  {
   "cell_type": "code",
   "execution_count": null,
   "id": "treated-approval",
   "metadata": {},
   "outputs": [],
   "source": []
  }
 ],
 "metadata": {
  "kernelspec": {
   "display_name": "Python 3",
   "language": "python",
   "name": "python3"
  },
  "language_info": {
   "codemirror_mode": {
    "name": "ipython",
    "version": 3
   },
   "file_extension": ".py",
   "mimetype": "text/x-python",
   "name": "python",
   "nbconvert_exporter": "python",
   "pygments_lexer": "ipython3",
   "version": "3.8.5"
  },
  "varInspector": {
   "cols": {
    "lenName": 16,
    "lenType": 16,
    "lenVar": 40
   },
   "kernels_config": {
    "python": {
     "delete_cmd_postfix": "",
     "delete_cmd_prefix": "del ",
     "library": "var_list.py",
     "varRefreshCmd": "print(var_dic_list())"
    },
    "r": {
     "delete_cmd_postfix": ") ",
     "delete_cmd_prefix": "rm(",
     "library": "var_list.r",
     "varRefreshCmd": "cat(var_dic_list()) "
    }
   },
   "types_to_exclude": [
    "module",
    "function",
    "builtin_function_or_method",
    "instance",
    "_Feature"
   ],
   "window_display": false
  }
 },
 "nbformat": 4,
 "nbformat_minor": 5
}
