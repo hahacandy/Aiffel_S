{
 "cells": [
  {
   "cell_type": "code",
   "execution_count": 2,
   "id": "greater-classification",
   "metadata": {
    "ExecuteTime": {
     "end_time": "2021-02-23T07:17:01.681389Z",
     "start_time": "2021-02-23T07:17:01.664805Z"
    }
   },
   "outputs": [
    {
     "data": {
      "text/plain": [
       "65"
      ]
     },
     "execution_count": 2,
     "metadata": {},
     "output_type": "execute_result"
    }
   ],
   "source": [
    "ord('A')"
   ]
  },
  {
   "cell_type": "code",
   "execution_count": 3,
   "id": "scientific-recipe",
   "metadata": {
    "ExecuteTime": {
     "end_time": "2021-02-24T04:55:34.852173Z",
     "start_time": "2021-02-24T04:55:34.849541Z"
    }
   },
   "outputs": [],
   "source": [
    "def solution(s, n):\n",
    "    answer = list(map(lambda x: chr(ord(s)+1)), s)\n",
    "    \n",
    "            \n",
    "    \n",
    "        \n",
    "\n",
    "    return ''.join(answer)"
   ]
  },
  {
   "cell_type": "code",
   "execution_count": 2,
   "id": "appointed-chapter",
   "metadata": {
    "ExecuteTime": {
     "end_time": "2021-02-24T04:55:22.201534Z",
     "start_time": "2021-02-24T04:55:22.159853Z"
    }
   },
   "outputs": [
    {
     "ename": "TypeError",
     "evalue": "ord() expected a character, but string of length 2 found",
     "output_type": "error",
     "traceback": [
      "\u001b[0;31m---------------------------------------------------------------------------\u001b[0m",
      "\u001b[0;31mTypeError\u001b[0m                                 Traceback (most recent call last)",
      "\u001b[0;32m<ipython-input-2-44efee523269>\u001b[0m in \u001b[0;36m<module>\u001b[0;34m\u001b[0m\n\u001b[0;32m----> 1\u001b[0;31m \u001b[0msolution\u001b[0m\u001b[0;34m(\u001b[0m\u001b[0;34m'AB'\u001b[0m\u001b[0;34m,\u001b[0m \u001b[0;36m1\u001b[0m\u001b[0;34m)\u001b[0m\u001b[0;34m\u001b[0m\u001b[0;34m\u001b[0m\u001b[0m\n\u001b[0m",
      "\u001b[0;32m<ipython-input-1-457ecb7f6a24>\u001b[0m in \u001b[0;36msolution\u001b[0;34m(s, n)\u001b[0m\n\u001b[1;32m      1\u001b[0m \u001b[0;32mdef\u001b[0m \u001b[0msolution\u001b[0m\u001b[0;34m(\u001b[0m\u001b[0ms\u001b[0m\u001b[0;34m,\u001b[0m \u001b[0mn\u001b[0m\u001b[0;34m)\u001b[0m\u001b[0;34m:\u001b[0m\u001b[0;34m\u001b[0m\u001b[0;34m\u001b[0m\u001b[0m\n\u001b[0;32m----> 2\u001b[0;31m     \u001b[0manswer\u001b[0m \u001b[0;34m=\u001b[0m \u001b[0mlist\u001b[0m\u001b[0;34m(\u001b[0m\u001b[0mmap\u001b[0m\u001b[0;34m(\u001b[0m\u001b[0;32mlambda\u001b[0m \u001b[0mx\u001b[0m\u001b[0;34m:\u001b[0m \u001b[0mchr\u001b[0m\u001b[0;34m(\u001b[0m\u001b[0mord\u001b[0m\u001b[0;34m(\u001b[0m\u001b[0ms\u001b[0m\u001b[0;34m)\u001b[0m\u001b[0;34m+\u001b[0m\u001b[0;36m1\u001b[0m\u001b[0;34m)\u001b[0m\u001b[0;34m,\u001b[0m \u001b[0ms\u001b[0m\u001b[0;34m)\u001b[0m\u001b[0;34m)\u001b[0m\u001b[0;34m\u001b[0m\u001b[0;34m\u001b[0m\u001b[0m\n\u001b[0m\u001b[1;32m      3\u001b[0m \u001b[0;34m\u001b[0m\u001b[0m\n\u001b[1;32m      4\u001b[0m \u001b[0;34m\u001b[0m\u001b[0m\n\u001b[1;32m      5\u001b[0m \u001b[0;34m\u001b[0m\u001b[0m\n",
      "\u001b[0;32m<ipython-input-1-457ecb7f6a24>\u001b[0m in \u001b[0;36m<lambda>\u001b[0;34m(x)\u001b[0m\n\u001b[1;32m      1\u001b[0m \u001b[0;32mdef\u001b[0m \u001b[0msolution\u001b[0m\u001b[0;34m(\u001b[0m\u001b[0ms\u001b[0m\u001b[0;34m,\u001b[0m \u001b[0mn\u001b[0m\u001b[0;34m)\u001b[0m\u001b[0;34m:\u001b[0m\u001b[0;34m\u001b[0m\u001b[0;34m\u001b[0m\u001b[0m\n\u001b[0;32m----> 2\u001b[0;31m     \u001b[0manswer\u001b[0m \u001b[0;34m=\u001b[0m \u001b[0mlist\u001b[0m\u001b[0;34m(\u001b[0m\u001b[0mmap\u001b[0m\u001b[0;34m(\u001b[0m\u001b[0;32mlambda\u001b[0m \u001b[0mx\u001b[0m\u001b[0;34m:\u001b[0m \u001b[0mchr\u001b[0m\u001b[0;34m(\u001b[0m\u001b[0mord\u001b[0m\u001b[0;34m(\u001b[0m\u001b[0ms\u001b[0m\u001b[0;34m)\u001b[0m\u001b[0;34m+\u001b[0m\u001b[0;36m1\u001b[0m\u001b[0;34m)\u001b[0m\u001b[0;34m,\u001b[0m \u001b[0ms\u001b[0m\u001b[0;34m)\u001b[0m\u001b[0;34m)\u001b[0m\u001b[0;34m\u001b[0m\u001b[0;34m\u001b[0m\u001b[0m\n\u001b[0m\u001b[1;32m      3\u001b[0m \u001b[0;34m\u001b[0m\u001b[0m\n\u001b[1;32m      4\u001b[0m \u001b[0;34m\u001b[0m\u001b[0m\n\u001b[1;32m      5\u001b[0m \u001b[0;34m\u001b[0m\u001b[0m\n",
      "\u001b[0;31mTypeError\u001b[0m: ord() expected a character, but string of length 2 found"
     ]
    }
   ],
   "source": [
    "solution('AB', 1)"
   ]
  },
  {
   "cell_type": "code",
   "execution_count": 104,
   "id": "sustained-variety",
   "metadata": {
    "ExecuteTime": {
     "end_time": "2021-02-23T08:02:20.946312Z",
     "start_time": "2021-02-23T08:02:20.938256Z"
    }
   },
   "outputs": [
    {
     "data": {
      "text/plain": [
       "'b'"
      ]
     },
     "execution_count": 104,
     "metadata": {},
     "output_type": "execute_result"
    }
   ],
   "source": [
    "solution('z', 1)"
   ]
  },
  {
   "cell_type": "code",
   "execution_count": 105,
   "id": "opponent-assembly",
   "metadata": {
    "ExecuteTime": {
     "end_time": "2021-02-23T08:02:21.404066Z",
     "start_time": "2021-02-23T08:02:21.393916Z"
    }
   },
   "outputs": [
    {
     "data": {
      "text/plain": [
       "122"
      ]
     },
     "execution_count": 105,
     "metadata": {},
     "output_type": "execute_result"
    }
   ],
   "source": [
    "ord('z')"
   ]
  },
  {
   "cell_type": "code",
   "execution_count": 66,
   "id": "dramatic-translator",
   "metadata": {
    "ExecuteTime": {
     "end_time": "2021-02-23T07:55:37.754589Z",
     "start_time": "2021-02-23T07:55:37.747241Z"
    }
   },
   "outputs": [
    {
     "data": {
      "text/plain": [
       "22"
      ]
     },
     "execution_count": 66,
     "metadata": {},
     "output_type": "execute_result"
    }
   ],
   "source": [
    "122 % 25"
   ]
  },
  {
   "cell_type": "code",
   "execution_count": 67,
   "id": "unknown-china",
   "metadata": {
    "ExecuteTime": {
     "end_time": "2021-02-23T07:55:51.500558Z",
     "start_time": "2021-02-23T07:55:51.491053Z"
    }
   },
   "outputs": [
    {
     "data": {
      "text/plain": [
       "25"
      ]
     },
     "execution_count": 67,
     "metadata": {},
     "output_type": "execute_result"
    }
   ],
   "source": [
    "122 % 97"
   ]
  },
  {
   "cell_type": "code",
   "execution_count": 68,
   "id": "linear-hepatitis",
   "metadata": {
    "ExecuteTime": {
     "end_time": "2021-02-23T07:56:38.072027Z",
     "start_time": "2021-02-23T07:56:38.068903Z"
    }
   },
   "outputs": [
    {
     "data": {
      "text/plain": [
       "26"
      ]
     },
     "execution_count": 68,
     "metadata": {},
     "output_type": "execute_result"
    }
   ],
   "source": [
    "123 % 97"
   ]
  },
  {
   "cell_type": "code",
   "execution_count": null,
   "id": "alternative-organizer",
   "metadata": {},
   "outputs": [],
   "source": []
  },
  {
   "cell_type": "code",
   "execution_count": 4,
   "id": "eastern-edward",
   "metadata": {
    "ExecuteTime": {
     "end_time": "2021-02-24T07:46:31.092889Z",
     "start_time": "2021-02-24T07:46:31.090752Z"
    }
   },
   "outputs": [],
   "source": [
    "def recur(n):\n",
    "    while n > 0:\n",
    "        recur(n-1)\n",
    "        print(n)\n",
    "        n = n-2"
   ]
  },
  {
   "cell_type": "code",
   "execution_count": 5,
   "id": "balanced-navigation",
   "metadata": {
    "ExecuteTime": {
     "end_time": "2021-02-24T07:46:35.149740Z",
     "start_time": "2021-02-24T07:46:35.147100Z"
    }
   },
   "outputs": [
    {
     "name": "stdout",
     "output_type": "stream",
     "text": [
      "1\n",
      "2\n",
      "3\n",
      "1\n",
      "4\n",
      "1\n",
      "2\n"
     ]
    }
   ],
   "source": [
    "recur(4)"
   ]
  },
  {
   "cell_type": "code",
   "execution_count": 7,
   "id": "seasonal-handling",
   "metadata": {
    "ExecuteTime": {
     "end_time": "2021-02-24T07:46:47.149686Z",
     "start_time": "2021-02-24T07:46:47.146788Z"
    }
   },
   "outputs": [
    {
     "name": "stdout",
     "output_type": "stream",
     "text": [
      "1\n",
      "2\n",
      "3\n",
      "1\n"
     ]
    }
   ],
   "source": [
    "recur(3)"
   ]
  },
  {
   "cell_type": "code",
   "execution_count": 8,
   "id": "checked-friendly",
   "metadata": {
    "ExecuteTime": {
     "end_time": "2021-02-24T07:46:50.404820Z",
     "start_time": "2021-02-24T07:46:50.402744Z"
    }
   },
   "outputs": [
    {
     "name": "stdout",
     "output_type": "stream",
     "text": [
      "1\n",
      "2\n"
     ]
    }
   ],
   "source": [
    "recur(2)"
   ]
  },
  {
   "cell_type": "code",
   "execution_count": 9,
   "id": "green-optimum",
   "metadata": {
    "ExecuteTime": {
     "end_time": "2021-02-24T07:46:53.324614Z",
     "start_time": "2021-02-24T07:46:53.322511Z"
    }
   },
   "outputs": [
    {
     "name": "stdout",
     "output_type": "stream",
     "text": [
      "1\n"
     ]
    }
   ],
   "source": [
    "recur(1)"
   ]
  },
  {
   "cell_type": "code",
   "execution_count": null,
   "id": "sorted-cylinder",
   "metadata": {},
   "outputs": [],
   "source": []
  }
 ],
 "metadata": {
  "kernelspec": {
   "display_name": "Python 3",
   "language": "python",
   "name": "python3"
  },
  "language_info": {
   "codemirror_mode": {
    "name": "ipython",
    "version": 3
   },
   "file_extension": ".py",
   "mimetype": "text/x-python",
   "name": "python",
   "nbconvert_exporter": "python",
   "pygments_lexer": "ipython3",
   "version": "3.8.5"
  },
  "varInspector": {
   "cols": {
    "lenName": 16,
    "lenType": 16,
    "lenVar": 40
   },
   "kernels_config": {
    "python": {
     "delete_cmd_postfix": "",
     "delete_cmd_prefix": "del ",
     "library": "var_list.py",
     "varRefreshCmd": "print(var_dic_list())"
    },
    "r": {
     "delete_cmd_postfix": ") ",
     "delete_cmd_prefix": "rm(",
     "library": "var_list.r",
     "varRefreshCmd": "cat(var_dic_list()) "
    }
   },
   "types_to_exclude": [
    "module",
    "function",
    "builtin_function_or_method",
    "instance",
    "_Feature"
   ],
   "window_display": false
  }
 },
 "nbformat": 4,
 "nbformat_minor": 5
}
