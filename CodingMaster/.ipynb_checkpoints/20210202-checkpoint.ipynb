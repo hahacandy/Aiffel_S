{
 "cells": [
  {
   "cell_type": "code",
   "execution_count": 9,
   "id": "medium-registration",
   "metadata": {},
   "outputs": [
    {
     "data": {
      "text/plain": [
       "'gfedcbZ'"
      ]
     },
     "execution_count": 9,
     "metadata": {},
     "output_type": "execute_result"
    }
   ],
   "source": [
    "def solution(s):\n",
    "    return ''.join(sorted(s, key = lambda x: -ord(x)))\n",
    "\n",
    "solution('Zbcdefg')"
   ]
  },
  {
   "cell_type": "code",
   "execution_count": 13,
   "id": "inside-parts",
   "metadata": {},
   "outputs": [
    {
     "data": {
      "text/plain": [
       "'김서방은 1에있다.'"
      ]
     },
     "execution_count": 13,
     "metadata": {},
     "output_type": "execute_result"
    }
   ],
   "source": [
    "def solution(seoul):\n",
    "    answer = f'김서방은 {seoul.index(\"Kim\")}에 있다'\n",
    "    return answer\n",
    "\n",
    "solution(['Jane','Kim'])"
   ]
  }
 ],
 "metadata": {
  "kernelspec": {
   "display_name": "aiffel",
   "language": "python",
   "name": "aiffel"
  },
  "language_info": {
   "codemirror_mode": {
    "name": "ipython",
    "version": 3
   },
   "file_extension": ".py",
   "mimetype": "text/x-python",
   "name": "python",
   "nbconvert_exporter": "python",
   "pygments_lexer": "ipython3",
   "version": "3.7.9"
  }
 },
 "nbformat": 4,
 "nbformat_minor": 5
}
