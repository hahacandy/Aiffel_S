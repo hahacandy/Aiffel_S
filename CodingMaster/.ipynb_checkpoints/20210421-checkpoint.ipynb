{
 "cells": [
  {
   "cell_type": "code",
   "execution_count": 26,
   "id": "marked-myrtle",
   "metadata": {
    "ExecuteTime": {
     "end_time": "2021-04-21T07:27:48.351445Z",
     "start_time": "2021-04-21T07:27:47.028671Z"
    },
    "scrolled": true
   },
   "outputs": [
    {
     "name": "stdout",
     "output_type": "stream",
     "text": [
      "17 4\n"
     ]
    }
   ],
   "source": [
    "n, k = map(int, input().split())\n",
    "cnt = 0"
   ]
  },
  {
   "cell_type": "code",
   "execution_count": 27,
   "id": "applied-organization",
   "metadata": {
    "ExecuteTime": {
     "end_time": "2021-04-21T07:27:49.350892Z",
     "start_time": "2021-04-21T07:27:49.348844Z"
    }
   },
   "outputs": [],
   "source": [
    "while n > 1:\n",
    "    target = (n//k)*k\n",
    "    cnt += n - target\n",
    "    n = target\n",
    "    \n",
    "    \n",
    "    \n",
    "    n = n // k\n",
    "    cnt += 1"
   ]
  },
  {
   "cell_type": "code",
   "execution_count": 28,
   "id": "boxed-heritage",
   "metadata": {
    "ExecuteTime": {
     "end_time": "2021-04-21T07:27:49.799200Z",
     "start_time": "2021-04-21T07:27:49.796942Z"
    }
   },
   "outputs": [
    {
     "name": "stdout",
     "output_type": "stream",
     "text": [
      "3\n"
     ]
    }
   ],
   "source": [
    "print(cnt)"
   ]
  },
  {
   "cell_type": "code",
   "execution_count": null,
   "id": "practical-evidence",
   "metadata": {},
   "outputs": [],
   "source": []
  }
 ],
 "metadata": {
  "kernelspec": {
   "display_name": "Python 3",
   "language": "python",
   "name": "python3"
  },
  "language_info": {
   "codemirror_mode": {
    "name": "ipython",
    "version": 3
   },
   "file_extension": ".py",
   "mimetype": "text/x-python",
   "name": "python",
   "nbconvert_exporter": "python",
   "pygments_lexer": "ipython3",
   "version": "3.8.5"
  },
  "varInspector": {
   "cols": {
    "lenName": 16,
    "lenType": 16,
    "lenVar": 40
   },
   "kernels_config": {
    "python": {
     "delete_cmd_postfix": "",
     "delete_cmd_prefix": "del ",
     "library": "var_list.py",
     "varRefreshCmd": "print(var_dic_list())"
    },
    "r": {
     "delete_cmd_postfix": ") ",
     "delete_cmd_prefix": "rm(",
     "library": "var_list.r",
     "varRefreshCmd": "cat(var_dic_list()) "
    }
   },
   "types_to_exclude": [
    "module",
    "function",
    "builtin_function_or_method",
    "instance",
    "_Feature"
   ],
   "window_display": false
  }
 },
 "nbformat": 4,
 "nbformat_minor": 5
}
