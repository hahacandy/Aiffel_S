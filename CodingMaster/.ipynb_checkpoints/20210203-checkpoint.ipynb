{
 "cells": [
  {
   "cell_type": "markdown",
   "id": "sustained-professional",
   "metadata": {},
   "source": [
    "https://programmers.co.kr/learn/courses/30/lessons/12917"
   ]
  },
  {
   "cell_type": "code",
   "execution_count": 71,
   "id": "precious-anime",
   "metadata": {},
   "outputs": [
    {
     "data": {
      "text/plain": [
       "'gfedcbZ'"
      ]
     },
     "execution_count": 71,
     "metadata": {},
     "output_type": "execute_result"
    }
   ],
   "source": [
    "def solution(s):\n",
    "    return ''.join(sorted(s, key = lambda x: -ord(x)))\n",
    "\n",
    "solution('Zbcdefg')"
   ]
  },
  {
   "cell_type": "markdown",
   "id": "preceding-skating",
   "metadata": {},
   "source": [
    "https://programmers.co.kr/learn/courses/30/lessons/12919"
   ]
  },
  {
   "cell_type": "code",
   "execution_count": 72,
   "id": "german-coach",
   "metadata": {},
   "outputs": [
    {
     "data": {
      "text/plain": [
       "'김서방은 1에 있다'"
      ]
     },
     "execution_count": 72,
     "metadata": {},
     "output_type": "execute_result"
    }
   ],
   "source": [
    "def solution(seoul):\n",
    "    answer = f'김서방은 {seoul.index(\"Kim\")}에 있다'\n",
    "    return answer\n",
    "\n",
    "solution(['Jane','Kim'])"
   ]
  },
  {
   "cell_type": "markdown",
   "id": "small-knock",
   "metadata": {},
   "source": [
    "https://programmers.co.kr/learn/courses/30/lessons/17681"
   ]
  },
  {
   "cell_type": "code",
   "execution_count": 73,
   "id": "painful-citation",
   "metadata": {},
   "outputs": [
    {
     "name": "stdout",
     "output_type": "stream",
     "text": [
      "['#####', '# # #', '### #', '#  ##', '#####']\n",
      "['######', '###  #', '##  ##', ' #### ', ' #####', '### # ']\n"
     ]
    }
   ],
   "source": [
    "def get_pound_key(n, number1, number2):\n",
    "    \n",
    "    \n",
    "    _bin = bin(number1 | number2)[2:]\n",
    "    _bin_add = '0' * (n - len(_bin))\n",
    "    _bin = _bin_add + _bin\n",
    "    \n",
    "    result = [{item == '0' : ' '}.get(True, '#') for item in _bin]\n",
    "    \n",
    "    return ''.join(result)\n",
    "\n",
    "def solution(n, arr1, arr2):\n",
    "    \n",
    "    answer = [None] * n\n",
    "    for idx in range(0, n):\n",
    "        answer[idx] = get_pound_key(n, arr1[idx], arr2[idx])\n",
    "        \n",
    "    return answer\n",
    "\n",
    "\n",
    "print(solution(5, [9,20,28,18,11], [30, 1, 21, 17, 28]))\n",
    "print(solution(6, [46, 33, 33 ,22, 31, 50], [27 ,56, 19, 14, 14, 10]))"
   ]
  }
 ],
 "metadata": {
  "kernelspec": {
   "display_name": "aiffel",
   "language": "python",
   "name": "aiffel"
  },
  "language_info": {
   "codemirror_mode": {
    "name": "ipython",
    "version": 3
   },
   "file_extension": ".py",
   "mimetype": "text/x-python",
   "name": "python",
   "nbconvert_exporter": "python",
   "pygments_lexer": "ipython3",
   "version": "3.7.9"
  }
 },
 "nbformat": 4,
 "nbformat_minor": 5
}
