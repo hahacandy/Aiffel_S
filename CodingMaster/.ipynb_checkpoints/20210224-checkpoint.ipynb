{
 "cells": [
  {
   "cell_type": "code",
   "execution_count": 2,
   "id": "enormous-prague",
   "metadata": {
    "ExecuteTime": {
     "end_time": "2021-02-23T07:17:01.681389Z",
     "start_time": "2021-02-23T07:17:01.664805Z"
    }
   },
   "outputs": [
    {
     "data": {
      "text/plain": [
       "65"
      ]
     },
     "execution_count": 2,
     "metadata": {},
     "output_type": "execute_result"
    }
   ],
   "source": [
    "ord('A')"
   ]
  },
  {
   "cell_type": "code",
   "execution_count": 60,
   "id": "sacred-carpet",
   "metadata": {
    "ExecuteTime": {
     "end_time": "2021-02-23T07:54:55.197040Z",
     "start_time": "2021-02-23T07:54:55.187389Z"
    }
   },
   "outputs": [],
   "source": [
    "def solution(s, n):\n",
    "    answer = []\n",
    "    for _chr in s:\n",
    "        _chr = ord(_chr)\n",
    "        if 65 <= _chr <= 95:\n",
    "            _chr += n\n",
    "            _chr %= 65\n",
    "            _chr += 65\n",
    "        elif 97 <= _chr <= 122:\n",
    "            _chr += n\n",
    "            _chr %= 97\n",
    "            _chr += 97\n",
    "            \n",
    "        answer.append(_chr)\n",
    "        \n",
    "\n",
    "    return answer"
   ]
  },
  {
   "cell_type": "code",
   "execution_count": 61,
   "id": "endless-coupon",
   "metadata": {
    "ExecuteTime": {
     "end_time": "2021-02-23T07:54:55.628019Z",
     "start_time": "2021-02-23T07:54:55.619899Z"
    }
   },
   "outputs": [
    {
     "data": {
      "text/plain": [
       "['B', 'C']"
      ]
     },
     "execution_count": 61,
     "metadata": {},
     "output_type": "execute_result"
    }
   ],
   "source": [
    "solution('AB', 1)"
   ]
  },
  {
   "cell_type": "code",
   "execution_count": 62,
   "id": "similar-twelve",
   "metadata": {
    "ExecuteTime": {
     "end_time": "2021-02-23T07:54:56.385329Z",
     "start_time": "2021-02-23T07:54:56.376673Z"
    }
   },
   "outputs": [
    {
     "data": {
      "text/plain": [
       "['{']"
      ]
     },
     "execution_count": 62,
     "metadata": {},
     "output_type": "execute_result"
    }
   ],
   "source": [
    "solution('z', 1)"
   ]
  },
  {
   "cell_type": "code",
   "execution_count": 53,
   "id": "finished-harvey",
   "metadata": {
    "ExecuteTime": {
     "end_time": "2021-02-23T07:53:11.871004Z",
     "start_time": "2021-02-23T07:53:11.861813Z"
    }
   },
   "outputs": [
    {
     "data": {
      "text/plain": [
       "122"
      ]
     },
     "execution_count": 53,
     "metadata": {},
     "output_type": "execute_result"
    }
   ],
   "source": [
    "ord('z')"
   ]
  },
  {
   "cell_type": "code",
   "execution_count": null,
   "id": "complimentary-armstrong",
   "metadata": {},
   "outputs": [],
   "source": []
  }
 ],
 "metadata": {
  "kernelspec": {
   "display_name": "Python 3",
   "language": "python",
   "name": "python3"
  },
  "language_info": {
   "codemirror_mode": {
    "name": "ipython",
    "version": 3
   },
   "file_extension": ".py",
   "mimetype": "text/x-python",
   "name": "python",
   "nbconvert_exporter": "python",
   "pygments_lexer": "ipython3",
   "version": "3.8.5"
  },
  "varInspector": {
   "cols": {
    "lenName": 16,
    "lenType": 16,
    "lenVar": 40
   },
   "kernels_config": {
    "python": {
     "delete_cmd_postfix": "",
     "delete_cmd_prefix": "del ",
     "library": "var_list.py",
     "varRefreshCmd": "print(var_dic_list())"
    },
    "r": {
     "delete_cmd_postfix": ") ",
     "delete_cmd_prefix": "rm(",
     "library": "var_list.r",
     "varRefreshCmd": "cat(var_dic_list()) "
    }
   },
   "types_to_exclude": [
    "module",
    "function",
    "builtin_function_or_method",
    "instance",
    "_Feature"
   ],
   "window_display": false
  }
 },
 "nbformat": 4,
 "nbformat_minor": 5
}
