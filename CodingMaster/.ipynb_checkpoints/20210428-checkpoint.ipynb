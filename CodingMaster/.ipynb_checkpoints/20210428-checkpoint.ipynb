{
 "cells": [
  {
   "cell_type": "code",
   "execution_count": null,
   "id": "purple-australia",
   "metadata": {},
   "outputs": [],
   "source": [
    "queue = deque()\n",
    "\n",
    "apeend()\n",
    "\n",
    "pop()\n",
    "popleft()\n",
    "\n",
    "reverse()"
   ]
  },
  {
   "cell_type": "code",
   "execution_count": null,
   "id": "fewer-acting",
   "metadata": {},
   "outputs": [],
   "source": [
    "https://www.youtube.com/watch?v=7C9RgOcvkvo #음료수 얼려먹기 문제"
   ]
  },
  {
   "cell_type": "code",
   "execution_count": 175,
   "id": "engaged-brain",
   "metadata": {
    "ExecuteTime": {
     "end_time": "2021-04-28T07:57:38.104485Z",
     "start_time": "2021-04-28T07:57:38.100854Z"
    }
   },
   "outputs": [],
   "source": [
    "import random\n",
    "\n",
    "n=5\n",
    "m=5\n",
    "\n",
    "ice_array = []\n",
    "for _ in range(m):\n",
    "    temp_arr = []\n",
    "    for _ in range(n):\n",
    "        temp_arr.append(random.randrange(0,2))\n",
    "    ice_array.append(temp_arr)\n",
    "        \n",
    "    "
   ]
  },
  {
   "cell_type": "code",
   "execution_count": 176,
   "id": "alleged-authorization",
   "metadata": {
    "ExecuteTime": {
     "end_time": "2021-04-28T07:57:38.473317Z",
     "start_time": "2021-04-28T07:57:38.458416Z"
    }
   },
   "outputs": [],
   "source": [
    "graph = []\n",
    "graph.append([])\n",
    "for i in range(m):\n",
    "    for j in range(n):\n",
    "        temp_arr = []\n",
    "        if ice_array[i][j] == 0:\n",
    "            if j-1 >= 0 :\n",
    "                if ice_array[i][j-1] == 0:\n",
    "                    temp_arr.append((m*i) + j - 1 +1)\n",
    "            if j+1 <= n-1 :\n",
    "                if ice_array[i][j+1] == 0:\n",
    "                    temp_arr.append((m*i) + j + 1 +1)\n",
    "            if i-1 >= 0 :\n",
    "                if ice_array[i-1][j] == 0:\n",
    "                    temp_arr.append((m*(i-1)) + j +1)\n",
    "            if i+1 <= m-1 :\n",
    "                if ice_array[i+1][j] == 0:\n",
    "                    temp_arr.append((m*(i+1)) + j +1)\n",
    "            \n",
    "        graph.append(temp_arr)\n",
    "\n"
   ]
  },
  {
   "cell_type": "code",
   "execution_count": 177,
   "id": "silver-accountability",
   "metadata": {
    "ExecuteTime": {
     "end_time": "2021-04-28T07:57:39.197328Z",
     "start_time": "2021-04-28T07:57:39.193658Z"
    },
    "scrolled": false
   },
   "outputs": [
    {
     "data": {
      "text/plain": [
       "[[0, 0, 1, 0, 1],\n",
       " [1, 1, 1, 1, 1],\n",
       " [0, 1, 1, 0, 0],\n",
       " [0, 0, 0, 1, 0],\n",
       " [0, 1, 1, 0, 0]]"
      ]
     },
     "execution_count": 177,
     "metadata": {},
     "output_type": "execute_result"
    }
   ],
   "source": [
    "ice_array"
   ]
  },
  {
   "cell_type": "code",
   "execution_count": 178,
   "id": "dressed-advertising",
   "metadata": {
    "ExecuteTime": {
     "end_time": "2021-04-28T07:57:40.133073Z",
     "start_time": "2021-04-28T07:57:40.129387Z"
    },
    "scrolled": true
   },
   "outputs": [
    {
     "data": {
      "text/plain": [
       "[[],\n",
       " [2],\n",
       " [1],\n",
       " [],\n",
       " [],\n",
       " [],\n",
       " [],\n",
       " [],\n",
       " [],\n",
       " [],\n",
       " [],\n",
       " [16],\n",
       " [],\n",
       " [],\n",
       " [15],\n",
       " [14, 20],\n",
       " [17, 11, 21],\n",
       " [16, 18],\n",
       " [17],\n",
       " [],\n",
       " [15, 25],\n",
       " [16],\n",
       " [],\n",
       " [],\n",
       " [25],\n",
       " [24, 20]]"
      ]
     },
     "execution_count": 178,
     "metadata": {},
     "output_type": "execute_result"
    }
   ],
   "source": [
    "graph"
   ]
  },
  {
   "cell_type": "code",
   "execution_count": 179,
   "id": "designing-light",
   "metadata": {
    "ExecuteTime": {
     "end_time": "2021-04-28T07:57:43.851177Z",
     "start_time": "2021-04-28T07:57:43.845690Z"
    }
   },
   "outputs": [],
   "source": [
    "visited = [False] * ((n*m) + 1)"
   ]
  },
  {
   "cell_type": "code",
   "execution_count": 180,
   "id": "designed-hostel",
   "metadata": {
    "ExecuteTime": {
     "end_time": "2021-04-28T07:57:45.345030Z",
     "start_time": "2021-04-28T07:57:45.340806Z"
    }
   },
   "outputs": [],
   "source": [
    "from collections import deque\n",
    "\n",
    "def bfs(graph, start, visited, ice_array):\n",
    "\n",
    "    ice_array2 = np.array(ice_array).flatten() \n",
    "    \n",
    "    if(ice_array2[start-1] != 0 or visited[start]):\n",
    "        return 0\n",
    "    \n",
    "    queue = deque([start])\n",
    "    visited[start] = True\n",
    "    \n",
    "    while queue:\n",
    "        v = queue.popleft()\n",
    "        print(v, end= ' ')\n",
    "        for i in graph[v]:\n",
    "            if not visited[i]:\n",
    "                queue.append(i)\n",
    "                visited[i] = True\n",
    "    print()\n",
    "    return 1\n"
   ]
  },
  {
   "cell_type": "code",
   "execution_count": 183,
   "id": "unlikely-oxygen",
   "metadata": {
    "ExecuteTime": {
     "end_time": "2021-04-28T07:58:23.153058Z",
     "start_time": "2021-04-28T07:58:23.148575Z"
    }
   },
   "outputs": [
    {
     "name": "stdout",
     "output_type": "stream",
     "text": [
      "1 2 \n",
      "4 \n",
      "11 16 17 21 18 \n",
      "14 15 20 25 24 \n"
     ]
    }
   ],
   "source": [
    "sum = 0\n",
    "for i in range((m*n)+1):\n",
    "    if i == 0:\n",
    "        continue\n",
    "    sum += bfs(graph, i, visited, ice_array)\n",
    "\n"
   ]
  },
  {
   "cell_type": "code",
   "execution_count": 184,
   "id": "acoustic-prototype",
   "metadata": {
    "ExecuteTime": {
     "end_time": "2021-04-28T07:58:24.867527Z",
     "start_time": "2021-04-28T07:58:24.865247Z"
    }
   },
   "outputs": [
    {
     "name": "stdout",
     "output_type": "stream",
     "text": [
      "4\n"
     ]
    }
   ],
   "source": [
    "print(sum)"
   ]
  },
  {
   "cell_type": "code",
   "execution_count": null,
   "id": "forward-blowing",
   "metadata": {},
   "outputs": [],
   "source": [
    "なんか나동빈先生はかんたんに解いたけど僕は結構遠回りした"
   ]
  }
 ],
 "metadata": {
  "kernelspec": {
   "display_name": "aiffel",
   "language": "python",
   "name": "aiffel"
  },
  "language_info": {
   "codemirror_mode": {
    "name": "ipython",
    "version": 3
   },
   "file_extension": ".py",
   "mimetype": "text/x-python",
   "name": "python",
   "nbconvert_exporter": "python",
   "pygments_lexer": "ipython3",
   "version": "3.7.9"
  },
  "varInspector": {
   "cols": {
    "lenName": 16,
    "lenType": 16,
    "lenVar": 40
   },
   "kernels_config": {
    "python": {
     "delete_cmd_postfix": "",
     "delete_cmd_prefix": "del ",
     "library": "var_list.py",
     "varRefreshCmd": "print(var_dic_list())"
    },
    "r": {
     "delete_cmd_postfix": ") ",
     "delete_cmd_prefix": "rm(",
     "library": "var_list.r",
     "varRefreshCmd": "cat(var_dic_list()) "
    }
   },
   "types_to_exclude": [
    "module",
    "function",
    "builtin_function_or_method",
    "instance",
    "_Feature"
   ],
   "window_display": false
  }
 },
 "nbformat": 4,
 "nbformat_minor": 5
}
