{
 "cells": [
  {
   "cell_type": "markdown",
   "id": "global-minimum",
   "metadata": {},
   "source": [
    "https://programmers.co.kr/learn/courses/30/lessons/17682"
   ]
  },
  {
   "cell_type": "code",
   "execution_count": null,
   "id": "labeled-guarantee",
   "metadata": {
    "ExecuteTime": {
     "end_time": "2021-03-05T06:44:31.484447Z",
     "start_time": "2021-03-05T06:44:31.473419Z"
    }
   },
   "outputs": [],
   "source": [
    "def solution(dartResult):\n",
    "    ori_score = ''\n",
    "    set_score = 0\n",
    "    set_scores = []\n",
    "    \n",
    "    bonus = {'S' : (lambda x : x**1), 'D' : (lambda x : x**2), 'T':(lambda x : x**3)}\n",
    "    prizes = {'*' : (lambda x : x*2), '#' : (lambda x : x*-1)}\n",
    "    \n",
    "    for idx, _set in enumerate(dartResult):\n",
    "\n",
    "        if idx != len(dartResult)-1 and _set.isdecimal() and dartResult[idx+1].isdecimal():\n",
    "            ori_score = _set\n",
    "            continue\n",
    "        elif _set.isdecimal():\n",
    "            set_scores.append(set_score) #前の計算は終わりにして合算する\n",
    "            set_score = int(ori_score+_set)\n",
    "            ori_score = ''　#次の2桁の数の値を入れる準備なんですがこれは毎回するので結構無駄な計算\n",
    "            continue\n",
    "        else:\n",
    "            if _set in bonus.keys():\n",
    "                set_score = bonus[_set](set_score)\n",
    "            elif _set in prizes.keys():\n",
    "                set_score = prizes[_set](set_score)\n",
    "                if _set == '*':\n",
    "                    set_scores[len(set_scores)-1] = prizes[_set](set_scores[len(set_scores)-1])\n",
    "        \n",
    "        if idx == len(dartResult)-1: #for文の最後は合算しないため直接に値を入れる\n",
    "            set_scores.append(set_score)\n",
    "    \n",
    "    return sum(set_scores)"
   ]
  },
  {
   "cell_type": "code",
   "execution_count": null,
   "id": "junior-judge",
   "metadata": {
    "ExecuteTime": {
     "end_time": "2021-03-05T06:44:31.759374Z",
     "start_time": "2021-03-05T06:44:31.749757Z"
    }
   },
   "outputs": [],
   "source": [
    "solution(\"1D2S#10S\")"
   ]
  },
  {
   "cell_type": "code",
   "execution_count": null,
   "id": "yellow-panel",
   "metadata": {},
   "outputs": [],
   "source": []
  },
  {
   "cell_type": "markdown",
   "id": "comic-builder",
   "metadata": {},
   "source": [
    "https://www.acmicpc.net/problem/19947"
   ]
  },
  {
   "cell_type": "code",
   "execution_count": 14,
   "id": "fuzzy-artist",
   "metadata": {
    "ExecuteTime": {
     "end_time": "2021-03-06T07:10:10.406205Z",
     "start_time": "2021-03-06T07:10:10.403081Z"
    }
   },
   "outputs": [],
   "source": [
    "def solution(H, Y):\n",
    "    ys = {5: 1.35, 3:1.20, 1:1.05}\n",
    "    if Y > 0:\n",
    "        for _key, _y in ys.items():\n",
    "            if Y % _key == 0:\n",
    "                H = solution(int(H * _y), Y-_key)\n",
    "                break\n",
    "    return H"
   ]
  },
  {
   "cell_type": "code",
   "execution_count": 15,
   "id": "loved-kentucky",
   "metadata": {
    "ExecuteTime": {
     "end_time": "2021-03-06T07:10:13.029746Z",
     "start_time": "2021-03-06T07:10:10.682034Z"
    },
    "scrolled": true
   },
   "outputs": [
    {
     "name": "stdout",
     "output_type": "stream",
     "text": [
      "1000 4\n",
      "1260\n"
     ]
    }
   ],
   "source": [
    "if __name__ == \"__main__\":\n",
    "    H, Y = map(int, input().split())\n",
    "    print(solution(H, Y))"
   ]
  },
  {
   "cell_type": "code",
   "execution_count": 12,
   "id": "plastic-bullet",
   "metadata": {
    "ExecuteTime": {
     "end_time": "2021-03-06T07:05:57.047426Z",
     "start_time": "2021-03-06T07:05:53.877223Z"
    }
   },
   "outputs": [
    {
     "name": "stdout",
     "output_type": "stream",
     "text": [
      "1000 4\n",
      "1\n",
      "[1000, 1050, 0, 0, 0]\n",
      "1\n",
      "[1000, 1050, 1102, 0, 0]\n",
      "1\n",
      "3\n",
      "[1000, 1050, 1102, 1200, 0]\n",
      "1\n",
      "3\n",
      "[1000, 1050, 1102, 1200, 1260]\n",
      "[1000, 1050, 1102, 1200, 1260]\n",
      "1260\n"
     ]
    }
   ],
   "source": [
    "import sys\n",
    "\n",
    "def get_max_profit(h, y):\n",
    "    dp = [0 for i in range(y+1)]\n",
    "    dp[0] = h\n",
    "    for i in range(1, y+1):\n",
    "        dp[i] = int(dp[i-1]*1.05)\n",
    "        print(1)\n",
    "        if i >= 3:\n",
    "            dp[i] = max(int(dp[i-3]*1.2), dp[i])\n",
    "            print(3)\n",
    "        if i >= 5:\n",
    "            dp[i] = max(int(dp[i-5]*1.35), dp[i])\n",
    "            print(5)\n",
    "            \n",
    "        print(dp)\n",
    "    print(dp)\n",
    "    return dp[y]\n",
    "\n",
    "if __name__ == \"__main__\":\n",
    "    h, y = map(int, input().split())\n",
    "    print(get_max_profit(h, y))"
   ]
  },
  {
   "cell_type": "markdown",
   "id": "arctic-tanzania",
   "metadata": {
    "ExecuteTime": {
     "end_time": "2021-03-06T06:42:20.410659Z",
     "start_time": "2021-03-06T06:42:20.404574Z"
    }
   },
   "source": [
    "##### 25542 * 1.35 * 1.35 * 1.20 * 1.05"
   ]
  },
  {
   "cell_type": "code",
   "execution_count": null,
   "id": "seventh-animal",
   "metadata": {
    "ExecuteTime": {
     "end_time": "2021-03-06T06:44:58.249876Z",
     "start_time": "2021-03-06T06:44:58.243865Z"
    }
   },
   "outputs": [],
   "source": [
    "25542 * 1.05 * 1.05 * 1.05 * 1.05 * 1.05 * 1.05 * 1.05"
   ]
  },
  {
   "cell_type": "code",
   "execution_count": null,
   "id": "chinese-furniture",
   "metadata": {
    "ExecuteTime": {
     "end_time": "2021-03-06T06:44:49.962877Z",
     "start_time": "2021-03-06T06:44:49.959895Z"
    }
   },
   "outputs": [],
   "source": [
    "25542 * 1.35"
   ]
  },
  {
   "cell_type": "code",
   "execution_count": null,
   "id": "circular-click",
   "metadata": {
    "ExecuteTime": {
     "end_time": "2021-03-06T06:47:02.486563Z",
     "start_time": "2021-03-06T06:47:02.482854Z"
    }
   },
   "outputs": [],
   "source": [
    "1111 * 1.05 * 1.05 * 1.05"
   ]
  },
  {
   "cell_type": "code",
   "execution_count": null,
   "id": "capable-commissioner",
   "metadata": {
    "ExecuteTime": {
     "end_time": "2021-03-06T06:46:54.921668Z",
     "start_time": "2021-03-06T06:46:54.915612Z"
    }
   },
   "outputs": [],
   "source": [
    "1111 * 1.20"
   ]
  },
  {
   "cell_type": "code",
   "execution_count": null,
   "id": "proved-costa",
   "metadata": {
    "ExecuteTime": {
     "end_time": "2021-03-06T06:47:38.063196Z",
     "start_time": "2021-03-06T06:47:38.058410Z"
    }
   },
   "outputs": [],
   "source": [
    "1111 * 1.05 * 1.05 * 1.05 * 1.05 * 1.05"
   ]
  },
  {
   "cell_type": "code",
   "execution_count": null,
   "id": "welsh-chance",
   "metadata": {
    "ExecuteTime": {
     "end_time": "2021-03-06T06:47:39.251161Z",
     "start_time": "2021-03-06T06:47:39.248195Z"
    }
   },
   "outputs": [],
   "source": [
    "1111 * 1.35"
   ]
  },
  {
   "cell_type": "code",
   "execution_count": null,
   "id": "substantial-working",
   "metadata": {},
   "outputs": [],
   "source": []
  }
 ],
 "metadata": {
  "kernelspec": {
   "display_name": "aiffel",
   "language": "python",
   "name": "aiffel"
  },
  "language_info": {
   "codemirror_mode": {
    "name": "ipython",
    "version": 3
   },
   "file_extension": ".py",
   "mimetype": "text/x-python",
   "name": "python",
   "nbconvert_exporter": "python",
   "pygments_lexer": "ipython3",
   "version": "3.7.9"
  },
  "varInspector": {
   "cols": {
    "lenName": 16,
    "lenType": 16,
    "lenVar": 40
   },
   "kernels_config": {
    "python": {
     "delete_cmd_postfix": "",
     "delete_cmd_prefix": "del ",
     "library": "var_list.py",
     "varRefreshCmd": "print(var_dic_list())"
    },
    "r": {
     "delete_cmd_postfix": ") ",
     "delete_cmd_prefix": "rm(",
     "library": "var_list.r",
     "varRefreshCmd": "cat(var_dic_list()) "
    }
   },
   "types_to_exclude": [
    "module",
    "function",
    "builtin_function_or_method",
    "instance",
    "_Feature"
   ],
   "window_display": false
  }
 },
 "nbformat": 4,
 "nbformat_minor": 5
}
