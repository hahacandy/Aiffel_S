{
 "cells": [
  {
   "cell_type": "code",
   "execution_count": 95,
   "id": "plastic-annex",
   "metadata": {
    "ExecuteTime": {
     "end_time": "2021-03-02T07:59:28.970583Z",
     "start_time": "2021-03-02T07:59:28.964277Z"
    }
   },
   "outputs": [],
   "source": [
    "def solution(numbers, hand):\n",
    "    answer = []\n",
    "    num_pad = [[1,2,3],\n",
    "              [4,5,6],\n",
    "              [7,8,9],\n",
    "              ['*',0, '#']]\n",
    "    last_left_num, last_right_num = '*', '#'\n",
    "    distance_numbers = {}\n",
    "    \n",
    "    for i, _ in enumerate(range(len(num_pad))):\n",
    "        for j, _ in enumerate(range(len(num_pad[0]))):\n",
    "            distance_numbers[num_pad[i][j]] = [i, j]\n",
    "            \n",
    "    for number in numbers:\n",
    "        left_push, right_push = False, False\n",
    "        if number in [left[0] for left in num_pad]:\n",
    "            left_push = True\n",
    "        elif number in [left[2] for left in num_pad]:\n",
    "            right_push = True\n",
    "        else:\n",
    "            last_left_distance = distance_numbers[last_left_num]\n",
    "            last_right_distance = distance_numbers[last_right_num]\n",
    "            current_number_distance = distance_numbers[number]\n",
    "            \n",
    "            last_left_distance = abs(last_left_distance[0]- current_number_distance[0])\\\n",
    "                +abs(last_left_distance[1]-current_number_distance[1])\n",
    "            last_right_distance = abs(last_right_distance[0]- current_number_distance[0])\\\n",
    "                +abs(last_right_distance[1]-current_number_distance[1])\n",
    "            \n",
    "            if last_left_distance < last_right_distance:\n",
    "                left_push = True\n",
    "            elif last_left_distance > last_right_distance:\n",
    "                right_push = True\n",
    "            else:\n",
    "                if hand == 'left':\n",
    "                    left_push = True\n",
    "                elif hand == 'right':\n",
    "                    right_push = True\n",
    "            \n",
    "        if left_push:\n",
    "            answer.append('L')\n",
    "            last_left_num = number\n",
    "        elif right_push:\n",
    "            answer.append('R')\n",
    "            last_right_num = number\n",
    "\n",
    "    return ''.join(answer)"
   ]
  },
  {
   "cell_type": "code",
   "execution_count": 96,
   "id": "transparent-equation",
   "metadata": {
    "ExecuteTime": {
     "end_time": "2021-03-02T07:59:30.997325Z",
     "start_time": "2021-03-02T07:59:30.993585Z"
    }
   },
   "outputs": [
    {
     "data": {
      "text/plain": [
       "'LRLLLRLLRRL'"
      ]
     },
     "execution_count": 96,
     "metadata": {},
     "output_type": "execute_result"
    }
   ],
   "source": [
    "solution([1, 3, 4, 5, 8, 2, 1, 4, 5, 9, 5], 'right')"
   ]
  }
 ],
 "metadata": {
  "kernelspec": {
   "display_name": "aiffel",
   "language": "python",
   "name": "aiffel"
  },
  "language_info": {
   "codemirror_mode": {
    "name": "ipython",
    "version": 3
   },
   "file_extension": ".py",
   "mimetype": "text/x-python",
   "name": "python",
   "nbconvert_exporter": "python",
   "pygments_lexer": "ipython3",
   "version": "3.7.9"
  },
  "varInspector": {
   "cols": {
    "lenName": 16,
    "lenType": 16,
    "lenVar": 40
   },
   "kernels_config": {
    "python": {
     "delete_cmd_postfix": "",
     "delete_cmd_prefix": "del ",
     "library": "var_list.py",
     "varRefreshCmd": "print(var_dic_list())"
    },
    "r": {
     "delete_cmd_postfix": ") ",
     "delete_cmd_prefix": "rm(",
     "library": "var_list.r",
     "varRefreshCmd": "cat(var_dic_list()) "
    }
   },
   "types_to_exclude": [
    "module",
    "function",
    "builtin_function_or_method",
    "instance",
    "_Feature"
   ],
   "window_display": false
  }
 },
 "nbformat": 4,
 "nbformat_minor": 5
}
