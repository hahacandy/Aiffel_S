{
 "cells": [
  {
   "cell_type": "code",
   "execution_count": 1,
   "id": "tamil-interim",
   "metadata": {
    "ExecuteTime": {
     "end_time": "2021-05-20T05:32:07.848678Z",
     "start_time": "2021-05-20T05:32:07.845665Z"
    }
   },
   "outputs": [],
   "source": [
    "from bisect import bisect_left, bisect_right"
   ]
  },
  {
   "cell_type": "code",
   "execution_count": 15,
   "id": "ultimate-representative",
   "metadata": {
    "ExecuteTime": {
     "end_time": "2021-05-20T05:36:20.764644Z",
     "start_time": "2021-05-20T05:36:20.758762Z"
    }
   },
   "outputs": [
    {
     "ename": "TypeError",
     "evalue": "'NoneType' object is not iterable",
     "output_type": "error",
     "traceback": [
      "\u001b[0;31m---------------------------------------------------------------------------\u001b[0m",
      "\u001b[0;31mTypeError\u001b[0m                                 Traceback (most recent call last)",
      "\u001b[0;32m<ipython-input-15-35403cd68e72>\u001b[0m in \u001b[0;36m<module>\u001b[0;34m\u001b[0m\n\u001b[1;32m      1\u001b[0m \u001b[0mnums1\u001b[0m\u001b[0;34m,\u001b[0m \u001b[0mnums2\u001b[0m \u001b[0;34m=\u001b[0m\u001b[0;34m[\u001b[0m\u001b[0;36m1\u001b[0m\u001b[0;34m,\u001b[0m\u001b[0;36m2\u001b[0m\u001b[0;34m,\u001b[0m\u001b[0;36m2\u001b[0m\u001b[0;34m,\u001b[0m\u001b[0;36m1\u001b[0m\u001b[0;34m]\u001b[0m\u001b[0;34m,\u001b[0m \u001b[0;34m[\u001b[0m\u001b[0;36m2\u001b[0m\u001b[0;34m,\u001b[0m\u001b[0;36m2\u001b[0m\u001b[0;34m]\u001b[0m\u001b[0;34m\u001b[0m\u001b[0;34m\u001b[0m\u001b[0m\n\u001b[1;32m      2\u001b[0m \u001b[0mnums1\u001b[0m \u001b[0;34m=\u001b[0m \u001b[0mnums1\u001b[0m\u001b[0;34m.\u001b[0m\u001b[0msort\u001b[0m\u001b[0;34m(\u001b[0m\u001b[0;34m)\u001b[0m\u001b[0;34m\u001b[0m\u001b[0;34m\u001b[0m\u001b[0m\n\u001b[0;32m----> 3\u001b[0;31m \u001b[0mnums1\u001b[0m \u001b[0;34m=\u001b[0m \u001b[0mset\u001b[0m\u001b[0;34m(\u001b[0m\u001b[0mlist\u001b[0m\u001b[0;34m(\u001b[0m\u001b[0mnums1\u001b[0m\u001b[0;34m)\u001b[0m\u001b[0;34m)\u001b[0m\u001b[0;34m\u001b[0m\u001b[0;34m\u001b[0m\u001b[0m\n\u001b[0m\u001b[1;32m      4\u001b[0m \u001b[0mnums2\u001b[0m \u001b[0;34m=\u001b[0m \u001b[0mset\u001b[0m\u001b[0;34m(\u001b[0m\u001b[0mnums2\u001b[0m\u001b[0;34m)\u001b[0m\u001b[0;34m\u001b[0m\u001b[0;34m\u001b[0m\u001b[0m\n",
      "\u001b[0;31mTypeError\u001b[0m: 'NoneType' object is not iterable"
     ]
    }
   ],
   "source": [
    "nums1, nums2 =[1,2,2,1], [2,2]\n",
    "nums1 = nums1.sort()\n",
    "nums1 = set(list(nums1))\n",
    "nums2 = set(nums2)"
   ]
  },
  {
   "cell_type": "code",
   "execution_count": 7,
   "id": "recovered-plaintiff",
   "metadata": {
    "ExecuteTime": {
     "end_time": "2021-05-20T05:32:50.122048Z",
     "start_time": "2021-05-20T05:32:50.117915Z"
    }
   },
   "outputs": [],
   "source": [
    "def solution(_nums1, _nums2):\n",
    "    result = []\n",
    "    for num2 in _nums2:\n",
    "        left = 0\n",
    "        right = len(_nums1)-1\n",
    "        mid = right // 2\n",
    "        \n",
    "        while True:\n",
    "            print(left, mid, right)\n",
    "            if _nums1[mid] == num2:\n",
    "                result.append(num2)\n",
    "                print(\"b1\")\n",
    "                break\n",
    "            elif left >= mid:\n",
    "                print(\"b2\")\n",
    "                break\n",
    "            elif _nums1[mid] > num2:\n",
    "                right = mid-1\n",
    "            elif _nums1[mid] < num2:\n",
    "                left = mid+1\n",
    "            print(left, mid, right)\n",
    "            print()\n",
    "            \n",
    "            \n",
    "        \n",
    "    return result"
   ]
  },
  {
   "cell_type": "code",
   "execution_count": 8,
   "id": "varying-satellite",
   "metadata": {
    "ExecuteTime": {
     "end_time": "2021-05-20T05:32:50.512304Z",
     "start_time": "2021-05-20T05:32:50.508836Z"
    }
   },
   "outputs": [
    {
     "name": "stdout",
     "output_type": "stream",
     "text": [
      "0 1 3\n",
      "2 1 3\n",
      "\n",
      "2 1 3\n",
      "b2\n",
      "[]\n"
     ]
    }
   ],
   "source": [
    "print(solution(nums1,nums2))"
   ]
  },
  {
   "cell_type": "code",
   "execution_count": 5,
   "id": "confirmed-cosmetic",
   "metadata": {
    "ExecuteTime": {
     "end_time": "2021-05-20T05:32:07.869828Z",
     "start_time": "2021-05-20T05:32:07.862437Z"
    }
   },
   "outputs": [
    {
     "data": {
      "text/plain": [
       "0"
      ]
     },
     "execution_count": 5,
     "metadata": {},
     "output_type": "execute_result"
    }
   ],
   "source": [
    "bisect_left(nums1, -1)"
   ]
  },
  {
   "cell_type": "code",
   "execution_count": 6,
   "id": "extended-lebanon",
   "metadata": {
    "ExecuteTime": {
     "end_time": "2021-05-20T05:32:07.874465Z",
     "start_time": "2021-05-20T05:32:07.870986Z"
    }
   },
   "outputs": [
    {
     "data": {
      "text/plain": [
       "{2}"
      ]
     },
     "execution_count": 6,
     "metadata": {},
     "output_type": "execute_result"
    }
   ],
   "source": [
    "nums2"
   ]
  },
  {
   "cell_type": "code",
   "execution_count": null,
   "id": "entitled-founder",
   "metadata": {},
   "outputs": [],
   "source": []
  }
 ],
 "metadata": {
  "kernelspec": {
   "display_name": "aiffel",
   "language": "python",
   "name": "aiffel"
  },
  "language_info": {
   "codemirror_mode": {
    "name": "ipython",
    "version": 3
   },
   "file_extension": ".py",
   "mimetype": "text/x-python",
   "name": "python",
   "nbconvert_exporter": "python",
   "pygments_lexer": "ipython3",
   "version": "3.7.9"
  },
  "varInspector": {
   "cols": {
    "lenName": 16,
    "lenType": 16,
    "lenVar": 40
   },
   "kernels_config": {
    "python": {
     "delete_cmd_postfix": "",
     "delete_cmd_prefix": "del ",
     "library": "var_list.py",
     "varRefreshCmd": "print(var_dic_list())"
    },
    "r": {
     "delete_cmd_postfix": ") ",
     "delete_cmd_prefix": "rm(",
     "library": "var_list.r",
     "varRefreshCmd": "cat(var_dic_list()) "
    }
   },
   "types_to_exclude": [
    "module",
    "function",
    "builtin_function_or_method",
    "instance",
    "_Feature"
   ],
   "window_display": false
  }
 },
 "nbformat": 4,
 "nbformat_minor": 5
}
