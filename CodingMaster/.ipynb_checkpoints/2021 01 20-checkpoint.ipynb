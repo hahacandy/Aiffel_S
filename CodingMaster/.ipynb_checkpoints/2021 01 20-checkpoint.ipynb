{
 "cells": [
  {
   "cell_type": "code",
   "execution_count": 50,
   "id": "naval-coalition",
   "metadata": {},
   "outputs": [
    {
     "data": {
      "text/plain": [
       "[1, 3, 0, 1]"
      ]
     },
     "execution_count": 50,
     "metadata": {},
     "output_type": "execute_result"
    }
   ],
   "source": [
    "def solution(arr):\n",
    "    i=0\n",
    "    while i < len(arr)-1:\n",
    "        if arr[i] == arr[i+1]:\n",
    "            arr.pop(i)\n",
    "            i -= 1\n",
    "        i += 1\n",
    "\n",
    "    answer = arr\n",
    "    return answer\n",
    "\n",
    "solution([1,1,3,3,0,1,1])"
   ]
  },
  {
   "cell_type": "code",
   "execution_count": 57,
   "id": "worse-illness",
   "metadata": {},
   "outputs": [
    {
     "data": {
      "text/plain": [
       "[-1]"
      ]
     },
     "execution_count": 57,
     "metadata": {},
     "output_type": "execute_result"
    }
   ],
   "source": [
    "def solution(arr, divisor):\n",
    "    \n",
    "    answer = []\n",
    "    \n",
    "    arr = arr.sort()\n",
    "    \n",
    "    for item in arr:\n",
    "        if item % divisor == 0:\n",
    "            answer.append(item)\n",
    "    \n",
    "    if len(answer) == 0:\n",
    "        answer.append(-1)\n",
    "\n",
    "    return answer\n",
    "\n",
    "solution([5, 9, 7, 10], 11)"
   ]
  },
  {
   "cell_type": "code",
   "execution_count": null,
   "id": "differential-childhood",
   "metadata": {},
   "outputs": [],
   "source": [
    "()"
   ]
  }
 ],
 "metadata": {
  "kernelspec": {
   "display_name": "aiffel",
   "language": "python",
   "name": "aiffel"
  },
  "language_info": {
   "codemirror_mode": {
    "name": "ipython",
    "version": 3
   },
   "file_extension": ".py",
   "mimetype": "text/x-python",
   "name": "python",
   "nbconvert_exporter": "python",
   "pygments_lexer": "ipython3",
   "version": "3.7.9"
  }
 },
 "nbformat": 4,
 "nbformat_minor": 5
}
