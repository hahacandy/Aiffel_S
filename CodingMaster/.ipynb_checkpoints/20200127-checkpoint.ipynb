{
 "cells": [
  {
   "cell_type": "code",
   "execution_count": 39,
   "id": "irish-guidance",
   "metadata": {},
   "outputs": [
    {
     "name": "stdout",
     "output_type": "stream",
     "text": [
      "['car', 'bed', 'sun']\n",
      "['abcd', 'abce', 'cdx']\n"
     ]
    },
    {
     "data": {
      "text/plain": [
       "['abce', 'abcd', 'cdx']"
      ]
     },
     "execution_count": 39,
     "metadata": {},
     "output_type": "execute_result"
    }
   ],
   "source": [
    "def solution(strings, n):\n",
    "    \n",
    "    print(sorted(strings, key=lambda x:(x[n], x)))\n",
    "    \n",
    "    return strings\n",
    "\n",
    "\n",
    "solution(['sun', 'bed', 'car'], 1)\n",
    "solution(['abce', 'abcd', 'cdx'], 2)"
   ]
  },
  {
   "cell_type": "code",
   "execution_count": 70,
   "id": "grateful-brass",
   "metadata": {},
   "outputs": [
    {
     "name": "stdout",
     "output_type": "stream",
     "text": [
      "True\n",
      "False\n"
     ]
    }
   ],
   "source": [
    "def solution(s):\n",
    "    \n",
    "    s.lower()\n",
    "    \n",
    "    y_num = 0\n",
    "    p_num = 0\n",
    "    \n",
    "    answer = False\n",
    "    \n",
    "    \n",
    "    if 'y' not in s and not 'p' in s:\n",
    "        answer = True\n",
    "    else:\n",
    "        for item in s:\n",
    "            if 'y' == item:\n",
    "                y_num += 1\n",
    "            elif 'p' == item:\n",
    "                p_num += 1\n",
    "\n",
    "        if y_num == p_num:\n",
    "            answer = True\n",
    "\n",
    "\n",
    "    return answer\n",
    "\n",
    "print(solution('pPoooyY'))\n",
    "print(solution('Pyy'))"
   ]
  }
 ],
 "metadata": {
  "kernelspec": {
   "display_name": "aiffel",
   "language": "python",
   "name": "aiffel"
  },
  "language_info": {
   "codemirror_mode": {
    "name": "ipython",
    "version": 3
   },
   "file_extension": ".py",
   "mimetype": "text/x-python",
   "name": "python",
   "nbconvert_exporter": "python",
   "pygments_lexer": "ipython3",
   "version": "3.7.9"
  }
 },
 "nbformat": 4,
 "nbformat_minor": 5
}
