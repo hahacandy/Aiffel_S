{
 "cells": [
  {
   "cell_type": "code",
   "execution_count": 2,
   "id": "christian-obligation",
   "metadata": {
    "ExecuteTime": {
     "end_time": "2021-02-16T06:33:00.220236Z",
     "start_time": "2021-02-16T06:33:00.216842Z"
    }
   },
   "outputs": [],
   "source": [
    "def solution(s):\n",
    "    answer = ' '.join(\n",
    "        list(map(lambda x: \n",
    "                 ''.join(list(map(lambda y: x[y].upper() if y % 2 == 0 else x[y], range(len(x)))))\n",
    "                 , s.lower().split(' '))))\n",
    "    return answer"
   ]
  },
  {
   "cell_type": "code",
   "execution_count": 3,
   "id": "focal-dominican",
   "metadata": {
    "ExecuteTime": {
     "end_time": "2021-02-16T06:33:00.510774Z",
     "start_time": "2021-02-16T06:33:00.503531Z"
    }
   },
   "outputs": [
    {
     "data": {
      "text/plain": [
       "'TrY HeLlO WoRlD'"
      ]
     },
     "execution_count": 3,
     "metadata": {},
     "output_type": "execute_result"
    }
   ],
   "source": [
    "solution(\"try hello world\")"
   ]
  },
  {
   "cell_type": "code",
   "execution_count": null,
   "id": "organizational-country",
   "metadata": {},
   "outputs": [],
   "source": []
  },
  {
   "cell_type": "code",
   "execution_count": 60,
   "id": "secure-batch",
   "metadata": {
    "ExecuteTime": {
     "end_time": "2021-02-16T07:21:29.505646Z",
     "start_time": "2021-02-16T07:21:29.502179Z"
    }
   },
   "outputs": [],
   "source": [
    "import re\n",
    "def solution(phone_book):\n",
    "    for value in phone_book:\n",
    "        for value2 in phone_book:\n",
    "            if value != value2 and re.match(str(value), str(value2)):\n",
    "                return False\n",
    "    \n",
    "    return True"
   ]
  },
  {
   "cell_type": "code",
   "execution_count": 61,
   "id": "possible-bottle",
   "metadata": {
    "ExecuteTime": {
     "end_time": "2021-02-16T07:21:31.689085Z",
     "start_time": "2021-02-16T07:21:31.686395Z"
    }
   },
   "outputs": [
    {
     "data": {
      "text/plain": [
       "True"
      ]
     },
     "execution_count": 61,
     "metadata": {},
     "output_type": "execute_result"
    }
   ],
   "source": [
    "solution([119, 97674223, 1195524421])"
   ]
  }
 ],
 "metadata": {
  "kernelspec": {
   "display_name": "aiffel",
   "language": "python",
   "name": "aiffel"
  },
  "language_info": {
   "codemirror_mode": {
    "name": "ipython",
    "version": 3
   },
   "file_extension": ".py",
   "mimetype": "text/x-python",
   "name": "python",
   "nbconvert_exporter": "python",
   "pygments_lexer": "ipython3",
   "version": "3.7.9"
  },
  "varInspector": {
   "cols": {
    "lenName": 16,
    "lenType": 16,
    "lenVar": 40
   },
   "kernels_config": {
    "python": {
     "delete_cmd_postfix": "",
     "delete_cmd_prefix": "del ",
     "library": "var_list.py",
     "varRefreshCmd": "print(var_dic_list())"
    },
    "r": {
     "delete_cmd_postfix": ") ",
     "delete_cmd_prefix": "rm(",
     "library": "var_list.r",
     "varRefreshCmd": "cat(var_dic_list()) "
    }
   },
   "types_to_exclude": [
    "module",
    "function",
    "builtin_function_or_method",
    "instance",
    "_Feature"
   ],
   "window_display": false
  }
 },
 "nbformat": 4,
 "nbformat_minor": 5
}
