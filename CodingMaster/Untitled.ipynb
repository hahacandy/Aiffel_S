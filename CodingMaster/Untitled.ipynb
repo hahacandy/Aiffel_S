{
 "cells": [
  {
   "cell_type": "code",
   "execution_count": 11,
   "id": "white-subdivision",
   "metadata": {
    "ExecuteTime": {
     "end_time": "2021-03-17T06:40:18.308501Z",
     "start_time": "2021-03-17T06:40:18.306203Z"
    }
   },
   "outputs": [],
   "source": [
    "import heapq\n",
    "\n",
    "a = [1,56 ,23, 45, 23 ,45 ,32]\n",
    "\n",
    "heap = []\n",
    "for i in a:\n",
    "    heapq.heappush(heap, i)\n",
    "    \n"
   ]
  },
  {
   "cell_type": "code",
   "execution_count": 12,
   "id": "divided-cedar",
   "metadata": {
    "ExecuteTime": {
     "end_time": "2021-03-17T06:40:21.436609Z",
     "start_time": "2021-03-17T06:40:21.433420Z"
    }
   },
   "outputs": [
    {
     "data": {
      "text/plain": [
       "[1, 23, 23, 56, 45, 45, 32]"
      ]
     },
     "execution_count": 12,
     "metadata": {},
     "output_type": "execute_result"
    }
   ],
   "source": [
    "heap"
   ]
  },
  {
   "cell_type": "code",
   "execution_count": 13,
   "id": "suffering-aquatic",
   "metadata": {
    "ExecuteTime": {
     "end_time": "2021-03-17T06:40:34.724358Z",
     "start_time": "2021-03-17T06:40:34.721799Z"
    },
    "scrolled": false
   },
   "outputs": [
    {
     "name": "stdout",
     "output_type": "stream",
     "text": [
      "[1, 23, 23, 56, 45, 45, 32]\n",
      "1\n"
     ]
    }
   ],
   "source": [
    "print(heap)\n",
    "print(heapq.heappop(heap))"
   ]
  },
  {
   "cell_type": "code",
   "execution_count": 14,
   "id": "backed-affect",
   "metadata": {
    "ExecuteTime": {
     "end_time": "2021-03-17T06:40:51.252145Z",
     "start_time": "2021-03-17T06:40:51.249887Z"
    }
   },
   "outputs": [
    {
     "name": "stdout",
     "output_type": "stream",
     "text": [
      "[23, 23, 32, 56, 45, 45]\n",
      "23\n"
     ]
    }
   ],
   "source": [
    "print(heap)\n",
    "print(heapq.heappop(heap))"
   ]
  },
  {
   "cell_type": "code",
   "execution_count": 15,
   "id": "valued-simon",
   "metadata": {
    "ExecuteTime": {
     "end_time": "2021-03-17T06:40:52.476146Z",
     "start_time": "2021-03-17T06:40:52.473809Z"
    }
   },
   "outputs": [
    {
     "name": "stdout",
     "output_type": "stream",
     "text": [
      "[23, 45, 32, 56, 45]\n",
      "23\n"
     ]
    }
   ],
   "source": [
    "print(heap)\n",
    "print(heapq.heappop(heap))"
   ]
  },
  {
   "cell_type": "code",
   "execution_count": 16,
   "id": "liable-acoustic",
   "metadata": {
    "ExecuteTime": {
     "end_time": "2021-03-17T06:40:53.580028Z",
     "start_time": "2021-03-17T06:40:53.577705Z"
    }
   },
   "outputs": [
    {
     "name": "stdout",
     "output_type": "stream",
     "text": [
      "[32, 45, 45, 56]\n",
      "32\n"
     ]
    }
   ],
   "source": [
    "print(heap)\n",
    "print(heapq.heappop(heap))"
   ]
  },
  {
   "cell_type": "code",
   "execution_count": 17,
   "id": "quality-breast",
   "metadata": {
    "ExecuteTime": {
     "end_time": "2021-03-17T06:40:54.572210Z",
     "start_time": "2021-03-17T06:40:54.569673Z"
    }
   },
   "outputs": [
    {
     "name": "stdout",
     "output_type": "stream",
     "text": [
      "[45, 45, 56]\n",
      "45\n"
     ]
    }
   ],
   "source": [
    "print(heap)\n",
    "print(heapq.heappop(heap))"
   ]
  },
  {
   "cell_type": "code",
   "execution_count": 18,
   "id": "chubby-province",
   "metadata": {
    "ExecuteTime": {
     "end_time": "2021-03-17T06:40:55.516818Z",
     "start_time": "2021-03-17T06:40:55.513915Z"
    }
   },
   "outputs": [
    {
     "name": "stdout",
     "output_type": "stream",
     "text": [
      "[45, 56]\n",
      "45\n"
     ]
    }
   ],
   "source": [
    "print(heap)\n",
    "print(heapq.heappop(heap))"
   ]
  },
  {
   "cell_type": "code",
   "execution_count": 19,
   "id": "strange-parliament",
   "metadata": {
    "ExecuteTime": {
     "end_time": "2021-03-17T06:40:56.508201Z",
     "start_time": "2021-03-17T06:40:56.505814Z"
    }
   },
   "outputs": [
    {
     "name": "stdout",
     "output_type": "stream",
     "text": [
      "[56]\n",
      "56\n"
     ]
    }
   ],
   "source": [
    "print(heap)\n",
    "print(heapq.heappop(heap))"
   ]
  },
  {
   "cell_type": "code",
   "execution_count": null,
   "id": "demographic-combining",
   "metadata": {},
   "outputs": [],
   "source": []
  }
 ],
 "metadata": {
  "kernelspec": {
   "display_name": "aiffel",
   "language": "python",
   "name": "aiffel"
  },
  "language_info": {
   "codemirror_mode": {
    "name": "ipython",
    "version": 3
   },
   "file_extension": ".py",
   "mimetype": "text/x-python",
   "name": "python",
   "nbconvert_exporter": "python",
   "pygments_lexer": "ipython3",
   "version": "3.7.9"
  },
  "varInspector": {
   "cols": {
    "lenName": 16,
    "lenType": 16,
    "lenVar": 40
   },
   "kernels_config": {
    "python": {
     "delete_cmd_postfix": "",
     "delete_cmd_prefix": "del ",
     "library": "var_list.py",
     "varRefreshCmd": "print(var_dic_list())"
    },
    "r": {
     "delete_cmd_postfix": ") ",
     "delete_cmd_prefix": "rm(",
     "library": "var_list.r",
     "varRefreshCmd": "cat(var_dic_list()) "
    }
   },
   "types_to_exclude": [
    "module",
    "function",
    "builtin_function_or_method",
    "instance",
    "_Feature"
   ],
   "window_display": false
  }
 },
 "nbformat": 4,
 "nbformat_minor": 5
}
