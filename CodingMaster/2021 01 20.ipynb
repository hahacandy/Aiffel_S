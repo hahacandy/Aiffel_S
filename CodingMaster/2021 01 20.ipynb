{
 "cells": [
  {
   "cell_type": "code",
   "execution_count": 87,
   "id": "incoming-aaron",
   "metadata": {},
   "outputs": [
    {
     "data": {
      "text/plain": [
       "[4, 3]"
      ]
     },
     "execution_count": 87,
     "metadata": {},
     "output_type": "execute_result"
    }
   ],
   "source": [
    "def solution(arr):\n",
    "\n",
    "    answer = [arr[0]]\n",
    "    \n",
    "    for item in arr:\n",
    "        if item != answer[len(answer)-1]:\n",
    "            answer.append(item)\n",
    "\n",
    "    return answer\n",
    "\n",
    "solution([1,1,3,3,0,1,1])\n",
    "solution([4,4,4,3,3])"
   ]
  },
  {
   "cell_type": "code",
   "execution_count": 60,
   "id": "completed-functionality",
   "metadata": {},
   "outputs": [
    {
     "data": {
      "text/plain": [
       "[-1]"
      ]
     },
     "execution_count": 60,
     "metadata": {},
     "output_type": "execute_result"
    }
   ],
   "source": [
    "def solution(arr, divisor):\n",
    "    \n",
    "    answer = []\n",
    "    \n",
    "    arr.sort()\n",
    "    \n",
    "    for item in arr:\n",
    "        if item % divisor == 0:\n",
    "            answer.append(item)\n",
    "    \n",
    "    if len(answer) == 0:\n",
    "        answer.append(-1)\n",
    "\n",
    "    return answer\n",
    "\n",
    "solution([5, 9, 7, 10], 11)"
   ]
  },
  {
   "cell_type": "code",
   "execution_count": 62,
   "id": "minute-forwarding",
   "metadata": {},
   "outputs": [
    {
     "data": {
      "text/plain": [
       "3"
      ]
     },
     "execution_count": 62,
     "metadata": {},
     "output_type": "execute_result"
    }
   ],
   "source": [
    "def solution(a, b):\n",
    "    \n",
    "    answer = 0\n",
    "    \n",
    "    if a == b:\n",
    "        answer = a\n",
    "    else:\n",
    "        if a > b:\n",
    "            a, b = b, a\n",
    "        \n",
    "        for i in range(a, b+1):\n",
    "            answer += i\n",
    "    \n",
    "    \n",
    "    return answer\n",
    "\n",
    "solution(3,3)"
   ]
  },
  {
   "cell_type": "code",
   "execution_count": 59,
   "id": "naughty-modeling",
   "metadata": {},
   "outputs": [
    {
     "name": "stdout",
     "output_type": "stream",
     "text": [
      "[5, 7, 9, 10]\n"
     ]
    }
   ],
   "source": []
  }
 ],
 "metadata": {
  "kernelspec": {
   "display_name": "aiffel",
   "language": "python",
   "name": "aiffel"
  },
  "language_info": {
   "codemirror_mode": {
    "name": "ipython",
    "version": 3
   },
   "file_extension": ".py",
   "mimetype": "text/x-python",
   "name": "python",
   "nbconvert_exporter": "python",
   "pygments_lexer": "ipython3",
   "version": "3.7.9"
  }
 },
 "nbformat": 4,
 "nbformat_minor": 5
}
