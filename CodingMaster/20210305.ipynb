{
 "cells": [
  {
   "cell_type": "markdown",
   "id": "first-netherlands",
   "metadata": {},
   "source": [
    "https://programmers.co.kr/learn/courses/30/lessons/17682"
   ]
  },
  {
   "cell_type": "code",
   "execution_count": 60,
   "id": "breeding-acoustic",
   "metadata": {
    "ExecuteTime": {
     "end_time": "2021-03-05T06:44:31.484447Z",
     "start_time": "2021-03-05T06:44:31.473419Z"
    }
   },
   "outputs": [],
   "source": [
    "def solution(dartResult):\n",
    "    ori_score = ''\n",
    "    set_score = 0\n",
    "    set_scores = []\n",
    "    \n",
    "    bonus = {'S' : (lambda x : x**1), 'D' : (lambda x : x**2), 'T':(lambda x : x**3)}\n",
    "    prizes = {'*' : (lambda x : x*2), '#' : (lambda x : x*-1)}\n",
    "    \n",
    "    for idx, _set in enumerate(dartResult):\n",
    "\n",
    "        if idx != len(dartResult)-1 and _set.isdecimal() and dartResult[idx+1].isdecimal():\n",
    "            ori_score = _set\n",
    "            continue\n",
    "        elif _set.isdecimal():\n",
    "            set_scores.append(set_score) #前の計算は終わりにして合算する\n",
    "            set_score = int(ori_score+_set)\n",
    "            ori_score = ''　#次の2桁の数の値を入れる準備なんですがこれは毎回するので結構無駄な計算\n",
    "            continue\n",
    "        else:\n",
    "            if _set in bonus.keys():\n",
    "                set_score = bonus[_set](set_score)\n",
    "            elif _set in prizes.keys():\n",
    "                set_score = prizes[_set](set_score)\n",
    "                if _set == '*':\n",
    "                    set_scores[len(set_scores)-1] = prizes[_set](set_scores[len(set_scores)-1])\n",
    "        \n",
    "        if idx == len(dartResult)-1: #for文の最後は合算しないため直接に値を入れる\n",
    "            set_scores.append(set_score)\n",
    "    \n",
    "    return sum(set_scores)"
   ]
  },
  {
   "cell_type": "code",
   "execution_count": 61,
   "id": "macro-content",
   "metadata": {
    "ExecuteTime": {
     "end_time": "2021-03-05T06:44:31.759374Z",
     "start_time": "2021-03-05T06:44:31.749757Z"
    }
   },
   "outputs": [
    {
     "data": {
      "text/plain": [
       "[0, 1, -2, 10]"
      ]
     },
     "execution_count": 61,
     "metadata": {},
     "output_type": "execute_result"
    }
   ],
   "source": [
    "solution(\"1D2S#10S\")"
   ]
  },
  {
   "cell_type": "code",
   "execution_count": null,
   "id": "motivated-costa",
   "metadata": {},
   "outputs": [],
   "source": []
  }
 ],
 "metadata": {
  "kernelspec": {
   "display_name": "aiffel",
   "language": "python",
   "name": "aiffel"
  },
  "language_info": {
   "codemirror_mode": {
    "name": "ipython",
    "version": 3
   },
   "file_extension": ".py",
   "mimetype": "text/x-python",
   "name": "python",
   "nbconvert_exporter": "python",
   "pygments_lexer": "ipython3",
   "version": "3.7.9"
  },
  "varInspector": {
   "cols": {
    "lenName": 16,
    "lenType": 16,
    "lenVar": 40
   },
   "kernels_config": {
    "python": {
     "delete_cmd_postfix": "",
     "delete_cmd_prefix": "del ",
     "library": "var_list.py",
     "varRefreshCmd": "print(var_dic_list())"
    },
    "r": {
     "delete_cmd_postfix": ") ",
     "delete_cmd_prefix": "rm(",
     "library": "var_list.r",
     "varRefreshCmd": "cat(var_dic_list()) "
    }
   },
   "types_to_exclude": [
    "module",
    "function",
    "builtin_function_or_method",
    "instance",
    "_Feature"
   ],
   "window_display": false
  }
 },
 "nbformat": 4,
 "nbformat_minor": 5
}
