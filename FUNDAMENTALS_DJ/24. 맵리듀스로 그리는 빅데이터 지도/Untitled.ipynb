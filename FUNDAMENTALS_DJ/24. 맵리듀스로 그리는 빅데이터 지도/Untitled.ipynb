{
 "cells": [
  {
   "cell_type": "markdown",
   "id": "naked-quantity",
   "metadata": {},
   "source": [
    "# 24-7. 함수, 파이썬의 1급 시민\n"
   ]
  },
  {
   "cell_type": "code",
   "execution_count": 1,
   "id": "unsigned-richards",
   "metadata": {
    "ExecuteTime": {
     "end_time": "2021-03-01T03:28:11.823083Z",
     "start_time": "2021-03-01T03:28:11.818541Z"
    }
   },
   "outputs": [
    {
     "name": "stdout",
     "output_type": "stream",
     "text": [
      "슝=3\n"
     ]
    }
   ],
   "source": [
    "#에러메세지를 출력하는 함수\n",
    "def errormessage(format_func, msg):\n",
    "    print(format_func(msg))\n",
    "\n",
    "#단어의 첫글자만 대문자로 만드는 함수\n",
    "def to_upper(msg):\n",
    "    t = msg.split(\" \")\n",
    "    T = []\n",
    "    for i in t:\n",
    "        i = i[0].upper() + i[1:]\n",
    "        T.append(i)\n",
    "    T = \" \".join(T)\n",
    "    return T\n",
    "\n",
    "print(\"슝=3\")"
   ]
  },
  {
   "cell_type": "code",
   "execution_count": 3,
   "id": "unusual-president",
   "metadata": {
    "ExecuteTime": {
     "end_time": "2021-03-01T03:28:45.388829Z",
     "start_time": "2021-03-01T03:28:45.386398Z"
    }
   },
   "outputs": [
    {
     "name": "stdout",
     "output_type": "stream",
     "text": [
      "You Have Limited Access\n"
     ]
    }
   ],
   "source": [
    "msg = \"you have limited access\"\n",
    "errormessage(to_upper, msg)"
   ]
  },
  {
   "cell_type": "code",
   "execution_count": 4,
   "id": "studied-system",
   "metadata": {
    "ExecuteTime": {
     "end_time": "2021-03-01T03:29:16.904323Z",
     "start_time": "2021-03-01T03:29:16.901111Z"
    }
   },
   "outputs": [
    {
     "name": "stdout",
     "output_type": "stream",
     "text": [
      "슝=3\n"
     ]
    }
   ],
   "source": [
    "def france():\n",
    "    print('bonjour')\n",
    "\n",
    "def italy():\n",
    "    print('ciao')\n",
    "\n",
    "print(\"슝=3\")"
   ]
  },
  {
   "cell_type": "code",
   "execution_count": 5,
   "id": "living-dependence",
   "metadata": {
    "ExecuteTime": {
     "end_time": "2021-03-01T03:29:32.407841Z",
     "start_time": "2021-03-01T03:29:32.405609Z"
    }
   },
   "outputs": [
    {
     "name": "stdout",
     "output_type": "stream",
     "text": [
      "<function france at 0x7f8904525680>\n"
     ]
    }
   ],
   "source": [
    "hello = france\n",
    "print(hello)"
   ]
  },
  {
   "cell_type": "code",
   "execution_count": 6,
   "id": "round-brake",
   "metadata": {
    "ExecuteTime": {
     "end_time": "2021-03-01T03:29:41.416969Z",
     "start_time": "2021-03-01T03:29:41.414312Z"
    }
   },
   "outputs": [
    {
     "name": "stdout",
     "output_type": "stream",
     "text": [
      "bonjour\n"
     ]
    }
   ],
   "source": [
    "hello()"
   ]
  },
  {
   "cell_type": "code",
   "execution_count": 7,
   "id": "featured-language",
   "metadata": {
    "ExecuteTime": {
     "end_time": "2021-03-01T03:29:48.488789Z",
     "start_time": "2021-03-01T03:29:48.486355Z"
    }
   },
   "outputs": [
    {
     "name": "stdout",
     "output_type": "stream",
     "text": [
      "<class 'function'>\n"
     ]
    }
   ],
   "source": [
    "print(type(hello))"
   ]
  },
  {
   "cell_type": "code",
   "execution_count": 8,
   "id": "velvet-rwanda",
   "metadata": {
    "ExecuteTime": {
     "end_time": "2021-03-01T03:29:55.001667Z",
     "start_time": "2021-03-01T03:29:54.999219Z"
    }
   },
   "outputs": [
    {
     "name": "stdout",
     "output_type": "stream",
     "text": [
      "슝=3\n"
     ]
    }
   ],
   "source": [
    "def func1(x):\n",
    "    return x**2\n",
    "\n",
    "def func2():\n",
    "    return func1\n",
    "\n",
    "print(\"슝=3\")"
   ]
  },
  {
   "cell_type": "code",
   "execution_count": 9,
   "id": "treated-participant",
   "metadata": {
    "ExecuteTime": {
     "end_time": "2021-03-01T03:29:58.625285Z",
     "start_time": "2021-03-01T03:29:58.622651Z"
    }
   },
   "outputs": [
    {
     "name": "stdout",
     "output_type": "stream",
     "text": [
      "9\n",
      "9\n"
     ]
    }
   ],
   "source": [
    "print(func1(3))\n",
    "print(func2()(3))"
   ]
  },
  {
   "cell_type": "markdown",
   "id": "essential-savage",
   "metadata": {
    "ExecuteTime": {
     "end_time": "2021-03-01T03:30:28.447474Z",
     "start_time": "2021-03-01T03:30:28.445755Z"
    }
   },
   "source": [
    "# 24-8. 함수형 프로그래밍과 맵리듀스"
   ]
  },
  {
   "cell_type": "code",
   "execution_count": 11,
   "id": "hundred-wallpaper",
   "metadata": {
    "ExecuteTime": {
     "end_time": "2021-03-01T03:31:31.072861Z",
     "start_time": "2021-03-01T03:31:31.069498Z"
    }
   },
   "outputs": [],
   "source": [
    "from collections import defaultdict\n",
    "\n",
    "text = \"\"\"I have a depression, and then there was a girl who came into \n",
    "my life. One day, my life was changed because that girl just changed my \n",
    "life. She taught me how to love and how to be an active person. \n",
    "And then, I feel so happy when I am always with her. \n",
    "I love her so much. I don't want let her go. I am sad because she \n",
    "is with her favorite friends. I will do anything to make her proud\"\"\"\n",
    "\n",
    "result = defaultdict(int)\n",
    "word = text.split()\n",
    "\n",
    "for i in word:\n",
    "    result[i] += 1"
   ]
  },
  {
   "cell_type": "code",
   "execution_count": 12,
   "id": "active-racing",
   "metadata": {
    "ExecuteTime": {
     "end_time": "2021-03-01T03:32:12.717652Z",
     "start_time": "2021-03-01T03:32:12.707416Z"
    }
   },
   "outputs": [
    {
     "data": {
      "text/plain": [
       "2"
      ]
     },
     "execution_count": 12,
     "metadata": {},
     "output_type": "execute_result"
    }
   ],
   "source": [
    "result['girl']"
   ]
  },
  {
   "cell_type": "code",
   "execution_count": 13,
   "id": "dominant-hostel",
   "metadata": {
    "ExecuteTime": {
     "end_time": "2021-03-01T03:33:11.098415Z",
     "start_time": "2021-03-01T03:33:11.095102Z"
    }
   },
   "outputs": [
    {
     "name": "stdout",
     "output_type": "stream",
     "text": [
      "[1, 2, 3, 4]\n",
      "[1, 4, 9, 16]\n"
     ]
    }
   ],
   "source": [
    "mynum = ['1','2','3','4']\n",
    "mynum_int = list(map(int, mynum))  # mynum의 각 원소에 int 함수를 적용\n",
    "print(mynum_int)\n",
    "\n",
    "mynum_square = list(map(lambda x : x*x, mynum_int))  # mynum_int의 각 원소 x에 lambda x : x*x 함수를 적용\n",
    "print(mynum_square)"
   ]
  },
  {
   "cell_type": "code",
   "execution_count": 16,
   "id": "embedded-stupid",
   "metadata": {
    "ExecuteTime": {
     "end_time": "2021-03-01T03:34:15.252388Z",
     "start_time": "2021-03-01T03:34:15.249566Z"
    }
   },
   "outputs": [
    {
     "name": "stdout",
     "output_type": "stream",
     "text": [
      "[1, 2, 3, 4]\n"
     ]
    }
   ],
   "source": [
    "mynum = range(-5, 5)  \n",
    "mynum_plus = list(filter(lambda x: x > 0, mynum)) # mynum의 각 원소 x에 대해 lambda x: x > 0 인지 체크하는 필터를 적용\n",
    "print(mynum_plus)"
   ]
  },
  {
   "cell_type": "code",
   "execution_count": 17,
   "id": "nervous-colonial",
   "metadata": {
    "ExecuteTime": {
     "end_time": "2021-03-01T03:34:30.266899Z",
     "start_time": "2021-03-01T03:34:30.264296Z"
    }
   },
   "outputs": [
    {
     "name": "stdout",
     "output_type": "stream",
     "text": [
      "[False, False, False, False, False, False, True, True, True, True]\n"
     ]
    }
   ],
   "source": [
    "mynum = range(-5, 5)  \n",
    "mynum_plus = list(map(lambda x: x > 0, mynum)) # mynum의 각 원소 x에 대해 lambda x: x > 0 인지 체크하는 필터를 적용\n",
    "print(mynum_plus)"
   ]
  },
  {
   "cell_type": "code",
   "execution_count": 18,
   "id": "responsible-somewhere",
   "metadata": {
    "ExecuteTime": {
     "end_time": "2021-03-01T03:34:55.921134Z",
     "start_time": "2021-03-01T03:34:55.918227Z"
    }
   },
   "outputs": [
    {
     "name": "stdout",
     "output_type": "stream",
     "text": [
      "15\n"
     ]
    }
   ],
   "source": [
    "from functools import reduce\n",
    "mynum = [1, 2, 3, 4, 5]\n",
    "add = reduce((lambda x, y: x + y), mynum)  # reduce는 내부에 관리하는 x 변수에 mynum의 각 원소 y를 차례차례 더하여 x에 반영한다.\n",
    "\n",
    "print(add)"
   ]
  },
  {
   "cell_type": "markdown",
   "id": "applied-surname",
   "metadata": {},
   "source": [
    "# 24-9. 맵리듀스 예제\n"
   ]
  },
  {
   "cell_type": "code",
   "execution_count": 19,
   "id": "changing-wallpaper",
   "metadata": {
    "ExecuteTime": {
     "end_time": "2021-03-01T03:36:04.698866Z",
     "start_time": "2021-03-01T03:36:04.695383Z"
    }
   },
   "outputs": [
    {
     "name": "stdout",
     "output_type": "stream",
     "text": [
      "슝=3\n"
     ]
    }
   ],
   "source": [
    "#input data\n",
    "text = 'hello python'\n",
    "\n",
    "def mapper(text):\n",
    "    split = []\n",
    "    for i in text:\n",
    "        split.append((i, 1))\n",
    "    return split\n",
    "\n",
    "print(\"슝=3\")"
   ]
  },
  {
   "cell_type": "code",
   "execution_count": 20,
   "id": "strange-stuart",
   "metadata": {
    "ExecuteTime": {
     "end_time": "2021-03-01T03:36:09.530745Z",
     "start_time": "2021-03-01T03:36:09.526891Z"
    }
   },
   "outputs": [
    {
     "name": "stdout",
     "output_type": "stream",
     "text": [
      "슝=3\n"
     ]
    }
   ],
   "source": [
    "def reducer(split):\n",
    "    out = {}\n",
    "    for i in split:\n",
    "        if i[0] not in out.keys():\n",
    "            out[i[0]] = 1\n",
    "        else:\n",
    "            out[i[0]] += 1\n",
    "    return out\n",
    "\n",
    "print(\"슝=3\")"
   ]
  },
  {
   "cell_type": "code",
   "execution_count": 22,
   "id": "liable-credits",
   "metadata": {
    "ExecuteTime": {
     "end_time": "2021-03-01T03:37:43.293205Z",
     "start_time": "2021-03-01T03:37:43.289212Z"
    }
   },
   "outputs": [
    {
     "data": {
      "text/plain": [
       "[('h', 1),\n",
       " ('e', 1),\n",
       " ('l', 1),\n",
       " ('l', 1),\n",
       " ('o', 1),\n",
       " (' ', 1),\n",
       " ('p', 1),\n",
       " ('y', 1),\n",
       " ('t', 1),\n",
       " ('h', 1),\n",
       " ('o', 1),\n",
       " ('n', 1)]"
      ]
     },
     "execution_count": 22,
     "metadata": {},
     "output_type": "execute_result"
    }
   ],
   "source": [
    "mapper(text)"
   ]
  },
  {
   "cell_type": "code",
   "execution_count": 21,
   "id": "geological-defense",
   "metadata": {
    "ExecuteTime": {
     "end_time": "2021-03-01T03:36:17.032958Z",
     "start_time": "2021-03-01T03:36:17.029992Z"
    }
   },
   "outputs": [
    {
     "data": {
      "text/plain": [
       "{'h': 2, 'e': 1, 'l': 2, 'o': 2, ' ': 1, 'p': 1, 'y': 1, 't': 1, 'n': 1}"
      ]
     },
     "execution_count": 21,
     "metadata": {},
     "output_type": "execute_result"
    }
   ],
   "source": [
    "reducer(mapper(text))"
   ]
  },
  {
   "cell_type": "code",
   "execution_count": null,
   "id": "fleet-palestine",
   "metadata": {},
   "outputs": [],
   "source": []
  }
 ],
 "metadata": {
  "kernelspec": {
   "display_name": "aiffel",
   "language": "python",
   "name": "aiffel"
  },
  "language_info": {
   "codemirror_mode": {
    "name": "ipython",
    "version": 3
   },
   "file_extension": ".py",
   "mimetype": "text/x-python",
   "name": "python",
   "nbconvert_exporter": "python",
   "pygments_lexer": "ipython3",
   "version": "3.7.9"
  },
  "varInspector": {
   "cols": {
    "lenName": 16,
    "lenType": 16,
    "lenVar": 40
   },
   "kernels_config": {
    "python": {
     "delete_cmd_postfix": "",
     "delete_cmd_prefix": "del ",
     "library": "var_list.py",
     "varRefreshCmd": "print(var_dic_list())"
    },
    "r": {
     "delete_cmd_postfix": ") ",
     "delete_cmd_prefix": "rm(",
     "library": "var_list.r",
     "varRefreshCmd": "cat(var_dic_list()) "
    }
   },
   "types_to_exclude": [
    "module",
    "function",
    "builtin_function_or_method",
    "instance",
    "_Feature"
   ],
   "window_display": false
  }
 },
 "nbformat": 4,
 "nbformat_minor": 5
}
