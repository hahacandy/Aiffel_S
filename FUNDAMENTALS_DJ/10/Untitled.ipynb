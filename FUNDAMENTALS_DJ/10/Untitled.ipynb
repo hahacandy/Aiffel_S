{
 "cells": [
  {
   "cell_type": "code",
   "execution_count": null,
   "metadata": {},
   "outputs": [],
   "source": [
    "class FunnyDice:\n",
    "    def __init__(self, n=6):\n",
    "        self.n = int(n)\n",
    "        self.numbers = list(range(1, n+1))\n",
    "        self.index = randrange(0, self.n)\n",
    "        self.val = self.numbers[self.index]\n",
    "​\n",
    "    def throw(self):\n",
    "        self.index = randrange(0, self.n)\n",
    "        self.val = self.numbers[self.index]\n",
    "​\n",
    "    def getval(self):\n",
    "        return self.val\n",
    "​\n",
    "    def setval(self, val):\n",
    "        if val <= self.n:\n",
    "            self.val = val\n",
    "        else:\n",
    "            print(\"주사위에 없는 숫자입니다. 주사위는 1 ~ {0}까지 있습니다. \".format(self.n))\n",
    "            raise error."
   ]
  }
 ],
 "metadata": {
  "kernelspec": {
   "display_name": "aiffel",
   "language": "python",
   "name": "aiffel"
  },
  "language_info": {
   "codemirror_mode": {
    "name": "ipython",
    "version": 3
   },
   "file_extension": ".py",
   "mimetype": "text/x-python",
   "name": "python",
   "nbconvert_exporter": "python",
   "pygments_lexer": "ipython3",
   "version": "3.8.5"
  }
 },
 "nbformat": 4,
 "nbformat_minor": 4
}
