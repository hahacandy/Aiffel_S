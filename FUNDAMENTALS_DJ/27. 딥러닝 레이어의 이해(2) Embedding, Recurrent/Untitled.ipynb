{
 "cells": [
  {
   "cell_type": "markdown",
   "id": "quarterly-aircraft",
   "metadata": {},
   "source": [
    "# 27-3. 단어를 부탁해! Embedding 레이어"
   ]
  },
  {
   "cell_type": "code",
   "execution_count": 1,
   "id": "lucky-hurricane",
   "metadata": {
    "ExecuteTime": {
     "end_time": "2021-03-08T01:21:54.051249Z",
     "start_time": "2021-03-08T01:21:51.283622Z"
    }
   },
   "outputs": [
    {
     "name": "stdout",
     "output_type": "stream",
     "text": [
      "[[1. 0. 0. 0. 0. 0. 0. 0.]\n",
      " [1. 0. 0. 0. 0. 0. 0. 0.]\n",
      " [1. 0. 0. 0. 0. 0. 0. 0.]\n",
      " [1. 0. 0. 0. 0. 0. 0. 0.]\n",
      " [0. 1. 0. 0. 0. 0. 0. 0.]\n",
      " [0. 0. 1. 0. 0. 0. 0. 0.]\n",
      " [0. 0. 0. 1. 0. 0. 0. 0.]\n",
      " [0. 0. 0. 0. 1. 0. 0. 0.]\n",
      " [0. 0. 0. 0. 1. 0. 0. 0.]\n",
      " [0. 0. 0. 0. 1. 0. 0. 0.]]\n"
     ]
    }
   ],
   "source": [
    "import tensorflow as tf\n",
    "\n",
    "vocab = {      # 사용할 단어 사전 정의\n",
    "    \"i\": 0,\n",
    "    \"need\": 1,\n",
    "    \"some\": 2,\n",
    "    \"more\": 3,\n",
    "    \"coffee\": 4,\n",
    "    \"cake\": 5,\n",
    "    \"cat\": 6,\n",
    "    \"dog\": 7\n",
    "}\n",
    "\n",
    "sentence = \"i i i i need some more coffee coffee coffee\"\n",
    "# 위 sentence\n",
    "_input = [vocab[w] for w in sentence.split()]  # [0, 0, 0, 0, 1, 2, 3, 4, 4, 4]\n",
    "\n",
    "vocab_size = len(vocab)   # 8\n",
    "\n",
    "one_hot = tf.one_hot(_input, vocab_size)\n",
    "print(one_hot.numpy())    # 원-핫 인코딩 벡터를 출력해 봅시다."
   ]
  },
  {
   "cell_type": "code",
   "execution_count": 10,
   "id": "biological-dominican",
   "metadata": {
    "ExecuteTime": {
     "end_time": "2021-03-08T02:06:06.275017Z",
     "start_time": "2021-03-08T02:06:06.251564Z"
    }
   },
   "outputs": [
    {
     "name": "stdout",
     "output_type": "stream",
     "text": [
      "Linear Weight\n",
      "[[-0.7546677  -0.23043597]\n",
      " [ 0.6696092   0.37902546]\n",
      " [ 0.6259364  -0.17698807]\n",
      " [ 0.6569084  -0.10769773]\n",
      " [ 0.244071   -0.24727607]\n",
      " [ 0.1021173  -0.13226104]\n",
      " [-0.700954   -0.24030071]\n",
      " [ 0.6669464  -0.36748588]]\n",
      "\n",
      "One-Hot Linear Result\n",
      "[[-0.7546677  -0.23043597]\n",
      " [-0.7546677  -0.23043597]\n",
      " [-0.7546677  -0.23043597]\n",
      " [-0.7546677  -0.23043597]\n",
      " [ 0.6696092   0.37902546]\n",
      " [ 0.6259364  -0.17698807]\n",
      " [ 0.6569084  -0.10769773]\n",
      " [ 0.244071   -0.24727607]\n",
      " [ 0.244071   -0.24727607]\n",
      " [ 0.244071   -0.24727607]]\n"
     ]
    }
   ],
   "source": [
    "distribution_size = 2   # 보기 좋게 2차원으로 분산 표현하도록 하죠!\n",
    "linear = tf.keras.layers.Dense(units=distribution_size, use_bias=False)\n",
    "one_hot_linear = linear(one_hot)\n",
    "\n",
    "print(\"Linear Weight\")\n",
    "print(linear.weights[0].numpy())\n",
    "\n",
    "print(\"\\nOne-Hot Linear Result\")\n",
    "print(one_hot_linear.numpy())"
   ]
  },
  {
   "cell_type": "code",
   "execution_count": 3,
   "id": "sustainable-behavior",
   "metadata": {
    "ExecuteTime": {
     "end_time": "2021-03-08T01:29:55.464271Z",
     "start_time": "2021-03-08T01:29:55.444475Z"
    }
   },
   "outputs": [
    {
     "name": "stdout",
     "output_type": "stream",
     "text": [
      "Embedding을 진행할 문장: (1, 3)\n",
      "Embedding된 문장: (1, 3, 100)\n",
      "Embedding Layer의 Weight 형태: (64, 100)\n"
     ]
    }
   ],
   "source": [
    "some_words = tf.constant([[3, 57, 35]])\n",
    "# 3번 단어 / 57번 단어 / 35번 단어로 이루어진 한 문장입니다.\n",
    "\n",
    "print(\"Embedding을 진행할 문장:\", some_words.shape)\n",
    "embedding_layer = tf.keras.layers.Embedding(input_dim=64, output_dim=100)\n",
    "# 총 64개의 단어를 포함한 Embedding 레이어를 선언할 것이고,\n",
    "# 각 단어는 100차원으로 분산표현 할 것입니다.\n",
    "\n",
    "print(\"Embedding된 문장:\", embedding_layer(some_words).shape)\n",
    "print(\"Embedding Layer의 Weight 형태:\", embedding_layer.weights[0].shape)"
   ]
  },
  {
   "cell_type": "code",
   "execution_count": 4,
   "id": "advised-atlanta",
   "metadata": {
    "ExecuteTime": {
     "end_time": "2021-03-08T01:32:32.085452Z",
     "start_time": "2021-03-08T01:32:32.067964Z"
    }
   },
   "outputs": [
    {
     "data": {
      "text/plain": [
       "<tf.Tensor: shape=(1, 3, 100), dtype=float32, numpy=\n",
       "array([[[ 0.00883355, -0.00491328, -0.02251196,  0.01726493,\n",
       "         -0.04897932, -0.02812042,  0.01210647,  0.03227736,\n",
       "          0.02432564, -0.04802084,  0.03534104, -0.04256457,\n",
       "         -0.00923888, -0.02487549, -0.00328196,  0.04450499,\n",
       "          0.03403813, -0.04767294, -0.01589248,  0.00901262,\n",
       "         -0.03344253, -0.00035727,  0.00227337,  0.04918844,\n",
       "          0.00932386,  0.02314425, -0.03047131,  0.04677633,\n",
       "         -0.02858076,  0.02105156, -0.03378006, -0.00578592,\n",
       "         -0.02198979, -0.03392173, -0.02319679, -0.044951  ,\n",
       "         -0.02640517,  0.013257  , -0.00931934, -0.02132598,\n",
       "         -0.04293754, -0.02111131,  0.0472474 , -0.01335049,\n",
       "         -0.00907077, -0.04229465, -0.02538912, -0.01100662,\n",
       "         -0.03146677, -0.02178895,  0.03941271,  0.01298464,\n",
       "         -0.01810247, -0.02786338,  0.04883492, -0.0239886 ,\n",
       "         -0.03256372,  0.0267308 , -0.03397596, -0.0168177 ,\n",
       "         -0.04393515, -0.04483638,  0.02921348, -0.01203204,\n",
       "          0.02923666,  0.0199463 , -0.04443673, -0.02001226,\n",
       "          0.02520419,  0.03009495, -0.02856301,  0.02640163,\n",
       "         -0.03241541,  0.00502645,  0.00592979,  0.04204676,\n",
       "         -0.04955156, -0.01643684,  0.00673015, -0.00113829,\n",
       "          0.02431797,  0.04036243,  0.00862915,  0.01132162,\n",
       "         -0.0326192 , -0.02648429,  0.02371574, -0.00847899,\n",
       "          0.04937975,  0.04340199,  0.01047826,  0.02186741,\n",
       "          0.00633742,  0.00194011,  0.03081567,  0.01818148,\n",
       "         -0.02446373, -0.02177696,  0.02977088,  0.04857603],\n",
       "        [-0.03711474,  0.03264332,  0.04055152, -0.03975221,\n",
       "         -0.02780122, -0.04783573, -0.01703212, -0.01274116,\n",
       "         -0.04468663,  0.00934916, -0.00236368, -0.00784353,\n",
       "          0.04128711, -0.00607102, -0.02837603, -0.01262749,\n",
       "          0.01475166, -0.0304655 , -0.04330623, -0.00468595,\n",
       "         -0.03961123, -0.04741449,  0.00541929,  0.02819112,\n",
       "         -0.04824224,  0.00359226, -0.04925531,  0.03337577,\n",
       "         -0.03747253,  0.00274009, -0.04784305, -0.03862982,\n",
       "          0.03462071, -0.03697141, -0.01692034, -0.03729321,\n",
       "          0.04593599,  0.00782638, -0.021114  ,  0.03809787,\n",
       "         -0.04169521,  0.04316247, -0.0346855 , -0.0412664 ,\n",
       "          0.01658498, -0.0273861 , -0.03912442,  0.03297133,\n",
       "          0.00345575, -0.02464967, -0.00025212, -0.02064142,\n",
       "         -0.02580876, -0.0122443 , -0.03005302,  0.00095973,\n",
       "          0.04452877, -0.02572433,  0.00148386, -0.0257808 ,\n",
       "         -0.02170442, -0.01422136, -0.01640021,  0.04385159,\n",
       "          0.03568343,  0.03942745, -0.0406828 ,  0.043322  ,\n",
       "         -0.03247072,  0.02075397,  0.0011338 , -0.01496927,\n",
       "         -0.04755158, -0.02728117,  0.0139989 , -0.00312452,\n",
       "          0.02500738, -0.00185348, -0.02982764, -0.00535443,\n",
       "         -0.00471282, -0.01719707,  0.00630343, -0.03509183,\n",
       "         -0.04367564,  0.01865411, -0.04598259, -0.01703621,\n",
       "         -0.02168008,  0.04738808, -0.03522918, -0.02682062,\n",
       "          0.03609874,  0.03107927, -0.03887346,  0.04045025,\n",
       "         -0.01928133,  0.00015831, -0.0259448 ,  0.00999828],\n",
       "        [ 0.02513039,  0.03354027,  0.03149999,  0.04430107,\n",
       "         -0.03410727, -0.00863785,  0.04003893, -0.03501641,\n",
       "         -0.01699249,  0.0362113 ,  0.00032613, -0.02378151,\n",
       "         -0.00337731,  0.03262229,  0.03776828,  0.02762231,\n",
       "          0.01105945, -0.0258639 ,  0.01817347,  0.03287442,\n",
       "          0.00456329,  0.03043954, -0.03844149, -0.01983354,\n",
       "         -0.03966846, -0.03899901,  0.01083679,  0.02390656,\n",
       "          0.04600712, -0.04171028, -0.02972782, -0.04014804,\n",
       "         -0.02748971, -0.04090308, -0.03573756,  0.01223837,\n",
       "          0.01698235,  0.04019853,  0.02779745,  0.02890399,\n",
       "          0.00053027, -0.02556126,  0.03787548,  0.00844194,\n",
       "          0.0330197 ,  0.03856089,  0.02016732,  0.02462849,\n",
       "         -0.03232525,  0.01144831, -0.036983  , -0.03409057,\n",
       "         -0.0277499 , -0.03270783,  0.04879988, -0.03030827,\n",
       "          0.03701723, -0.04344688, -0.04892039,  0.04395581,\n",
       "         -0.00996857,  0.02355391,  0.01498394, -0.04308785,\n",
       "         -0.04315269,  0.04766187, -0.03420113, -0.03733081,\n",
       "          0.02812384, -0.04716835, -0.03402944, -0.01369371,\n",
       "         -0.03445856, -0.00473787,  0.02124164,  0.01046558,\n",
       "          0.04259134,  0.01816083,  0.02816517, -0.01298597,\n",
       "          0.00593696, -0.04827759,  0.01568342, -0.0186125 ,\n",
       "         -0.03809539, -0.02411401, -0.02339203,  0.01825936,\n",
       "         -0.00756258, -0.0381052 ,  0.04682268, -0.01498808,\n",
       "          0.03731039, -0.0119807 ,  0.02174168,  0.00676382,\n",
       "         -0.01471053,  0.02742914, -0.02786121, -0.03502804]]],\n",
       "      dtype=float32)>"
      ]
     },
     "execution_count": 4,
     "metadata": {},
     "output_type": "execute_result"
    }
   ],
   "source": [
    "embedding_layer(some_words)"
   ]
  },
  {
   "cell_type": "markdown",
   "id": "cordless-violation",
   "metadata": {
    "ExecuteTime": {
     "end_time": "2021-03-08T02:11:33.560103Z",
     "start_time": "2021-03-08T02:11:33.554445Z"
    }
   },
   "source": [
    "# 27-4. 순차적인 데이터! Recurrent 레이어 (1) RNN"
   ]
  },
  {
   "cell_type": "code",
   "execution_count": 12,
   "id": "invisible-metadata",
   "metadata": {
    "ExecuteTime": {
     "end_time": "2021-03-08T02:15:03.932393Z",
     "start_time": "2021-03-08T02:15:03.873296Z"
    }
   },
   "outputs": [
    {
     "name": "stdout",
     "output_type": "stream",
     "text": [
      "RNN에 입력할 문장: What time is it ?\n",
      "Embedding을 위해 단어 매핑: [[2 3 0 1 4]]\n",
      "입력 문장 데이터 형태: (1, 5)\n",
      "\n",
      "Embedding 결과: (1, 5, 100)\n",
      "Embedding Layer의 Weight 형태: (5, 100)\n",
      "\n",
      "RNN 결과 (모든 Step Output): (1, 5, 64)\n",
      "RNN Layer의 Weight 형태: (100, 64)\n",
      "\n",
      "RNN 결과 (최종 Step Output): (1, 64)\n",
      "RNN Layer의 Weight 형태: (100, 64)\n"
     ]
    }
   ],
   "source": [
    "sentence = \"What time is it ?\"\n",
    "dic = {\n",
    "    \"is\": 0,\n",
    "    \"it\": 1,\n",
    "    \"What\": 2,\n",
    "    \"time\": 3,\n",
    "    \"?\": 4\n",
    "}\n",
    "\n",
    "print(\"RNN에 입력할 문장:\", sentence)\n",
    "\n",
    "sentence_tensor = tf.constant([[dic[word] for word in sentence.split()]])\n",
    "\n",
    "print(\"Embedding을 위해 단어 매핑:\", sentence_tensor.numpy())\n",
    "print(\"입력 문장 데이터 형태:\", sentence_tensor.shape)\n",
    "\n",
    "embedding_layer = tf.keras.layers.Embedding(input_dim=len(dic), output_dim=100)\n",
    "emb_out = embedding_layer(sentence_tensor)\n",
    "\n",
    "print(\"\\nEmbedding 결과:\", emb_out.shape)\n",
    "print(\"Embedding Layer의 Weight 형태:\", embedding_layer.weights[0].shape)\n",
    "\n",
    "rnn_seq_layer = \\\n",
    "tf.keras.layers.SimpleRNN(units=64, return_sequences=True, use_bias=False)\n",
    "rnn_seq_out = rnn_seq_layer(emb_out)\n",
    "\n",
    "print(\"\\nRNN 결과 (모든 Step Output):\", rnn_seq_out.shape)\n",
    "print(\"RNN Layer의 Weight 형태:\", rnn_seq_layer.weights[0].shape)\n",
    "\n",
    "rnn_fin_layer = tf.keras.layers.SimpleRNN(units=64, use_bias=False)\n",
    "rnn_fin_out = rnn_fin_layer(emb_out)\n",
    "\n",
    "print(\"\\nRNN 결과 (최종 Step Output):\", rnn_fin_out.shape)\n",
    "print(\"RNN Layer의 Weight 형태:\", rnn_fin_layer.weights[0].shape)"
   ]
  },
  {
   "cell_type": "code",
   "execution_count": 13,
   "id": "medical-columbus",
   "metadata": {
    "ExecuteTime": {
     "end_time": "2021-03-08T02:18:58.625329Z",
     "start_time": "2021-03-08T02:18:58.561960Z"
    }
   },
   "outputs": [
    {
     "name": "stdout",
     "output_type": "stream",
     "text": [
      "WARNING:tensorflow:Layer lstm will not use cuDNN kernel since it doesn't meet the cuDNN kernel criteria. It will use generic GPU kernel as fallback when running on GPU\n",
      "\n",
      "LSTM 결과 (모든 Step Output): (1, 5, 64)\n",
      "LSTM Layer의 Weight 형태: (100, 256)\n",
      "WARNING:tensorflow:Layer lstm_1 will not use cuDNN kernel since it doesn't meet the cuDNN kernel criteria. It will use generic GPU kernel as fallback when running on GPU\n",
      "\n",
      "LSTM 결과 (최종 Step Output): (1, 64)\n",
      "LSTM Layer의 Weight 형태: (100, 256)\n"
     ]
    }
   ],
   "source": [
    "lstm_seq_layer = tf.keras.layers.LSTM(units=64, return_sequences=True, use_bias=False)\n",
    "lstm_seq_out = lstm_seq_layer(emb_out)\n",
    "\n",
    "print(\"\\nLSTM 결과 (모든 Step Output):\", lstm_seq_out.shape)\n",
    "print(\"LSTM Layer의 Weight 형태:\", lstm_seq_layer.weights[0].shape)\n",
    "\n",
    "lstm_fin_layer = tf.keras.layers.LSTM(units=64, use_bias=False)\n",
    "lstm_fin_out = lstm_fin_layer(emb_out)\n",
    "\n",
    "print(\"\\nLSTM 결과 (최종 Step Output):\", lstm_fin_out.shape)\n",
    "print(\"LSTM Layer의 Weight 형태:\", lstm_fin_layer.weights[0].shape)"
   ]
  },
  {
   "cell_type": "markdown",
   "id": "adapted-latitude",
   "metadata": {},
   "source": [
    "# 27-5. 순차적인 데이터! Recurrent 레이어 (2) LSTM"
   ]
  },
  {
   "cell_type": "code",
   "execution_count": 14,
   "id": "previous-albert",
   "metadata": {
    "ExecuteTime": {
     "end_time": "2021-03-08T02:35:18.002842Z",
     "start_time": "2021-03-08T02:35:17.947776Z"
    }
   },
   "outputs": [
    {
     "name": "stdout",
     "output_type": "stream",
     "text": [
      "입력 문장 데이터 형태: (1, 5, 100)\n",
      "Bidirectional RNN 결과 (최종 Step Output): (1, 5, 128)\n"
     ]
    }
   ],
   "source": [
    "import tensorflow as tf\n",
    "\n",
    "sentence = \"What time is it ?\"\n",
    "dic = {\n",
    "    \"is\": 0,\n",
    "    \"it\": 1,\n",
    "    \"What\": 2,\n",
    "    \"time\": 3,\n",
    "    \"?\": 4\n",
    "}\n",
    "\n",
    "sentence_tensor = tf.constant([[dic[word] for word in sentence.split()]])\n",
    "\n",
    "embedding_layer = tf.keras.layers.Embedding(input_dim=len(dic), output_dim=100)\n",
    "emb_out = embedding_layer(sentence_tensor)\n",
    "\n",
    "print(\"입력 문장 데이터 형태:\", emb_out.shape)\n",
    "\n",
    "bi_rnn = \\\n",
    "tf.keras.layers.Bidirectional(\n",
    "    tf.keras.layers.SimpleRNN(units=64, use_bias=False, return_sequences=True)\n",
    ")\n",
    "bi_out = bi_rnn(emb_out)\n",
    "\n",
    "print(\"Bidirectional RNN 결과 (최종 Step Output):\", bi_out.shape)"
   ]
  },
  {
   "cell_type": "code",
   "execution_count": null,
   "id": "transparent-minneapolis",
   "metadata": {},
   "outputs": [],
   "source": []
  }
 ],
 "metadata": {
  "kernelspec": {
   "display_name": "aiffel",
   "language": "python",
   "name": "aiffel"
  },
  "language_info": {
   "codemirror_mode": {
    "name": "ipython",
    "version": 3
   },
   "file_extension": ".py",
   "mimetype": "text/x-python",
   "name": "python",
   "nbconvert_exporter": "python",
   "pygments_lexer": "ipython3",
   "version": "3.7.9"
  },
  "varInspector": {
   "cols": {
    "lenName": 16,
    "lenType": 16,
    "lenVar": 40
   },
   "kernels_config": {
    "python": {
     "delete_cmd_postfix": "",
     "delete_cmd_prefix": "del ",
     "library": "var_list.py",
     "varRefreshCmd": "print(var_dic_list())"
    },
    "r": {
     "delete_cmd_postfix": ") ",
     "delete_cmd_prefix": "rm(",
     "library": "var_list.r",
     "varRefreshCmd": "cat(var_dic_list()) "
    }
   },
   "types_to_exclude": [
    "module",
    "function",
    "builtin_function_or_method",
    "instance",
    "_Feature"
   ],
   "window_display": false
  }
 },
 "nbformat": 4,
 "nbformat_minor": 5
}
