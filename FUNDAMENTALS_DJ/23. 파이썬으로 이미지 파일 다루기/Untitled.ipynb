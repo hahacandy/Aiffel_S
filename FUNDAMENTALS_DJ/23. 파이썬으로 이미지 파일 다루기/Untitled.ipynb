{
 "cells": [
  {
   "cell_type": "markdown",
   "id": "handy-amateur",
   "metadata": {},
   "source": [
    "# 23-3. Pillow 사용법"
   ]
  },
  {
   "cell_type": "code",
   "execution_count": 1,
   "id": "republican-elite",
   "metadata": {
    "ExecuteTime": {
     "end_time": "2021-02-24T02:41:28.917491Z",
     "start_time": "2021-02-24T02:41:28.759633Z"
    }
   },
   "outputs": [],
   "source": [
    "import numpy as np\n",
    "from PIL import Image\n",
    "\n",
    "data = np.zeros([32, 32, 3], dtype=np.uint8)\n",
    "image = Image.fromarray(data, 'RGB')\n",
    "image.show()"
   ]
  },
  {
   "cell_type": "code",
   "execution_count": 2,
   "id": "productive-belle",
   "metadata": {
    "ExecuteTime": {
     "end_time": "2021-02-24T02:41:28.925728Z",
     "start_time": "2021-02-24T02:41:28.918900Z"
    }
   },
   "outputs": [],
   "source": [
    "data[:, :] = [255, 0, 0]\n",
    "image = Image.fromarray(data, 'RGB')\n",
    "image.show()"
   ]
  },
  {
   "cell_type": "code",
   "execution_count": 3,
   "id": "excited-photographer",
   "metadata": {
    "ExecuteTime": {
     "end_time": "2021-02-24T02:41:28.935695Z",
     "start_time": "2021-02-24T02:41:28.927631Z"
    }
   },
   "outputs": [],
   "source": [
    "data = np.zeros([128, 128, 3], dtype=np.uint8)\n",
    "data[:, :] = [255, 255, 255]\n",
    "image = Image.fromarray(data, 'RGB')\n",
    "image.show()"
   ]
  },
  {
   "cell_type": "code",
   "execution_count": 4,
   "id": "further-westminster",
   "metadata": {
    "ExecuteTime": {
     "end_time": "2021-02-24T02:41:29.012935Z",
     "start_time": "2021-02-24T02:41:28.937553Z"
    }
   },
   "outputs": [
    {
     "name": "stdout",
     "output_type": "stream",
     "text": [
      "620\n",
      "465\n"
     ]
    }
   ],
   "source": [
    "from PIL import Image\n",
    "import os\n",
    "\n",
    "# 연습용 파일 경로\n",
    "image_path = 'python_image_proc/pillow_practice.png'\n",
    "\n",
    "# 이미지 열기\n",
    "img = Image.open(image_path)\n",
    "img.show()\n",
    "\n",
    "# width와 height 출력\n",
    "print(img.width)\n",
    "print(img.height)\n",
    "\n",
    "# JPG 파일 형식으로 저장해보기\n",
    "new_image_path = 'python_image_proc/pillow_practice.jpg'\n",
    "img = img.convert('RGB')\n",
    "img.save(new_image_path)"
   ]
  },
  {
   "cell_type": "code",
   "execution_count": 5,
   "id": "inclusive-hartford",
   "metadata": {
    "ExecuteTime": {
     "end_time": "2021-02-24T02:41:29.027386Z",
     "start_time": "2021-02-24T02:41:29.014553Z"
    }
   },
   "outputs": [],
   "source": [
    "resized_image = img.resize((100,200))\n",
    "resized_image.show()\n",
    "\n",
    "resized_image_path = 'python_image_proc/pillow_practice_resized.png'\n",
    "resized_image.save(resized_image_path)"
   ]
  },
  {
   "cell_type": "code",
   "execution_count": 6,
   "id": "respiratory-weight",
   "metadata": {
    "ExecuteTime": {
     "end_time": "2021-02-24T02:41:29.083191Z",
     "start_time": "2021-02-24T02:41:29.030160Z"
    }
   },
   "outputs": [],
   "source": [
    "box = (300, 100, 600, 400)\n",
    "region = img.crop(box)\n",
    "region.show()\n",
    "\n",
    "cropped_image_path = 'python_image_proc/pillow_practice_cropped.png'\n",
    "region.save(cropped_image_path)"
   ]
  },
  {
   "cell_type": "markdown",
   "id": "indie-mountain",
   "metadata": {
    "ExecuteTime": {
     "end_time": "2021-02-24T01:13:12.052151Z",
     "start_time": "2021-02-24T01:13:12.050255Z"
    }
   },
   "source": [
    "# 23-4. Pillow를 활용한 데이터 전처리"
   ]
  },
  {
   "cell_type": "code",
   "execution_count": 7,
   "id": "moving-trade",
   "metadata": {
    "ExecuteTime": {
     "end_time": "2021-02-24T02:41:29.238364Z",
     "start_time": "2021-02-24T02:41:29.085038Z"
    }
   },
   "outputs": [
    {
     "name": "stdout",
     "output_type": "stream",
     "text": [
      "<class 'dict'>\n"
     ]
    }
   ],
   "source": [
    "import os\n",
    "import pickle\n",
    "\n",
    "dir_path = 'python_image_proc/cifar-100-python'\n",
    "train_file_path = os.path.join(dir_path, 'train')\n",
    "\n",
    "with open(train_file_path, 'rb') as f:\n",
    "    train = pickle.load(f, encoding='bytes')\n",
    "\n",
    "print(type(train))\n",
    "#print(train)   # 혹시 내용이 궁금하다면 주석을 풀고 실행해 보세요."
   ]
  },
  {
   "cell_type": "code",
   "execution_count": 8,
   "id": "steady-consent",
   "metadata": {
    "ExecuteTime": {
     "end_time": "2021-02-24T02:41:29.250027Z",
     "start_time": "2021-02-24T02:41:29.242232Z"
    }
   },
   "outputs": [
    {
     "data": {
      "text/plain": [
       "dict_keys([b'filenames', b'batch_label', b'fine_labels', b'coarse_labels', b'data'])"
      ]
     },
     "execution_count": 8,
     "metadata": {},
     "output_type": "execute_result"
    }
   ],
   "source": [
    "train.keys()"
   ]
  },
  {
   "cell_type": "code",
   "execution_count": 9,
   "id": "brazilian-alfred",
   "metadata": {
    "ExecuteTime": {
     "end_time": "2021-02-24T02:41:29.254887Z",
     "start_time": "2021-02-24T02:41:29.251771Z"
    }
   },
   "outputs": [
    {
     "data": {
      "text/plain": [
       "list"
      ]
     },
     "execution_count": 9,
     "metadata": {},
     "output_type": "execute_result"
    }
   ],
   "source": [
    "type(train[b'filenames'])"
   ]
  },
  {
   "cell_type": "code",
   "execution_count": 10,
   "id": "innovative-rough",
   "metadata": {
    "ExecuteTime": {
     "end_time": "2021-02-24T02:41:29.260663Z",
     "start_time": "2021-02-24T02:41:29.256581Z"
    }
   },
   "outputs": [
    {
     "data": {
      "text/plain": [
       "[b'bos_taurus_s_000507.png',\n",
       " b'stegosaurus_s_000125.png',\n",
       " b'mcintosh_s_000643.png',\n",
       " b'altar_boy_s_001435.png',\n",
       " b'cichlid_s_000031.png']"
      ]
     },
     "execution_count": 10,
     "metadata": {},
     "output_type": "execute_result"
    }
   ],
   "source": [
    "train[b'filenames'][0:5]"
   ]
  },
  {
   "cell_type": "code",
   "execution_count": 11,
   "id": "contained-custody",
   "metadata": {
    "ExecuteTime": {
     "end_time": "2021-02-24T02:41:29.267205Z",
     "start_time": "2021-02-24T02:41:29.262286Z"
    }
   },
   "outputs": [
    {
     "data": {
      "text/plain": [
       "array([[255, 255, 255, ...,  10,  59,  79],\n",
       "       [255, 253, 253, ..., 253, 253, 255],\n",
       "       [250, 248, 247, ..., 194, 207, 228],\n",
       "       [124, 131, 135, ..., 232, 236, 231],\n",
       "       [ 43,  32,  87, ...,  60,  29,  37]], dtype=uint8)"
      ]
     },
     "execution_count": 11,
     "metadata": {},
     "output_type": "execute_result"
    }
   ],
   "source": [
    "train[b'data'][0:5]"
   ]
  },
  {
   "cell_type": "code",
   "execution_count": 12,
   "id": "bearing-wilderness",
   "metadata": {
    "ExecuteTime": {
     "end_time": "2021-02-24T02:41:29.273819Z",
     "start_time": "2021-02-24T02:41:29.269916Z"
    }
   },
   "outputs": [
    {
     "data": {
      "text/plain": [
       "(3072,)"
      ]
     },
     "execution_count": 12,
     "metadata": {},
     "output_type": "execute_result"
    }
   ],
   "source": [
    "train[b'data'][0].shape"
   ]
  },
  {
   "cell_type": "code",
   "execution_count": 13,
   "id": "bacterial-folks",
   "metadata": {
    "ExecuteTime": {
     "end_time": "2021-02-24T02:41:29.290933Z",
     "start_time": "2021-02-24T02:41:29.275260Z"
    }
   },
   "outputs": [],
   "source": [
    "image_data = train[b'data'][0].reshape([32, 32, 3], order='F')   # order를 주의하세요!!\n",
    "image = Image.fromarray(image_data)    # Pillow를 사용하여 Numpy 배열을 Image객체로 만들어서\n",
    "image.show()    # 화면에 띄워 봅시다!!"
   ]
  },
  {
   "cell_type": "code",
   "execution_count": 14,
   "id": "chemical-steel",
   "metadata": {
    "ExecuteTime": {
     "end_time": "2021-02-24T02:41:29.306581Z",
     "start_time": "2021-02-24T02:41:29.292976Z"
    }
   },
   "outputs": [],
   "source": [
    "image_data = image_data.swapaxes(0, 1)\n",
    "image = Image.fromarray(image_data)\n",
    "image.show()"
   ]
  },
  {
   "cell_type": "code",
   "execution_count": 15,
   "id": "environmental-steering",
   "metadata": {
    "ExecuteTime": {
     "end_time": "2021-02-24T02:41:44.024191Z",
     "start_time": "2021-02-24T02:41:29.308300Z"
    }
   },
   "outputs": [
    {
     "name": "stderr",
     "output_type": "stream",
     "text": [
      "100%|██████████| 50000/50000 [00:14<00:00, 3436.89it/s]\n"
     ]
    }
   ],
   "source": [
    "import os\n",
    "import pickle\n",
    "from PIL import Image\n",
    "import numpy\n",
    "from tqdm import tqdm\n",
    "\n",
    "dir_path = 'python_image_proc/cifar-100-python'\n",
    "train_file_path = os.path.join(dir_path, 'train')\n",
    "\n",
    "# image를 저장할 cifar-100-python의 하위 디렉토리(images)를 생성합니다. \n",
    "images_dir_path = os.path.join(dir_path, 'images')\n",
    "if not os.path.exists(images_dir_path):\n",
    "    os.mkdir(images_dir_path)  # images 디렉토리 생성\n",
    "\n",
    "# 32X32의 이미지 파일 50000개를 생성합니다. \n",
    "with open(train_file_path, 'rb') as f:\n",
    "    train = pickle.load(f, encoding='bytes')\n",
    "    for i in tqdm(range(len(train[b'filenames']))):\n",
    "        filename = train[b'filenames'][i].decode()\n",
    "        data = train[b'data'][i].reshape([32, 32, 3], order='F')\n",
    "        image = Image.fromarray(data.swapaxes(0, 1))\n",
    "        image.save(os.path.join(images_dir_path, filename))"
   ]
  },
  {
   "cell_type": "code",
   "execution_count": 16,
   "id": "bridal-agreement",
   "metadata": {
    "ExecuteTime": {
     "end_time": "2021-02-24T02:41:52.855165Z",
     "start_time": "2021-02-24T02:41:44.026706Z"
    }
   },
   "outputs": [
    {
     "name": "stderr",
     "output_type": "stream",
     "text": [
      "100%|██████████| 50000000/50000000 [00:08<00:00, 5665918.43it/s]\n"
     ]
    }
   ],
   "source": [
    "for i in tqdm(range(50000000)):\n",
    "    pass\n"
   ]
  },
  {
   "cell_type": "markdown",
   "id": "hispanic-fireplace",
   "metadata": {},
   "source": [
    "# 23-5. OpenCV (1) 안녕, OpenCV"
   ]
  },
  {
   "cell_type": "code",
   "execution_count": 17,
   "id": "naval-ballot",
   "metadata": {
    "ExecuteTime": {
     "end_time": "2021-02-24T02:41:58.152322Z",
     "start_time": "2021-02-24T02:41:52.856335Z"
    }
   },
   "outputs": [],
   "source": [
    "import cv2 as cv\n",
    "import numpy as np\n",
    "\n",
    "cap = cv.VideoCapture(0)\n",
    "\n",
    "while(1):\n",
    "\n",
    "    # Take each frame\n",
    "    _, frame = cap.read()\n",
    "\n",
    "    # Convert BGR to HSV\n",
    "    hsv = cv.cvtColor(frame, cv.COLOR_BGR2HSV)\n",
    "\n",
    "    # define range of blue color in HSV\n",
    "    lower_blue = np.array([110,50,50])\n",
    "    upper_blue = np.array([130,255,255])\n",
    "\n",
    "    # Threshold the HSV image to get only blue colors\n",
    "    mask = cv.inRange(hsv, lower_blue, upper_blue)\n",
    "\n",
    "    # Bitwise-AND mask and original image\n",
    "    res = cv.bitwise_and(frame,frame, mask= mask)\n",
    "    cv.imshow('frame',frame)\n",
    "    cv.imshow('mask',mask)\n",
    "    cv.imshow('res',res)\n",
    "    k = cv.waitKey(5) & 0xFF\n",
    "    if k == 27:\n",
    "        break\n",
    "\n",
    "cv.destroyAllWindows()\n",
    "cap.release()"
   ]
  },
  {
   "cell_type": "markdown",
   "id": "scientific-teens",
   "metadata": {},
   "source": [
    "# 23-6. OpenCV (2) 톺아보기"
   ]
  },
  {
   "cell_type": "markdown",
   "id": "steady-thong",
   "metadata": {
    "ExecuteTime": {
     "end_time": "2021-02-24T02:02:36.641926Z",
     "start_time": "2021-02-24T02:02:36.638657Z"
    }
   },
   "source": [
    "Q1. & 0xFF는 어떤 역할을 하는 코드일까요?   \n",
    "   \n",
    "넘버락 키가 눌러져있을때 waitKey을 사용하면    \n",
    "원래는 99 = 1100011 이렇게 나와야하는데   \n",
    "1048675 = 100000000000001100011   \n",
    "이런식으로 나와버리니까 & ff (0b11111111 )을 써서    \n",
    "1100011 = 99를 구함 99가 esc키 의 번호   "
   ]
  },
  {
   "cell_type": "markdown",
   "id": "liked-occasion",
   "metadata": {
    "ExecuteTime": {
     "end_time": "2021-02-24T02:06:12.087203Z",
     "start_time": "2021-02-24T02:06:12.085225Z"
    }
   },
   "source": [
    "# 23-7. 실습 : 비슷한 이미지 찾아내기"
   ]
  },
  {
   "cell_type": "code",
   "execution_count": 18,
   "id": "atmospheric-thriller",
   "metadata": {
    "ExecuteTime": {
     "end_time": "2021-02-24T02:41:58.324745Z",
     "start_time": "2021-02-24T02:41:58.153481Z"
    }
   },
   "outputs": [],
   "source": [
    "import os\n",
    "import pickle\n",
    "import cv2\n",
    "import numpy as np\n",
    "from matplotlib import pyplot as plt\n",
    "from tqdm import tqdm\n",
    "\n",
    "# 전처리 시 생성했던 디렉토리 구조\n",
    "dir_path = 'python_image_proc/cifar-100-python'\n",
    "train_file_path = os.path.join(dir_path, 'train')\n",
    "images_dir_path = os.path.join(dir_path, 'images')"
   ]
  },
  {
   "cell_type": "code",
   "execution_count": 19,
   "id": "honest-matrix",
   "metadata": {
    "ExecuteTime": {
     "end_time": "2021-02-24T02:41:58.330805Z",
     "start_time": "2021-02-24T02:41:58.326107Z"
    }
   },
   "outputs": [],
   "source": [
    "# 파일명을 인자로 받아 해당 이미지 파일과 히스토그램을 출력해 주는 함수\n",
    "def draw_color_histogram_from_image(file_name):\n",
    "    image_path = os.path.join(images_dir_path, file_name)\n",
    "    # 이미지 열기\n",
    "    img = Image.open(image_path)\n",
    "    cv_image = cv2.imread(image_path)\n",
    "\n",
    "    # Image와 Histogram 그려보기\n",
    "    f=plt.figure(figsize=(10,3))\n",
    "    im1 = f.add_subplot(1,2,1)\n",
    "    im1.imshow(img)\n",
    "    im1.set_title(\"Image\")\n",
    "\n",
    "    im2 = f.add_subplot(1,2,2)\n",
    "    color = ('b','g','r')\n",
    "    for i,col in enumerate(color):\n",
    "        # image에서 i번째 채널의 히스토그램을 뽑아서(0:blue, 1:green, 2:red)\n",
    "        histr = cv2.calcHist([cv_image],[i],None,[256],[0,256])   \n",
    "        im2.plot(histr,color = col)   # 그래프를 그릴 때 채널 색상과 맞춰서 그립니다.\n",
    "    im2.set_title(\"Histogram\")"
   ]
  },
  {
   "cell_type": "code",
   "execution_count": 20,
   "id": "demographic-deficit",
   "metadata": {
    "ExecuteTime": {
     "end_time": "2021-02-24T02:41:58.525529Z",
     "start_time": "2021-02-24T02:41:58.332306Z"
    }
   },
   "outputs": [
    {
     "data": {
      "image/png": "[encoded data removed]",
      "text/plain": [
       "<Figure size 720x216 with 2 Axes>"
      ]
     },
     "metadata": {
      "needs_background": "light"
     },
     "output_type": "display_data"
    }
   ],
   "source": [
    "draw_color_histogram_from_image('adriatic_s_001807.png')"
   ]
  },
  {
   "cell_type": "markdown",
   "id": "acoustic-massage",
   "metadata": {},
   "source": [
    "### 1개의 이미지를 입력하면 그와 비슷한 이미지 찾아보기"
   ]
  },
  {
   "cell_type": "code",
   "execution_count": 21,
   "id": "latin-surgery",
   "metadata": {
    "ExecuteTime": {
     "end_time": "2021-02-24T02:41:58.530168Z",
     "start_time": "2021-02-24T02:41:58.526828Z"
    }
   },
   "outputs": [],
   "source": [
    "def get_histogram(image):\n",
    "    histogram = []\n",
    "\n",
    "    # Create histograms per channels, in 4 bins each.\n",
    "    for i in range(3):\n",
    "        channel_histogram = cv2.calcHist(images=[image],\n",
    "                                         channels=[i],\n",
    "                                         mask=None,\n",
    "                                         histSize=[4],  # 히스토그램 구간을 4개로 한다.\n",
    "                                         ranges=[0, 256])\n",
    "        histogram.append(channel_histogram)  \n",
    "\n",
    "    histogram = np.concatenate(histogram)\n",
    "    #print(sum(histogram))\n",
    "    #print(histogram)\n",
    "    histogram = cv2.normalize(histogram, histogram)\n",
    "\n",
    "    return histogram"
   ]
  },
  {
   "cell_type": "code",
   "execution_count": 22,
   "id": "advisory-method",
   "metadata": {
    "ExecuteTime": {
     "end_time": "2021-02-24T02:41:58.536484Z",
     "start_time": "2021-02-24T02:41:58.531452Z"
    }
   },
   "outputs": [
    {
     "name": "stdout",
     "output_type": "stream",
     "text": [
      "(32, 32, 3)\n"
     ]
    },
    {
     "data": {
      "text/plain": [
       "array([[0.3126804 ],\n",
       "       [0.4080744 ],\n",
       "       [0.14521089],\n",
       "       [0.21940625],\n",
       "       [0.18654831],\n",
       "       [0.23742512],\n",
       "       [0.30208108],\n",
       "       [0.35931748],\n",
       "       [0.06465594],\n",
       "       [0.35825753],\n",
       "       [0.36991683],\n",
       "       [0.29254165]], dtype=float32)"
      ]
     },
     "execution_count": 22,
     "metadata": {},
     "output_type": "execute_result"
    }
   ],
   "source": [
    "# get_histogram() 확인용 코드\n",
    "filename = train[b'filenames'][0].decode()\n",
    "file_path = os.path.join(images_dir_path, filename)\n",
    "image = cv2.imread(file_path)\n",
    "print(image.shape)\n",
    "histogram = get_histogram(image)\n",
    "histogram"
   ]
  },
  {
   "cell_type": "code",
   "execution_count": 23,
   "id": "legislative-vegetation",
   "metadata": {
    "ExecuteTime": {
     "end_time": "2021-02-24T02:41:58.543040Z",
     "start_time": "2021-02-24T02:41:58.540031Z"
    }
   },
   "outputs": [],
   "source": [
    "def build_histogram_db():\n",
    "    histogram_db = {}\n",
    "\n",
    "    #디렉토리에 모아 둔 이미지 파일들을 전부 리스트업합니다. \n",
    "    path = images_dir_path\n",
    "    file_list = os.listdir(images_dir_path)\n",
    "\n",
    "    for file_name in tqdm(file_list):\n",
    "        file_path = os.path.join(images_dir_path, file_name)\n",
    "        image = cv2.imread(file_path)\n",
    "\n",
    "        histogram = get_histogram(image)\n",
    "\n",
    "        histogram_db[file_name] = histogram\n",
    "\n",
    "    return histogram_db"
   ]
  },
  {
   "cell_type": "code",
   "execution_count": 24,
   "id": "treated-biography",
   "metadata": {
    "ExecuteTime": {
     "end_time": "2021-02-24T02:42:03.796233Z",
     "start_time": "2021-02-24T02:41:58.545168Z"
    }
   },
   "outputs": [
    {
     "name": "stderr",
     "output_type": "stream",
     "text": [
      "100%|██████████| 49999/49999 [00:05<00:00, 9573.96it/s] \n"
     ]
    },
    {
     "data": {
      "text/plain": [
       "array([[0.        ],\n",
       "       [0.        ],\n",
       "       [0.29744893],\n",
       "       [0.5828624 ],\n",
       "       [0.        ],\n",
       "       [0.17107612],\n",
       "       [0.41608465],\n",
       "       [0.29315054],\n",
       "       [0.        ],\n",
       "       [0.34301192],\n",
       "       [0.37224102],\n",
       "       [0.16505837]], dtype=float32)"
      ]
     },
     "execution_count": 24,
     "metadata": {},
     "output_type": "execute_result"
    }
   ],
   "source": [
    "histogram_db = build_histogram_db()\n",
    "histogram_db['adriatic_s_001807.png']"
   ]
  },
  {
   "cell_type": "code",
   "execution_count": 25,
   "id": "architectural-enough",
   "metadata": {
    "ExecuteTime": {
     "end_time": "2021-02-24T02:42:03.799303Z",
     "start_time": "2021-02-24T02:42:03.797230Z"
    }
   },
   "outputs": [],
   "source": [
    "def get_target_histogram():\n",
    "    filename = input(\"이미지 파일명을 입력하세요: \")\n",
    "    if filename not in histogram_db:\n",
    "        print('유효하지 않은 이미지 파일명입니다.')\n",
    "        return None\n",
    "    return histogram_db[filename]"
   ]
  },
  {
   "cell_type": "code",
   "execution_count": 26,
   "id": "measured-tension",
   "metadata": {
    "ExecuteTime": {
     "end_time": "2021-02-24T02:42:37.719715Z",
     "start_time": "2021-02-24T02:42:03.800217Z"
    }
   },
   "outputs": [
    {
     "name": "stdout",
     "output_type": "stream",
     "text": [
      "이미지 파일명을 입력하세요: abel_s_000096.png\n"
     ]
    },
    {
     "data": {
      "text/plain": [
       "array([[0.17585792],\n",
       "       [0.409982  ],\n",
       "       [0.2743807 ],\n",
       "       [0.22458962],\n",
       "       [0.12076989],\n",
       "       [0.43328848],\n",
       "       [0.31569675],\n",
       "       [0.21505515],\n",
       "       [0.15255144],\n",
       "       [0.36125028],\n",
       "       [0.35701275],\n",
       "       [0.21399577]], dtype=float32)"
      ]
     },
     "execution_count": 26,
     "metadata": {},
     "output_type": "execute_result"
    }
   ],
   "source": [
    "target_histogram = get_target_histogram()\n",
    "target_histogram"
   ]
  },
  {
   "cell_type": "markdown",
   "id": "mediterranean-collins",
   "metadata": {},
   "source": [
    "abel_s_000096.png"
   ]
  },
  {
   "cell_type": "code",
   "execution_count": 29,
   "id": "collected-thompson",
   "metadata": {
    "ExecuteTime": {
     "end_time": "2021-02-24T02:42:59.266846Z",
     "start_time": "2021-02-24T02:42:59.262468Z"
    }
   },
   "outputs": [],
   "source": [
    "def search(histogram_db, target_histogram, top_k=5):\n",
    "    results = {}\n",
    "\n",
    "    # Calculate similarity distance by comparing histograms.\n",
    "    for file_name, histogram in tqdm(histogram_db.items()):\n",
    "        distance = cv2.compareHist(H1=target_histogram,\n",
    "                                   H2=histogram,\n",
    "                                   method=cv2.HISTCMP_CHISQR)\n",
    "\n",
    "        results[file_name] = distance\n",
    "\n",
    "    results = dict(sorted(results.items(), key=lambda item: item[1])[:top_k])\n",
    "\n",
    "    return results"
   ]
  },
  {
   "cell_type": "code",
   "execution_count": 30,
   "id": "thousand-rolling",
   "metadata": {
    "ExecuteTime": {
     "end_time": "2021-02-24T02:44:10.798442Z",
     "start_time": "2021-02-24T02:44:10.696513Z"
    }
   },
   "outputs": [
    {
     "name": "stderr",
     "output_type": "stream",
     "text": [
      "100%|██████████| 49999/49999 [00:00<00:00, 698429.05it/s]\n"
     ]
    },
    {
     "data": {
      "text/plain": [
       "{'abel_s_000096.png': 0.0,\n",
       " 'panthera_leo_s_000122.png': 0.02994796560572021,\n",
       " 'castor_fiber_s_000294.png': 0.03254914068899116,\n",
       " 'lizard_s_000210.png': 0.03331810610041964,\n",
       " 'possum_s_000097.png': 0.03441729766419806}"
      ]
     },
     "execution_count": 30,
     "metadata": {},
     "output_type": "execute_result"
    }
   ],
   "source": [
    "result = search(histogram_db, target_histogram)\n",
    "result"
   ]
  },
  {
   "cell_type": "code",
   "execution_count": 31,
   "id": "other-southeast",
   "metadata": {
    "ExecuteTime": {
     "end_time": "2021-02-24T02:45:25.968205Z",
     "start_time": "2021-02-24T02:45:25.964900Z"
    }
   },
   "outputs": [],
   "source": [
    "def show_result(result):\n",
    "    f=plt.figure(figsize=(10,3))\n",
    "    for idx, filename in enumerate(result.keys()):    \n",
    "        img_path = os.path.join(images_dir_path, filename)\n",
    "        im = f.add_subplot(1,len(result),idx+1)\n",
    "        img = Image.open(img_path)\n",
    "        im.imshow(img)"
   ]
  },
  {
   "cell_type": "code",
   "execution_count": 32,
   "id": "unauthorized-radical",
   "metadata": {
    "ExecuteTime": {
     "end_time": "2021-02-24T02:46:41.349663Z",
     "start_time": "2021-02-24T02:46:40.945252Z"
    }
   },
   "outputs": [
    {
     "data": {
      "image/png": "[encoded data removed]",
      "text/plain": [
       "<Figure size 720x216 with 5 Axes>"
      ]
     },
     "metadata": {
      "needs_background": "light"
     },
     "output_type": "display_data"
    }
   ],
   "source": [
    "show_result(result)"
   ]
  },
  {
   "cell_type": "code",
   "execution_count": null,
   "id": "least-dispatch",
   "metadata": {},
   "outputs": [],
   "source": []
  }
 ],
 "metadata": {
  "kernelspec": {
   "display_name": "aiffel",
   "language": "python",
   "name": "aiffel"
  },
  "language_info": {
   "codemirror_mode": {
    "name": "ipython",
    "version": 3
   },
   "file_extension": ".py",
   "mimetype": "text/x-python",
   "name": "python",
   "nbconvert_exporter": "python",
   "pygments_lexer": "ipython3",
   "version": "3.7.9"
  },
  "varInspector": {
   "cols": {
    "lenName": 16,
    "lenType": 16,
    "lenVar": 40
   },
   "kernels_config": {
    "python": {
     "delete_cmd_postfix": "",
     "delete_cmd_prefix": "del ",
     "library": "var_list.py",
     "varRefreshCmd": "print(var_dic_list())"
    },
    "r": {
     "delete_cmd_postfix": ") ",
     "delete_cmd_prefix": "rm(",
     "library": "var_list.r",
     "varRefreshCmd": "cat(var_dic_list()) "
    }
   },
   "types_to_exclude": [
    "module",
    "function",
    "builtin_function_or_method",
    "instance",
    "_Feature"
   ],
   "window_display": false
  }
 },
 "nbformat": 4,
 "nbformat_minor": 5
}
