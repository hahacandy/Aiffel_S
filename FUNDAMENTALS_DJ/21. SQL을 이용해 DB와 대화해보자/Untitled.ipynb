{
 "cells": [
  {
   "cell_type": "markdown",
   "id": "loaded-humanity",
   "metadata": {},
   "source": [
    "# 21-2. 파이썬으로 DB 다루기"
   ]
  },
  {
   "cell_type": "code",
   "execution_count": 1,
   "id": "discrete-treasury",
   "metadata": {
    "ExecuteTime": {
     "end_time": "2021-02-21T03:02:39.729813Z",
     "start_time": "2021-02-21T03:02:39.727194Z"
    }
   },
   "outputs": [
    {
     "name": "stdout",
     "output_type": "stream",
     "text": [
      "뿅💛\n"
     ]
    }
   ],
   "source": [
    "import sqlite3\n",
    "print(\"뿅💛\")"
   ]
  },
  {
   "cell_type": "code",
   "execution_count": 2,
   "id": "taken-operation",
   "metadata": {
    "ExecuteTime": {
     "end_time": "2021-02-21T03:02:40.321547Z",
     "start_time": "2021-02-21T03:02:40.311514Z"
    }
   },
   "outputs": [
    {
     "name": "stdout",
     "output_type": "stream",
     "text": [
      "<sqlite3.Connection object at 0x7f0f0828e9d0>\n"
     ]
    }
   ],
   "source": [
    "import os\n",
    "db_path = 'sql_to_db/sqlite/mydb.db'\n",
    "conn = sqlite3.connect(db_path)  # mydb.db에 연결합니다.\n",
    "print(conn)"
   ]
  },
  {
   "cell_type": "code",
   "execution_count": 3,
   "id": "urban-transportation",
   "metadata": {
    "ExecuteTime": {
     "end_time": "2021-02-21T03:02:40.803304Z",
     "start_time": "2021-02-21T03:02:40.795937Z"
    }
   },
   "outputs": [
    {
     "name": "stdout",
     "output_type": "stream",
     "text": [
      "<sqlite3.Cursor object at 0x7f0f08043110>\n"
     ]
    }
   ],
   "source": [
    "c = conn.cursor()\n",
    "print(c)"
   ]
  },
  {
   "cell_type": "code",
   "execution_count": 4,
   "id": "based-watson",
   "metadata": {
    "ExecuteTime": {
     "end_time": "2021-02-21T03:02:41.324801Z",
     "start_time": "2021-02-21T03:02:41.315686Z"
    }
   },
   "outputs": [
    {
     "name": "stdout",
     "output_type": "stream",
     "text": [
      "('20200701', 'TEST', 'AIFFEL', 1.0, 10000.0)\n"
     ]
    }
   ],
   "source": [
    "# stocks이라는 이름의 테이블을 하나 생성합니다. 혹시 이미 생성되었다면 생략합니다. \n",
    "c.execute(\"CREATE TABLE  IF NOT EXISTS  stocks (date text, trans text, symbol text, qty real, price real)\")\n",
    "\n",
    "# stocks 테이블에 데이터를 하나 인서트합니다. \n",
    "c.execute(\"INSERT INTO stocks VALUES ('20200701', 'TEST', 'AIFFEL', 1, 10000)\")\n",
    "\n",
    "# 방금 인서트한 데이터를 조회해 봅니다.\n",
    "c.execute(\"SELECT * FROM stocks\")\n",
    "\n",
    "# 조회된 내역을 커서를 통해 가져와 출력해 봅니다.\n",
    "print(c.fetchone())"
   ]
  },
  {
   "cell_type": "markdown",
   "id": "basic-vaccine",
   "metadata": {
    "ExecuteTime": {
     "start_time": "2021-02-21T02:54:35.324Z"
    }
   },
   "source": [
    "sudo add-apt-repository -y ppa:linuxgndu/sqlitebrowser   \n",
    "sudo apt-get update   \n",
    "sudo apt-get install -y sqlitebrowser   "
   ]
  },
  {
   "cell_type": "code",
   "execution_count": 5,
   "id": "rural-oregon",
   "metadata": {
    "ExecuteTime": {
     "end_time": "2021-02-21T03:02:44.074203Z",
     "start_time": "2021-02-21T03:02:44.055115Z"
    }
   },
   "outputs": [
    {
     "name": "stdout",
     "output_type": "stream",
     "text": [
      "뿅💛\n"
     ]
    }
   ],
   "source": [
    "conn.commit()   # commit()은 cursor의 메소드가 아니라 connection의 메소드입니다. \n",
    "print(\"뿅💛\")"
   ]
  },
  {
   "cell_type": "code",
   "execution_count": 6,
   "id": "adjustable-phase",
   "metadata": {
    "ExecuteTime": {
     "end_time": "2021-02-21T03:03:38.176098Z",
     "start_time": "2021-02-21T03:03:38.173170Z"
    }
   },
   "outputs": [
    {
     "name": "stdout",
     "output_type": "stream",
     "text": [
      "뿅💛\n"
     ]
    }
   ],
   "source": [
    "c.close()      # 먼저 커서를 닫은 후\n",
    "conn.close()    # DB 연결을 닫아 줍니다.\n",
    "print(\"뿅💛\")"
   ]
  },
  {
   "cell_type": "markdown",
   "id": "suitable-mauritius",
   "metadata": {},
   "source": [
    "### DDL문으로 테이블 생성하기"
   ]
  },
  {
   "cell_type": "code",
   "execution_count": 9,
   "id": "special-relationship",
   "metadata": {
    "ExecuteTime": {
     "end_time": "2021-02-21T03:04:21.661938Z",
     "start_time": "2021-02-21T03:04:21.639006Z"
    }
   },
   "outputs": [
    {
     "name": "stdout",
     "output_type": "stream",
     "text": [
      "뿅💛\n"
     ]
    }
   ],
   "source": [
    "import sqlite3\n",
    "import os\n",
    "db_path = 'sql_to_db/sqlite/mydb.db'\n",
    "\n",
    "conn = sqlite3.connect(db_path)\n",
    "c = conn.cursor()\n",
    "\n",
    "#- ! 재실행 시 테이블이 존재할 수 있으므로 아래처럼 해당 테이블들을 모두 지워줍니다.\n",
    "c.execute(\"DROP TABLE IF EXISTS 도서대출내역\")\n",
    "c.execute(\"DROP TABLE IF EXISTS 도서대출내역2\")\n",
    "c.execute(\"DROP TABLE IF EXISTS 대출내역\")\n",
    "c.execute(\"DROP TABLE IF EXISTS 도서명\")\n",
    "\n",
    "\n",
    "#----- 1st table : 도서대출내역 -----#\n",
    "c.execute(\"CREATE TABLE IF NOT EXISTS 도서대출내역 (ID varchar, 이름 varchar, 도서ID varchar, 대출일 varchar, 반납일 varchar)\")\n",
    "#- 생성(create)문 : 테이블명, 변수명, 변수타입을 지정\n",
    "\n",
    "data = [('101','문강태','aaa','2020-06-01','2020-06-05'),\n",
    "             ('101','문강태','ccc','2020-06-20','2020-06-25'),\n",
    "             ('102','고문영','bbb','2020-06-01',None),\n",
    "             ('102','고문영','ddd','2020-06-08',None),\n",
    "             ('103','문상태','ccc','2020-06-01','2020-06-05'),\n",
    "             ('104','강기둥',None,None,None)]\n",
    "#- 입력할 데이터를 그대로 입력 (변수명 순서 기준대로)\n",
    "\n",
    "c.executemany('INSERT INTO 도서대출내역 VALUES (?,?,?,?,?)', data)\n",
    "#- 입력할 데이터를 실제 테이블에 insert하기\n",
    "#-----------------------------------------------#\n",
    "\n",
    "\n",
    "#----- 2nd table : 도서대출내역2 -----#\n",
    "c.execute(\"CREATE TABLE IF NOT EXISTS 도서대출내역2 (ID varchar, 이름 varchar, 대출년월 varchar, 대출일수 varchar)\")\n",
    "\n",
    "data = [('101','문강태','2020-06','20일'),\n",
    "             ('102','고문영','2020-06','10일'),\n",
    "             ('103','문상태','2020-06','8일'),\n",
    "             ('104','강기둥','2020-06','3일')]\n",
    "c.executemany('INSERT INTO 도서대출내역2 VALUES (?,?,?,?)', data)\n",
    "#--------------------------------------------------#\n",
    "\n",
    "\n",
    "#----- 3rd table : 대출내역 -----#\n",
    "c.execute(\"CREATE TABLE IF NOT EXISTS 대출내역 (ID varchar, 이름 varchar, 도서ID varchar)\")\n",
    "\n",
    "data = [('101','문강태','aaa'),\n",
    "             ('102','고문영','bbb'),\n",
    "             ('102','고문영','fff'),\n",
    "             ('103','문상태','ccc'),\n",
    "             ('104','강기둥',None)]\n",
    "c.executemany('INSERT INTO 대출내역 VALUES (?,?,?)', data)\n",
    "#-----------------------------------------#\n",
    "\n",
    "\n",
    "#----- 4th table : 도서명 -----#\n",
    "c.execute(\"CREATE TABLE IF NOT EXISTS 도서명 (도서ID varchar, 도서명 varchar)\")\n",
    "\n",
    "data = [('aaa','악몽을 먹고 자란 소년'),\n",
    "             ('bbb','좀비아이'),\n",
    "             ('ccc','공룡백과사전'),\n",
    "             ('ddd','빨간구두'),\n",
    "             ('eee','잠자는 숲속의 미녀')]\n",
    "\n",
    "c.executemany('INSERT INTO 도서명 VALUES (?,?)', data)\n",
    "#--------------------------------------#\n",
    "\n",
    "conn.commit()\n",
    "conn.close()\n",
    "print(\"뿅💛\")"
   ]
  },
  {
   "cell_type": "code",
   "execution_count": 10,
   "id": "bound-executive",
   "metadata": {
    "ExecuteTime": {
     "end_time": "2021-02-21T03:04:56.136982Z",
     "start_time": "2021-02-21T03:04:56.132554Z"
    }
   },
   "outputs": [
    {
     "name": "stdout",
     "output_type": "stream",
     "text": [
      "('aaa', '악몽을 먹고 자란 소년')\n",
      "('bbb', '좀비아이')\n",
      "('ccc', '공룡백과사전')\n",
      "('ddd', '빨간구두')\n",
      "('eee', '잠자는 숲속의 미녀')\n"
     ]
    }
   ],
   "source": [
    "conn = sqlite3.connect(db_path)\n",
    "c = conn.cursor()\n",
    "\n",
    "for row in c.execute('SELECT * FROM 도서명'):\n",
    "  print(row)"
   ]
  },
  {
   "cell_type": "markdown",
   "id": "internal-biography",
   "metadata": {},
   "source": [
    "# 21-3. SQL (1) SQL의 기본"
   ]
  },
  {
   "cell_type": "code",
   "execution_count": 12,
   "id": "brilliant-mother",
   "metadata": {
    "ExecuteTime": {
     "end_time": "2021-02-21T03:31:27.191445Z",
     "start_time": "2021-02-21T03:31:27.187181Z"
    }
   },
   "outputs": [
    {
     "name": "stdout",
     "output_type": "stream",
     "text": [
      "('101', '문강태', 'aaa', '2020-06-01', '2020-06-05')\n",
      "('101', '문강태', 'ccc', '2020-06-20', '2020-06-25')\n",
      "('102', '고문영', 'bbb', '2020-06-01', None)\n",
      "('102', '고문영', 'ddd', '2020-06-08', None)\n",
      "('103', '문상태', 'ccc', '2020-06-01', '2020-06-05')\n",
      "('104', '강기둥', None, None, None)\n"
     ]
    }
   ],
   "source": [
    "#- 참고 : 실제 조회를 해보시려면 아래처럼 쓰시면 됩니다.\n",
    "#- c.execute() 괄호 안에 SQL문을 넣으시면 됩니다.\n",
    "\n",
    "import os\n",
    "db_path = 'sql_to_db/sqlite/mydb.db'\n",
    "conn = sqlite3.connect(db_path)  # mydb.db에 연결합니다.\n",
    "c = conn.cursor()\n",
    "\n",
    "for row in c.execute('SELECT * FROM 도서대출내역'):\n",
    "  print(row)\n",
    "\n",
    "#- ! 출력 시 'NULL' 대신 'None'으로 출력될 수 있으나 동일하게 이해하시면 됩니다."
   ]
  },
  {
   "cell_type": "code",
   "execution_count": 17,
   "id": "confidential-bulgarian",
   "metadata": {
    "ExecuteTime": {
     "end_time": "2021-02-21T03:33:50.806303Z",
     "start_time": "2021-02-21T03:33:50.803169Z"
    }
   },
   "outputs": [
    {
     "name": "stdout",
     "output_type": "stream",
     "text": [
      "('문강태', '2020-06-20', '2020-06-25')\n"
     ]
    }
   ],
   "source": [
    "query = 'SELECT 이름, 대출일, 반납일 FROM 도서대출내역 ORDER BY 대출일 DESC LIMIT 1;'\n",
    "for row in c.execute(query):\n",
    "  print(row)"
   ]
  },
  {
   "cell_type": "code",
   "execution_count": 18,
   "id": "wanted-routine",
   "metadata": {
    "ExecuteTime": {
     "end_time": "2021-02-21T03:35:03.646228Z",
     "start_time": "2021-02-21T03:35:03.637658Z"
    }
   },
   "outputs": [
    {
     "name": "stdout",
     "output_type": "stream",
     "text": [
      "('강기둥', 1)\n",
      "('고문영', 2)\n",
      "('문강태', 2)\n",
      "('문상태', 1)\n"
     ]
    }
   ],
   "source": [
    "query = 'SELECT 이름, COUNT(*) AS 대출건수 FROM 도서대출내역 GROUP BY 이름;'\n",
    "for row in c.execute(query):\n",
    "  print(row)"
   ]
  },
  {
   "cell_type": "markdown",
   "id": "aware-transmission",
   "metadata": {},
   "source": [
    "# 21-4. SQL (2) Data Type"
   ]
  },
  {
   "cell_type": "code",
   "execution_count": 19,
   "id": "amino-warehouse",
   "metadata": {
    "ExecuteTime": {
     "end_time": "2021-02-21T03:36:34.274421Z",
     "start_time": "2021-02-21T03:36:34.270507Z"
    }
   },
   "outputs": [
    {
     "name": "stdout",
     "output_type": "stream",
     "text": [
      "('101', '문강태', '2020-06', '20일')\n",
      "('102', '고문영', '2020-06', '10일')\n",
      "('103', '문상태', '2020-06', '8일')\n",
      "('104', '강기둥', '2020-06', '3일')\n"
     ]
    }
   ],
   "source": [
    "query = 'SELECT * FROM 도서대출내역2;'\n",
    "for row in c.execute(query):\n",
    "  print(row)"
   ]
  },
  {
   "cell_type": "code",
   "execution_count": 20,
   "id": "nuclear-overall",
   "metadata": {
    "ExecuteTime": {
     "end_time": "2021-02-21T03:36:58.126779Z",
     "start_time": "2021-02-21T03:36:58.123499Z"
    }
   },
   "outputs": [
    {
     "name": "stdout",
     "output_type": "stream",
     "text": [
      "(0, 'ID', 'varchar', 0, None, 0)\n",
      "(1, '이름', 'varchar', 0, None, 0)\n",
      "(2, '도서ID', 'varchar', 0, None, 0)\n",
      "(3, '대출일', 'varchar', 0, None, 0)\n",
      "(4, '반납일', 'varchar', 0, None, 0)\n"
     ]
    }
   ],
   "source": [
    "for row in c.execute('pragma table_info(도서대출내역)'):\n",
    "  print(row)"
   ]
  },
  {
   "cell_type": "code",
   "execution_count": 21,
   "id": "greater-charleston",
   "metadata": {
    "ExecuteTime": {
     "end_time": "2021-02-21T03:37:35.927445Z",
     "start_time": "2021-02-21T03:37:35.918761Z"
    }
   },
   "outputs": [
    {
     "name": "stdout",
     "output_type": "stream",
     "text": [
      "('101', '문강태', '2020-06', '20일', '20')\n",
      "('102', '고문영', '2020-06', '10일', '10')\n",
      "('103', '문상태', '2020-06', '8일', '8')\n",
      "('104', '강기둥', '2020-06', '3일', '3')\n"
     ]
    }
   ],
   "source": [
    "query = 'SELECT *, SUBSTR(대출일수, 1, (length(대출일수)-1)) AS 대출일수_수정 FROM 도서대출내역2;'\n",
    "for row in c.execute(query):\n",
    "  print(row)"
   ]
  },
  {
   "cell_type": "code",
   "execution_count": 22,
   "id": "meaningful-telephone",
   "metadata": {
    "ExecuteTime": {
     "end_time": "2021-02-21T03:38:50.846010Z",
     "start_time": "2021-02-21T03:38:50.837620Z"
    }
   },
   "outputs": [
    {
     "name": "stdout",
     "output_type": "stream",
     "text": [
      "('101', '문강태', '2020-06', '20일', 20)\n",
      "('102', '고문영', '2020-06', '10일', 10)\n",
      "('103', '문상태', '2020-06', '8일', 8)\n",
      "('104', '강기둥', '2020-06', '3일', 3)\n"
     ]
    }
   ],
   "source": [
    "query = 'SELECT *, CAST(SUBSTR(대출일수, 1, (length(대출일수)-1)) AS INT) AS 대출일수_수정 FROM 도서대출내역2 ;'\n",
    "for row in c.execute(query):\n",
    "  print(row)"
   ]
  },
  {
   "cell_type": "code",
   "execution_count": 26,
   "id": "conservative-vertex",
   "metadata": {
    "ExecuteTime": {
     "end_time": "2021-02-21T03:41:20.614509Z",
     "start_time": "2021-02-21T03:41:20.605628Z"
    }
   },
   "outputs": [
    {
     "name": "stdout",
     "output_type": "stream",
     "text": [
      "('101', '문강태', '2020-06', 20.0)\n",
      "('102', '고문영', '2020-06', 10.0)\n",
      "('103', '문상태', '2020-06', 8.0)\n",
      "('104', '강기둥', '2020-06', 3.0)\n"
     ]
    }
   ],
   "source": [
    "query = 'SELECT ID, 이름, 대출년월\\\n",
    ", AVG(CAST(SUBSTR(대출일수, 1, (length(대출일수)-1)) AS INT)) AS 대출일수_평균 \\\n",
    "FROM 도서대출내역2 \\\n",
    "GROUP BY 1,2,3;'\n",
    "\n",
    "for row in c.execute(query):\n",
    "  print(row)"
   ]
  },
  {
   "cell_type": "markdown",
   "id": "normal-signature",
   "metadata": {},
   "source": [
    "# 21-5. SQL (3) 다양한 조건으로 조회하기"
   ]
  },
  {
   "cell_type": "code",
   "execution_count": 25,
   "id": "viral-graduate",
   "metadata": {
    "ExecuteTime": {
     "end_time": "2021-02-21T03:41:18.287451Z",
     "start_time": "2021-02-21T03:41:18.278078Z"
    }
   },
   "outputs": [
    {
     "name": "stdout",
     "output_type": "stream",
     "text": [
      "('101', '문강태', '2020-06', '20일')\n",
      "('103', '문상태', '2020-06', '8일')\n"
     ]
    }
   ],
   "source": [
    "query = 'SELECT * FROM 도서대출내역2 \\\n",
    "WHERE 이름 LIKE \"문%\" ;'\n",
    "for row in c.execute(query):\n",
    "    print(row)"
   ]
  },
  {
   "cell_type": "code",
   "execution_count": 32,
   "id": "executed-disposition",
   "metadata": {
    "ExecuteTime": {
     "end_time": "2021-02-21T03:46:21.666094Z",
     "start_time": "2021-02-21T03:46:21.659900Z"
    }
   },
   "outputs": [
    {
     "ename": "OperationalError",
     "evalue": "near \">=\": syntax error",
     "output_type": "error",
     "traceback": [
      "\u001b[0;31m---------------------------------------------------------------------------\u001b[0m",
      "\u001b[0;31mOperationalError\u001b[0m                          Traceback (most recent call last)",
      "\u001b[0;32m<ipython-input-32-c321d2aa23eb>\u001b[0m in \u001b[0;36m<module>\u001b[0;34m\u001b[0m\n\u001b[1;32m      3\u001b[0m         \u001b[0m대출일\u001b[0m \u001b[0;34m>=\u001b[0m \u001b[0;34m\"2020-06-01\"\u001b[0m\u001b[0;31m \u001b[0m\u001b[0;31m\\\u001b[0m\u001b[0;34m\u001b[0m\u001b[0;34m\u001b[0m\u001b[0m\n\u001b[1;32m      4\u001b[0m \u001b[0mAND\u001b[0m \u001b[0m대출일\u001b[0m \u001b[0;34m<=\u001b[0m \u001b[0;34m\"2020-06-07\"\u001b[0m \u001b[0;34m;\u001b[0m\u001b[0;34m>\u001b[0m\u001b[0;31m'\u001b[0m\u001b[0;34m\u001b[0m\u001b[0;34m\u001b[0m\u001b[0m\n\u001b[0;32m----> 5\u001b[0;31m \u001b[0;32mfor\u001b[0m \u001b[0mrow\u001b[0m \u001b[0;32min\u001b[0m \u001b[0mc\u001b[0m\u001b[0;34m.\u001b[0m\u001b[0mexecute\u001b[0m\u001b[0;34m(\u001b[0m\u001b[0mquery\u001b[0m\u001b[0;34m)\u001b[0m\u001b[0;34m:\u001b[0m\u001b[0;34m\u001b[0m\u001b[0;34m\u001b[0m\u001b[0m\n\u001b[0m\u001b[1;32m      6\u001b[0m     \u001b[0mprint\u001b[0m\u001b[0;34m(\u001b[0m\u001b[0mrow\u001b[0m\u001b[0;34m)\u001b[0m\u001b[0;34m\u001b[0m\u001b[0;34m\u001b[0m\u001b[0m\n",
      "\u001b[0;31mOperationalError\u001b[0m: near \">=\": syntax error"
     ]
    }
   ],
   "source": [
    "query = 'SELECT * FROM 도서대출내역\\\n",
    "WHERE \\\n",
    "        대출일 >= \"2020-06-01\" \\\n",
    "AND 대출일 <= \"2020-06-07\" ;>'\n",
    "for row in c.execute(query):\n",
    "    print(row)"
   ]
  },
  {
   "cell_type": "code",
   "execution_count": 33,
   "id": "floral-covering",
   "metadata": {
    "ExecuteTime": {
     "end_time": "2021-02-21T03:46:39.602037Z",
     "start_time": "2021-02-21T03:46:39.598406Z"
    }
   },
   "outputs": [
    {
     "ename": "SyntaxError",
     "evalue": "invalid syntax (<ipython-input-33-62e727f6cc4b>, line 1)",
     "output_type": "error",
     "traceback": [
      "\u001b[0;36m  File \u001b[0;32m\"<ipython-input-33-62e727f6cc4b>\"\u001b[0;36m, line \u001b[0;32m1\u001b[0m\n\u001b[0;31m    SELECT * FROM 도서대출내역\u001b[0m\n\u001b[0m                       ^\u001b[0m\n\u001b[0;31mSyntaxError\u001b[0m\u001b[0;31m:\u001b[0m invalid syntax\n"
     ]
    }
   ],
   "source": [
    "SELECT * FROM 도서대출내역\n",
    "WHERE \n",
    "        대출일 BETWEEN \"2020-06-01\" AND \"2020-06-07\" ;"
   ]
  },
  {
   "cell_type": "code",
   "execution_count": 34,
   "id": "falling-dream",
   "metadata": {
    "ExecuteTime": {
     "end_time": "2021-02-21T03:46:44.046563Z",
     "start_time": "2021-02-21T03:46:44.040071Z"
    }
   },
   "outputs": [
    {
     "ename": "SyntaxError",
     "evalue": "invalid syntax (<ipython-input-34-51f3745f47c1>, line 1)",
     "output_type": "error",
     "traceback": [
      "\u001b[0;36m  File \u001b[0;32m\"<ipython-input-34-51f3745f47c1>\"\u001b[0;36m, line \u001b[0;32m1\u001b[0m\n\u001b[0;31m    SELECT *\u001b[0m\n\u001b[0m            ^\u001b[0m\n\u001b[0;31mSyntaxError\u001b[0m\u001b[0;31m:\u001b[0m invalid syntax\n"
     ]
    }
   ],
   "source": [
    "SELECT *\n",
    ", CAST(SUBSTR(대출일수, 1, (length(대출일수)-1)) AS INT) AS 대출일수_수정 \n",
    "FROM 도서대출내역2 \n",
    "WHERE \n",
    "        대출일수_수정 > 5 ;"
   ]
  },
  {
   "cell_type": "code",
   "execution_count": 35,
   "id": "numerous-newsletter",
   "metadata": {
    "ExecuteTime": {
     "end_time": "2021-02-21T03:46:48.891843Z",
     "start_time": "2021-02-21T03:46:48.889042Z"
    }
   },
   "outputs": [
    {
     "ename": "SyntaxError",
     "evalue": "invalid syntax (<ipython-input-35-9605f0b52b2d>, line 1)",
     "output_type": "error",
     "traceback": [
      "\u001b[0;36m  File \u001b[0;32m\"<ipython-input-35-9605f0b52b2d>\"\u001b[0;36m, line \u001b[0;32m1\u001b[0m\n\u001b[0;31m    SELECT * FROM 도서대출내역\u001b[0m\n\u001b[0m                       ^\u001b[0m\n\u001b[0;31mSyntaxError\u001b[0m\u001b[0;31m:\u001b[0m invalid syntax\n"
     ]
    }
   ],
   "source": [
    "SELECT * FROM 도서대출내역\n",
    "WHERE 반납일 IS NOT NULL;"
   ]
  },
  {
   "cell_type": "code",
   "execution_count": 36,
   "id": "frozen-people",
   "metadata": {
    "ExecuteTime": {
     "end_time": "2021-02-21T03:47:08.077556Z",
     "start_time": "2021-02-21T03:47:08.072372Z"
    }
   },
   "outputs": [
    {
     "ename": "SyntaxError",
     "evalue": "invalid syntax (<ipython-input-36-6baa4c021b0e>, line 1)",
     "output_type": "error",
     "traceback": [
      "\u001b[0;36m  File \u001b[0;32m\"<ipython-input-36-6baa4c021b0e>\"\u001b[0;36m, line \u001b[0;32m1\u001b[0m\n\u001b[0;31m    SELECT * FROM 도서대출내역\u001b[0m\n\u001b[0m                       ^\u001b[0m\n\u001b[0;31mSyntaxError\u001b[0m\u001b[0;31m:\u001b[0m invalid syntax\n"
     ]
    }
   ],
   "source": [
    "SELECT * FROM 도서대출내역\n",
    "WHERE 반납일 IS NULL ;"
   ]
  },
  {
   "cell_type": "code",
   "execution_count": 37,
   "id": "delayed-russell",
   "metadata": {
    "ExecuteTime": {
     "end_time": "2021-02-21T03:47:19.392444Z",
     "start_time": "2021-02-21T03:47:19.389693Z"
    }
   },
   "outputs": [
    {
     "ename": "SyntaxError",
     "evalue": "invalid syntax (<ipython-input-37-a8adaded5212>, line 1)",
     "output_type": "error",
     "traceback": [
      "\u001b[0;36m  File \u001b[0;32m\"<ipython-input-37-a8adaded5212>\"\u001b[0;36m, line \u001b[0;32m1\u001b[0m\n\u001b[0;31m    SELECT 이름\u001b[0m\n\u001b[0m            ^\u001b[0m\n\u001b[0;31mSyntaxError\u001b[0m\u001b[0;31m:\u001b[0m invalid syntax\n"
     ]
    }
   ],
   "source": [
    "SELECT 이름\n",
    "FROM 도서대출내역\n",
    "WHERE 이름 LIKE \"%태\"\n",
    "AND 대출일 >= \"2020-06-19\"\n",
    "AND ID < 102\n",
    "AND 반납일 IS NOT NULL"
   ]
  },
  {
   "cell_type": "markdown",
   "id": "painful-ministry",
   "metadata": {},
   "source": [
    "# 21-6. SQL (4) SQL의 꽃, JOIN 수행하기"
   ]
  },
  {
   "cell_type": "markdown",
   "id": "constant-crown",
   "metadata": {
    "ExecuteTime": {
     "end_time": "2021-02-21T03:48:19.248801Z",
     "start_time": "2021-02-21T03:48:19.239774Z"
    }
   },
   "source": [
    "### INNER JOIN\n",
    "SELECT A.*, B.도서명 \n",
    "FROM 대출내역 AS A \n",
    "INNER JOIN 도서명 AS B\n",
    "ON A.도서ID = B.도서ID"
   ]
  },
  {
   "cell_type": "markdown",
   "id": "metric-glasgow",
   "metadata": {
    "ExecuteTime": {
     "end_time": "2021-02-21T03:49:18.492825Z",
     "start_time": "2021-02-21T03:49:18.488275Z"
    }
   },
   "source": [
    "### left join\n",
    "SELECT A.*, B.도서명 \n",
    "FROM 대출내역 AS A \n",
    "LEFT JOIN 도서명 AS B\n",
    "ON A.도서ID = B.도서ID"
   ]
  },
  {
   "cell_type": "markdown",
   "id": "familiar-boston",
   "metadata": {},
   "source": [
    "### right join\n",
    "SELECT B.*, A.ID, A.이름 \n",
    "FROM 대출내역 AS A \n",
    "RIGHT JOIN 도서명 AS B\n",
    "ON A.도서ID = B.도서ID"
   ]
  },
  {
   "cell_type": "markdown",
   "id": "mediterranean-reduction",
   "metadata": {},
   "source": [
    "### full join\n",
    "SELECT A.*, B.도서명 \n",
    "FROM 대출내역 AS A \n",
    "FULL OUTER JOIN 도서명 AS B\n",
    "ON A.도서ID = B.도서ID\n",
    "ORDER BY 도서ID ;"
   ]
  },
  {
   "cell_type": "markdown",
   "id": "coupled-vacation",
   "metadata": {},
   "source": [
    "5) 중첩 질의(Nested Query)   \n",
    "SELECT C.이름, COUNT(*) 대출건수   \n",
    "FROM (   \n",
    "    SELECT A.*, B.도서명    \n",
    "    FROM 대출내역 AS A     \n",
    "    LEFT JOIN 도서명 AS B   \n",
    "    ON A.도서ID = B.도서ID ) C   \n",
    "GROUP BY C.이름   "
   ]
  },
  {
   "cell_type": "markdown",
   "id": "preliminary-serbia",
   "metadata": {
    "ExecuteTime": {
     "end_time": "2021-02-21T03:51:48.168598Z",
     "start_time": "2021-02-21T03:51:48.160595Z"
    }
   },
   "source": [
    "6) 쿼리의 조건절(1) IFNULL   \n",
    "SELECT A.*, IFNULL(B.도서명, '도서명미상') AS 도서명   \n",
    "    FROM 대출내역 AS A    \n",
    "    LEFT JOIN 도서명 AS B   \n",
    "    ON A.도서ID = B.도서ID   "
   ]
  },
  {
   "cell_type": "markdown",
   "id": "constant-twins",
   "metadata": {
    "ExecuteTime": {
     "end_time": "2021-02-21T03:59:03.597897Z",
     "start_time": "2021-02-21T03:59:03.595082Z"
    }
   },
   "source": [
    "6) 쿼리의 조건절(1) IFNULL case문   \n",
    "SELECT A.*, CASE WHEN  B.도서명 IS NULL THEN '도서명미상' ELSE B.도서명 END   \n",
    "FROM 대출내역 AS A   \n",
    "LEFT JOIN 도서명 AS B   \n",
    "ON A.도서ID = B.도서ID   "
   ]
  },
  {
   "cell_type": "markdown",
   "id": "demonstrated-magnitude",
   "metadata": {},
   "source": [
    "6) 쿼리의 조건절(2) CASE   \n",
    "SELECT 이름, CASE WHEN 대출일수_수정 > 5 THEN '기간초과' ELSE '기간내' END AS 대출기간   \n",
    "FROM (   \n",
    "SELECT *, CAST(SUBSTR(대출일수, 1, (length(대출일수)-1)) AS INT) AS 대출일수_수정    \n",
    "FROM 도서대출내역2 )  "
   ]
  },
  {
   "cell_type": "markdown",
   "id": "nervous-seller",
   "metadata": {
    "ExecuteTime": {
     "end_time": "2021-02-21T03:46:21.666094Z",
     "start_time": "2021-02-21T03:46:21.659900Z"
    }
   },
   "source": [
    "    SELECT A.도서ID, A.도서명,    \n",
    "     CASE WHEN B.대출일 IS NULL THEN 0 ELSE 1 END AS 대출건수,   \n",
    "     CASE WHEN B.반납일 IS NULL THEN 0 ELSE 1 END AS 반납건수   \n",
    "    FROM 도서명 AS A    \n",
    "    LEFT JOIN 도서대출내역 AS B   "
   ]
  },
  {
   "cell_type": "code",
   "execution_count": null,
   "id": "operational-baker",
   "metadata": {},
   "outputs": [],
   "source": []
  }
 ],
 "metadata": {
  "kernelspec": {
   "display_name": "aiffel",
   "language": "python",
   "name": "aiffel"
  },
  "language_info": {
   "codemirror_mode": {
    "name": "ipython",
    "version": 3
   },
   "file_extension": ".py",
   "mimetype": "text/x-python",
   "name": "python",
   "nbconvert_exporter": "python",
   "pygments_lexer": "ipython3",
   "version": "3.7.9"
  },
  "varInspector": {
   "cols": {
    "lenName": 16,
    "lenType": 16,
    "lenVar": 40
   },
   "kernels_config": {
    "python": {
     "delete_cmd_postfix": "",
     "delete_cmd_prefix": "del ",
     "library": "var_list.py",
     "varRefreshCmd": "print(var_dic_list())"
    },
    "r": {
     "delete_cmd_postfix": ") ",
     "delete_cmd_prefix": "rm(",
     "library": "var_list.r",
     "varRefreshCmd": "cat(var_dic_list()) "
    }
   },
   "types_to_exclude": [
    "module",
    "function",
    "builtin_function_or_method",
    "instance",
    "_Feature"
   ],
   "window_display": false
  }
 },
 "nbformat": 4,
 "nbformat_minor": 5
}
