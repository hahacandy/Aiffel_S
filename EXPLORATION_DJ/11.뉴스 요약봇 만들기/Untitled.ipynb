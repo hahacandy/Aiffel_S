{
 "cells": [
  {
   "cell_type": "markdown",
   "id": "widespread-abraham",
   "metadata": {},
   "source": [
    "# 11-4. 데이터 준비하기"
   ]
  },
  {
   "cell_type": "code",
   "execution_count": null,
   "id": "fluid-crowd",
   "metadata": {
    "ExecuteTime": {
     "end_time": "2021-02-19T05:58:57.716223Z",
     "start_time": "2021-02-19T05:58:57.603572Z"
    }
   },
   "outputs": [],
   "source": [
    "! mkdir -p news_summarization/data"
   ]
  },
  {
   "cell_type": "code",
   "execution_count": null,
   "id": "elementary-robinson",
   "metadata": {
    "ExecuteTime": {
     "start_time": "2021-02-19T05:58:57.605Z"
    }
   },
   "outputs": [],
   "source": [
    "! wget https://aiffelstaticprd.blob.core.windows.net/media/documents/Reviews.csv.zip\n",
    "! mv Reviews.csv.zip news_summarization/data\n",
    "! cd news_summarization/data && unzip Reviews.csv.zip"
   ]
  },
  {
   "cell_type": "code",
   "execution_count": null,
   "id": "sought-revision",
   "metadata": {
    "ExecuteTime": {
     "start_time": "2021-02-19T05:58:57.606Z"
    }
   },
   "outputs": [],
   "source": [
    "!pip install nltk\n",
    "!pip install beautifulsoup4"
   ]
  },
  {
   "cell_type": "code",
   "execution_count": 1,
   "id": "gross-investigator",
   "metadata": {
    "ExecuteTime": {
     "end_time": "2021-02-19T07:11:08.968462Z",
     "start_time": "2021-02-19T07:11:06.991074Z"
    }
   },
   "outputs": [
    {
     "name": "stderr",
     "output_type": "stream",
     "text": [
      "[nltk_data] Downloading package stopwords to /home/thuban/nltk_data...\n",
      "[nltk_data]   Package stopwords is already up-to-date!\n"
     ]
    }
   ],
   "source": [
    "import nltk\n",
    "nltk.download('stopwords')\n",
    "\n",
    "import numpy as np\n",
    "import pandas as pd\n",
    "import os\n",
    "import re\n",
    "import matplotlib.pyplot as plt\n",
    "from nltk.corpus import stopwords\n",
    "from bs4 import BeautifulSoup \n",
    "from tensorflow.keras.preprocessing.text import Tokenizer \n",
    "from tensorflow.keras.preprocessing.sequence import pad_sequences\n",
    "import urllib.request"
   ]
  },
  {
   "cell_type": "code",
   "execution_count": 2,
   "id": "informal-enforcement",
   "metadata": {
    "ExecuteTime": {
     "end_time": "2021-02-19T07:11:09.487922Z",
     "start_time": "2021-02-19T07:11:08.980071Z"
    }
   },
   "outputs": [
    {
     "name": "stdout",
     "output_type": "stream",
     "text": [
      "전체 샘플수 : 100000\n"
     ]
    }
   ],
   "source": [
    "data = pd.read_csv('news_summarization/data/Reviews.csv', nrows = 100000)\n",
    "print('전체 샘플수 :',(len(data)))"
   ]
  },
  {
   "cell_type": "code",
   "execution_count": 3,
   "id": "acute-psychiatry",
   "metadata": {
    "ExecuteTime": {
     "end_time": "2021-02-19T07:11:09.916414Z",
     "start_time": "2021-02-19T07:11:09.903974Z"
    }
   },
   "outputs": [
    {
     "data": {
      "text/html": [
       "<div>\n",
       "<style scoped>\n",
       "    .dataframe tbody tr th:only-of-type {\n",
       "        vertical-align: middle;\n",
       "    }\n",
       "\n",
       "    .dataframe tbody tr th {\n",
       "        vertical-align: top;\n",
       "    }\n",
       "\n",
       "    .dataframe thead th {\n",
       "        text-align: right;\n",
       "    }\n",
       "</style>\n",
       "<table border=\"1\" class=\"dataframe\">\n",
       "  <thead>\n",
       "    <tr style=\"text-align: right;\">\n",
       "      <th></th>\n",
       "      <th>Id</th>\n",
       "      <th>ProductId</th>\n",
       "      <th>UserId</th>\n",
       "      <th>ProfileName</th>\n",
       "      <th>HelpfulnessNumerator</th>\n",
       "      <th>HelpfulnessDenominator</th>\n",
       "      <th>Score</th>\n",
       "      <th>Time</th>\n",
       "      <th>Summary</th>\n",
       "      <th>Text</th>\n",
       "    </tr>\n",
       "  </thead>\n",
       "  <tbody>\n",
       "    <tr>\n",
       "      <th>0</th>\n",
       "      <td>1</td>\n",
       "      <td>B001E4KFG0</td>\n",
       "      <td>A3SGXH7AUHU8GW</td>\n",
       "      <td>delmartian</td>\n",
       "      <td>1</td>\n",
       "      <td>1</td>\n",
       "      <td>5</td>\n",
       "      <td>1303862400</td>\n",
       "      <td>Good Quality Dog Food</td>\n",
       "      <td>I have bought several of the Vitality canned d...</td>\n",
       "    </tr>\n",
       "    <tr>\n",
       "      <th>1</th>\n",
       "      <td>2</td>\n",
       "      <td>B00813GRG4</td>\n",
       "      <td>A1D87F6ZCVE5NK</td>\n",
       "      <td>dll pa</td>\n",
       "      <td>0</td>\n",
       "      <td>0</td>\n",
       "      <td>1</td>\n",
       "      <td>1346976000</td>\n",
       "      <td>Not as Advertised</td>\n",
       "      <td>Product arrived labeled as Jumbo Salted Peanut...</td>\n",
       "    </tr>\n",
       "    <tr>\n",
       "      <th>2</th>\n",
       "      <td>3</td>\n",
       "      <td>B000LQOCH0</td>\n",
       "      <td>ABXLMWJIXXAIN</td>\n",
       "      <td>Natalia Corres \"Natalia Corres\"</td>\n",
       "      <td>1</td>\n",
       "      <td>1</td>\n",
       "      <td>4</td>\n",
       "      <td>1219017600</td>\n",
       "      <td>\"Delight\" says it all</td>\n",
       "      <td>This is a confection that has been around a fe...</td>\n",
       "    </tr>\n",
       "    <tr>\n",
       "      <th>3</th>\n",
       "      <td>4</td>\n",
       "      <td>B000UA0QIQ</td>\n",
       "      <td>A395BORC6FGVXV</td>\n",
       "      <td>Karl</td>\n",
       "      <td>3</td>\n",
       "      <td>3</td>\n",
       "      <td>2</td>\n",
       "      <td>1307923200</td>\n",
       "      <td>Cough Medicine</td>\n",
       "      <td>If you are looking for the secret ingredient i...</td>\n",
       "    </tr>\n",
       "    <tr>\n",
       "      <th>4</th>\n",
       "      <td>5</td>\n",
       "      <td>B006K2ZZ7K</td>\n",
       "      <td>A1UQRSCLF8GW1T</td>\n",
       "      <td>Michael D. Bigham \"M. Wassir\"</td>\n",
       "      <td>0</td>\n",
       "      <td>0</td>\n",
       "      <td>5</td>\n",
       "      <td>1350777600</td>\n",
       "      <td>Great taffy</td>\n",
       "      <td>Great taffy at a great price.  There was a wid...</td>\n",
       "    </tr>\n",
       "  </tbody>\n",
       "</table>\n",
       "</div>"
      ],
      "text/plain": [
       "   Id   ProductId          UserId                      ProfileName  \\\n",
       "0   1  B001E4KFG0  A3SGXH7AUHU8GW                       delmartian   \n",
       "1   2  B00813GRG4  A1D87F6ZCVE5NK                           dll pa   \n",
       "2   3  B000LQOCH0   ABXLMWJIXXAIN  Natalia Corres \"Natalia Corres\"   \n",
       "3   4  B000UA0QIQ  A395BORC6FGVXV                             Karl   \n",
       "4   5  B006K2ZZ7K  A1UQRSCLF8GW1T    Michael D. Bigham \"M. Wassir\"   \n",
       "\n",
       "   HelpfulnessNumerator  HelpfulnessDenominator  Score        Time  \\\n",
       "0                     1                       1      5  1303862400   \n",
       "1                     0                       0      1  1346976000   \n",
       "2                     1                       1      4  1219017600   \n",
       "3                     3                       3      2  1307923200   \n",
       "4                     0                       0      5  1350777600   \n",
       "\n",
       "                 Summary                                               Text  \n",
       "0  Good Quality Dog Food  I have bought several of the Vitality canned d...  \n",
       "1      Not as Advertised  Product arrived labeled as Jumbo Salted Peanut...  \n",
       "2  \"Delight\" says it all  This is a confection that has been around a fe...  \n",
       "3         Cough Medicine  If you are looking for the secret ingredient i...  \n",
       "4            Great taffy  Great taffy at a great price.  There was a wid...  "
      ]
     },
     "execution_count": 3,
     "metadata": {},
     "output_type": "execute_result"
    }
   ],
   "source": [
    "data.head()"
   ]
  },
  {
   "cell_type": "code",
   "execution_count": 4,
   "id": "suspended-trust",
   "metadata": {
    "ExecuteTime": {
     "end_time": "2021-02-19T07:11:10.819691Z",
     "start_time": "2021-02-19T07:11:10.806165Z"
    }
   },
   "outputs": [
    {
     "data": {
      "text/html": [
       "<div>\n",
       "<style scoped>\n",
       "    .dataframe tbody tr th:only-of-type {\n",
       "        vertical-align: middle;\n",
       "    }\n",
       "\n",
       "    .dataframe tbody tr th {\n",
       "        vertical-align: top;\n",
       "    }\n",
       "\n",
       "    .dataframe thead th {\n",
       "        text-align: right;\n",
       "    }\n",
       "</style>\n",
       "<table border=\"1\" class=\"dataframe\">\n",
       "  <thead>\n",
       "    <tr style=\"text-align: right;\">\n",
       "      <th></th>\n",
       "      <th>Text</th>\n",
       "      <th>Summary</th>\n",
       "    </tr>\n",
       "  </thead>\n",
       "  <tbody>\n",
       "    <tr>\n",
       "      <th>13028</th>\n",
       "      <td>My grandkids live out of town so this was a pe...</td>\n",
       "      <td>Halloween Gift Basket</td>\n",
       "    </tr>\n",
       "    <tr>\n",
       "      <th>31286</th>\n",
       "      <td>My family needs gluten free products for some ...</td>\n",
       "      <td>Cravings Place All Purpose Pancake and Waffle Mix</td>\n",
       "    </tr>\n",
       "    <tr>\n",
       "      <th>59316</th>\n",
       "      <td>This is the best baking cocoa I have used.  It...</td>\n",
       "      <td>Cooking with Pernigotti</td>\n",
       "    </tr>\n",
       "    <tr>\n",
       "      <th>66880</th>\n",
       "      <td>This is a very good granola flavor. Very dific...</td>\n",
       "      <td>Very addicting - be warned</td>\n",
       "    </tr>\n",
       "    <tr>\n",
       "      <th>7989</th>\n",
       "      <td>I thought I'd be writing a review raving about...</td>\n",
       "      <td>Expected better!</td>\n",
       "    </tr>\n",
       "    <tr>\n",
       "      <th>2593</th>\n",
       "      <td>My husband and both love almonds. I've even sh...</td>\n",
       "      <td>Great Almond Crunch!!</td>\n",
       "    </tr>\n",
       "    <tr>\n",
       "      <th>44862</th>\n",
       "      <td>This product is as good as the ones bought in ...</td>\n",
       "      <td>good spaghetti sauce</td>\n",
       "    </tr>\n",
       "    <tr>\n",
       "      <th>71354</th>\n",
       "      <td>I've been using this shampoo for a few weeks n...</td>\n",
       "      <td>Good solid shampoo. Bit drying.</td>\n",
       "    </tr>\n",
       "    <tr>\n",
       "      <th>23995</th>\n",
       "      <td>In the last 8 years or so, there's been a pota...</td>\n",
       "      <td>Healthier alternative for chip fix</td>\n",
       "    </tr>\n",
       "    <tr>\n",
       "      <th>10253</th>\n",
       "      <td>The bags catch fire in my microwave and that l...</td>\n",
       "      <td>Fire Hazard</td>\n",
       "    </tr>\n",
       "    <tr>\n",
       "      <th>40959</th>\n",
       "      <td>These oats are rolled, but they are thin, resu...</td>\n",
       "      <td>These rolled oats are ok, but get gummy when c...</td>\n",
       "    </tr>\n",
       "    <tr>\n",
       "      <th>67045</th>\n",
       "      <td>A very pleasant mild tea with just a hint of b...</td>\n",
       "      <td>Pleasant</td>\n",
       "    </tr>\n",
       "    <tr>\n",
       "      <th>97152</th>\n",
       "      <td>These mini candies are very hard to keep aroun...</td>\n",
       "      <td>Yummy assortment</td>\n",
       "    </tr>\n",
       "    <tr>\n",
       "      <th>40332</th>\n",
       "      <td>I am certain that this company is well-meaning...</td>\n",
       "      <td>Incorrect description</td>\n",
       "    </tr>\n",
       "    <tr>\n",
       "      <th>84871</th>\n",
       "      <td>These are great and totally adictive. I agree ...</td>\n",
       "      <td>Great</td>\n",
       "    </tr>\n",
       "  </tbody>\n",
       "</table>\n",
       "</div>"
      ],
      "text/plain": [
       "                                                    Text  \\\n",
       "13028  My grandkids live out of town so this was a pe...   \n",
       "31286  My family needs gluten free products for some ...   \n",
       "59316  This is the best baking cocoa I have used.  It...   \n",
       "66880  This is a very good granola flavor. Very dific...   \n",
       "7989   I thought I'd be writing a review raving about...   \n",
       "2593   My husband and both love almonds. I've even sh...   \n",
       "44862  This product is as good as the ones bought in ...   \n",
       "71354  I've been using this shampoo for a few weeks n...   \n",
       "23995  In the last 8 years or so, there's been a pota...   \n",
       "10253  The bags catch fire in my microwave and that l...   \n",
       "40959  These oats are rolled, but they are thin, resu...   \n",
       "67045  A very pleasant mild tea with just a hint of b...   \n",
       "97152  These mini candies are very hard to keep aroun...   \n",
       "40332  I am certain that this company is well-meaning...   \n",
       "84871  These are great and totally adictive. I agree ...   \n",
       "\n",
       "                                                 Summary  \n",
       "13028                              Halloween Gift Basket  \n",
       "31286  Cravings Place All Purpose Pancake and Waffle Mix  \n",
       "59316                            Cooking with Pernigotti  \n",
       "66880                         Very addicting - be warned  \n",
       "7989                                    Expected better!  \n",
       "2593                               Great Almond Crunch!!  \n",
       "44862                               good spaghetti sauce  \n",
       "71354                    Good solid shampoo. Bit drying.  \n",
       "23995                 Healthier alternative for chip fix  \n",
       "10253                                        Fire Hazard  \n",
       "40959  These rolled oats are ok, but get gummy when c...  \n",
       "67045                                           Pleasant  \n",
       "97152                                   Yummy assortment  \n",
       "40332                              Incorrect description  \n",
       "84871                                              Great  "
      ]
     },
     "execution_count": 4,
     "metadata": {},
     "output_type": "execute_result"
    }
   ],
   "source": [
    "data = data[['Text','Summary']]\n",
    "data.head()\n",
    "\n",
    "#랜덤한 15개 샘플 출력\n",
    "data.sample(15)"
   ]
  },
  {
   "cell_type": "markdown",
   "id": "olive-marketing",
   "metadata": {},
   "source": [
    "# 11-5. 데이터 전처리하기 (1) 데이터 정리하기"
   ]
  },
  {
   "cell_type": "code",
   "execution_count": 5,
   "id": "recognized-baseline",
   "metadata": {
    "ExecuteTime": {
     "end_time": "2021-02-19T07:11:11.769081Z",
     "start_time": "2021-02-19T07:11:11.628315Z"
    }
   },
   "outputs": [
    {
     "name": "stdout",
     "output_type": "stream",
     "text": [
      "Text 열에서 중복을 배제한 유일한 샘플의 수 : 88426\n",
      "Summary 열에서 중복을 배제한 유일한 샘플의 수 : 72348\n"
     ]
    }
   ],
   "source": [
    "print('Text 열에서 중복을 배제한 유일한 샘플의 수 :', data['Text'].nunique())\n",
    "print('Summary 열에서 중복을 배제한 유일한 샘플의 수 :', data['Summary'].nunique())"
   ]
  },
  {
   "cell_type": "code",
   "execution_count": 6,
   "id": "packed-sending",
   "metadata": {
    "ExecuteTime": {
     "end_time": "2021-02-19T07:11:12.252342Z",
     "start_time": "2021-02-19T07:11:12.129264Z"
    }
   },
   "outputs": [
    {
     "name": "stdout",
     "output_type": "stream",
     "text": [
      "전체 샘플수 : 88426\n"
     ]
    }
   ],
   "source": [
    "data.drop_duplicates(subset = ['Text'], inplace = True)\n",
    "print('전체 샘플수 :',(len(data)))"
   ]
  },
  {
   "cell_type": "code",
   "execution_count": 7,
   "id": "extraordinary-bahamas",
   "metadata": {
    "ExecuteTime": {
     "end_time": "2021-02-19T07:11:12.268185Z",
     "start_time": "2021-02-19T07:11:12.253625Z"
    }
   },
   "outputs": [
    {
     "name": "stdout",
     "output_type": "stream",
     "text": [
      "Text       0\n",
      "Summary    1\n",
      "dtype: int64\n"
     ]
    }
   ],
   "source": [
    "# null값 찾기\n",
    "print(data.isnull().sum())"
   ]
  },
  {
   "cell_type": "code",
   "execution_count": 8,
   "id": "going-holiday",
   "metadata": {
    "ExecuteTime": {
     "end_time": "2021-02-19T07:11:12.289916Z",
     "start_time": "2021-02-19T07:11:12.269761Z"
    }
   },
   "outputs": [
    {
     "name": "stdout",
     "output_type": "stream",
     "text": [
      "전체 샘플수 : 88425\n"
     ]
    }
   ],
   "source": [
    "# null값 제거\n",
    "data.dropna(axis = 0, inplace = True)\n",
    "print('전체 샘플수 :',(len(data)))"
   ]
  },
  {
   "cell_type": "code",
   "execution_count": 9,
   "id": "broad-broadcast",
   "metadata": {
    "ExecuteTime": {
     "end_time": "2021-02-19T07:11:12.319115Z",
     "start_time": "2021-02-19T07:11:12.309821Z"
    }
   },
   "outputs": [
    {
     "name": "stdout",
     "output_type": "stream",
     "text": [
      "정규화 사전의 수:  120\n"
     ]
    }
   ],
   "source": [
    "# 같은뜻인 텍스트들 정규화\n",
    "contractions = {\"ain't\": \"is not\", \"aren't\": \"are not\",\"can't\": \"cannot\", \"'cause\": \"because\", \"could've\": \"could have\", \"couldn't\": \"could not\",\n",
    "                           \"didn't\": \"did not\",  \"doesn't\": \"does not\", \"don't\": \"do not\", \"hadn't\": \"had not\", \"hasn't\": \"has not\", \"haven't\": \"have not\",\n",
    "                           \"he'd\": \"he would\",\"he'll\": \"he will\", \"he's\": \"he is\", \"how'd\": \"how did\", \"how'd'y\": \"how do you\", \"how'll\": \"how will\", \"how's\": \"how is\",\n",
    "                           \"I'd\": \"I would\", \"I'd've\": \"I would have\", \"I'll\": \"I will\", \"I'll've\": \"I will have\",\"I'm\": \"I am\", \"I've\": \"I have\", \"i'd\": \"i would\",\n",
    "                           \"i'd've\": \"i would have\", \"i'll\": \"i will\",  \"i'll've\": \"i will have\",\"i'm\": \"i am\", \"i've\": \"i have\", \"isn't\": \"is not\", \"it'd\": \"it would\",\n",
    "                           \"it'd've\": \"it would have\", \"it'll\": \"it will\", \"it'll've\": \"it will have\",\"it's\": \"it is\", \"let's\": \"let us\", \"ma'am\": \"madam\",\n",
    "                           \"mayn't\": \"may not\", \"might've\": \"might have\",\"mightn't\": \"might not\",\"mightn't've\": \"might not have\", \"must've\": \"must have\",\n",
    "                           \"mustn't\": \"must not\", \"mustn't've\": \"must not have\", \"needn't\": \"need not\", \"needn't've\": \"need not have\",\"o'clock\": \"of the clock\",\n",
    "                           \"oughtn't\": \"ought not\", \"oughtn't've\": \"ought not have\", \"shan't\": \"shall not\", \"sha'n't\": \"shall not\", \"shan't've\": \"shall not have\",\n",
    "                           \"she'd\": \"she would\", \"she'd've\": \"she would have\", \"she'll\": \"she will\", \"she'll've\": \"she will have\", \"she's\": \"she is\",\n",
    "                           \"should've\": \"should have\", \"shouldn't\": \"should not\", \"shouldn't've\": \"should not have\", \"so've\": \"so have\",\"so's\": \"so as\",\n",
    "                           \"this's\": \"this is\",\"that'd\": \"that would\", \"that'd've\": \"that would have\", \"that's\": \"that is\", \"there'd\": \"there would\",\n",
    "                           \"there'd've\": \"there would have\", \"there's\": \"there is\", \"here's\": \"here is\",\"they'd\": \"they would\", \"they'd've\": \"they would have\",\n",
    "                           \"they'll\": \"they will\", \"they'll've\": \"they will have\", \"they're\": \"they are\", \"they've\": \"they have\", \"to've\": \"to have\",\n",
    "                           \"wasn't\": \"was not\", \"we'd\": \"we would\", \"we'd've\": \"we would have\", \"we'll\": \"we will\", \"we'll've\": \"we will have\", \"we're\": \"we are\",\n",
    "                           \"we've\": \"we have\", \"weren't\": \"were not\", \"what'll\": \"what will\", \"what'll've\": \"what will have\", \"what're\": \"what are\",\n",
    "                           \"what's\": \"what is\", \"what've\": \"what have\", \"when's\": \"when is\", \"when've\": \"when have\", \"where'd\": \"where did\", \"where's\": \"where is\",\n",
    "                           \"where've\": \"where have\", \"who'll\": \"who will\", \"who'll've\": \"who will have\", \"who's\": \"who is\", \"who've\": \"who have\",\n",
    "                           \"why's\": \"why is\", \"why've\": \"why have\", \"will've\": \"will have\", \"won't\": \"will not\", \"won't've\": \"will not have\",\n",
    "                           \"would've\": \"would have\", \"wouldn't\": \"would not\", \"wouldn't've\": \"would not have\", \"y'all\": \"you all\",\n",
    "                           \"y'all'd\": \"you all would\",\"y'all'd've\": \"you all would have\",\"y'all're\": \"you all are\",\"y'all've\": \"you all have\",\n",
    "                           \"you'd\": \"you would\", \"you'd've\": \"you would have\", \"you'll\": \"you will\", \"you'll've\": \"you will have\",\n",
    "                           \"you're\": \"you are\", \"you've\": \"you have\"}\n",
    "\n",
    "print(\"정규화 사전의 수: \",len(contractions))"
   ]
  },
  {
   "cell_type": "code",
   "execution_count": 10,
   "id": "artificial-relation",
   "metadata": {
    "ExecuteTime": {
     "end_time": "2021-02-19T07:11:12.357099Z",
     "start_time": "2021-02-19T07:11:12.353386Z"
    }
   },
   "outputs": [
    {
     "name": "stdout",
     "output_type": "stream",
     "text": [
      "불용어 개수 : 179\n",
      "['i', 'me', 'my', 'myself', 'we', 'our', 'ours', 'ourselves', 'you', \"you're\", \"you've\", \"you'll\", \"you'd\", 'your', 'yours', 'yourself', 'yourselves', 'he', 'him', 'his', 'himself', 'she', \"she's\", 'her', 'hers', 'herself', 'it', \"it's\", 'its', 'itself', 'they', 'them', 'their', 'theirs', 'themselves', 'what', 'which', 'who', 'whom', 'this', 'that', \"that'll\", 'these', 'those', 'am', 'is', 'are', 'was', 'were', 'be', 'been', 'being', 'have', 'has', 'had', 'having', 'do', 'does', 'did', 'doing', 'a', 'an', 'the', 'and', 'but', 'if', 'or', 'because', 'as', 'until', 'while', 'of', 'at', 'by', 'for', 'with', 'about', 'against', 'between', 'into', 'through', 'during', 'before', 'after', 'above', 'below', 'to', 'from', 'up', 'down', 'in', 'out', 'on', 'off', 'over', 'under', 'again', 'further', 'then', 'once', 'here', 'there', 'when', 'where', 'why', 'how', 'all', 'any', 'both', 'each', 'few', 'more', 'most', 'other', 'some', 'such', 'no', 'nor', 'not', 'only', 'own', 'same', 'so', 'than', 'too', 'very', 's', 't', 'can', 'will', 'just', 'don', \"don't\", 'should', \"should've\", 'now', 'd', 'll', 'm', 'o', 're', 've', 'y', 'ain', 'aren', \"aren't\", 'couldn', \"couldn't\", 'didn', \"didn't\", 'doesn', \"doesn't\", 'hadn', \"hadn't\", 'hasn', \"hasn't\", 'haven', \"haven't\", 'isn', \"isn't\", 'ma', 'mightn', \"mightn't\", 'mustn', \"mustn't\", 'needn', \"needn't\", 'shan', \"shan't\", 'shouldn', \"shouldn't\", 'wasn', \"wasn't\", 'weren', \"weren't\", 'won', \"won't\", 'wouldn', \"wouldn't\"]\n"
     ]
    }
   ],
   "source": [
    "print('불용어 개수 :', len(stopwords.words('english') ))\n",
    "print(stopwords.words('english'))"
   ]
  },
  {
   "cell_type": "code",
   "execution_count": 11,
   "id": "vertical-aberdeen",
   "metadata": {
    "ExecuteTime": {
     "end_time": "2021-02-19T07:11:12.417811Z",
     "start_time": "2021-02-19T07:11:12.412942Z"
    }
   },
   "outputs": [],
   "source": [
    "#데이터 전처리 함수\n",
    "def preprocess_sentence(sentence, remove_stopwords=True):\n",
    "    sentence = sentence.lower() # 텍스트 소문자화\n",
    "    sentence = BeautifulSoup(sentence, \"lxml\").text # <br />, <a href = ...> 등의 html 태그 제거\n",
    "    sentence = re.sub(r'\\([^)]*\\)', '', sentence) # 괄호로 닫힌 문자열 (...) 제거 Ex) my husband (and myself!) for => my husband for\n",
    "    sentence = re.sub('\"','', sentence) # 쌍따옴표 \" 제거\n",
    "    sentence = ' '.join([contractions[t] if t in contractions else t for t in sentence.split(\" \")]) # 약어 정규화\n",
    "    sentence = re.sub(r\"'s\\b\",\"\",sentence) # 소유격 제거. Ex) roland's -> roland\n",
    "    sentence = re.sub(\"[^a-zA-Z]\", \" \", sentence) # 영어 외 문자(숫자, 특수문자 등) 공백으로 변환\n",
    "    sentence = re.sub('[m]{2,}', 'mm', sentence) # m이 3개 이상이면 2개로 변경. Ex) ummmmmmm yeah -> umm yeah\n",
    "    \n",
    "    # 불용어 제거 (Text)\n",
    "    if remove_stopwords:\n",
    "        tokens = ' '.join(word for word in sentence.split() if not word in stopwords.words('english') if len(word) > 1)\n",
    "    # 불용어 미제거 (Summary)\n",
    "    else:\n",
    "        tokens = ' '.join(word for word in sentence.split() if len(word) > 1)\n",
    "    return tokens"
   ]
  },
  {
   "cell_type": "code",
   "execution_count": 12,
   "id": "simplified-fiber",
   "metadata": {
    "ExecuteTime": {
     "end_time": "2021-02-19T07:11:12.468257Z",
     "start_time": "2021-02-19T07:11:12.459839Z"
    }
   },
   "outputs": [
    {
     "name": "stdout",
     "output_type": "stream",
     "text": [
      "everything bought great infact ordered twice third ordered wasfor mother father\n",
      "great way to start the day\n",
      "\n",
      "everything bought was great infact ordered twice and the third ordered wasfor my mother and father\n",
      "great way start day\n"
     ]
    }
   ],
   "source": [
    "# 전처리 확인해보기\n",
    "temp_text = 'Everything I bought was great, infact I ordered twice and the third ordered was<br />for my mother and father.'\n",
    "temp_summary = 'Great way to start (or finish) the day!!!'\n",
    "\n",
    "print(preprocess_sentence(temp_text))\n",
    "print(preprocess_sentence(temp_summary, False))  # 불용어를 제거하지 않습니다.\n",
    "print()\n",
    "print(preprocess_sentence(temp_text, False))  # 불용어를 제거하지 않습니다.\n",
    "print(preprocess_sentence(temp_summary))  # 불용어를 제거하지 않습니다."
   ]
  },
  {
   "cell_type": "code",
   "execution_count": 13,
   "id": "aging-shepherd",
   "metadata": {
    "ExecuteTime": {
     "end_time": "2021-02-19T07:21:05.825927Z",
     "start_time": "2021-02-19T07:11:12.506456Z"
    }
   },
   "outputs": [
    {
     "data": {
      "text/plain": [
       "['bought several vitality canned dog food products found good quality product looks like stew processed meat smells better labrador finicky appreciates product better',\n",
       " 'product arrived labeled jumbo salted peanuts peanuts actually small sized unsalted sure error vendor intended represent product jumbo',\n",
       " 'confection around centuries light pillowy citrus gelatin nuts case filberts cut tiny squares liberally coated powdered sugar tiny mouthful heaven chewy flavorful highly recommend yummy treat familiar story lewis lion witch wardrobe treat seduces edmund selling brother sisters witch',\n",
       " 'looking secret ingredient robitussin believe found got addition root beer extract ordered made cherry soda flavor medicinal',\n",
       " 'great taffy great price wide assortment yummy taffy delivery quick taffy lover deal']"
      ]
     },
     "execution_count": 13,
     "metadata": {},
     "output_type": "execute_result"
    }
   ],
   "source": [
    "clean_text = []\n",
    "\n",
    "# 전체 Text 데이터에 대한 전처리 : 10분 이상 시간이 걸릴 수 있습니다. \n",
    "for s in data['Text']:\n",
    "    clean_text.append(preprocess_sentence(s))\n",
    "\n",
    "# 전처리 후 출력\n",
    "clean_text[:5]"
   ]
  },
  {
   "cell_type": "code",
   "execution_count": 14,
   "id": "processed-ranch",
   "metadata": {
    "ExecuteTime": {
     "end_time": "2021-02-19T07:21:21.372077Z",
     "start_time": "2021-02-19T07:21:05.827151Z"
    }
   },
   "outputs": [
    {
     "name": "stderr",
     "output_type": "stream",
     "text": [
      "/home/thuban/anaconda3/envs/aiffel/lib/python3.7/site-packages/bs4/__init__.py:282: UserWarning: \"http://www.amazon.com/gp/product/b007i7yygy/ref=cm_cr_rev_prod_title\" looks like a URL. Beautiful Soup is not an HTTP client. You should probably use an HTTP client like requests to get the document behind the URL, and feed that document to Beautiful Soup.\n",
      "  ' that document to Beautiful Soup.' % decoded_markup\n"
     ]
    },
    {
     "data": {
      "text/plain": [
       "['good quality dog food',\n",
       " 'not as advertised',\n",
       " 'delight says it all',\n",
       " 'cough medicine',\n",
       " 'great taffy']"
      ]
     },
     "execution_count": 14,
     "metadata": {},
     "output_type": "execute_result"
    }
   ],
   "source": [
    "clean_summary = []\n",
    "\n",
    "# 전체 Summary 데이터에 대한 전처리 : 5분 이상 시간이 걸릴 수 있습니다. \n",
    "for s in data['Summary']:\n",
    "    clean_summary.append(preprocess_sentence(s, False))\n",
    "\n",
    "clean_summary[:5]"
   ]
  },
  {
   "cell_type": "code",
   "execution_count": 15,
   "id": "coordinated-subscriber",
   "metadata": {
    "ExecuteTime": {
     "end_time": "2021-02-19T07:21:21.416241Z",
     "start_time": "2021-02-19T07:21:21.373521Z"
    }
   },
   "outputs": [
    {
     "data": {
      "text/plain": [
       "Text        0\n",
       "Summary    70\n",
       "dtype: int64"
      ]
     },
     "execution_count": 15,
     "metadata": {},
     "output_type": "execute_result"
    }
   ],
   "source": [
    "data['Text'] = clean_text\n",
    "data['Summary'] = clean_summary\n",
    "\n",
    "# 빈 값을 Null 값으로 변환\n",
    "data.replace('', np.nan, inplace=True)\n",
    "\n",
    "# 불용어 제거하고 빈문장이 생겼는지 확인\n",
    "data.isnull().sum()"
   ]
  },
  {
   "cell_type": "code",
   "execution_count": 16,
   "id": "declared-first",
   "metadata": {
    "ExecuteTime": {
     "end_time": "2021-02-19T07:21:21.450560Z",
     "start_time": "2021-02-19T07:21:21.417665Z"
    }
   },
   "outputs": [
    {
     "name": "stdout",
     "output_type": "stream",
     "text": [
      "전체 샘플수 : 88355\n"
     ]
    }
   ],
   "source": [
    "# null문장 제거\n",
    "data.dropna(axis=0, inplace=True)\n",
    "print('전체 샘플수 :',(len(data)))#데이터 전처리 함수"
   ]
  },
  {
   "cell_type": "markdown",
   "id": "stable-helena",
   "metadata": {
    "ExecuteTime": {
     "end_time": "2021-02-18T02:33:17.105087Z",
     "start_time": "2021-02-18T02:33:17.103038Z"
    }
   },
   "source": [
    "# 11-6. 데이터 전처리하기 (2) 훈련데이터와 테스트데이터 나누기"
   ]
  },
  {
   "cell_type": "code",
   "execution_count": 17,
   "id": "vulnerable-barcelona",
   "metadata": {
    "ExecuteTime": {
     "end_time": "2021-02-19T07:21:23.423612Z",
     "start_time": "2021-02-19T07:21:21.452355Z"
    }
   },
   "outputs": [
    {
     "name": "stdout",
     "output_type": "stream",
     "text": [
      "텍스트의 최소 길이 : 2\n",
      "텍스트의 최대 길이 : 1235\n",
      "텍스트의 평균 길이 : 38.792428272310566\n",
      "요약의 최소 길이 : 1\n",
      "요약의 최대 길이 : 28\n",
      "요약의 평균 길이 : 4.010729443721352\n"
     ]
    },
    {
     "data": {
      "image/png": "[encoded data removed]",
      "text/plain": [
       "<Figure size 432x288 with 2 Axes>"
      ]
     },
     "metadata": {
      "needs_background": "light"
     },
     "output_type": "display_data"
    },
    {
     "data": {
      "image/png": "[encoded data removed]",
      "text/plain": [
       "<Figure size 432x288 with 1 Axes>"
      ]
     },
     "metadata": {
      "needs_background": "light"
     },
     "output_type": "display_data"
    },
    {
     "data": {
      "image/png": "[encoded data removed]",
      "text/plain": [
       "<Figure size 432x288 with 1 Axes>"
      ]
     },
     "metadata": {
      "needs_background": "light"
     },
     "output_type": "display_data"
    }
   ],
   "source": [
    "# 길이 분포 출력\n",
    "import matplotlib.pyplot as plt\n",
    "\n",
    "text_len = [len(s.split()) for s in data['Text']]\n",
    "summary_len = [len(s.split()) for s in data['Summary']]\n",
    "\n",
    "print('텍스트의 최소 길이 : {}'.format(np.min(text_len)))\n",
    "print('텍스트의 최대 길이 : {}'.format(np.max(text_len)))\n",
    "print('텍스트의 평균 길이 : {}'.format(np.mean(text_len)))\n",
    "print('요약의 최소 길이 : {}'.format(np.min(summary_len)))\n",
    "print('요약의 최대 길이 : {}'.format(np.max(summary_len)))\n",
    "print('요약의 평균 길이 : {}'.format(np.mean(summary_len)))\n",
    "\n",
    "plt.subplot(1,2,1)\n",
    "plt.boxplot(summary_len)\n",
    "plt.title('Summary')\n",
    "plt.subplot(1,2,2)\n",
    "plt.boxplot(text_len)\n",
    "plt.title('Text')\n",
    "plt.tight_layout()\n",
    "plt.show()\n",
    "\n",
    "plt.title('Summary')\n",
    "plt.hist(summary_len, bins = 40)\n",
    "plt.xlabel('length of samples')\n",
    "plt.ylabel('number of samples')\n",
    "plt.show()\n",
    "\n",
    "plt.title('Text')\n",
    "plt.hist(text_len, bins = 40)\n",
    "plt.xlabel('length of samples')\n",
    "plt.ylabel('number of samples')\n",
    "plt.show()"
   ]
  },
  {
   "cell_type": "code",
   "execution_count": 18,
   "id": "powerful-fountain",
   "metadata": {
    "ExecuteTime": {
     "end_time": "2021-02-19T07:21:23.426465Z",
     "start_time": "2021-02-19T07:21:23.424659Z"
    }
   },
   "outputs": [],
   "source": [
    "# 텍스트와, 요약의 최대 단어길이 지정 (단어길이임)\n",
    "text_max_len = 50\n",
    "summary_max_len = 8"
   ]
  },
  {
   "cell_type": "code",
   "execution_count": 19,
   "id": "mineral-swing",
   "metadata": {
    "ExecuteTime": {
     "end_time": "2021-02-19T07:21:23.430102Z",
     "start_time": "2021-02-19T07:21:23.427545Z"
    }
   },
   "outputs": [],
   "source": [
    "def below_threshold_len(max_len, nested_list):\n",
    "  cnt = 0\n",
    "  for s in nested_list:\n",
    "    if(len(s.split()) <= max_len):\n",
    "        cnt = cnt + 1\n",
    "  print('전체 샘플 중 단어 길이가 %s 이하인 샘플의 비율: %s'%(max_len, (cnt / len(nested_list))))"
   ]
  },
  {
   "cell_type": "code",
   "execution_count": 20,
   "id": "single-oakland",
   "metadata": {
    "ExecuteTime": {
     "end_time": "2021-02-19T07:21:23.650275Z",
     "start_time": "2021-02-19T07:21:23.431934Z"
    }
   },
   "outputs": [
    {
     "name": "stdout",
     "output_type": "stream",
     "text": [
      "전체 샘플 중 단어 길이가 50 이하인 샘플의 비율: 0.7745119121724859\n",
      "전체 샘플 중 단어 길이가 8 이하인 샘플의 비율: 0.9424593967517402\n"
     ]
    }
   ],
   "source": [
    "below_threshold_len(text_max_len, data['Text'])\n",
    "below_threshold_len(summary_max_len,  data['Summary'])"
   ]
  },
  {
   "cell_type": "code",
   "execution_count": 21,
   "id": "outdoor-region",
   "metadata": {
    "ExecuteTime": {
     "end_time": "2021-02-19T07:21:23.704656Z",
     "start_time": "2021-02-19T07:21:23.651931Z"
    }
   },
   "outputs": [
    {
     "data": {
      "text/html": [
       "<div>\n",
       "<style scoped>\n",
       "    .dataframe tbody tr th:only-of-type {\n",
       "        vertical-align: middle;\n",
       "    }\n",
       "\n",
       "    .dataframe tbody tr th {\n",
       "        vertical-align: top;\n",
       "    }\n",
       "\n",
       "    .dataframe thead th {\n",
       "        text-align: right;\n",
       "    }\n",
       "</style>\n",
       "<table border=\"1\" class=\"dataframe\">\n",
       "  <thead>\n",
       "    <tr style=\"text-align: right;\">\n",
       "      <th></th>\n",
       "      <th>Text</th>\n",
       "      <th>Summary</th>\n",
       "      <th>decoder_input</th>\n",
       "      <th>decoder_target</th>\n",
       "    </tr>\n",
       "  </thead>\n",
       "  <tbody>\n",
       "    <tr>\n",
       "      <th>0</th>\n",
       "      <td>bought several vitality canned dog food produc...</td>\n",
       "      <td>good quality dog food</td>\n",
       "      <td>sostoken good quality dog food</td>\n",
       "      <td>good quality dog food eostoken</td>\n",
       "    </tr>\n",
       "    <tr>\n",
       "      <th>1</th>\n",
       "      <td>product arrived labeled jumbo salted peanuts p...</td>\n",
       "      <td>not as advertised</td>\n",
       "      <td>sostoken not as advertised</td>\n",
       "      <td>not as advertised eostoken</td>\n",
       "    </tr>\n",
       "    <tr>\n",
       "      <th>2</th>\n",
       "      <td>confection around centuries light pillowy citr...</td>\n",
       "      <td>delight says it all</td>\n",
       "      <td>sostoken delight says it all</td>\n",
       "      <td>delight says it all eostoken</td>\n",
       "    </tr>\n",
       "    <tr>\n",
       "      <th>3</th>\n",
       "      <td>looking secret ingredient robitussin believe f...</td>\n",
       "      <td>cough medicine</td>\n",
       "      <td>sostoken cough medicine</td>\n",
       "      <td>cough medicine eostoken</td>\n",
       "    </tr>\n",
       "    <tr>\n",
       "      <th>4</th>\n",
       "      <td>great taffy great price wide assortment yummy ...</td>\n",
       "      <td>great taffy</td>\n",
       "      <td>sostoken great taffy</td>\n",
       "      <td>great taffy eostoken</td>\n",
       "    </tr>\n",
       "  </tbody>\n",
       "</table>\n",
       "</div>"
      ],
      "text/plain": [
       "                                                Text                Summary  \\\n",
       "0  bought several vitality canned dog food produc...  good quality dog food   \n",
       "1  product arrived labeled jumbo salted peanuts p...      not as advertised   \n",
       "2  confection around centuries light pillowy citr...    delight says it all   \n",
       "3  looking secret ingredient robitussin believe f...         cough medicine   \n",
       "4  great taffy great price wide assortment yummy ...            great taffy   \n",
       "\n",
       "                    decoder_input                  decoder_target  \n",
       "0  sostoken good quality dog food  good quality dog food eostoken  \n",
       "1      sostoken not as advertised      not as advertised eostoken  \n",
       "2    sostoken delight says it all    delight says it all eostoken  \n",
       "3         sostoken cough medicine         cough medicine eostoken  \n",
       "4            sostoken great taffy            great taffy eostoken  "
      ]
     },
     "execution_count": 21,
     "metadata": {},
     "output_type": "execute_result"
    }
   ],
   "source": [
    "#훈련을 위해 요약 데이터에는 시작 토큰과 종료 토큰을 추가한다.\n",
    "data['decoder_input'] = data['Summary'].apply(lambda x : 'sostoken '+ x)\n",
    "data['decoder_target'] = data['Summary'].apply(lambda x : x + ' eostoken')\n",
    "data.head()"
   ]
  },
  {
   "cell_type": "code",
   "execution_count": 22,
   "id": "assured-guide",
   "metadata": {
    "ExecuteTime": {
     "end_time": "2021-02-19T07:21:23.711678Z",
     "start_time": "2021-02-19T07:21:23.706328Z"
    }
   },
   "outputs": [],
   "source": [
    "# numpy로 지정\n",
    "encoder_input = np.array(data['Text']) # 인코더의 입력\n",
    "decoder_input = np.array(data['decoder_input']) # 디코더의 입력\n",
    "decoder_target = np.array(data['decoder_target']) # 디코더의 레이블"
   ]
  },
  {
   "cell_type": "code",
   "execution_count": 23,
   "id": "supported-repeat",
   "metadata": {
    "ExecuteTime": {
     "end_time": "2021-02-19T07:21:23.728544Z",
     "start_time": "2021-02-19T07:21:23.712812Z"
    }
   },
   "outputs": [
    {
     "name": "stdout",
     "output_type": "stream",
     "text": [
      "[ 2591 21251 57508 ... 42623 87627 85366]\n"
     ]
    }
   ],
   "source": [
    "#ランダムに混ぜるため番号表を作成\n",
    "indices = np.arange(encoder_input.shape[0])\n",
    "np.random.shuffle(indices)\n",
    "print(indices)\n",
    "\n",
    "#得た番号表で実際に混ぜる\n",
    "encoder_input = encoder_input[indices]\n",
    "decoder_input = decoder_input[indices]\n",
    "decoder_target = decoder_target[indices]"
   ]
  },
  {
   "cell_type": "code",
   "execution_count": 24,
   "id": "infectious-cookie",
   "metadata": {
    "ExecuteTime": {
     "end_time": "2021-02-19T07:21:23.734698Z",
     "start_time": "2021-02-19T07:21:23.729830Z"
    }
   },
   "outputs": [
    {
     "name": "stdout",
     "output_type": "stream",
     "text": [
      "테스트 데이터의 수 : 17671\n",
      "훈련 데이터의 개수 : 70684\n",
      "훈련 레이블의 개수 : 70684\n",
      "테스트 데이터의 개수 : 17671\n",
      "테스트 레이블의 개수 : 17671\n"
     ]
    }
   ],
   "source": [
    "#テストデータを分けるため\n",
    "n_of_val = int(len(encoder_input)*0.2)\n",
    "print('테스트 데이터의 수 :',n_of_val)\n",
    "      \n",
    "      \n",
    "#実際に軍連データとテストデータで分ける\n",
    "encoder_input_train = encoder_input[:-n_of_val]\n",
    "decoder_input_train = decoder_input[:-n_of_val]\n",
    "decoder_target_train = decoder_target[:-n_of_val]\n",
    "\n",
    "encoder_input_test = encoder_input[-n_of_val:]\n",
    "decoder_input_test = decoder_input[-n_of_val:]\n",
    "decoder_target_test = decoder_target[-n_of_val:]\n",
    "\n",
    "print('훈련 데이터의 개수 :', len(encoder_input_train))\n",
    "print('훈련 레이블의 개수 :',len(decoder_input_train))\n",
    "print('테스트 데이터의 개수 :',len(encoder_input_test))\n",
    "print('테스트 레이블의 개수 :',len(decoder_input_test))"
   ]
  },
  {
   "cell_type": "markdown",
   "id": "checked-afghanistan",
   "metadata": {},
   "source": [
    "# 11-7. 데이터 전처리하기 (3) 정수 인코딩"
   ]
  },
  {
   "cell_type": "code",
   "execution_count": 25,
   "id": "lesser-competition",
   "metadata": {
    "ExecuteTime": {
     "end_time": "2021-02-19T07:21:25.847753Z",
     "start_time": "2021-02-19T07:21:23.736036Z"
    }
   },
   "outputs": [],
   "source": [
    "# 単語を整数化するために\n",
    "src_tokenizer = Tokenizer() # 토크나이저 정의\n",
    "src_tokenizer.fit_on_texts(encoder_input_train) # 입력된 데이터로부터 단어 집합 생성"
   ]
  },
  {
   "cell_type": "code",
   "execution_count": 26,
   "id": "decreased-exhibition",
   "metadata": {
    "ExecuteTime": {
     "end_time": "2021-02-19T07:21:25.869463Z",
     "start_time": "2021-02-19T07:21:25.848909Z"
    }
   },
   "outputs": [
    {
     "name": "stdout",
     "output_type": "stream",
     "text": [
      "단어 집합(vocabulary)의 크기 : 49321\n",
      "등장 빈도가 6번 이하인 희귀 단어의 수: 36095\n",
      "단어 집합에서 희귀 단어를 제외시킬 경우의 단어 집합의 크기 13226\n",
      "단어 집합에서 희귀 단어의 비율: 73.18383649966546\n",
      "전체 등장 빈도에서 희귀 단어 등장 빈도 비율: 2.3833064720608763\n"
     ]
    }
   ],
   "source": [
    "#単語の頻繁度を表示してよく使わない単語は除外するため\n",
    "threshold = 7\n",
    "total_cnt = len(src_tokenizer.word_index) # 단어의 수\n",
    "rare_cnt = 0 # 등장 빈도수가 threshold보다 작은 단어의 개수를 카운트\n",
    "total_freq = 0 # 훈련 데이터의 전체 단어 빈도수 총 합\n",
    "rare_freq = 0 # 등장 빈도수가 threshold보다 작은 단어의 등장 빈도수의 총 합\n",
    "\n",
    "# 단어와 빈도수의 쌍(pair)을 key와 value로 받는다.\n",
    "for key, value in src_tokenizer.word_counts.items():\n",
    "    total_freq = total_freq + value\n",
    "\n",
    "    # 단어의 등장 빈도수가 threshold보다 작으면\n",
    "    if(value < threshold):\n",
    "        rare_cnt = rare_cnt + 1\n",
    "        rare_freq = rare_freq + value\n",
    "\n",
    "print('단어 집합(vocabulary)의 크기 :',total_cnt)\n",
    "print('등장 빈도가 %s번 이하인 희귀 단어의 수: %s'%(threshold - 1, rare_cnt))\n",
    "print('단어 집합에서 희귀 단어를 제외시킬 경우의 단어 집합의 크기 %s'%(total_cnt - rare_cnt))\n",
    "print(\"단어 집합에서 희귀 단어의 비율:\", (rare_cnt / total_cnt)*100)\n",
    "print(\"전체 등장 빈도에서 희귀 단어 등장 빈도 비율:\", (rare_freq / total_freq)*100)"
   ]
  },
  {
   "cell_type": "code",
   "execution_count": 27,
   "id": "vanilla-virginia",
   "metadata": {
    "ExecuteTime": {
     "end_time": "2021-02-19T07:21:28.027668Z",
     "start_time": "2021-02-19T07:21:25.870549Z"
    }
   },
   "outputs": [],
   "source": [
    "# 実際によく使わない単語を除外する\n",
    "src_vocab = 13000\n",
    "src_tokenizer = Tokenizer(num_words = src_vocab) # 단어 집합의 크기를 13,000으로 제한\n",
    "src_tokenizer.fit_on_texts(encoder_input_train) # 단어 집합 재생성."
   ]
  },
  {
   "cell_type": "code",
   "execution_count": 28,
   "id": "resistant-scale",
   "metadata": {
    "ExecuteTime": {
     "end_time": "2021-02-19T07:21:30.483421Z",
     "start_time": "2021-02-19T07:21:28.028934Z"
    }
   },
   "outputs": [
    {
     "name": "stdout",
     "output_type": "stream",
     "text": [
      "[[265, 44, 7666, 3936, 2291, 53, 11, 856, 12, 2551, 1133, 1196, 402, 265, 1582, 54, 31, 265, 544, 79, 4, 71, 178], [410, 108, 609, 9272, 4394, 1736, 1147, 1181, 88, 270, 37, 13, 75], [496, 3790, 93, 137, 163, 613, 1844, 165, 9, 7, 584, 117, 1465, 26, 1565, 425, 752, 146, 155, 121, 421, 519, 355, 585, 41, 9, 339, 242, 231, 89, 41, 147, 254, 15, 485, 355, 35, 5, 4155, 322, 5, 1424, 2, 89, 4437, 6274, 726, 241, 90, 2974, 873, 131, 30, 128, 403, 9, 8, 681, 85, 408, 227, 7, 37, 18, 2436]]\n"
     ]
    }
   ],
   "source": [
    "# 텍스트 시퀀스를 정수 시퀀스로 변환\n",
    "encoder_input_train = src_tokenizer.texts_to_sequences(encoder_input_train) \n",
    "encoder_input_test = src_tokenizer.texts_to_sequences(encoder_input_test)\n",
    "\n",
    "#잘 진행되었는지 샘플 출력\n",
    "print(encoder_input_train[:3])"
   ]
  },
  {
   "cell_type": "code",
   "execution_count": 29,
   "id": "ongoing-paste",
   "metadata": {
    "ExecuteTime": {
     "end_time": "2021-02-19T07:21:31.120991Z",
     "start_time": "2021-02-19T07:21:30.484636Z"
    }
   },
   "outputs": [],
   "source": [
    "#要約も同じくする\n",
    "tar_tokenizer = Tokenizer()\n",
    "tar_tokenizer.fit_on_texts(decoder_input_train)"
   ]
  },
  {
   "cell_type": "code",
   "execution_count": 30,
   "id": "opened-wonder",
   "metadata": {
    "ExecuteTime": {
     "end_time": "2021-02-19T07:21:31.133501Z",
     "start_time": "2021-02-19T07:21:31.122146Z"
    }
   },
   "outputs": [
    {
     "name": "stdout",
     "output_type": "stream",
     "text": [
      "단어 집합(vocabulary)의 크기 : 13254\n",
      "등장 빈도가 5번 이하인 희귀 단어의 수: 10023\n",
      "단어 집합에서 희귀 단어를 제외시킬 경우의 단어 집합의 크기 3231\n",
      "단어 집합에서 희귀 단어의 비율: 75.62245359891352\n",
      "전체 등장 빈도에서 희귀 단어 등장 빈도 비율: 4.783789960135083\n"
     ]
    }
   ],
   "source": [
    "threshold = 6\n",
    "total_cnt = len(tar_tokenizer.word_index) # 단어의 수\n",
    "rare_cnt = 0 # 등장 빈도수가 threshold보다 작은 단어의 개수를 카운트\n",
    "total_freq = 0 # 훈련 데이터의 전체 단어 빈도수 총 합\n",
    "rare_freq = 0 # 등장 빈도수가 threshold보다 작은 단어의 등장 빈도수의 총 합\n",
    "\n",
    "# 단어와 빈도수의 쌍(pair)을 key와 value로 받는다.\n",
    "for key, value in tar_tokenizer.word_counts.items():\n",
    "    total_freq = total_freq + value\n",
    "\n",
    "    # 단어의 등장 빈도수가 threshold보다 작으면\n",
    "    if(value < threshold):\n",
    "        rare_cnt = rare_cnt + 1\n",
    "        rare_freq = rare_freq + value\n",
    "\n",
    "print('단어 집합(vocabulary)의 크기 :',total_cnt)\n",
    "print('등장 빈도가 %s번 이하인 희귀 단어의 수: %s'%(threshold - 1, rare_cnt))\n",
    "print('단어 집합에서 희귀 단어를 제외시킬 경우의 단어 집합의 크기 %s'%(total_cnt - rare_cnt))\n",
    "print(\"단어 집합에서 희귀 단어의 비율:\", (rare_cnt / total_cnt)*100)\n",
    "print(\"전체 등장 빈도에서 희귀 단어 등장 빈도 비율:\", (rare_freq / total_freq)*100)"
   ]
  },
  {
   "cell_type": "code",
   "execution_count": 31,
   "id": "solar-agency",
   "metadata": {
    "ExecuteTime": {
     "end_time": "2021-02-19T07:21:33.910159Z",
     "start_time": "2021-02-19T07:21:31.134693Z"
    }
   },
   "outputs": [
    {
     "name": "stdout",
     "output_type": "stream",
     "text": [
      "input\n",
      "input  [[1, 1989, 9, 154, 8, 219, 94], [1, 120, 6, 415, 301], [1, 6, 58, 177], [1, 226, 596, 8, 739, 703, 490], [1, 23, 30, 12, 200, 35, 62, 7, 73]]\n",
      "target\n",
      "decoder  [[1989, 9, 154, 8, 219, 94, 2], [120, 6, 415, 301, 2], [6, 58, 177, 2], [226, 596, 8, 739, 703, 490, 2], [23, 30, 12, 200, 35, 62, 7, 73, 2]]\n"
     ]
    }
   ],
   "source": [
    "tar_vocab = 3000\n",
    "tar_tokenizer = Tokenizer(num_words = tar_vocab) \n",
    "tar_tokenizer.fit_on_texts(decoder_input_train)\n",
    "tar_tokenizer.fit_on_texts(decoder_target_train)\n",
    "\n",
    "# 텍스트 시퀀스를 정수 시퀀스로 변환\n",
    "decoder_input_train = tar_tokenizer.texts_to_sequences(decoder_input_train) \n",
    "decoder_target_train = tar_tokenizer.texts_to_sequences(decoder_target_train)\n",
    "decoder_input_test = tar_tokenizer.texts_to_sequences(decoder_input_test)\n",
    "decoder_target_test = tar_tokenizer.texts_to_sequences(decoder_target_test)\n",
    "\n",
    "#잘 변환되었는지 확인\n",
    "print('input')\n",
    "print('input ',decoder_input_train[:5])\n",
    "print('target')\n",
    "print('decoder ',decoder_target_train[:5])"
   ]
  },
  {
   "cell_type": "code",
   "execution_count": 32,
   "id": "duplicate-pressure",
   "metadata": {
    "ExecuteTime": {
     "end_time": "2021-02-19T07:21:34.126751Z",
     "start_time": "2021-02-19T07:21:33.911205Z"
    }
   },
   "outputs": [
    {
     "name": "stdout",
     "output_type": "stream",
     "text": [
      "삭제할 훈련 데이터의 개수 : 1111\n",
      "삭제할 테스트 데이터의 개수 : 298\n",
      "훈련 데이터의 개수 : 69573\n",
      "훈련 레이블의 개수 : 69573\n",
      "테스트 데이터의 개수 : 17373\n",
      "테스트 레이블의 개수 : 17373\n"
     ]
    }
   ],
   "source": [
    "# Tokenizerのfit_on_textsのせいで文章の配列の中に何も入ってない状態になったかも知れないので\n",
    "# それがあったら削除する\n",
    "drop_train = [index for index, sentence in enumerate(decoder_input_train) if len(sentence) == 1]\n",
    "drop_test = [index for index, sentence in enumerate(decoder_input_test) if len(sentence) == 1]\n",
    "\n",
    "print('삭제할 훈련 데이터의 개수 :',len(drop_train))\n",
    "print('삭제할 테스트 데이터의 개수 :',len(drop_test))\n",
    "\n",
    "encoder_input_train = np.delete(encoder_input_train, drop_train, axis=0)\n",
    "decoder_input_train = np.delete(decoder_input_train, drop_train, axis=0)\n",
    "decoder_target_train = np.delete(decoder_target_train, drop_train, axis=0)\n",
    "\n",
    "encoder_input_test = np.delete(encoder_input_test, drop_test, axis=0)\n",
    "decoder_input_test = np.delete(decoder_input_test, drop_test, axis=0)\n",
    "decoder_target_test = np.delete(decoder_target_test, drop_test, axis=0)\n",
    "\n",
    "print('훈련 데이터의 개수 :', len(encoder_input_train))\n",
    "print('훈련 레이블의 개수 :',len(decoder_input_train))\n",
    "print('테스트 데이터의 개수 :',len(encoder_input_test))\n",
    "print('테스트 레이블의 개수 :',len(decoder_input_test))"
   ]
  },
  {
   "cell_type": "code",
   "execution_count": 33,
   "id": "square-associate",
   "metadata": {
    "ExecuteTime": {
     "end_time": "2021-02-19T07:21:35.118965Z",
     "start_time": "2021-02-19T07:21:34.127914Z"
    }
   },
   "outputs": [],
   "source": [
    "# padding する、訓練するときデータの同じ長さで入力しないとエラーがでるので\n",
    "encoder_input_train = pad_sequences(encoder_input_train, maxlen = text_max_len, padding='post')\n",
    "encoder_input_test = pad_sequences(encoder_input_test, maxlen = text_max_len, padding='post')\n",
    "decoder_input_train = pad_sequences(decoder_input_train, maxlen = summary_max_len, padding='post')\n",
    "decoder_target_train = pad_sequences(decoder_target_train, maxlen = summary_max_len, padding='post')\n",
    "decoder_input_test = pad_sequences(decoder_input_test, maxlen = summary_max_len, padding='post')\n",
    "decoder_target_test = pad_sequences(decoder_target_test, maxlen = summary_max_len, padding='post')"
   ]
  },
  {
   "cell_type": "markdown",
   "id": "acting-hollow",
   "metadata": {},
   "source": [
    "# 11-8. 모델 설계하기"
   ]
  },
  {
   "cell_type": "code",
   "execution_count": 34,
   "id": "rural-victim",
   "metadata": {
    "ExecuteTime": {
     "end_time": "2021-02-19T07:21:41.257095Z",
     "start_time": "2021-02-19T07:21:40.005678Z"
    }
   },
   "outputs": [
    {
     "name": "stdout",
     "output_type": "stream",
     "text": [
      "WARNING:tensorflow:Layer lstm will not use cuDNN kernel since it doesn't meet the cuDNN kernel criteria. It will use generic GPU kernel as fallback when running on GPU\n",
      "WARNING:tensorflow:Layer lstm_1 will not use cuDNN kernel since it doesn't meet the cuDNN kernel criteria. It will use generic GPU kernel as fallback when running on GPU\n",
      "WARNING:tensorflow:Layer lstm_2 will not use cuDNN kernel since it doesn't meet the cuDNN kernel criteria. It will use generic GPU kernel as fallback when running on GPU\n"
     ]
    }
   ],
   "source": [
    "from tensorflow.keras.layers import Input, LSTM, Embedding, Dense, Concatenate\n",
    "from tensorflow.keras.models import Model\n",
    "from tensorflow.keras.callbacks import EarlyStopping, ModelCheckpoint\n",
    "\n",
    "\n",
    "# 인코더 설계 시작\n",
    "embedding_dim = 128\n",
    "hidden_size = 256\n",
    "\n",
    "# 인코더\n",
    "encoder_inputs = Input(shape=(text_max_len,))\n",
    "\n",
    "# 인코더의 임베딩 층\n",
    "enc_emb = Embedding(src_vocab, embedding_dim)(encoder_inputs)\n",
    "\n",
    "# 인코더의 LSTM 1\n",
    "encoder_lstm1 = LSTM(hidden_size, return_sequences=True, return_state=True ,dropout = 0.4, recurrent_dropout = 0.4)\n",
    "encoder_output1, state_h1, state_c1 = encoder_lstm1(enc_emb)\n",
    "\n",
    "# 인코더의 LSTM 2\n",
    "encoder_lstm2 = LSTM(hidden_size, return_sequences=True, return_state=True, dropout=0.4, recurrent_dropout=0.4)\n",
    "encoder_output2, state_h2, state_c2 = encoder_lstm2(encoder_output1)\n",
    "\n",
    "# 인코더의 LSTM 3\n",
    "encoder_lstm3 = LSTM(hidden_size, return_state=True, return_sequences=True, dropout=0.4, recurrent_dropout=0.4)\n",
    "encoder_outputs, state_h, state_c= encoder_lstm3(encoder_output2)"
   ]
  },
  {
   "cell_type": "code",
   "execution_count": 35,
   "id": "equipped-convergence",
   "metadata": {
    "ExecuteTime": {
     "end_time": "2021-02-19T07:21:41.666247Z",
     "start_time": "2021-02-19T07:21:41.420600Z"
    }
   },
   "outputs": [
    {
     "name": "stdout",
     "output_type": "stream",
     "text": [
      "WARNING:tensorflow:Layer lstm_3 will not use cuDNN kernel since it doesn't meet the cuDNN kernel criteria. It will use generic GPU kernel as fallback when running on GPU\n"
     ]
    }
   ],
   "source": [
    "# 디코더 설계\n",
    "\n",
    "decoder_inputs = Input(shape=(None,))\n",
    "\n",
    "# 디코더의 임베딩 층\n",
    "dec_emb_layer = Embedding(tar_vocab, embedding_dim)\n",
    "dec_emb = dec_emb_layer(decoder_inputs)\n",
    "\n",
    "# 디코더의 LSTM\n",
    "decoder_lstm = LSTM(hidden_size, return_sequences = True, return_state = True, dropout = 0.4, recurrent_dropout=0.2)\n",
    "decoder_outputs, _, _ = decoder_lstm(dec_emb, initial_state = [state_h, state_c])"
   ]
  },
  {
   "cell_type": "code",
   "execution_count": 36,
   "id": "metropolitan-melissa",
   "metadata": {
    "ExecuteTime": {
     "end_time": "2021-02-19T07:21:41.874829Z",
     "start_time": "2021-02-19T07:21:41.847538Z"
    }
   },
   "outputs": [
    {
     "name": "stdout",
     "output_type": "stream",
     "text": [
      "Model: \"model\"\n",
      "__________________________________________________________________________________________________\n",
      "Layer (type)                    Output Shape         Param #     Connected to                     \n",
      "==================================================================================================\n",
      "input_1 (InputLayer)            [(None, 50)]         0                                            \n",
      "__________________________________________________________________________________________________\n",
      "embedding (Embedding)           (None, 50, 128)      1664000     input_1[0][0]                    \n",
      "__________________________________________________________________________________________________\n",
      "lstm (LSTM)                     [(None, 50, 256), (N 394240      embedding[0][0]                  \n",
      "__________________________________________________________________________________________________\n",
      "input_2 (InputLayer)            [(None, None)]       0                                            \n",
      "__________________________________________________________________________________________________\n",
      "lstm_1 (LSTM)                   [(None, 50, 256), (N 525312      lstm[0][0]                       \n",
      "__________________________________________________________________________________________________\n",
      "embedding_1 (Embedding)         (None, None, 128)    384000      input_2[0][0]                    \n",
      "__________________________________________________________________________________________________\n",
      "lstm_2 (LSTM)                   [(None, 50, 256), (N 525312      lstm_1[0][0]                     \n",
      "__________________________________________________________________________________________________\n",
      "lstm_3 (LSTM)                   [(None, None, 256),  394240      embedding_1[0][0]                \n",
      "                                                                 lstm_2[0][1]                     \n",
      "                                                                 lstm_2[0][2]                     \n",
      "__________________________________________________________________________________________________\n",
      "dense (Dense)                   (None, None, 3000)   771000      lstm_3[0][0]                     \n",
      "==================================================================================================\n",
      "Total params: 4,658,104\n",
      "Trainable params: 4,658,104\n",
      "Non-trainable params: 0\n",
      "__________________________________________________________________________________________________\n"
     ]
    }
   ],
   "source": [
    "# 디코더의 출력층\n",
    "decoder_softmax_layer = Dense(tar_vocab, activation = 'softmax')\n",
    "decoder_softmax_outputs = decoder_softmax_layer(decoder_outputs) \n",
    "\n",
    "# 모델 정의\n",
    "model = Model([encoder_inputs, decoder_inputs], decoder_softmax_outputs)\n",
    "model.summary()"
   ]
  },
  {
   "cell_type": "markdown",
   "id": "metric-glory",
   "metadata": {
    "ExecuteTime": {
     "end_time": "2021-02-19T06:14:49.943986Z",
     "start_time": "2021-02-19T06:14:49.938860Z"
    }
   },
   "source": [
    "## 어텐션 매커니즘"
   ]
  },
  {
   "cell_type": "code",
   "execution_count": 37,
   "id": "revolutionary-blank",
   "metadata": {
    "ExecuteTime": {
     "end_time": "2021-02-19T07:21:42.242130Z",
     "start_time": "2021-02-19T07:21:41.876208Z"
    }
   },
   "outputs": [],
   "source": [
    "urllib.request.urlretrieve(\"https://raw.githubusercontent.com/thushv89/attention_keras/master/src/layers/attention.py\", filename=\"attention.py\")\n",
    "from attention import AttentionLayer"
   ]
  },
  {
   "cell_type": "code",
   "execution_count": 38,
   "id": "featured-algeria",
   "metadata": {
    "ExecuteTime": {
     "end_time": "2021-02-19T07:21:42.810055Z",
     "start_time": "2021-02-19T07:21:42.243296Z"
    }
   },
   "outputs": [
    {
     "name": "stdout",
     "output_type": "stream",
     "text": [
      "Model: \"model_1\"\n",
      "__________________________________________________________________________________________________\n",
      "Layer (type)                    Output Shape         Param #     Connected to                     \n",
      "==================================================================================================\n",
      "input_1 (InputLayer)            [(None, 50)]         0                                            \n",
      "__________________________________________________________________________________________________\n",
      "embedding (Embedding)           (None, 50, 128)      1664000     input_1[0][0]                    \n",
      "__________________________________________________________________________________________________\n",
      "lstm (LSTM)                     [(None, 50, 256), (N 394240      embedding[0][0]                  \n",
      "__________________________________________________________________________________________________\n",
      "input_2 (InputLayer)            [(None, None)]       0                                            \n",
      "__________________________________________________________________________________________________\n",
      "lstm_1 (LSTM)                   [(None, 50, 256), (N 525312      lstm[0][0]                       \n",
      "__________________________________________________________________________________________________\n",
      "embedding_1 (Embedding)         (None, None, 128)    384000      input_2[0][0]                    \n",
      "__________________________________________________________________________________________________\n",
      "lstm_2 (LSTM)                   [(None, 50, 256), (N 525312      lstm_1[0][0]                     \n",
      "__________________________________________________________________________________________________\n",
      "lstm_3 (LSTM)                   [(None, None, 256),  394240      embedding_1[0][0]                \n",
      "                                                                 lstm_2[0][1]                     \n",
      "                                                                 lstm_2[0][2]                     \n",
      "__________________________________________________________________________________________________\n",
      "attention_layer (AttentionLayer ((None, None, 256),  131328      lstm_2[0][0]                     \n",
      "                                                                 lstm_3[0][0]                     \n",
      "__________________________________________________________________________________________________\n",
      "concat_layer (Concatenate)      (None, None, 512)    0           lstm_3[0][0]                     \n",
      "                                                                 attention_layer[0][0]            \n",
      "__________________________________________________________________________________________________\n",
      "dense_1 (Dense)                 (None, None, 3000)   1539000     concat_layer[0][0]               \n",
      "==================================================================================================\n",
      "Total params: 5,557,432\n",
      "Trainable params: 5,557,432\n",
      "Non-trainable params: 0\n",
      "__________________________________________________________________________________________________\n"
     ]
    }
   ],
   "source": [
    "# 어텐션 층(어텐션 함수)\n",
    "attn_layer = AttentionLayer(name='attention_layer')\n",
    "# 인코더와 디코더의 모든 time step의 hidden state를 어텐션 층에 전달하고 결과를 리턴\n",
    "attn_out, attn_states = attn_layer([encoder_outputs, decoder_outputs])\n",
    "\n",
    "# 어텐션의 결과와 디코더의 hidden state들을 연결\n",
    "decoder_concat_input = Concatenate(axis = -1, name='concat_layer')([decoder_outputs, attn_out])\n",
    "\n",
    "# 디코더의 출력층\n",
    "decoder_softmax_layer = Dense(tar_vocab, activation='softmax')\n",
    "decoder_softmax_outputs = decoder_softmax_layer(decoder_concat_input)\n",
    "\n",
    "# 모델 정의\n",
    "model = Model([encoder_inputs, decoder_inputs], decoder_softmax_outputs)\n",
    "model.summary()"
   ]
  },
  {
   "cell_type": "markdown",
   "id": "hidden-container",
   "metadata": {},
   "source": [
    "# 11-9. 모델 훈련하기"
   ]
  },
  {
   "cell_type": "code",
   "execution_count": 39,
   "id": "ancient-isolation",
   "metadata": {
    "ExecuteTime": {
     "end_time": "2021-02-19T07:49:31.157963Z",
     "start_time": "2021-02-19T07:21:42.811094Z"
    }
   },
   "outputs": [
    {
     "name": "stdout",
     "output_type": "stream",
     "text": [
      "Epoch 1/50\n",
      "272/272 [==============================] - 95s 351ms/step - loss: 3.1023 - val_loss: 2.8353\n",
      "Epoch 2/50\n",
      "272/272 [==============================] - 93s 342ms/step - loss: 2.7698 - val_loss: 2.6387\n",
      "Epoch 3/50\n",
      "272/272 [==============================] - 97s 356ms/step - loss: 2.5739 - val_loss: 2.4838\n",
      "Epoch 4/50\n",
      "272/272 [==============================] - 94s 344ms/step - loss: 2.4385 - val_loss: 2.3931\n",
      "Epoch 5/50\n",
      "272/272 [==============================] - 93s 341ms/step - loss: 2.3494 - val_loss: 2.3454\n",
      "Epoch 6/50\n",
      "272/272 [==============================] - 89s 329ms/step - loss: 2.2828 - val_loss: 2.3005\n",
      "Epoch 7/50\n",
      "272/272 [==============================] - 87s 318ms/step - loss: 2.2258 - val_loss: 2.2739\n",
      "Epoch 8/50\n",
      "272/272 [==============================] - 91s 334ms/step - loss: 2.1765 - val_loss: 2.2479\n",
      "Epoch 9/50\n",
      "272/272 [==============================] - 95s 348ms/step - loss: 2.1316 - val_loss: 2.2276\n",
      "Epoch 10/50\n",
      "272/272 [==============================] - 96s 353ms/step - loss: 2.0934 - val_loss: 2.2104\n",
      "Epoch 11/50\n",
      "272/272 [==============================] - 94s 347ms/step - loss: 2.0560 - val_loss: 2.1970\n",
      "Epoch 12/50\n",
      "272/272 [==============================] - 95s 350ms/step - loss: 2.0220 - val_loss: 2.1931\n",
      "Epoch 13/50\n",
      "272/272 [==============================] - 93s 343ms/step - loss: 1.9914 - val_loss: 2.1909\n",
      "Epoch 14/50\n",
      "272/272 [==============================] - 89s 329ms/step - loss: 1.9628 - val_loss: 2.1812\n",
      "Epoch 15/50\n",
      "272/272 [==============================] - 88s 324ms/step - loss: 1.9347 - val_loss: 2.1804\n",
      "Epoch 16/50\n",
      "272/272 [==============================] - 89s 327ms/step - loss: 1.9092 - val_loss: 2.1778\n",
      "Epoch 17/50\n",
      "272/272 [==============================] - 88s 322ms/step - loss: 1.8859 - val_loss: 2.1785\n",
      "Epoch 18/50\n",
      "272/272 [==============================] - 87s 318ms/step - loss: 1.8616 - val_loss: 2.1794\n",
      "Epoch 00018: early stopping\n"
     ]
    }
   ],
   "source": [
    "model.compile(optimizer='rmsprop', loss='sparse_categorical_crossentropy')\n",
    "es = EarlyStopping(monitor='val_loss', mode='min', verbose=1, patience = 2)\n",
    "history = model.fit(x = [encoder_input_train, decoder_input_train], y = decoder_target_train, \\\n",
    "          validation_data = ([encoder_input_test, decoder_input_test], decoder_target_test),\n",
    "          batch_size = 256, callbacks=[es], epochs = 50)"
   ]
  },
  {
   "cell_type": "code",
   "execution_count": 40,
   "id": "combined-spirituality",
   "metadata": {
    "ExecuteTime": {
     "end_time": "2021-02-19T07:49:31.279011Z",
     "start_time": "2021-02-19T07:49:31.159370Z"
    }
   },
   "outputs": [
    {
     "data": {
      "image/png": "[encoded data removed]",
      "text/plain": [
       "<Figure size 432x288 with 1 Axes>"
      ]
     },
     "metadata": {
      "needs_background": "light"
     },
     "output_type": "display_data"
    }
   ],
   "source": [
    "plt.plot(history.history['loss'], label='train')\n",
    "plt.plot(history.history['val_loss'], label='test')\n",
    "plt.legend()\n",
    "plt.show()"
   ]
  },
  {
   "cell_type": "markdown",
   "id": "exclusive-front",
   "metadata": {
    "ExecuteTime": {
     "end_time": "2021-02-19T06:55:37.237274Z",
     "start_time": "2021-02-19T06:55:37.235518Z"
    }
   },
   "source": [
    "# 11-10. 인퍼런스 모델 구현하기"
   ]
  },
  {
   "cell_type": "code",
   "execution_count": 41,
   "id": "prerequisite-public",
   "metadata": {
    "ExecuteTime": {
     "end_time": "2021-02-19T07:49:32.075862Z",
     "start_time": "2021-02-19T07:49:32.073872Z"
    }
   },
   "outputs": [],
   "source": [
    "src_index_to_word = src_tokenizer.index_word # 원문 단어 집합에서 정수 -> 단어를 얻음\n",
    "tar_word_to_index = tar_tokenizer.word_index # 요약 단어 집합에서 단어 -> 정수를 얻음\n",
    "tar_index_to_word = tar_tokenizer.index_word # 요약 단어 집합에서 정수 -> 단어를 얻음"
   ]
  },
  {
   "cell_type": "code",
   "execution_count": 42,
   "id": "stopped-regression",
   "metadata": {
    "ExecuteTime": {
     "end_time": "2021-02-19T07:49:32.454779Z",
     "start_time": "2021-02-19T07:49:32.253816Z"
    }
   },
   "outputs": [],
   "source": [
    "# 인코더 설계\n",
    "encoder_model = Model(inputs=encoder_inputs, outputs=[encoder_outputs, state_h, state_c])\n",
    "\n",
    "# 이전 시점의 상태들을 저장하는 텐서\n",
    "decoder_state_input_h = Input(shape=(hidden_size,))\n",
    "decoder_state_input_c = Input(shape=(hidden_size,))\n",
    "\n",
    "dec_emb2 = dec_emb_layer(decoder_inputs)\n",
    "# 문장의 다음 단어를 예측하기 위해서 초기 상태(initial_state)를 이전 시점의 상태로 사용. 이는 뒤의 함수 decode_sequence()에 구현\n",
    "# 훈련 과정에서와 달리 LSTM의 리턴하는 은닉 상태와 셀 상태인 state_h와 state_c를 버리지 않음.\n",
    "decoder_outputs2, state_h2, state_c2 = decoder_lstm(dec_emb2, initial_state=[decoder_state_input_h, decoder_state_input_c])"
   ]
  },
  {
   "cell_type": "code",
   "execution_count": 43,
   "id": "boring-arbitration",
   "metadata": {
    "ExecuteTime": {
     "end_time": "2021-02-19T07:49:32.762535Z",
     "start_time": "2021-02-19T07:49:32.645345Z"
    }
   },
   "outputs": [],
   "source": [
    "# 어텐션 함수\n",
    "decoder_hidden_state_input = Input(shape=(text_max_len, hidden_size))\n",
    "attn_out_inf, attn_states_inf = attn_layer([decoder_hidden_state_input, decoder_outputs2])\n",
    "decoder_inf_concat = Concatenate(axis=-1, name='concat')([decoder_outputs2, attn_out_inf])\n",
    "\n",
    "# 디코더의 출력층\n",
    "decoder_outputs2 = decoder_softmax_layer(decoder_inf_concat) \n",
    "\n",
    "# 최종 디코더 모델\n",
    "decoder_model = Model(\n",
    "    [decoder_inputs] + [decoder_hidden_state_input,decoder_state_input_h, decoder_state_input_c],\n",
    "    [decoder_outputs2] + [state_h2, state_c2])"
   ]
  },
  {
   "cell_type": "code",
   "execution_count": 44,
   "id": "indie-marshall",
   "metadata": {
    "ExecuteTime": {
     "end_time": "2021-02-19T07:49:32.941303Z",
     "start_time": "2021-02-19T07:49:32.936183Z"
    }
   },
   "outputs": [],
   "source": [
    "def decode_sequence(input_seq):\n",
    "    # 입력으로부터 인코더의 상태를 얻음\n",
    "    e_out, e_h, e_c = encoder_model.predict(input_seq)\n",
    "\n",
    "     # <SOS>에 해당하는 토큰 생성\n",
    "    target_seq = np.zeros((1,1))\n",
    "    target_seq[0, 0] = tar_word_to_index['sostoken']\n",
    "\n",
    "    stop_condition = False\n",
    "    decoded_sentence = ''\n",
    "    while not stop_condition: # stop_condition이 True가 될 때까지 루프 반복\n",
    "\n",
    "        output_tokens, h, c = decoder_model.predict([target_seq] + [e_out, e_h, e_c])\n",
    "        sampled_token_index = np.argmax(output_tokens[0, -1, :])\n",
    "        sampled_token = tar_index_to_word[sampled_token_index]\n",
    "\n",
    "        if(sampled_token!='eostoken'):\n",
    "            decoded_sentence += ' '+sampled_token\n",
    "\n",
    "        #  <eos>에 도달하거나 최대 길이를 넘으면 중단.\n",
    "        if (sampled_token == 'eostoken'  or len(decoded_sentence.split()) >= (summary_max_len-1)):\n",
    "            stop_condition = True\n",
    "\n",
    "        # 길이가 1인 타겟 시퀀스를 업데이트\n",
    "        target_seq = np.zeros((1,1))\n",
    "        target_seq[0, 0] = sampled_token_index\n",
    "\n",
    "        # 상태를 업데이트 합니다.\n",
    "        e_h, e_c = h, c\n",
    "\n",
    "    return decoded_sentence"
   ]
  },
  {
   "cell_type": "markdown",
   "id": "inner-smell",
   "metadata": {},
   "source": [
    "# 11-11. 모델 테스트하기"
   ]
  },
  {
   "cell_type": "code",
   "execution_count": 45,
   "id": "rural-dance",
   "metadata": {
    "ExecuteTime": {
     "end_time": "2021-02-19T07:49:33.121508Z",
     "start_time": "2021-02-19T07:49:33.118290Z"
    }
   },
   "outputs": [],
   "source": [
    "# 원문의 정수 시퀀스를 텍스트 시퀀스로 변환\n",
    "def seq2text(input_seq):\n",
    "    temp=''\n",
    "    for i in input_seq:\n",
    "        if(i!=0):\n",
    "            temp = temp + src_index_to_word[i]+' '\n",
    "    return temp\n",
    "\n",
    "# 요약문의 정수 시퀀스를 텍스트 시퀀스로 변환\n",
    "def seq2summary(input_seq):\n",
    "    temp=''\n",
    "    for i in input_seq:\n",
    "        if((i!=0 and i!=tar_word_to_index['sostoken']) and i!=tar_word_to_index['eostoken']):\n",
    "            temp = temp + tar_index_to_word[i] + ' '\n",
    "    return temp"
   ]
  },
  {
   "cell_type": "code",
   "execution_count": 46,
   "id": "municipal-trout",
   "metadata": {
    "ExecuteTime": {
     "end_time": "2021-02-19T07:49:40.635119Z",
     "start_time": "2021-02-19T07:49:33.303238Z"
    }
   },
   "outputs": [
    {
     "name": "stdout",
     "output_type": "stream",
     "text": [
      "원문 : product lot promise low sodium fat shakes anything ultimately short flavor real bacon halfway decent general purpose seasoning far far cry real bacon flavor would rank accurate bacon flavor artifical bits years authentic tasting maybe even slightly manage use real bacon bits comparison still applaud trying give formula try come \n",
      "실제 요약 : only the taste of bacon \n",
      "예측 요약 :  not bad\n",
      "\n",
      "\n",
      "원문 : delicious particular item miniature bars cute great stuffing \n",
      "실제 요약 : delicious but prefer full sized bars \n",
      "예측 요약 :  yummy\n",
      "\n",
      "\n",
      "원문 : sign pill pocket soon discovered little chewing pill pocket around pill eating without eating pill give several pill hiding treats throughout day one pill never knows one although never put first one last one working month figure running time one better start thinking new plan attack cat shawn cat lover \n",
      "실제 요약 : works absolutely great until your cat you \n",
      "예측 요약 :  my dog loves these\n",
      "\n",
      "\n",
      "원문 : kona coffee hard find around area happy find beautifully packaged able taste product also good \n",
      "실제 요약 : very good \n",
      "예측 요약 :  great coffee\n",
      "\n",
      "\n",
      "원문 : wow unexpectedly delicious yes pricey getting lot healthy nuts fruit bar far know safe eat following paleo diet great occasional treat yum texture nice soft little chewy crumbly \n",
      "실제 요약 : healthy yummy goodness \n",
      "예측 요약 :  delicious\n",
      "\n",
      "\n",
      "원문 : design issues toy order rope go back needs pushed back difficult dog accomplish without human help stiff rope flexible one dog pulls rope bottle upright position vertical treats come dog quickly figured best way toy work set let pull rope held bottle dreams independent play yet realized \n",
      "실제 요약 : not exactly serve \n",
      "예측 요약 :  not for my dog\n",
      "\n",
      "\n",
      "원문 : pleasantly surprised find item delivered day order delivery date probably helps location near everything looks described pictured happy done business seller gingerbread house carefully packaged harm fragile pieces inside excited give item gift \n",
      "실제 요약 : gingerbread house \n",
      "예측 요약 :  great product\n",
      "\n",
      "\n",
      "원문 : product runner also organic vegetarian foods absolutely love shake someone works frequently sometimes bowel troubles combination fiber protein perfect lifestyle mix chocolate soy milk tastes like normal chocolate shake sooo yummy full good stuff helps keep regular energized feeling full serve meal replacement even snack low calories compared protein shakes \n",
      "실제 요약 : usually write reviews but this one deserves one \n",
      "예측 요약 :  good stuff\n",
      "\n",
      "\n",
      "원문 : still large amount acceptable low carb diets almost calories per ounce caloric content higher soft drinks enough reasons make switch switch orange tangerine answer yes due good refreshing taste better average nutritional content greatest tasting orange beverage ever tried expensive drinks including regular orange juice enough positive points earn recommendation \n",
      "실제 요약 : make the switch to healthier beverage \n",
      "예측 요약 :  sweet fruit fruit\n",
      "\n",
      "\n",
      "원문 : kashi expected great things course delivered love twigs light sweetness large serving size loads protein calories think also eat dry buy individual cups big city train station airport need healthy treat dry cereal lover trust kashi truly consistently delicious brand every bought happy loyal customer \n",
      "실제 요약 : hands down best cereal on the market \n",
      "예측 요약 :  great taste and healthy\n",
      "\n",
      "\n",
      "원문 : buy saw stop shop available market much cheaper buying \n",
      "실제 요약 : perfect \n",
      "예측 요약 :  great product\n",
      "\n",
      "\n",
      "원문 : cost san francisco bay cups lowest able find anywhere good coffee deal hard beat \n",
      "실제 요약 : good coffee great price \n",
      "예측 요약 :  great coffee\n",
      "\n",
      "\n",
      "원문 : first time tea starbucks grove diarrhea day feeling well ordered tea intrigued fine packaging fresh looking mint leaves flavor soothing stomach felt much better got know harney sons love teas one flavor \n",
      "실제 요약 : love it \n",
      "예측 요약 :  great tea\n",
      "\n",
      "\n",
      "원문 : even gf amazing cookie mix crumbly first mixed work together hands forms ball rolled getting cookies cut pan may challenging cooked cooled wonderful treat buttery flaky mouth watering shortbread \n",
      "실제 요약 : fantastic and fabulous taste \n",
      "예측 요약 :  best gluten free cookies\n",
      "\n",
      "\n",
      "원문 : use rice bran place flour texture flour high fiber gluten great taste \n",
      "실제 요약 : great for diabetics \n",
      "예측 요약 :  great product\n",
      "\n",
      "\n",
      "원문 : grew eating finding gluten free version baking mix wonderful however ounce box makes two batches pancakes would love gf could made box size like conventional especially since family eats pancakes makes even regular ones \n",
      "실제 요약 : excellent but the box is so small \n",
      "예측 요약 :  great pancakes\n",
      "\n",
      "\n",
      "원문 : first time ever bought turkish delight must say galil excellent quality flavor also bought would getting one box instead got even better opportunity share product friends family agree delicious turkish delight galil truly worth money \n",
      "실제 요약 : excellent quality and flavor \n",
      "예측 요약 :  the best\n",
      "\n",
      "\n",
      "원문 : loved shake bake chicken pork well nice substitution fried foods love crunchy food trick \n",
      "실제 요약 : easy as \n",
      "예측 요약 :  great\n",
      "\n",
      "\n",
      "원문 : always keep one two bag son likes also makes nutritious breakfast hurry \n",
      "실제 요약 : great on the go snack or quick breakfast \n",
      "예측 요약 :  great product\n",
      "\n",
      "\n",
      "원문 : difficult find certified organic cocoa products market overly pricey taste organic important cost wins three purchase brand plan purchase amazon price remains good \n",
      "실제 요약 : great cocoa \n",
      "예측 요약 :  great product\n",
      "\n",
      "\n",
      "원문 : flavor like primary flavor fruit also taste black tea saw people complaining enough tea flavor green tea based flavors think problem green tea naturally light flavor since one uses black tea problem also tried blackberry pomegranate green tea mind flavor much like koolaid strong sweet pomegranate flavor little tea flavor \n",
      "실제 요약 : convenient way to add variety \n",
      "예측 요약 :  nice flavor\n",
      "\n",
      "\n",
      "원문 : glad see amazon many products suppliers nice products delivered right house getting ready order additional mouths feed house \n",
      "실제 요약 : as advertised great option vs stores \n",
      "예측 요약 :  great product\n",
      "\n",
      "\n",
      "원문 : first picture deceiving tree delivered nothing like first picture greatly disappointing thing made angry fact trunk small tree slightly broken may way packaged awkward look got get without damaging bought thing like picture though works like charm recommend buying know getting \n",
      "실제 요약 : buy unless you know you what your getting \n",
      "예측 요약 :  not what expected\n",
      "\n",
      "\n",
      "원문 : dissapointed taste bar tasty enough considering low sugar bar taste like peanut butter somewhat strong taste get clif builder bars shocked bar contains gram fiber better bars even protein bars way fiber sure purchase also wanted mention shocked found whole foods sells box less per box regular price sale price \n",
      "실제 요약 : good but not enough fiber for me \n",
      "예측 요약 :  tasty but not great\n",
      "\n",
      "\n",
      "원문 : corn meal flavored salt yeast good snack anyway reasonably good texture great intolerant cheese spice stronger flavors would much improved better flavors perhaps add varieties taste better call one corn tings unflavored corn tings original would buy flavors texture quality one bit bland overall job designed healthy light easy body \n",
      "실제 요약 : decent taste healthy but very basic \n",
      "예측 요약 :  not bad\n",
      "\n",
      "\n",
      "원문 : tried costco grade maple syrup versus coombs grade coombs way better almost taste like molasses good would highly recommend using master cleanse lemons cayenne pepper makes taste way better grade \n",
      "실제 요약 : great for the master \n",
      "예측 요약 :  best maple syrup\n",
      "\n",
      "\n",
      "원문 : bought gingerbread house make year old excellent kids able build decorate impressed amount frosting candy fact lots frosting candy left turned cute cannot wait next year tray house sits really nice sturdy helps little ones able decorate house highly recommend \n",
      "실제 요약 : excellent product \n",
      "예측 요약 :  great product\n",
      "\n",
      "\n",
      "원문 : year ago go friends house offers emerald cocoa almonds must tell delicious even today cannot get enough things cocoa flavoring light overbearing almonds crisp nice sized snacking healthier honey roasted caramelized almonds short around great buy great snacks money well spent \n",
      "실제 요약 : cocoa crunchy fun \n",
      "예측 요약 :  delicious\n",
      "\n",
      "\n",
      "원문 : saw word pomegranate jumped action bought sam club tasting reminded old tv commercial beef big pieces chocolate nothing expected like something chocolate without inner raisin last portion bag sitting counter long good would long gone \n",
      "실제 요약 : not for me \n",
      "예측 요약 :  not as good as the original\n",
      "\n",
      "\n",
      "원문 : anyone reading know good product lucky running every starbucks area grab many available found closed managed bring product back used last stashed \n",
      "실제 요약 : it is about time \n",
      "예측 요약 :  best ever\n",
      "\n",
      "\n",
      "원문 : second time ever tried grade maple syrup liked one better foods grade think maple flavor give stars lack experience compared others think priced well shipped well really love plain yogurt well pancakes waffles would definetly buy \n",
      "실제 요약 : very good syrup \n"
     ]
    },
    {
     "name": "stdout",
     "output_type": "stream",
     "text": [
      "예측 요약 :  great taste\n",
      "\n",
      "\n",
      "원문 : tried madhava organic agave favorite using seasonings herbal cold brew teas keeps teas fresh clean without sweet taste use cooking tea making highly recommend using healthy alternative white sugar like best using agave use less results times much better results \n",
      "실제 요약 : healthy alternative in \n",
      "예측 요약 :  great tea\n",
      "\n",
      "\n",
      "원문 : well wish seen two reviews buying turn orange certainly chocolate tasted like overly sweet yet bland orange cream glad serve halloween party planned \n",
      "실제 요약 : yuck \n",
      "예측 요약 :  not bad\n",
      "\n",
      "\n",
      "원문 : orbit gum best bought friend made cool inexpensive gift \n",
      "실제 요약 : the best \n",
      "예측 요약 :  great gum\n",
      "\n",
      "\n",
      "원문 : cat loves take container get super excited eats every last flake give picky eater never seen happy treat \n",
      "실제 요약 : cannot get enough \n",
      "예측 요약 :  my cat loves this\n",
      "\n",
      "\n",
      "원문 : love product good quality flavor excellent like way packaged easy store containers \n",
      "실제 요약 : rice review \n",
      "예측 요약 :  great product\n",
      "\n",
      "\n",
      "원문 : fine flavoring additive come amazon wear review requests brown cow \n",
      "실제 요약 : good additive for most dishes not just asian \n",
      "예측 요약 :  great product\n",
      "\n",
      "\n",
      "원문 : tea wonderfully refreshing like comfort food best ever found like spearmint love great value used buy grocery store twice price \n",
      "실제 요약 : best tea ever \n",
      "예측 요약 :  great tea\n",
      "\n",
      "\n",
      "원문 : toddler loves little yogurt bites healthy yummy organic perfectly sized toddlers learning become independent eaters happy brand less sugar none harmful artificial colors flavors brands contain feel good offering toddler always finishes pile flavors hits home \n",
      "실제 요약 : yummy organic and healthy toddler snack \n",
      "예측 요약 :  great for babies\n",
      "\n",
      "\n",
      "원문 : best beef jerky ever son said thing asked beef jerky go \n",
      "실제 요약 : where did the beef jerky go \n",
      "예측 요약 :  great jerky\n",
      "\n",
      "\n",
      "원문 : noticed item show grocery isles price hardly buy found warehouse sale thought would try since price better paying generic dressing usual miracle whip good product lite creamy good taste like generic brands taste oily taste good product needs price adjustment \n",
      "실제 요약 : test miracle whip \n",
      "예측 요약 :  not good\n",
      "\n",
      "\n",
      "원문 : package arrived within days purchase love taste simply amazing complaint cannot afford buy pounds stuff \n",
      "실제 요약 : amazing \n",
      "예측 요약 :  great product\n",
      "\n",
      "\n",
      "원문 : really like pure organic agave nectar love able order line amazon com would love better price convenience nice \n",
      "실제 요약 : good stuff \n",
      "예측 요약 :  great product\n",
      "\n",
      "\n",
      "원문 : tastes like high quality traditional pasta complaint expensive compared regular pasta like times expensive gluten prefer brown rice pasta best one market bought one elbow equally good assume brown rice pasta company going good also takes little longer cook minutes stir frequently cooks evenly see drawback fyi really taste good \n",
      "실제 요약 : pricey but superb \n",
      "예측 요약 :  great pasta\n",
      "\n",
      "\n",
      "원문 : packaged well convenient open pour matter easy healthy cannot get baby eat extremely blah bland mush much better brand addition since stage food expected meat vegetables however bunch brown mush baby wont try force definitely would recommend anyone despite health rating \n",
      "실제 요약 : might be good for you but very blah \n",
      "예측 요약 :  baby food\n",
      "\n",
      "\n",
      "원문 : really plus us trying eat healthier making food choices wide array products choose long kellogg continues come new innovative food products continue buy many food choices pick never get bored feel deprived added bonus feel healthier lose weight process kellogg granola bars good food choice everyone whether trying lose weight \n",
      "실제 요약 : another good product from kellogg \n",
      "예측 요약 :  great for baby food\n",
      "\n",
      "\n",
      "원문 : delicious cup coffee best coffee tasted enjoyable found one enjoy quick easy enjoyable \n",
      "실제 요약 : delicious cup of coffee \n",
      "예측 요약 :  great coffee\n",
      "\n",
      "\n",
      "원문 : bad reviews indicate ingredients bad dogs get near food like science diet good dry food need canine humans completely different digestive system average dog whose ate raw meat animal rodents less fresh leftovers ground product work well today still searching dog food finicky shitzu poodle eat unfortunately product answer feeding \n",
      "실제 요약 : it is ok for kibble \n",
      "예측 요약 :  not for sensitive dogs\n",
      "\n",
      "\n",
      "원문 : consistent product buying year also purchased gift family members want bp lowering properties \n",
      "실제 요약 : love this tea \n",
      "예측 요약 :  great gift\n",
      "\n",
      "\n",
      "원문 : popper pop cup corn moments school home definitely slower thick steel container hold heat giant heating element popping home popped corn sits inside popper finished popping popping school popped corn gets pushed popped sit inside container getting steamed heated cooked burned etc tastes fine nice fine crystals even spread popcorn \n",
      "실제 요약 : great salt \n",
      "예측 요약 :  not bad but not great\n",
      "\n",
      "\n"
     ]
    }
   ],
   "source": [
    "for i in range(50, 100):\n",
    "    print(\"원문 :\", seq2text(encoder_input_test[i]))\n",
    "    print(\"실제 요약 :\", seq2summary(decoder_input_test[i]))\n",
    "    print(\"예측 요약 :\", decode_sequence(encoder_input_test[i].reshape(1, text_max_len)))\n",
    "    print(\"\\n\")"
   ]
  },
  {
   "cell_type": "markdown",
   "id": "employed-effectiveness",
   "metadata": {
    "ExecuteTime": {
     "end_time": "2021-02-19T07:06:01.692967Z",
     "start_time": "2021-02-19T07:06:01.691234Z"
    }
   },
   "source": [
    "# 11-12. 추출적 요약 해보기"
   ]
  },
  {
   "cell_type": "code",
   "execution_count": 50,
   "id": "opponent-portable",
   "metadata": {
    "ExecuteTime": {
     "end_time": "2021-02-19T08:28:14.263840Z",
     "start_time": "2021-02-19T08:28:14.243994Z"
    }
   },
   "outputs": [],
   "source": [
    "import requests\n",
    "from summa.summarizer import summarize"
   ]
  },
  {
   "cell_type": "code",
   "execution_count": 51,
   "id": "robust-fantasy",
   "metadata": {
    "ExecuteTime": {
     "end_time": "2021-02-19T08:28:27.923033Z",
     "start_time": "2021-02-19T08:28:27.107336Z"
    }
   },
   "outputs": [],
   "source": [
    "text = requests.get('http://rare-technologies.com/the_matrix_synopsis.txt').text"
   ]
  },
  {
   "cell_type": "code",
   "execution_count": 52,
   "id": "motivated-belfast",
   "metadata": {
    "ExecuteTime": {
     "end_time": "2021-02-19T08:28:33.236688Z",
     "start_time": "2021-02-19T08:28:33.233846Z"
    }
   },
   "outputs": [
    {
     "name": "stdout",
     "output_type": "stream",
     "text": [
      "The screen is filled with green, cascading code which gives way to the title, The Matrix.\r\n",
      "\r\n",
      "A phone rings and text appears on the screen: \"Call trans opt: received. 2-19-98 13:24:18 REC: Log>\" As a conversation takes place between Trinity (Carrie-Anne Moss) and Cypher (Joe Pantoliano), two free humans, a table of random green numbers are being scanned and individual numbers selected, creating a series of digits not unlike an ordinary phone number, as if a code is being deciphered or a call is being traced.\r\n",
      "\r\n",
      "Trinity discusses some unknown person. Cypher taunts Trinity, suggesting she enjoys watching him. Trinity counters that \"Morpheus (Laurence Fishburne) says he may be 'the One',\" just as the sound of a number being selected alerts Trinity that someone may be tracing their call. She ends the call.\r\n",
      "\r\n",
      "Armed policemen move down a darkened, decrepit hallway in the Heart O' the City Hotel, their flashlight beam bouncing just ahead of them. They come to room 303, kick down the door and find a woman dressed in black, facing away from them. It's Trinity. She brings her hands up from the laptop she's working on at their command.\r\n",
      "\r\n",
      "Outside the hotel a car drives up and three agents appear in neatly pressed black suits. They are Agent Smith (Hugo Weaving), Agent Brown (Paul Goddard), and Agent Jones (Robert Taylor). Agent Smith and the presiding police lieutenant argue. Agent Smith admonishes the policeman that they were given specific orders to contact the agents first, for their\n"
     ]
    }
   ],
   "source": [
    "print(text[:1500])"
   ]
  },
  {
   "cell_type": "code",
   "execution_count": 53,
   "id": "controversial-occupation",
   "metadata": {
    "ExecuteTime": {
     "end_time": "2021-02-19T08:36:50.631828Z",
     "start_time": "2021-02-19T08:36:49.593175Z"
    }
   },
   "outputs": [
    {
     "name": "stdout",
     "output_type": "stream",
     "text": [
      "Summary:\n",
      "Morpheus, Trinity, Neo, Apoc, Switch, Mouse and Cypher are jacked into the Matrix.\n",
      "Trinity brings the helicopter down to the floor that Morpheus is on and Neo opens fire on the three Agents.\n"
     ]
    }
   ],
   "source": [
    "print('Summary:')\n",
    "print(summarize(text, ratio=0.005))"
   ]
  },
  {
   "cell_type": "code",
   "execution_count": 56,
   "id": "accompanied-stack",
   "metadata": {
    "ExecuteTime": {
     "end_time": "2021-02-19T08:37:54.151166Z",
     "start_time": "2021-02-19T08:37:52.837538Z"
    }
   },
   "outputs": [
    {
     "name": "stdout",
     "output_type": "stream",
     "text": [
      "Summary:\n",
      "Anderson, a software engineer for a Metacortex, the other life as Neo, a computer hacker \"guilty of virtually every computer crime we have a law for.\" Agent Smith asks him to help them capture Morpheus, a dangerous terrorist, in exchange for amnesty.\n",
      "Trinity takes Neo to Morpheus.\n",
      "Morpheus explains that he's been searching for Neo his entire life and asks if Neo feels like \"Alice in Wonderland, falling down the rabbit hole.\" He explains to Neo that they exist in the Matrix, a false reality that has been constructed for humans to hide the truth.\n",
      "Just before Neo passes out Morpheus says to him, \"Welcome to the real world.\"\n",
      "Neo is introduced to Morpheus's crew including Trinity; Apoc (Julian Arahanga), a man with long, flowing black hair; Switch; Cypher (bald with a goatee); two brawny brothers, Tank (Marcus Chong) and Dozer (Anthony Ray Parker); and a young, thin man named Mouse (Matt Doran).\n",
      "Morpheus and Neo stand in a sparring program.\n",
      "He asks Trinity why, if Morpheus thinks Neo is the One, he hasn't taken him to see the Oracle yet.\n",
      "Morpheus and Neo are walking down a standard city street in what appears to be the Matrix.\n",
      "Neo asks what the Agents are.\n",
      "\"What are you trying to tell me,\" asks Neo, \"That I can dodge bullets?\" \"When you're ready,\" Morpheus says, \"You won't have to.\" Just then Morpheus gets a phone call.\n",
      "Cypher asks Neo if Morpheus has told him why he's here.\n",
      "Morpheus, Trinity, Neo, Apoc, Switch, Mouse and Cypher are jacked into the Matrix.\n",
      "Morpheus, who is above Neo in the walls, breaks through the wall and lands on the agent, yelling to Trinity to get Neo out of the building.\n",
      "He continues badgering Trinity, asking her if she believes that Neo is the One. She says, \"Yes.\" Cypher screams back \"No!\" but his reaction is incredulity at seeing Tank still alive, brandishing the weapon that Cypher had used on him.\n",
      "Neo says he only knows that he can bring Morpheus out.\n",
      "Trinity brings the helicopter down to the floor that Morpheus is on and Neo opens fire on the three Agents.\n",
      "Unable to control the helicopter, Trinity miraculously gets it close enough to drop Morpheus and Neo on a rooftop.\n",
      "Neo tries to tell him that the Oracle told him the opposite but Morpheus says, \"She told you exactly what you needed to hear.\" They call Tank, who tells them of an exit in a subway near them.\n",
      "Trinity reminds Morpheus that they can't use the EMP while Neo is in the Matrix.\n",
      "Neo has made it back.\n"
     ]
    }
   ],
   "source": [
    "print('Summary:')\n",
    "print(summarize(text, ratio=0.05))"
   ]
  },
  {
   "cell_type": "code",
   "execution_count": 57,
   "id": "white-sheep",
   "metadata": {
    "ExecuteTime": {
     "end_time": "2021-02-19T08:38:43.964518Z",
     "start_time": "2021-02-19T08:38:42.884292Z"
    }
   },
   "outputs": [
    {
     "name": "stdout",
     "output_type": "stream",
     "text": [
      "Summary:\n",
      "['Morpheus, Trinity, Neo, Apoc, Switch, Mouse and Cypher are jacked into the Matrix.', 'Trinity brings the helicopter down to the floor that Morpheus is on and Neo opens fire on the three Agents.']\n"
     ]
    }
   ],
   "source": [
    "print('Summary:')\n",
    "print(summarize(text, ratio=0.005, split=True))"
   ]
  },
  {
   "cell_type": "code",
   "execution_count": 58,
   "id": "approximate-leonard",
   "metadata": {
    "ExecuteTime": {
     "end_time": "2021-02-19T08:38:48.473114Z",
     "start_time": "2021-02-19T08:38:47.521756Z"
    }
   },
   "outputs": [
    {
     "name": "stdout",
     "output_type": "stream",
     "text": [
      "Summary:\n",
      "Trinity takes Neo to Morpheus.\n",
      "Morpheus, Trinity, Neo, Apoc, Switch, Mouse and Cypher are jacked into the Matrix.\n",
      "Trinity brings the helicopter down to the floor that Morpheus is on and Neo opens fire on the three Agents.\n"
     ]
    }
   ],
   "source": [
    "print('Summary:')\n",
    "print(summarize(text, words=50))"
   ]
  },
  {
   "cell_type": "code",
   "execution_count": 59,
   "id": "verbal-adoption",
   "metadata": {
    "ExecuteTime": {
     "end_time": "2021-02-19T08:38:59.048170Z",
     "start_time": "2021-02-19T08:38:58.103986Z"
    }
   },
   "outputs": [
    {
     "name": "stdout",
     "output_type": "stream",
     "text": [
      "Summary:\n",
      "Trinity takes Neo to Morpheus.\n",
      "Morpheus, Trinity, Neo, Apoc, Switch, Mouse and Cypher are jacked into the Matrix.\n",
      "Morpheus, who is above Neo in the walls, breaks through the wall and lands on the agent, yelling to Trinity to get Neo out of the building.\n",
      "Neo says he only knows that he can bring Morpheus out.\n",
      "Trinity brings the helicopter down to the floor that Morpheus is on and Neo opens fire on the three Agents.\n",
      "Trinity reminds Morpheus that they can't use the EMP while Neo is in the Matrix.\n"
     ]
    }
   ],
   "source": [
    "print('Summary:')\n",
    "print(summarize(text, words=100))"
   ]
  },
  {
   "cell_type": "code",
   "execution_count": null,
   "id": "checked-romance",
   "metadata": {},
   "outputs": [],
   "source": []
  }
 ],
 "metadata": {
  "kernelspec": {
   "display_name": "aiffel",
   "language": "python",
   "name": "aiffel"
  },
  "language_info": {
   "codemirror_mode": {
    "name": "ipython",
    "version": 3
   },
   "file_extension": ".py",
   "mimetype": "text/x-python",
   "name": "python",
   "nbconvert_exporter": "python",
   "pygments_lexer": "ipython3",
   "version": "3.7.9"
  },
  "varInspector": {
   "cols": {
    "lenName": 16,
    "lenType": 16,
    "lenVar": 40
   },
   "kernels_config": {
    "python": {
     "delete_cmd_postfix": "",
     "delete_cmd_prefix": "del ",
     "library": "var_list.py",
     "varRefreshCmd": "print(var_dic_list())"
    },
    "r": {
     "delete_cmd_postfix": ") ",
     "delete_cmd_prefix": "rm(",
     "library": "var_list.r",
     "varRefreshCmd": "cat(var_dic_list()) "
    }
   },
   "types_to_exclude": [
    "module",
    "function",
    "builtin_function_or_method",
    "instance",
    "_Feature"
   ],
   "window_display": false
  }
 },
 "nbformat": 4,
 "nbformat_minor": 5
}
