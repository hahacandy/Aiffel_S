{
 "cells": [
  {
   "cell_type": "code",
   "execution_count": 1,
   "id": "similar-cooling",
   "metadata": {},
   "outputs": [
    {
     "name": "stdout",
     "output_type": "stream",
     "text": [
      "✅\n"
     ]
    }
   ],
   "source": [
    "import numpy as np\n",
    "import os\n",
    "\n",
    "data_path = '/home/thuban/문서/GitHub/Aiffel_S/EXPLORATION_DJ/5/speech_wav_8000.npz'\n",
    "speech_data = np.load(data_path)\n",
    "\n",
    "print(\"✅\")"
   ]
  },
  {
   "cell_type": "code",
   "execution_count": 2,
   "id": "stuck-fisher",
   "metadata": {},
   "outputs": [
    {
     "name": "stdout",
     "output_type": "stream",
     "text": [
      "Wave data shape :  (50620, 8000)\n",
      "Label data shape :  (50620, 1)\n",
      "✅\n"
     ]
    }
   ],
   "source": [
    "print(\"Wave data shape : \", speech_data[\"wav_vals\"].shape)\n",
    "print(\"Label data shape : \", speech_data[\"label_vals\"].shape)\n",
    "print(\"✅\")"
   ]
  },
  {
   "cell_type": "code",
   "execution_count": 3,
   "id": "spiritual-faculty",
   "metadata": {},
   "outputs": [
    {
     "name": "stdout",
     "output_type": "stream",
     "text": [
      "rand num :  7003\n",
      "Wave data shape :  (8000,)\n",
      "label :  ['no']\n"
     ]
    },
    {
     "data": {
      "text/html": [
       "\n",
       "                <audio  controls=\"controls\" >\n",
       "                    <source src=\"data:audio/wav;base64,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\" type=\"audio/wav\" />\n",
       "                    Your browser does not support the audio element.\n",
       "                </audio>\n",
       "              "
      ],
      "text/plain": [
       "<IPython.lib.display.Audio object>"
      ]
     },
     "execution_count": 3,
     "metadata": {},
     "output_type": "execute_result"
    }
   ],
   "source": [
    "import IPython.display as ipd\n",
    "import random\n",
    "\n",
    "# 데이터 선택 (랜덤하게 선택하고 있으니, 여러번 실행해 보세요)\n",
    "rand = random.randint(0, len(speech_data[\"wav_vals\"]))\n",
    "print(\"rand num : \", rand)\n",
    "\n",
    "sr = 8000 # 1초동안 재생되는 샘플의 갯수\n",
    "data = speech_data[\"wav_vals\"][rand]\n",
    "print(\"Wave data shape : \", data.shape)\n",
    "print(\"label : \", speech_data[\"label_vals\"][rand])\n",
    "\n",
    "ipd.Audio(data, rate=sr)"
   ]
  },
  {
   "cell_type": "code",
   "execution_count": 4,
   "id": "measured-gauge",
   "metadata": {},
   "outputs": [
    {
     "data": {
      "text/plain": [
       "array([-0.00071091, -0.0009824 , -0.00088365, ..., -0.00073636,\n",
       "       -0.00061031, -0.00122905], dtype=float32)"
      ]
     },
     "execution_count": 4,
     "metadata": {},
     "output_type": "execute_result"
    }
   ],
   "source": [
    "data"
   ]
  },
  {
   "cell_type": "code",
   "execution_count": 5,
   "id": "positive-proxy",
   "metadata": {},
   "outputs": [
    {
     "name": "stdout",
     "output_type": "stream",
     "text": [
      "LABEL :  ['yes', 'no', 'up', 'down', 'left', 'right', 'on', 'off', 'stop', 'go', 'unknown', 'silence']\n",
      "Indexed LABEL :  {'yes': 0, 'no': 1, 'up': 2, 'down': 3, 'left': 4, 'right': 5, 'on': 6, 'off': 7, 'stop': 8, 'go': 9, 'unknown': 10, 'silence': 11}\n"
     ]
    }
   ],
   "source": [
    "target_list = ['yes', 'no', 'up', 'down', 'left', 'right', 'on', 'off', 'stop', 'go']\n",
    "\n",
    "label_value = target_list\n",
    "label_value.append('unknown')\n",
    "label_value.append('silence')\n",
    "\n",
    "print('LABEL : ', label_value)\n",
    "\n",
    "new_label_value = dict()\n",
    "for i, l in enumerate(label_value):\n",
    "    new_label_value[l] = i\n",
    "label_value = new_label_value\n",
    "\n",
    "print('Indexed LABEL : ', new_label_value)"
   ]
  },
  {
   "cell_type": "code",
   "execution_count": 6,
   "id": "proprietary-default",
   "metadata": {},
   "outputs": [
    {
     "data": {
      "text/plain": [
       "array([ 3,  3,  3, ..., 11, 11, 11])"
      ]
     },
     "execution_count": 6,
     "metadata": {},
     "output_type": "execute_result"
    }
   ],
   "source": [
    "temp = []\n",
    "for v in speech_data[\"label_vals\"]:\n",
    "    temp.append(label_value[v[0]])\n",
    "label_data = np.array(temp)\n",
    "\n",
    "label_data"
   ]
  },
  {
   "cell_type": "code",
   "execution_count": 7,
   "id": "authorized-blogger",
   "metadata": {},
   "outputs": [
    {
     "name": "stdout",
     "output_type": "stream",
     "text": [
      "[[ 3.19246459e-03  4.98309406e-03  8.51982273e-04 ...  1.90142088e-03\n",
      "   8.18942906e-04 -4.05410724e-03]\n",
      " [ 5.99226821e-03  1.07032545e-02  5.83124487e-03 ... -9.29229613e-03\n",
      "  -9.64031368e-03 -1.19936336e-02]\n",
      " [ 2.53894599e-03 -2.55339406e-03 -7.19428528e-03 ... -6.52538240e-03\n",
      "  -9.85182263e-03 -8.82367231e-03]\n",
      " ...\n",
      " [-2.89168768e-03 -1.36348465e-03 -2.48820102e-03 ...  1.79275172e-03\n",
      "  -1.66502979e-03 -4.66681202e-04]\n",
      " [ 8.91757099e-06  6.19732964e-05  8.09361427e-06 ... -2.10591879e-05\n",
      "  -7.29428139e-05 -8.96745332e-05]\n",
      " [ 2.44799512e-03  3.85436043e-03 -5.43647096e-04 ...  2.34884559e-03\n",
      "   1.13706826e-03 -2.57544639e-03]]\n",
      "✅\n"
     ]
    }
   ],
   "source": [
    "from sklearn.model_selection import train_test_split\n",
    "\n",
    "sr = 8000\n",
    "train_wav, test_wav, train_label, test_label = train_test_split(speech_data[\"wav_vals\"], \n",
    "                                                                label_data, \n",
    "                                                                test_size=0.1,\n",
    "                                                                shuffle=True)\n",
    "print(train_wav)\n",
    "\n",
    "train_wav = train_wav.reshape([-1, sr, 1]) # add channel for CNN\n",
    "test_wav = test_wav.reshape([-1, sr, 1])\n",
    "print(\"✅\")"
   ]
  },
  {
   "cell_type": "code",
   "execution_count": 8,
   "id": "laden-percentage",
   "metadata": {},
   "outputs": [
    {
     "name": "stdout",
     "output_type": "stream",
     "text": [
      "train data :  (45558, 8000, 1)\n",
      "train labels :  (45558,)\n",
      "test data :  (5062, 8000, 1)\n",
      "test labels :  (5062,)\n",
      "✅\n"
     ]
    }
   ],
   "source": [
    "print(\"train data : \", train_wav.shape)\n",
    "print(\"train labels : \", train_label.shape)\n",
    "print(\"test data : \", test_wav.shape)\n",
    "print(\"test labels : \", test_label.shape)\n",
    "print(\"✅\")"
   ]
  },
  {
   "cell_type": "code",
   "execution_count": 18,
   "id": "diverse-cruise",
   "metadata": {},
   "outputs": [
    {
     "data": {
      "text/plain": [
       "'models/wav/'"
      ]
     },
     "execution_count": 18,
     "metadata": {},
     "output_type": "execute_result"
    }
   ],
   "source": [
    "batch_size = 32\n",
    "max_epochs = 10\n",
    "\n",
    "# the save point\n",
    "checkpoint_dir = 'models/wav/'\n",
    "\n",
    "checkpoint_dir"
   ]
  },
  {
   "cell_type": "code",
   "execution_count": 10,
   "id": "controlling-partner",
   "metadata": {},
   "outputs": [
    {
     "name": "stdout",
     "output_type": "stream",
     "text": [
      "✅\n"
     ]
    }
   ],
   "source": [
    "def one_hot_label(wav, label):\n",
    "    label = tf.one_hot(label, depth=12)\n",
    "    return wav, label\n",
    "print(\"✅\")"
   ]
  },
  {
   "cell_type": "code",
   "execution_count": 11,
   "id": "confirmed-feeding",
   "metadata": {},
   "outputs": [
    {
     "name": "stdout",
     "output_type": "stream",
     "text": [
      "<BatchDataset shapes: ((None, 8000, 1), (None, 12)), types: (tf.float32, tf.float32)>\n",
      "<BatchDataset shapes: ((None, 8000, 1), (None, 12)), types: (tf.float32, tf.float32)>\n",
      "✅\n"
     ]
    }
   ],
   "source": [
    "import tensorflow as tf\n",
    "\n",
    "# for train\n",
    "train_dataset = tf.data.Dataset.from_tensor_slices((train_wav, train_label))\n",
    "train_dataset = train_dataset.map(one_hot_label)\n",
    "train_dataset = train_dataset.repeat().batch(batch_size=batch_size)\n",
    "print(train_dataset)\n",
    "\n",
    "# for test\n",
    "test_dataset = tf.data.Dataset.from_tensor_slices((test_wav, test_label))\n",
    "test_dataset = test_dataset.map(one_hot_label)\n",
    "test_dataset = test_dataset.batch(batch_size=batch_size)\n",
    "print(test_dataset)\n",
    "print(\"✅\")"
   ]
  },
  {
   "cell_type": "code",
   "execution_count": 12,
   "id": "neutral-marijuana",
   "metadata": {},
   "outputs": [
    {
     "name": "stdout",
     "output_type": "stream",
     "text": [
      "Model: \"model\"\n",
      "_________________________________________________________________\n",
      "Layer (type)                 Output Shape              Param #   \n",
      "=================================================================\n",
      "input_1 (InputLayer)         [(None, 8000, 1)]         0         \n",
      "_________________________________________________________________\n",
      "conv1d (Conv1D)              (None, 8000, 32)          320       \n",
      "_________________________________________________________________\n",
      "conv1d_1 (Conv1D)            (None, 8000, 32)          9248      \n",
      "_________________________________________________________________\n",
      "max_pooling1d (MaxPooling1D) (None, 4000, 32)          0         \n",
      "_________________________________________________________________\n",
      "conv1d_2 (Conv1D)            (None, 4000, 64)          18496     \n",
      "_________________________________________________________________\n",
      "conv1d_3 (Conv1D)            (None, 4000, 64)          36928     \n",
      "_________________________________________________________________\n",
      "max_pooling1d_1 (MaxPooling1 (None, 2000, 64)          0         \n",
      "_________________________________________________________________\n",
      "conv1d_4 (Conv1D)            (None, 2000, 128)         73856     \n",
      "_________________________________________________________________\n",
      "conv1d_5 (Conv1D)            (None, 2000, 128)         147584    \n",
      "_________________________________________________________________\n",
      "conv1d_6 (Conv1D)            (None, 2000, 128)         147584    \n",
      "_________________________________________________________________\n",
      "max_pooling1d_2 (MaxPooling1 (None, 1000, 128)         0         \n",
      "_________________________________________________________________\n",
      "conv1d_7 (Conv1D)            (None, 1000, 256)         295168    \n",
      "_________________________________________________________________\n",
      "conv1d_8 (Conv1D)            (None, 1000, 256)         590080    \n",
      "_________________________________________________________________\n",
      "conv1d_9 (Conv1D)            (None, 1000, 256)         590080    \n",
      "_________________________________________________________________\n",
      "max_pooling1d_3 (MaxPooling1 (None, 500, 256)          0         \n",
      "_________________________________________________________________\n",
      "dropout (Dropout)            (None, 500, 256)          0         \n",
      "_________________________________________________________________\n",
      "flatten (Flatten)            (None, 128000)            0         \n",
      "_________________________________________________________________\n",
      "dense (Dense)                (None, 256)               32768256  \n",
      "_________________________________________________________________\n",
      "batch_normalization (BatchNo (None, 256)               1024      \n",
      "_________________________________________________________________\n",
      "activation (Activation)      (None, 256)               0         \n",
      "_________________________________________________________________\n",
      "dense_1 (Dense)              (None, 12)                3084      \n",
      "=================================================================\n",
      "Total params: 34,681,708\n",
      "Trainable params: 34,681,196\n",
      "Non-trainable params: 512\n",
      "_________________________________________________________________\n"
     ]
    }
   ],
   "source": [
    "from tensorflow.keras import layers\n",
    "\n",
    "input_tensor = layers.Input(shape=(sr, 1))\n",
    "\n",
    "x = layers.Conv1D(32, 9, padding='same', activation='relu')(input_tensor)\n",
    "x = layers.Conv1D(32, 9, padding='same', activation='relu')(x)\n",
    "x = layers.MaxPool1D()(x)\n",
    "\n",
    "x = layers.Conv1D(64, 9, padding='same', activation='relu')(x)\n",
    "x = layers.Conv1D(64, 9, padding='same', activation='relu')(x)\n",
    "x = layers.MaxPool1D()(x)\n",
    "\n",
    "x = layers.Conv1D(128, 9, padding='same', activation='relu')(x)\n",
    "x = layers.Conv1D(128, 9, padding='same', activation='relu')(x)\n",
    "x = layers.Conv1D(128, 9, padding='same', activation='relu')(x)\n",
    "x = layers.MaxPool1D()(x)\n",
    "\n",
    "x = layers.Conv1D(256, 9, padding='same', activation='relu')(x)\n",
    "x = layers.Conv1D(256, 9, padding='same', activation='relu')(x)\n",
    "x = layers.Conv1D(256, 9, padding='same', activation='relu')(x)\n",
    "x = layers.MaxPool1D()(x)\n",
    "x = layers.Dropout(0.3)(x)\n",
    "\n",
    "x = layers.Flatten()(x)\n",
    "x = layers.Dense(256)(x)\n",
    "x = layers.BatchNormalization()(x)\n",
    "x = layers.Activation('relu')(x)\n",
    "\n",
    "output_tensor = layers.Dense(12)(x)\n",
    "\n",
    "model_wav = tf.keras.Model(input_tensor, output_tensor)\n",
    "\n",
    "model_wav.summary()"
   ]
  },
  {
   "cell_type": "code",
   "execution_count": 13,
   "id": "judicial-freeware",
   "metadata": {},
   "outputs": [
    {
     "name": "stdout",
     "output_type": "stream",
     "text": [
      "✅\n"
     ]
    }
   ],
   "source": [
    "optimizer=tf.keras.optimizers.Adam(1e-4)\n",
    "model_wav.compile(loss=tf.keras.losses.CategoricalCrossentropy(from_logits=True),\n",
    "             optimizer=optimizer,\n",
    "             metrics=['accuracy'])\n",
    "print(\"✅\")"
   ]
  },
  {
   "cell_type": "code",
   "execution_count": 14,
   "id": "casual-cocktail",
   "metadata": {},
   "outputs": [
    {
     "name": "stdout",
     "output_type": "stream",
     "text": [
      "✅\n"
     ]
    }
   ],
   "source": [
    "cp_callback = tf.keras.callbacks.ModelCheckpoint(checkpoint_dir,\n",
    "                                                 save_weights_only=True,\n",
    "                                                 monitor='val_loss',\n",
    "                                                 mode='auto',\n",
    "                                                 save_best_only=True,\n",
    "                                                 verbose=1)\n",
    "print(\"✅\")"
   ]
  },
  {
   "cell_type": "code",
   "execution_count": 15,
   "id": "sufficient-accreditation",
   "metadata": {},
   "outputs": [
    {
     "name": "stdout",
     "output_type": "stream",
     "text": [
      "Epoch 1/10\n",
      "1423/1423 [==============================] - ETA: 0s - loss: 1.3601 - accuracy: 0.5510\n",
      "Epoch 00001: val_loss improved from inf to 1.12795, saving model to models/wav\n",
      "1423/1423 [==============================] - 154s 108ms/step - loss: 1.3601 - accuracy: 0.5510 - val_loss: 1.1279 - val_accuracy: 0.6197\n",
      "Epoch 2/10\n",
      "1423/1423 [==============================] - ETA: 0s - loss: 0.8204 - accuracy: 0.7467\n",
      "Epoch 00002: val_loss improved from 1.12795 to 0.95632, saving model to models/wav\n",
      "1423/1423 [==============================] - 150s 105ms/step - loss: 0.8204 - accuracy: 0.7467 - val_loss: 0.9563 - val_accuracy: 0.6867\n",
      "Epoch 3/10\n",
      "1423/1423 [==============================] - ETA: 0s - loss: 0.5993 - accuracy: 0.8194\n",
      "Epoch 00003: val_loss improved from 0.95632 to 0.58103, saving model to models/wav\n",
      "1423/1423 [==============================] - 155s 109ms/step - loss: 0.5993 - accuracy: 0.8194 - val_loss: 0.5810 - val_accuracy: 0.8218\n",
      "Epoch 4/10\n",
      "1423/1423 [==============================] - ETA: 0s - loss: 0.4350 - accuracy: 0.8721\n",
      "Epoch 00004: val_loss did not improve from 0.58103\n",
      "1423/1423 [==============================] - 156s 109ms/step - loss: 0.4350 - accuracy: 0.8721 - val_loss: 0.5832 - val_accuracy: 0.8155\n",
      "Epoch 5/10\n",
      "1423/1423 [==============================] - ETA: 0s - loss: 0.3111 - accuracy: 0.9139\n",
      "Epoch 00005: val_loss improved from 0.58103 to 0.39442, saving model to models/wav\n",
      "1423/1423 [==============================] - 161s 113ms/step - loss: 0.3111 - accuracy: 0.9139 - val_loss: 0.3944 - val_accuracy: 0.8724\n",
      "Epoch 6/10\n",
      "1423/1423 [==============================] - ETA: 0s - loss: 0.2178 - accuracy: 0.9438\n",
      "Epoch 00006: val_loss improved from 0.39442 to 0.32479, saving model to models/wav\n",
      "1423/1423 [==============================] - 156s 109ms/step - loss: 0.2178 - accuracy: 0.9438 - val_loss: 0.3248 - val_accuracy: 0.8970\n",
      "Epoch 7/10\n",
      "1423/1423 [==============================] - ETA: 0s - loss: 0.1624 - accuracy: 0.9599\n",
      "Epoch 00007: val_loss did not improve from 0.32479\n",
      "1423/1423 [==============================] - 155s 109ms/step - loss: 0.1624 - accuracy: 0.9599 - val_loss: 0.3506 - val_accuracy: 0.8964\n",
      "Epoch 8/10\n",
      "1423/1423 [==============================] - ETA: 0s - loss: 0.1198 - accuracy: 0.9708\n",
      "Epoch 00008: val_loss improved from 0.32479 to 0.29065, saving model to models/wav\n",
      "1423/1423 [==============================] - 156s 109ms/step - loss: 0.1198 - accuracy: 0.9708 - val_loss: 0.2907 - val_accuracy: 0.9114\n",
      "Epoch 9/10\n",
      "1423/1423 [==============================] - ETA: 0s - loss: 0.0954 - accuracy: 0.9776\n",
      "Epoch 00009: val_loss did not improve from 0.29065\n",
      "1423/1423 [==============================] - 158s 111ms/step - loss: 0.0954 - accuracy: 0.9776 - val_loss: 0.3157 - val_accuracy: 0.9082\n",
      "Epoch 10/10\n",
      "1423/1423 [==============================] - ETA: 0s - loss: 0.0787 - accuracy: 0.9819\n",
      "Epoch 00010: val_loss did not improve from 0.29065\n",
      "1423/1423 [==============================] - 157s 111ms/step - loss: 0.0787 - accuracy: 0.9819 - val_loss: 0.3273 - val_accuracy: 0.9080\n",
      "✅\n"
     ]
    }
   ],
   "source": [
    "#30분 내외 소요 (메모리 사용량에 주의해 주세요.)\n",
    "history_wav = model_wav.fit(train_dataset, epochs=max_epochs,\n",
    "                    steps_per_epoch=len(train_wav) // batch_size,\n",
    "                    validation_data=test_dataset,\n",
    "                    validation_steps=len(test_wav) // batch_size,\n",
    "                    callbacks=[cp_callback]\n",
    "                    )\n",
    "print(\"✅\")"
   ]
  },
  {
   "cell_type": "code",
   "execution_count": 16,
   "id": "sapphire-saudi",
   "metadata": {},
   "outputs": [
    {
     "data": {
      "image/png": "[encoded data removed]",
      "text/plain": [
       "<Figure size 576x576 with 2 Axes>"
      ]
     },
     "metadata": {
      "needs_background": "light"
     },
     "output_type": "display_data"
    },
    {
     "name": "stdout",
     "output_type": "stream",
     "text": [
      "✅\n"
     ]
    }
   ],
   "source": [
    "import matplotlib.pyplot as plt\n",
    "\n",
    "acc = history_wav.history['accuracy']\n",
    "val_acc = history_wav.history['val_accuracy']\n",
    "\n",
    "loss=history_wav.history['loss']\n",
    "val_loss=history_wav.history['val_loss']\n",
    "\n",
    "epochs_range = range(len(acc))\n",
    "\n",
    "plt.figure(figsize=(8, 8))\n",
    "plt.subplot(1, 2, 1)\n",
    "plt.plot(epochs_range, acc, label='Training Accuracy')\n",
    "plt.plot(epochs_range, val_acc, label='Validation Accuracy')\n",
    "plt.legend(loc='lower right')\n",
    "plt.title('Training and Validation Accuracy')\n",
    "\n",
    "plt.subplot(1, 2, 2)\n",
    "plt.plot(epochs_range, loss, label='Training Loss')\n",
    "plt.plot(epochs_range, val_loss, label='Validation Loss')\n",
    "plt.legend(loc='upper right')\n",
    "plt.title('Training and Validation Loss')\n",
    "plt.show()\n",
    "print(\"✅\")"
   ]
  },
  {
   "cell_type": "code",
   "execution_count": 20,
   "id": "lucky-shanghai",
   "metadata": {},
   "outputs": [
    {
     "name": "stdout",
     "output_type": "stream",
     "text": [
      "✅\n"
     ]
    }
   ],
   "source": [
    "model_wav.load_weights(checkpoint_dir)\n",
    "print(\"✅\")"
   ]
  },
  {
   "cell_type": "code",
   "execution_count": 21,
   "id": "insured-karaoke",
   "metadata": {},
   "outputs": [
    {
     "name": "stdout",
     "output_type": "stream",
     "text": [
      "159/159 [==============================] - 5s 29ms/step - loss: 0.2904 - accuracy: 0.9115\n",
      "✅\n"
     ]
    }
   ],
   "source": [
    "results = model_wav.evaluate(test_dataset)\n",
    "print(\"✅\")"
   ]
  },
  {
   "cell_type": "code",
   "execution_count": 22,
   "id": "characteristic-traveler",
   "metadata": {},
   "outputs": [
    {
     "name": "stdout",
     "output_type": "stream",
     "text": [
      "loss value: 0.290\n",
      "accuracy value: 91.1497%\n",
      "✅\n"
     ]
    }
   ],
   "source": [
    "# loss\n",
    "print(\"loss value: {:.3f}\".format(results[0]))\n",
    "# accuracy\n",
    "print(\"accuracy value: {:.4f}%\".format(results[1]*100))\n",
    "print(\"✅\")"
   ]
  },
  {
   "cell_type": "code",
   "execution_count": 23,
   "id": "heard-fantasy",
   "metadata": {},
   "outputs": [
    {
     "name": "stdout",
     "output_type": "stream",
     "text": [
      "label :  down\n"
     ]
    },
    {
     "data": {
      "text/html": [
       "\n",
       "                <audio  controls=\"controls\" >\n",
       "                    <source src=\"data:audio/wav;base64,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\" type=\"audio/wav\" />\n",
       "                    Your browser does not support the audio element.\n",
       "                </audio>\n",
       "              "
      ],
      "text/plain": [
       "<IPython.lib.display.Audio object>"
      ]
     },
     "execution_count": 23,
     "metadata": {},
     "output_type": "execute_result"
    }
   ],
   "source": [
    "inv_label_value = {v: k for k, v in label_value.items()}\n",
    "batch_index = np.random.choice(len(test_wav), size=1, replace=False)\n",
    "\n",
    "batch_xs = test_wav[batch_index]\n",
    "batch_ys = test_label[batch_index]\n",
    "y_pred_ = model_wav(batch_xs, training=False)\n",
    "\n",
    "print(\"label : \", str(inv_label_value[batch_ys[0]]))\n",
    "\n",
    "ipd.Audio(batch_xs.reshape(8000,), rate=8000)"
   ]
  },
  {
   "cell_type": "code",
   "execution_count": 24,
   "id": "flexible-contract",
   "metadata": {},
   "outputs": [
    {
     "name": "stdout",
     "output_type": "stream",
     "text": [
      "y_pred: down(Correct!)\n",
      "✅\n"
     ]
    }
   ],
   "source": [
    "if np.argmax(y_pred_) == batch_ys[0]:\n",
    "    print(\"y_pred: \" + str(inv_label_value[np.argmax(y_pred_)]) + '(Correct!)')\n",
    "else:\n",
    "    print(\"y_pred: \" + str(inv_label_value[np.argmax(y_pred_)]) + '(Incorrect!)')\n",
    "print(\"✅\")"
   ]
  },
  {
   "cell_type": "code",
   "execution_count": 27,
   "id": "abstract-monster",
   "metadata": {},
   "outputs": [
    {
     "name": "stdout",
     "output_type": "stream",
     "text": [
      "{'yes': 0, 'no': 1, 'up': 2, 'down': 3, 'left': 4, 'right': 5, 'on': 6, 'off': 7, 'stop': 8, 'go': 9, 'unknown': 10, 'silence': 11}\n",
      "tf.Tensor(\n",
      "[[-0.8472144  -1.1542486  -3.9093869   7.6092772  -5.065397   -4.3063793\n",
      "  -1.2782046  -2.3284795  -1.6370056   1.666963   -0.69497234 -6.8369374 ]], shape=(1, 12), dtype=float32)\n"
     ]
    }
   ],
   "source": [
    "print(label_value)\n",
    "print(y_pred_)"
   ]
  },
  {
   "cell_type": "code",
   "execution_count": 28,
   "id": "serious-mercury",
   "metadata": {},
   "outputs": [
    {
     "data": {
      "text/plain": [
       "3"
      ]
     },
     "execution_count": 28,
     "metadata": {},
     "output_type": "execute_result"
    }
   ],
   "source": [
    "np.argmax(y_pred_)"
   ]
  },
  {
   "cell_type": "code",
   "execution_count": null,
   "id": "composite-savannah",
   "metadata": {},
   "outputs": [],
   "source": []
  },
  {
   "cell_type": "code",
   "execution_count": null,
   "id": "transsexual-decrease",
   "metadata": {},
   "outputs": [],
   "source": []
  },
  {
   "cell_type": "code",
   "execution_count": null,
   "id": "allied-sport",
   "metadata": {},
   "outputs": [],
   "source": []
  },
  {
   "cell_type": "code",
   "execution_count": null,
   "id": "serial-counter",
   "metadata": {},
   "outputs": [],
   "source": []
  },
  {
   "cell_type": "code",
   "execution_count": null,
   "id": "dirty-germany",
   "metadata": {},
   "outputs": [],
   "source": []
  }
 ],
 "metadata": {
  "kernelspec": {
   "display_name": "aiffel",
   "language": "python",
   "name": "aiffel"
  },
  "language_info": {
   "codemirror_mode": {
    "name": "ipython",
    "version": 3
   },
   "file_extension": ".py",
   "mimetype": "text/x-python",
   "name": "python",
   "nbconvert_exporter": "python",
   "pygments_lexer": "ipython3",
   "version": "3.7.9"
  }
 },
 "nbformat": 4,
 "nbformat_minor": 5
}
