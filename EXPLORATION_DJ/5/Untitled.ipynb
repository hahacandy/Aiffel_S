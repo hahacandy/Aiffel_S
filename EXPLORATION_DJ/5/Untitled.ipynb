{
 "cells": [
  {
   "cell_type": "code",
   "execution_count": 11,
   "id": "given-toolbox",
   "metadata": {},
   "outputs": [
    {
     "name": "stdout",
     "output_type": "stream",
     "text": [
      "✅\n"
     ]
    }
   ],
   "source": [
    "import numpy as np\n",
    "import os\n",
    "\n",
    "data_path = '/home/thuban/문서/GitHub/Aiffel_S/EXPLORATION_DJ/5/speech_wav_8000.npz'\n",
    "speech_data = np.load(data_path)\n",
    "\n",
    "print(\"✅\")"
   ]
  },
  {
   "cell_type": "code",
   "execution_count": 12,
   "id": "breathing-bunch",
   "metadata": {},
   "outputs": [
    {
     "name": "stdout",
     "output_type": "stream",
     "text": [
      "Wave data shape :  (50620, 8000)\n",
      "Label data shape :  (50620, 1)\n",
      "✅\n"
     ]
    }
   ],
   "source": [
    "print(\"Wave data shape : \", speech_data[\"wav_vals\"].shape)\n",
    "print(\"Label data shape : \", speech_data[\"label_vals\"].shape)\n",
    "print(\"✅\")"
   ]
  },
  {
   "cell_type": "code",
   "execution_count": 13,
   "id": "herbal-segment",
   "metadata": {},
   "outputs": [
    {
     "name": "stdout",
     "output_type": "stream",
     "text": [
      "rand num :  10038\n",
      "Wave data shape :  (8000,)\n",
      "label :  ['off']\n"
     ]
    },
    {
     "data": {
      "text/html": [
       "\n",
       "                <audio  controls=\"controls\" >\n",
       "                    <source src=\"data:audio/wav;base64,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\" type=\"audio/wav\" />\n",
       "                    Your browser does not support the audio element.\n",
       "                </audio>\n",
       "              "
      ],
      "text/plain": [
       "<IPython.lib.display.Audio object>"
      ]
     },
     "execution_count": 13,
     "metadata": {},
     "output_type": "execute_result"
    }
   ],
   "source": [
    "import IPython.display as ipd\n",
    "import random\n",
    "\n",
    "# 데이터 선택 (랜덤하게 선택하고 있으니, 여러번 실행해 보세요)\n",
    "rand = random.randint(0, len(speech_data[\"wav_vals\"]))\n",
    "print(\"rand num : \", rand)\n",
    "\n",
    "sr = 8000 # 1초동안 재생되는 샘플의 갯수\n",
    "data = speech_data[\"wav_vals\"][rand]\n",
    "print(\"Wave data shape : \", data.shape)\n",
    "print(\"label : \", speech_data[\"label_vals\"][rand])\n",
    "\n",
    "ipd.Audio(data, rate=sr)"
   ]
  },
  {
   "cell_type": "code",
   "execution_count": 14,
   "id": "devoted-procurement",
   "metadata": {},
   "outputs": [
    {
     "data": {
      "text/plain": [
       "array([-0.00402155, -0.00595216, -0.00501966, ...,  0.00381249,\n",
       "        0.00455023,  0.00585875], dtype=float32)"
      ]
     },
     "execution_count": 14,
     "metadata": {},
     "output_type": "execute_result"
    }
   ],
   "source": [
    "data"
   ]
  },
  {
   "cell_type": "code",
   "execution_count": 15,
   "id": "portuguese-haven",
   "metadata": {},
   "outputs": [
    {
     "name": "stdout",
     "output_type": "stream",
     "text": [
      "LABEL :  ['yes', 'no', 'up', 'down', 'left', 'right', 'on', 'off', 'stop', 'go', 'unknown', 'silence']\n",
      "Indexed LABEL :  {'yes': 0, 'no': 1, 'up': 2, 'down': 3, 'left': 4, 'right': 5, 'on': 6, 'off': 7, 'stop': 8, 'go': 9, 'unknown': 10, 'silence': 11}\n"
     ]
    }
   ],
   "source": [
    "target_list = ['yes', 'no', 'up', 'down', 'left', 'right', 'on', 'off', 'stop', 'go']\n",
    "\n",
    "label_value = target_list\n",
    "label_value.append('unknown')\n",
    "label_value.append('silence')\n",
    "\n",
    "print('LABEL : ', label_value)\n",
    "\n",
    "new_label_value = dict()\n",
    "for i, l in enumerate(label_value):\n",
    "    new_label_value[l] = i\n",
    "label_value = new_label_value\n",
    "\n",
    "print('Indexed LABEL : ', new_label_value)"
   ]
  },
  {
   "cell_type": "code",
   "execution_count": 16,
   "id": "comparable-relevance",
   "metadata": {},
   "outputs": [
    {
     "data": {
      "text/plain": [
       "array([ 3,  3,  3, ..., 11, 11, 11])"
      ]
     },
     "execution_count": 16,
     "metadata": {},
     "output_type": "execute_result"
    }
   ],
   "source": [
    "temp = []\n",
    "for v in speech_data[\"label_vals\"]:\n",
    "    temp.append(label_value[v[0]])\n",
    "label_data = np.array(temp)\n",
    "\n",
    "label_data"
   ]
  },
  {
   "cell_type": "code",
   "execution_count": 17,
   "id": "differential-lucas",
   "metadata": {},
   "outputs": [
    {
     "name": "stdout",
     "output_type": "stream",
     "text": [
      "[[-1.1232621e-05 -2.7703831e-05 -3.7023368e-05 ... -1.5765974e-05\n",
      "  -4.2006726e-05 -4.0382063e-05]\n",
      " [ 3.2463442e-03  4.6476526e-03  3.9427374e-05 ...  2.4526087e-03\n",
      "   1.9863418e-03 -1.9550954e-03]\n",
      " [-8.8056567e-04 -1.1651091e-03 -1.1276675e-03 ... -1.0297359e-02\n",
      "  -9.0746898e-03 -9.6473815e-03]\n",
      " ...\n",
      " [ 3.2957660e-03  4.7315299e-03  8.7211149e-05 ...  2.6089642e-03\n",
      "   2.1061723e-03 -1.8549832e-03]\n",
      " [ 9.3697564e-04  1.7403588e-03  1.5126285e-03 ... -3.1630174e-05\n",
      "   6.4996962e-04  1.3297127e-03]\n",
      " [-1.7589834e-02  1.4357253e-04 -1.3149757e-02 ...  1.6058559e-02\n",
      "  -3.6471912e-03  4.3912507e-03]]\n",
      "✅\n"
     ]
    }
   ],
   "source": [
    "from sklearn.model_selection import train_test_split\n",
    "\n",
    "sr = 8000\n",
    "train_wav, test_wav, train_label, test_label = train_test_split(speech_data[\"wav_vals\"], \n",
    "                                                                label_data, \n",
    "                                                                test_size=0.1,\n",
    "                                                                shuffle=True)\n",
    "print(train_wav)\n",
    "\n",
    "train_wav = train_wav.reshape([-1, sr, 1]) # add channel for CNN\n",
    "test_wav = test_wav.reshape([-1, sr, 1])\n",
    "print(\"✅\")"
   ]
  },
  {
   "cell_type": "code",
   "execution_count": 18,
   "id": "handed-simulation",
   "metadata": {},
   "outputs": [
    {
     "name": "stdout",
     "output_type": "stream",
     "text": [
      "train data :  (45558, 8000, 1)\n",
      "train labels :  (45558,)\n",
      "test data :  (5062, 8000, 1)\n",
      "test labels :  (5062,)\n",
      "✅\n"
     ]
    }
   ],
   "source": [
    "print(\"train data : \", train_wav.shape)\n",
    "print(\"train labels : \", train_label.shape)\n",
    "print(\"test data : \", test_wav.shape)\n",
    "print(\"test labels : \", test_label.shape)\n",
    "print(\"✅\")"
   ]
  },
  {
   "cell_type": "code",
   "execution_count": 19,
   "id": "greater-warren",
   "metadata": {},
   "outputs": [
    {
     "data": {
      "text/plain": [
       "'models/wav/'"
      ]
     },
     "execution_count": 19,
     "metadata": {},
     "output_type": "execute_result"
    }
   ],
   "source": [
    "batch_size = 32\n",
    "max_epochs = 10\n",
    "\n",
    "# the save point\n",
    "checkpoint_dir = 'models/wav/'\n",
    "\n",
    "checkpoint_dir"
   ]
  },
  {
   "cell_type": "code",
   "execution_count": 20,
   "id": "knowing-definition",
   "metadata": {},
   "outputs": [
    {
     "name": "stdout",
     "output_type": "stream",
     "text": [
      "✅\n"
     ]
    }
   ],
   "source": [
    "def one_hot_label(wav, label):\n",
    "    label = tf.one_hot(label, depth=12)\n",
    "    return wav, label\n",
    "print(\"✅\")"
   ]
  },
  {
   "cell_type": "code",
   "execution_count": 21,
   "id": "intensive-jungle",
   "metadata": {},
   "outputs": [
    {
     "name": "stdout",
     "output_type": "stream",
     "text": [
      "<BatchDataset shapes: ((None, 8000, 1), (None, 12)), types: (tf.float32, tf.float32)>\n",
      "<BatchDataset shapes: ((None, 8000, 1), (None, 12)), types: (tf.float32, tf.float32)>\n",
      "✅\n"
     ]
    }
   ],
   "source": [
    "import tensorflow as tf\n",
    "\n",
    "# for train\n",
    "train_dataset = tf.data.Dataset.from_tensor_slices((train_wav, train_label))\n",
    "train_dataset = train_dataset.map(one_hot_label)\n",
    "train_dataset = train_dataset.repeat().batch(batch_size=batch_size)\n",
    "print(train_dataset)\n",
    "\n",
    "# for test\n",
    "test_dataset = tf.data.Dataset.from_tensor_slices((test_wav, test_label))\n",
    "test_dataset = test_dataset.map(one_hot_label)\n",
    "test_dataset = test_dataset.batch(batch_size=batch_size)\n",
    "print(test_dataset)\n",
    "print(\"✅\")"
   ]
  },
  {
   "cell_type": "code",
   "execution_count": 22,
   "id": "sufficient-curve",
   "metadata": {},
   "outputs": [
    {
     "name": "stdout",
     "output_type": "stream",
     "text": [
      "Model: \"model_1\"\n",
      "_________________________________________________________________\n",
      "Layer (type)                 Output Shape              Param #   \n",
      "=================================================================\n",
      "input_3 (InputLayer)         [(None, 8000, 1)]         0         \n",
      "_________________________________________________________________\n",
      "conv1d_20 (Conv1D)           (None, 8000, 32)          320       \n",
      "_________________________________________________________________\n",
      "conv1d_21 (Conv1D)           (None, 8000, 32)          9248      \n",
      "_________________________________________________________________\n",
      "max_pooling1d_8 (MaxPooling1 (None, 4000, 32)          0         \n",
      "_________________________________________________________________\n",
      "conv1d_22 (Conv1D)           (None, 4000, 64)          18496     \n",
      "_________________________________________________________________\n",
      "conv1d_23 (Conv1D)           (None, 4000, 64)          36928     \n",
      "_________________________________________________________________\n",
      "max_pooling1d_9 (MaxPooling1 (None, 2000, 64)          0         \n",
      "_________________________________________________________________\n",
      "conv1d_24 (Conv1D)           (None, 2000, 128)         73856     \n",
      "_________________________________________________________________\n",
      "conv1d_25 (Conv1D)           (None, 2000, 128)         147584    \n",
      "_________________________________________________________________\n",
      "conv1d_26 (Conv1D)           (None, 2000, 128)         147584    \n",
      "_________________________________________________________________\n",
      "max_pooling1d_10 (MaxPooling (None, 1000, 128)         0         \n",
      "_________________________________________________________________\n",
      "conv1d_27 (Conv1D)           (None, 1000, 256)         295168    \n",
      "_________________________________________________________________\n",
      "conv1d_28 (Conv1D)           (None, 1000, 256)         590080    \n",
      "_________________________________________________________________\n",
      "conv1d_29 (Conv1D)           (None, 1000, 256)         590080    \n",
      "_________________________________________________________________\n",
      "max_pooling1d_11 (MaxPooling (None, 500, 256)          0         \n",
      "_________________________________________________________________\n",
      "dropout_2 (Dropout)          (None, 500, 256)          0         \n",
      "_________________________________________________________________\n",
      "flatten_2 (Flatten)          (None, 128000)            0         \n",
      "_________________________________________________________________\n",
      "dense_4 (Dense)              (None, 256)               32768256  \n",
      "_________________________________________________________________\n",
      "batch_normalization_2 (Batch (None, 256)               1024      \n",
      "_________________________________________________________________\n",
      "activation_2 (Activation)    (None, 256)               0         \n",
      "_________________________________________________________________\n",
      "dense_5 (Dense)              (None, 12)                3084      \n",
      "=================================================================\n",
      "Total params: 34,681,708\n",
      "Trainable params: 34,681,196\n",
      "Non-trainable params: 512\n",
      "_________________________________________________________________\n"
     ]
    }
   ],
   "source": [
    "from tensorflow.keras import layers\n",
    "\n",
    "input_tensor = layers.Input(shape=(sr, 1))\n",
    "\n",
    "x = layers.Conv1D(32, 9, padding='same', activation='relu')(input_tensor)\n",
    "x = layers.Conv1D(32, 9, padding='same', activation='relu')(x)\n",
    "x = layers.MaxPool1D()(x)\n",
    "\n",
    "x = layers.Conv1D(64, 9, padding='same', activation='relu')(x)\n",
    "x = layers.Conv1D(64, 9, padding='same', activation='relu')(x)\n",
    "x = layers.MaxPool1D()(x)\n",
    "\n",
    "x = layers.Conv1D(128, 9, padding='same', activation='relu')(x)\n",
    "x = layers.Conv1D(128, 9, padding='same', activation='relu')(x)\n",
    "x = layers.Conv1D(128, 9, padding='same', activation='relu')(x)\n",
    "x = layers.MaxPool1D()(x)\n",
    "\n",
    "x = layers.Conv1D(256, 9, padding='same', activation='relu')(x)\n",
    "x = layers.Conv1D(256, 9, padding='same', activation='relu')(x)\n",
    "x = layers.Conv1D(256, 9, padding='same', activation='relu')(x)\n",
    "x = layers.MaxPool1D()(x)\n",
    "x = layers.Dropout(0.3)(x)\n",
    "\n",
    "x = layers.Flatten()(x)\n",
    "x = layers.Dense(256)(x)\n",
    "x = layers.BatchNormalization()(x)\n",
    "x = layers.Activation('relu')(x)\n",
    "\n",
    "output_tensor = layers.Dense(12)(x)\n",
    "\n",
    "model_wav = tf.keras.Model(input_tensor, output_tensor)\n",
    "\n",
    "model_wav.summary()"
   ]
  },
  {
   "cell_type": "code",
   "execution_count": 23,
   "id": "adjacent-costs",
   "metadata": {},
   "outputs": [
    {
     "name": "stdout",
     "output_type": "stream",
     "text": [
      "✅\n"
     ]
    }
   ],
   "source": [
    "optimizer=tf.keras.optimizers.Adam(1e-4)\n",
    "model_wav.compile(loss=tf.keras.losses.CategoricalCrossentropy(from_logits=True),\n",
    "             optimizer=optimizer,\n",
    "             metrics=['accuracy'])\n",
    "print(\"✅\")"
   ]
  },
  {
   "cell_type": "code",
   "execution_count": 24,
   "id": "suspected-diagnosis",
   "metadata": {},
   "outputs": [
    {
     "name": "stdout",
     "output_type": "stream",
     "text": [
      "✅\n"
     ]
    }
   ],
   "source": [
    "cp_callback = tf.keras.callbacks.ModelCheckpoint(checkpoint_dir,\n",
    "                                                 save_weights_only=True,\n",
    "                                                 monitor='val_loss',\n",
    "                                                 mode='auto',\n",
    "                                                 save_best_only=True,\n",
    "                                                 verbose=1)\n",
    "print(\"✅\")"
   ]
  },
  {
   "cell_type": "code",
   "execution_count": 15,
   "id": "coral-stamp",
   "metadata": {},
   "outputs": [
    {
     "name": "stdout",
     "output_type": "stream",
     "text": [
      "Epoch 1/10\n",
      "1423/1423 [==============================] - ETA: 0s - loss: 1.3601 - accuracy: 0.5510\n",
      "Epoch 00001: val_loss improved from inf to 1.12795, saving model to models/wav\n",
      "1423/1423 [==============================] - 154s 108ms/step - loss: 1.3601 - accuracy: 0.5510 - val_loss: 1.1279 - val_accuracy: 0.6197\n",
      "Epoch 2/10\n",
      "1423/1423 [==============================] - ETA: 0s - loss: 0.8204 - accuracy: 0.7467\n",
      "Epoch 00002: val_loss improved from 1.12795 to 0.95632, saving model to models/wav\n",
      "1423/1423 [==============================] - 150s 105ms/step - loss: 0.8204 - accuracy: 0.7467 - val_loss: 0.9563 - val_accuracy: 0.6867\n",
      "Epoch 3/10\n",
      "1423/1423 [==============================] - ETA: 0s - loss: 0.5993 - accuracy: 0.8194\n",
      "Epoch 00003: val_loss improved from 0.95632 to 0.58103, saving model to models/wav\n",
      "1423/1423 [==============================] - 155s 109ms/step - loss: 0.5993 - accuracy: 0.8194 - val_loss: 0.5810 - val_accuracy: 0.8218\n",
      "Epoch 4/10\n",
      "1423/1423 [==============================] - ETA: 0s - loss: 0.4350 - accuracy: 0.8721\n",
      "Epoch 00004: val_loss did not improve from 0.58103\n",
      "1423/1423 [==============================] - 156s 109ms/step - loss: 0.4350 - accuracy: 0.8721 - val_loss: 0.5832 - val_accuracy: 0.8155\n",
      "Epoch 5/10\n",
      "1423/1423 [==============================] - ETA: 0s - loss: 0.3111 - accuracy: 0.9139\n",
      "Epoch 00005: val_loss improved from 0.58103 to 0.39442, saving model to models/wav\n",
      "1423/1423 [==============================] - 161s 113ms/step - loss: 0.3111 - accuracy: 0.9139 - val_loss: 0.3944 - val_accuracy: 0.8724\n",
      "Epoch 6/10\n",
      "1423/1423 [==============================] - ETA: 0s - loss: 0.2178 - accuracy: 0.9438\n",
      "Epoch 00006: val_loss improved from 0.39442 to 0.32479, saving model to models/wav\n",
      "1423/1423 [==============================] - 156s 109ms/step - loss: 0.2178 - accuracy: 0.9438 - val_loss: 0.3248 - val_accuracy: 0.8970\n",
      "Epoch 7/10\n",
      "1423/1423 [==============================] - ETA: 0s - loss: 0.1624 - accuracy: 0.9599\n",
      "Epoch 00007: val_loss did not improve from 0.32479\n",
      "1423/1423 [==============================] - 155s 109ms/step - loss: 0.1624 - accuracy: 0.9599 - val_loss: 0.3506 - val_accuracy: 0.8964\n",
      "Epoch 8/10\n",
      "1423/1423 [==============================] - ETA: 0s - loss: 0.1198 - accuracy: 0.9708\n",
      "Epoch 00008: val_loss improved from 0.32479 to 0.29065, saving model to models/wav\n",
      "1423/1423 [==============================] - 156s 109ms/step - loss: 0.1198 - accuracy: 0.9708 - val_loss: 0.2907 - val_accuracy: 0.9114\n",
      "Epoch 9/10\n",
      "1423/1423 [==============================] - ETA: 0s - loss: 0.0954 - accuracy: 0.9776\n",
      "Epoch 00009: val_loss did not improve from 0.29065\n",
      "1423/1423 [==============================] - 158s 111ms/step - loss: 0.0954 - accuracy: 0.9776 - val_loss: 0.3157 - val_accuracy: 0.9082\n",
      "Epoch 10/10\n",
      "1423/1423 [==============================] - ETA: 0s - loss: 0.0787 - accuracy: 0.9819\n",
      "Epoch 00010: val_loss did not improve from 0.29065\n",
      "1423/1423 [==============================] - 157s 111ms/step - loss: 0.0787 - accuracy: 0.9819 - val_loss: 0.3273 - val_accuracy: 0.9080\n",
      "✅\n"
     ]
    }
   ],
   "source": [
    "#30분 내외 소요 (메모리 사용량에 주의해 주세요.)\n",
    "history_wav = model_wav.fit(train_dataset, epochs=max_epochs,\n",
    "                    steps_per_epoch=len(train_wav) // batch_size,\n",
    "                    validation_data=test_dataset,\n",
    "                    validation_steps=len(test_wav) // batch_size,\n",
    "                    callbacks=[cp_callback]\n",
    "                    )\n",
    "print(\"✅\")"
   ]
  },
  {
   "cell_type": "code",
   "execution_count": 16,
   "id": "skilled-start",
   "metadata": {},
   "outputs": [
    {
     "data": {
      "image/png": "[encoded data removed]",
      "text/plain": [
       "<Figure size 576x576 with 2 Axes>"
      ]
     },
     "metadata": {
      "needs_background": "light"
     },
     "output_type": "display_data"
    },
    {
     "name": "stdout",
     "output_type": "stream",
     "text": [
      "✅\n"
     ]
    }
   ],
   "source": [
    "import matplotlib.pyplot as plt\n",
    "\n",
    "acc = history_wav.history['accuracy']\n",
    "val_acc = history_wav.history['val_accuracy']\n",
    "\n",
    "loss=history_wav.history['loss']\n",
    "val_loss=history_wav.history['val_loss']\n",
    "\n",
    "epochs_range = range(len(acc))\n",
    "\n",
    "plt.figure(figsize=(8, 8))\n",
    "plt.subplot(1, 2, 1)\n",
    "plt.plot(epochs_range, acc, label='Training Accuracy')\n",
    "plt.plot(epochs_range, val_acc, label='Validation Accuracy')\n",
    "plt.legend(loc='lower right')\n",
    "plt.title('Training and Validation Accuracy')\n",
    "\n",
    "plt.subplot(1, 2, 2)\n",
    "plt.plot(epochs_range, loss, label='Training Loss')\n",
    "plt.plot(epochs_range, val_loss, label='Validation Loss')\n",
    "plt.legend(loc='upper right')\n",
    "plt.title('Training and Validation Loss')\n",
    "plt.show()\n",
    "print(\"✅\")"
   ]
  },
  {
   "cell_type": "code",
   "execution_count": 25,
   "id": "offensive-chamber",
   "metadata": {},
   "outputs": [
    {
     "name": "stdout",
     "output_type": "stream",
     "text": [
      "✅\n"
     ]
    }
   ],
   "source": [
    "model_wav.load_weights(checkpoint_dir)\n",
    "print(\"✅\")"
   ]
  },
  {
   "cell_type": "code",
   "execution_count": 27,
   "id": "medical-nebraska",
   "metadata": {},
   "outputs": [
    {
     "name": "stdout",
     "output_type": "stream",
     "text": [
      "159/159 [==============================] - 5s 29ms/step - loss: 0.1347 - accuracy: 0.9619\n",
      "✅\n"
     ]
    }
   ],
   "source": [
    "results = model_wav.evaluate(test_dataset)\n",
    "print(\"✅\")"
   ]
  },
  {
   "cell_type": "code",
   "execution_count": 28,
   "id": "objective-boating",
   "metadata": {},
   "outputs": [
    {
     "name": "stdout",
     "output_type": "stream",
     "text": [
      "loss value: 0.135\n",
      "accuracy value: 96.1873%\n",
      "✅\n"
     ]
    }
   ],
   "source": [
    "# loss\n",
    "print(\"loss value: {:.3f}\".format(results[0]))\n",
    "# accuracy\n",
    "print(\"accuracy value: {:.4f}%\".format(results[1]*100))\n",
    "print(\"✅\")"
   ]
  },
  {
   "cell_type": "code",
   "execution_count": 29,
   "id": "surprising-tongue",
   "metadata": {},
   "outputs": [
    {
     "name": "stdout",
     "output_type": "stream",
     "text": [
      "label :  down\n"
     ]
    },
    {
     "data": {
      "text/html": [
       "\n",
       "                <audio  controls=\"controls\" >\n",
       "                    <source src=\"data:audio/wav;base64,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\" type=\"audio/wav\" />\n",
       "                    Your browser does not support the audio element.\n",
       "                </audio>\n",
       "              "
      ],
      "text/plain": [
       "<IPython.lib.display.Audio object>"
      ]
     },
     "execution_count": 29,
     "metadata": {},
     "output_type": "execute_result"
    }
   ],
   "source": [
    "inv_label_value = {v: k for k, v in label_value.items()}\n",
    "batch_index = np.random.choice(len(test_wav), size=1, replace=False)\n",
    "\n",
    "batch_xs = test_wav[batch_index]\n",
    "batch_ys = test_label[batch_index]\n",
    "y_pred_ = model_wav(batch_xs, training=False)\n",
    "\n",
    "print(\"label : \", str(inv_label_value[batch_ys[0]]))\n",
    "\n",
    "ipd.Audio(batch_xs.reshape(8000,), rate=8000)"
   ]
  },
  {
   "cell_type": "code",
   "execution_count": 30,
   "id": "pleased-danish",
   "metadata": {},
   "outputs": [
    {
     "name": "stdout",
     "output_type": "stream",
     "text": [
      "y_pred: down(Correct!)\n",
      "✅\n"
     ]
    }
   ],
   "source": [
    "if np.argmax(y_pred_) == batch_ys[0]:\n",
    "    print(\"y_pred: \" + str(inv_label_value[np.argmax(y_pred_)]) + '(Correct!)')\n",
    "else:\n",
    "    print(\"y_pred: \" + str(inv_label_value[np.argmax(y_pred_)]) + '(Incorrect!)')\n",
    "print(\"✅\")"
   ]
  },
  {
   "cell_type": "code",
   "execution_count": 27,
   "id": "accurate-humanity",
   "metadata": {},
   "outputs": [
    {
     "name": "stdout",
     "output_type": "stream",
     "text": [
      "{'yes': 0, 'no': 1, 'up': 2, 'down': 3, 'left': 4, 'right': 5, 'on': 6, 'off': 7, 'stop': 8, 'go': 9, 'unknown': 10, 'silence': 11}\n",
      "tf.Tensor(\n",
      "[[-0.8472144  -1.1542486  -3.9093869   7.6092772  -5.065397   -4.3063793\n",
      "  -1.2782046  -2.3284795  -1.6370056   1.666963   -0.69497234 -6.8369374 ]], shape=(1, 12), dtype=float32)\n"
     ]
    }
   ],
   "source": [
    "print(label_value)\n",
    "print(y_pred_)"
   ]
  },
  {
   "cell_type": "code",
   "execution_count": 28,
   "id": "parental-tension",
   "metadata": {},
   "outputs": [
    {
     "data": {
      "text/plain": [
       "3"
      ]
     },
     "execution_count": 28,
     "metadata": {},
     "output_type": "execute_result"
    }
   ],
   "source": [
    "np.argmax(y_pred_)"
   ]
  },
  {
   "cell_type": "code",
   "execution_count": null,
   "id": "radical-blocking",
   "metadata": {},
   "outputs": [],
   "source": []
  },
  {
   "cell_type": "code",
   "execution_count": null,
   "id": "religious-sudan",
   "metadata": {},
   "outputs": [],
   "source": []
  },
  {
   "cell_type": "code",
   "execution_count": null,
   "id": "dramatic-attempt",
   "metadata": {},
   "outputs": [],
   "source": []
  },
  {
   "cell_type": "code",
   "execution_count": null,
   "id": "reflected-philippines",
   "metadata": {},
   "outputs": [],
   "source": []
  },
  {
   "cell_type": "code",
   "execution_count": null,
   "id": "decreased-formation",
   "metadata": {},
   "outputs": [],
   "source": []
  }
 ],
 "metadata": {
  "kernelspec": {
   "display_name": "aiffel",
   "language": "python",
   "name": "aiffel"
  },
  "language_info": {
   "codemirror_mode": {
    "name": "ipython",
    "version": 3
   },
   "file_extension": ".py",
   "mimetype": "text/x-python",
   "name": "python",
   "nbconvert_exporter": "python",
   "pygments_lexer": "ipython3",
   "version": "3.7.9"
  }
 },
 "nbformat": 4,
 "nbformat_minor": 5
}
