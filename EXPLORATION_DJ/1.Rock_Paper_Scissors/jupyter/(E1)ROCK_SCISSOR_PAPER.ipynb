{
 "cells": [
  {
   "cell_type": "markdown",
   "metadata": {},
   "source": [
    "# 가위바위보 분류기"
   ]
  },
  {
   "cell_type": "markdown",
   "metadata": {},
   "source": [
    "## 1.1 손모양 데이터 수집\n",
    "https://teachablemachine.withgoogle.com/ 이 사이트에서 손모양을 찍어서 다운받아서 나의 깃허브에 올렸다.   \n",
    "손모양 사진   https://github.com/hahacandy/Aiffel_S/tree/main/EXPLORATION_DJ/1.%EC%9D%B8%EA%B3%B5%EC%A7%80%EB%8A%A5%EA%B3%BC%20%EA%B0%80%EC%9C%84%EB%B0%94%EC%9C%84%EB%B3%B4%20%ED%95%98%EA%B8%B0/E1/rock_scissor_paper\n"
   ]
  },
  {
   "cell_type": "markdown",
   "metadata": {},
   "source": [
    "## 1.2 하지만 사진이 224x224 사이즈이기때문에 예제에서 나온 28x28 사이즈로 변환\n"
   ]
  },
  {
   "cell_type": "markdown",
   "metadata": {},
   "source": [
    "### 파이썬 코드를 사용하기위해 라이브러리들이 좀 필요하다"
   ]
  },
  {
   "cell_type": "code",
   "execution_count": 1,
   "metadata": {},
   "outputs": [],
   "source": [
    "# PIL 라이브러리가 설치되어 있지 않다면 설치\n",
    "# pip install pillow   \n",
    "\n",
    "from PIL import Image\n",
    "import os, glob\n",
    "import numpy as np"
   ]
  },
  {
   "cell_type": "markdown",
   "metadata": {},
   "source": [
    "### 나의 경우에는 폴더 경로가 바껴서 예제와는 조금 다르다"
   ]
  },
  {
   "cell_type": "code",
   "execution_count": 12,
   "metadata": {},
   "outputs": [
    {
     "name": "stdout",
     "output_type": "stream",
     "text": [
      "이미지 디렉토리 경로:  /home/aiffel/GitHub/Aiffel_S/EXPLORATION_DJ/1.Rock_Paper_Scissors/jupyter/rock_scissor_paper/train/\n",
      "보이미지 resize 완료!\n",
      "바위이미지 resize 완료!\n",
      "가위이미지 resize 완료!\n"
     ]
    }
   ],
   "source": [
    "# 가위 이미지가 저장된 디렉토리 아래의 모든 jpg 파일을 읽어들여서\n",
    "image_dir_path = os.getenv(\"HOME\") + \"/GitHub/Aiffel_S/EXPLORATION_DJ/1.Rock_Paper_Scissors/jupyter/rock_scissor_paper/train/\"\n",
    "print(\"이미지 디렉토리 경로: \", image_dir_path)\n",
    "\n",
    "# 이미지 갯수를 측정하기 위함\n",
    "images_nums = 0\n",
    "\n",
    "# 이미지 사이즈 변환 함수\n",
    "def changes_size(images, label):\n",
    "    \n",
    "    global images_nums\n",
    "    \n",
    "    # 파일마다 모두 28x28 사이즈로 바꾸어 저장합니다.\n",
    "    target_size=(28,28)\n",
    "    for img in images:\n",
    "        old_img=Image.open(img)\n",
    "        new_img=old_img.resize(target_size,Image.ANTIALIAS)\n",
    "        new_img.save(img,\"JPEG\")\n",
    "        \n",
    "        images_nums += 1\n",
    "    print(label +  \"이미지 resize 완료!\")\n",
    "\n",
    "\n",
    "paper_images=glob.glob(image_dir_path + \"paper/*.jpg\")  \n",
    "rock_images=glob.glob(image_dir_path + \"rock/*.jpg\")  \n",
    "scissor_images=glob.glob(image_dir_path + \"scissor/*.jpg\")  \n",
    "\n",
    "changes_size(paper_images, \"보\")\n",
    "changes_size(rock_images, \"바위\")\n",
    "changes_size(scissor_images, \"가위\")"
   ]
  },
  {
   "cell_type": "markdown",
   "metadata": {},
   "source": [
    "## 2.1 저장된 사진을 훈련데이터로 불러오기"
   ]
  },
  {
   "cell_type": "markdown",
   "metadata": {},
   "source": [
    "### 저장된 사진을 트레인 행렬에 담는다"
   ]
  },
  {
   "cell_type": "code",
   "execution_count": 13,
   "metadata": {},
   "outputs": [
    {
     "name": "stdout",
     "output_type": "stream",
     "text": [
      "/home/aiffel/GitHub/Aiffel_S/EXPLORATION_DJ/1.Rock_Paper_Scissors/jupyter/rock_scissor_paper/train\n",
      "학습데이터의 이미지 개수는 9300 입니다.\n",
      "x_train shape: (9300, 28, 28, 3)\n",
      "y_train shape: (9300,)\n"
     ]
    }
   ],
   "source": [
    "def load_data(img_path):\n",
    "    print(img_path)\n",
    "    # 가위 : 0, 바위 : 1, 보 : 2\n",
    "    number_of_data=images_nums   # 가위바위보 이미지 개수 총합에 주의하세요.\n",
    "    img_size=28\n",
    "    color=3\n",
    "    #이미지 데이터와 라벨(가위 : 0, 바위 : 1, 보 : 2) 데이터를 담을 행렬(matrix) 영역을 생성합니다.\n",
    "    imgs=np.zeros(number_of_data*img_size*img_size*color,dtype=np.int32).reshape(number_of_data,img_size,img_size,color)\n",
    "    labels=np.zeros(number_of_data,dtype=np.int32)\n",
    "\n",
    "    idx=0\n",
    "    for file in glob.iglob(img_path+'/scissor/*.jpg'):\n",
    "        img = np.array(Image.open(file),dtype=np.int32)\n",
    "        imgs[idx,:,:,:]=img    # 데이터 영역에 이미지 행렬을 복사\n",
    "        labels[idx]=0   # 가위 : 0\n",
    "        idx=idx+1\n",
    "\n",
    "    for file in glob.iglob(img_path+'/rock/*.jpg'):\n",
    "        img = np.array(Image.open(file),dtype=np.int32)\n",
    "        imgs[idx,:,:,:]=img    # 데이터 영역에 이미지 행렬을 복사\n",
    "        labels[idx]=1   # 바위 : 1\n",
    "        idx=idx+1       \n",
    "    \n",
    "    for file in glob.iglob(img_path+'/paper/*.jpg'):\n",
    "        img = np.array(Image.open(file),dtype=np.int32)\n",
    "        imgs[idx,:,:,:]=img    # 데이터 영역에 이미지 행렬을 복사\n",
    "        labels[idx]=2   # 보 : 2\n",
    "        idx=idx+1\n",
    "        \n",
    "    print(\"학습데이터의 이미지 개수는\",idx,\"입니다.\")\n",
    "    return imgs, labels\n",
    "\n",
    "image_dir_path = os.getenv(\"HOME\") + \"/GitHub/Aiffel_S/EXPLORATION_DJ/1.Rock_Paper_Scissors/jupyter/rock_scissor_paper/train\"\n",
    "(x_train, y_train)=load_data(image_dir_path)\n",
    "x_train_norm = x_train/255.0   # 입력은 0~1 사이의 값으로 정규화\n",
    "\n",
    "print(\"x_train shape: {}\".format(x_train.shape))\n",
    "print(\"y_train shape: {}\".format(y_train.shape))"
   ]
  },
  {
   "cell_type": "markdown",
   "metadata": {},
   "source": [
    "### 잘 불러졌는지 코드를 통해 확인해본다"
   ]
  },
  {
   "cell_type": "code",
   "execution_count": 14,
   "metadata": {},
   "outputs": [
    {
     "name": "stdout",
     "output_type": "stream",
     "text": [
      "라벨:  0\n"
     ]
    },
    {
     "data": {
      "image/png": "[encoded data removed]",
      "text/plain": [
       "<Figure size 432x288 with 1 Axes>"
      ]
     },
     "metadata": {
      "needs_background": "light"
     },
     "output_type": "display_data"
    }
   ],
   "source": [
    "import matplotlib.pyplot as plt\n",
    "plt.imshow(x_train[0])\n",
    "# print('값: ', x_train[0])\n",
    "print('라벨: ', y_train[0])"
   ]
  },
  {
   "cell_type": "markdown",
   "metadata": {},
   "source": [
    "画質が悪くてあれは一体何だろうなぐらいのレベル"
   ]
  },
  {
   "cell_type": "markdown",
   "metadata": {},
   "source": [
    "## 3.1 딥러닝 네트워크 설계하기"
   ]
  },
  {
   "cell_type": "markdown",
   "metadata": {},
   "source": [
    "### 학원에서 나오는 딥러닝 설계 코드를 그대로 가져왔다   \n",
    "솔직히 아직 저것들의 원리를 잘 모르기에 일단은 이렇게 하는게 효율이 제일 좋을꺼라 생각함"
   ]
  },
  {
   "cell_type": "code",
   "execution_count": 36,
   "metadata": {},
   "outputs": [
    {
     "name": "stdout",
     "output_type": "stream",
     "text": [
      "Model에 추가된 Layer 개수:  7\n",
      "Model: \"sequential_4\"\n",
      "_________________________________________________________________\n",
      "Layer (type)                 Output Shape              Param #   \n",
      "=================================================================\n",
      "conv2d_8 (Conv2D)            (None, 26, 26, 24)        672       \n",
      "_________________________________________________________________\n",
      "max_pooling2d_8 (MaxPooling2 (None, 13, 13, 24)        0         \n",
      "_________________________________________________________________\n",
      "conv2d_9 (Conv2D)            (None, 11, 11, 48)        10416     \n",
      "_________________________________________________________________\n",
      "max_pooling2d_9 (MaxPooling2 (None, 5, 5, 48)          0         \n",
      "_________________________________________________________________\n",
      "flatten_4 (Flatten)          (None, 1200)              0         \n",
      "_________________________________________________________________\n",
      "dense_8 (Dense)              (None, 48)                57648     \n",
      "_________________________________________________________________\n",
      "dense_9 (Dense)              (None, 3)                 147       \n",
      "=================================================================\n",
      "Total params: 68,883\n",
      "Trainable params: 68,883\n",
      "Non-trainable params: 0\n",
      "_________________________________________________________________\n"
     ]
    }
   ],
   "source": [
    "import tensorflow as tf\n",
    "from tensorflow import keras\n",
    "import numpy as np\n",
    "\n",
    "#바꿔 볼 수 있는 하이퍼파라미터들\n",
    "\n",
    "n_channel_1=24 # 얼마나 다양한 이미지의 특징을 살펴볼 것인가?(입력 이미지가 다양할수록 더 많은 특징을 고려해보자.)\n",
    "n_channel_2=48\n",
    "\n",
    "n_dense=48 # 분류기 알고리즘을 얼마나 복잡하게 할 것인가?(복잡한 문제일수록 이 수를 늘려보자.)\n",
    "n_dense2=3 # 최종 분류기의 class 수\n",
    "\n",
    "n_train_epoch=20 # 몇회학습\n",
    "\n",
    "model=keras.models.Sequential()\n",
    "model.add(keras.layers.Conv2D(n_channel_1, (3,3), activation='relu', input_shape=(28,28,3))) # input_shape=(28,28,3) 입력이미지의 형태\n",
    "model.add(keras.layers.MaxPool2D(2,2))\n",
    "model.add(keras.layers.Conv2D(n_channel_2, (3,3), activation='relu'))\n",
    "model.add(keras.layers.MaxPooling2D((2,2)))\n",
    "model.add(keras.layers.Flatten())\n",
    "model.add(keras.layers.Dense(n_dense, activation='relu'))\n",
    "model.add(keras.layers.Dense(n_dense2, activation='softmax'))\n",
    "\n",
    "print('Model에 추가된 Layer 개수: ', len(model.layers))\n",
    "\n",
    "model.summary()\n",
    "model.compile(optimizer='adam',\n",
    "             loss='sparse_categorical_crossentropy',\n",
    "             metrics=['accuracy'])"
   ]
  },
  {
   "cell_type": "markdown",
   "metadata": {},
   "source": [
    "## 4 딥러닝 네트워크 학습시키기"
   ]
  },
  {
   "cell_type": "markdown",
   "metadata": {},
   "source": [
    "### 4.1 학습을 시키기전에 학습이 된 데이터가 담겨질 행렬을 만든다"
   ]
  },
  {
   "cell_type": "code",
   "execution_count": 37,
   "metadata": {},
   "outputs": [
    {
     "name": "stdout",
     "output_type": "stream",
     "text": [
      "Before Reshape - x_train_norm shape: (9300, 28, 28, 3)\n",
      "After Reshape - x_train_reshaped shape: (9300, 28, 28, 3)\n"
     ]
    }
   ],
   "source": [
    "print(\"Before Reshape - x_train_norm shape: {}\".format(x_train_norm.shape))\n",
    "x_train_reshaped=x_train_norm.reshape( -1, 28, 28, 3)  # 데이터갯수에 -1을 쓰면 reshape시 자동계산됩니다.\n",
    "print(\"After Reshape - x_train_reshaped shape: {}\".format(x_train_reshaped.shape))"
   ]
  },
  {
   "cell_type": "markdown",
   "metadata": {},
   "source": [
    "### 4.2 모델을 이용해 학습을 시킨다"
   ]
  },
  {
   "cell_type": "code",
   "execution_count": 38,
   "metadata": {},
   "outputs": [
    {
     "name": "stdout",
     "output_type": "stream",
     "text": [
      "Epoch 1/20\n",
      "291/291 [==============================] - 3s 12ms/step - loss: 0.9305 - accuracy: 0.5294\n",
      "Epoch 2/20\n",
      "291/291 [==============================] - 0s 1ms/step - loss: 0.5463 - accuracy: 0.7738\n",
      "Epoch 3/20\n",
      "291/291 [==============================] - 0s 1ms/step - loss: 0.3425 - accuracy: 0.8709\n",
      "Epoch 4/20\n",
      "291/291 [==============================] - 0s 1ms/step - loss: 0.2312 - accuracy: 0.9176\n",
      "Epoch 5/20\n",
      "291/291 [==============================] - 0s 1ms/step - loss: 0.1696 - accuracy: 0.9423\n",
      "Epoch 6/20\n",
      "291/291 [==============================] - 0s 1ms/step - loss: 0.1231 - accuracy: 0.9632\n",
      "Epoch 7/20\n",
      "291/291 [==============================] - 0s 1ms/step - loss: 0.0857 - accuracy: 0.9744\n",
      "Epoch 8/20\n",
      "291/291 [==============================] - 0s 1ms/step - loss: 0.0738 - accuracy: 0.9777\n",
      "Epoch 9/20\n",
      "291/291 [==============================] - 0s 1ms/step - loss: 0.0534 - accuracy: 0.9854\n",
      "Epoch 10/20\n",
      "291/291 [==============================] - 0s 1ms/step - loss: 0.0393 - accuracy: 0.9904\n",
      "Epoch 11/20\n",
      "291/291 [==============================] - 0s 1ms/step - loss: 0.0258 - accuracy: 0.9951\n",
      "Epoch 12/20\n",
      "291/291 [==============================] - 0s 1ms/step - loss: 0.0406 - accuracy: 0.9881\n",
      "Epoch 13/20\n",
      "291/291 [==============================] - 0s 1ms/step - loss: 0.0256 - accuracy: 0.9935\n",
      "Epoch 14/20\n",
      "291/291 [==============================] - 0s 1ms/step - loss: 0.0185 - accuracy: 0.9959\n",
      "Epoch 15/20\n",
      "291/291 [==============================] - 0s 1ms/step - loss: 0.0223 - accuracy: 0.9945\n",
      "Epoch 16/20\n",
      "291/291 [==============================] - 0s 1ms/step - loss: 0.0223 - accuracy: 0.9933\n",
      "Epoch 17/20\n",
      "291/291 [==============================] - 0s 1ms/step - loss: 0.0227 - accuracy: 0.9931\n",
      "Epoch 18/20\n",
      "291/291 [==============================] - 0s 1ms/step - loss: 0.0178 - accuracy: 0.9949\n",
      "Epoch 19/20\n",
      "291/291 [==============================] - 0s 1ms/step - loss: 0.0304 - accuracy: 0.9908\n",
      "Epoch 20/20\n",
      "291/291 [==============================] - 0s 1ms/step - loss: 0.0058 - accuracy: 0.9990\n"
     ]
    },
    {
     "data": {
      "text/plain": [
       "<tensorflow.python.keras.callbacks.History at 0x7f92cc280cd0>"
      ]
     },
     "execution_count": 38,
     "metadata": {},
     "output_type": "execute_result"
    }
   ],
   "source": [
    "model.fit(x_train_reshaped, y_train, epochs=n_train_epoch)"
   ]
  },
  {
   "cell_type": "markdown",
   "metadata": {},
   "source": [
    "## 5 얼마나 잘 만들었는지 확인하기(테스트)"
   ]
  },
  {
   "cell_type": "markdown",
   "metadata": {},
   "source": [
    "### 5.1 다른사람들 파일을 다운받아오니 파일 명이 0에서 시작돼서 겹치는 부분이 있어서 파일명을 한번에 바꿔줘야 할 필요가 있음"
   ]
  },
  {
   "cell_type": "code",
   "execution_count": 163,
   "metadata": {},
   "outputs": [
    {
     "name": "stdout",
     "output_type": "stream",
     "text": [
      "완료!\n"
     ]
    }
   ],
   "source": [
    "import os\n",
    "import shutil\n",
    "\n",
    "def change_names(_file_path, _folder_name, _start_num, _storge): # start_num 숫자 몇부터 시작해서 이름이 바뀔것인가\n",
    "    _file_path = _file_path + _folder_name\n",
    "    file_names = os.listdir(_file_path)\n",
    "    for name in file_names:\n",
    "        src = os.path.join(_file_path, name)\n",
    "        dst = str(_start_num) + '.jpg'\n",
    "        dst = os.path.join(_file_path, dst)\n",
    "       \n",
    "        try:\n",
    "            os.rename(src, dst)\n",
    "        except:\n",
    "            pass\n",
    "        \n",
    "        try:\n",
    "            os.remove(_storge + _folder_name + '/' + str(_start_num) + '.jpg')\n",
    "        except:\n",
    "            pass\n",
    "        \n",
    "        try:\n",
    "            shutil.move(dst, _storge + _folder_name) # 그리고 모아두는 폴더로 이동시킴\n",
    "        except:\n",
    "            pass\n",
    "        _start_num += 1\n",
    "        \n",
    "\n",
    "folder_num = 4\n",
    "        \n",
    "# 사진 이름을 변경할 폴더\n",
    "file_path = os.getenv(\"HOME\") + '/GitHub/Aiffel_S/EXPLORATION_DJ/1.Rock_Paper_Scissors/jupyter/rock_scissor_paper/train/' + str(folder_num) + '/'\n",
    "\n",
    "# 이름 변경된 파일들을 특정폴더로 이동시킨다, 그 경로\n",
    "storge = os.getenv(\"HOME\") + '/GitHub/Aiffel_S/EXPLORATION_DJ/1.Rock_Paper_Scissors/jupyter/rock_scissor_paper/train/'\n",
    "\n",
    "start_num = 100*folder_num # start_num 숫자 몇부터 시작해서 이름이 바뀔것인가\n",
    "change_names(file_path, 'paper', start_num, storge)\n",
    "change_names(file_path, 'rock', start_num, storge)\n",
    "change_names(file_path, 'scissor', start_num, storge)\n",
    "\n",
    "print('완료!')"
   ]
  },
  {
   "cell_type": "markdown",
   "metadata": {},
   "source": [
    "### 5.2 테스트하기전에 테스트 할 이미지들을 불러오고 그 데이터를 전처리한다"
   ]
  },
  {
   "cell_type": "code",
   "execution_count": 49,
   "metadata": {},
   "outputs": [
    {
     "name": "stdout",
     "output_type": "stream",
     "text": [
      "/home/aiffel/GitHub/Aiffel_S/EXPLORATION_DJ/1.Rock_Paper_Scissors/jupyter/rock_scissor_paper/test/\n",
      "학습데이터의 이미지 개수는 300 입니다.\n",
      "x_test shape: (300, 28, 28, 3)\n",
      "y_test shape: (300,)\n",
      "Before Reshape - x_test_norm shape: (300, 28, 28, 3)\n",
      "After Reshape - x_test_reshaped shape: (300, 28, 28, 3)\n"
     ]
    }
   ],
   "source": [
    "# 이미지 갯수를 측정하기 위함\n",
    "images_nums = 300\n",
    "\n",
    "image_dir_path = os.getenv(\"HOME\") + \"/GitHub/Aiffel_S/EXPLORATION_DJ/1.Rock_Paper_Scissors/jupyter/rock_scissor_paper/test/\"\n",
    "(x_test, y_test)=load_data(image_dir_path)\n",
    "x_test_norm = x_test/255.0   # 입력은 0~1 사이의 값으로 정규화\n",
    "\n",
    "print(\"x_test shape: {}\".format(x_test.shape))\n",
    "print(\"y_test shape: {}\".format(y_test.shape))\n",
    "\n",
    "\n",
    "\n",
    "print(\"Before Reshape - x_test_norm shape: {}\".format(x_test_norm.shape))\n",
    "x_test_reshaped=x_test_norm.reshape( -1, 28, 28, 3)  # 데이터갯수에 -1을 쓰면 reshape시 자동계산됩니다.\n",
    "print(\"After Reshape - x_test_reshaped shape: {}\".format(x_test_reshaped.shape))"
   ]
  },
  {
   "cell_type": "markdown",
   "metadata": {},
   "source": [
    "# 6 성능 테스트"
   ]
  },
  {
   "cell_type": "markdown",
   "metadata": {},
   "source": [
    "## 6.1 학습한 데이터를 가지고 테스트 데이터로 성능 테스트를 해본다"
   ]
  },
  {
   "cell_type": "code",
   "execution_count": 50,
   "metadata": {},
   "outputs": [
    {
     "name": "stdout",
     "output_type": "stream",
     "text": [
      "10/10 - 0s - loss: 0.0269 - accuracy: 0.9967\n",
      "test_loss: 0.0269171055406332 \n",
      "test_accuracy: 0.996666669845581\n"
     ]
    }
   ],
   "source": [
    "test_loss, test_accuracy = model.evaluate(x_test_reshaped,y_test, verbose=2)\n",
    "print(\"test_loss: {} \".format(test_loss))\n",
    "print(\"test_accuracy: {}\".format(test_accuracy))"
   ]
  },
  {
   "cell_type": "markdown",
   "metadata": {},
   "source": [
    "## 6.2 뭐가 틀렸는지 본다"
   ]
  },
  {
   "cell_type": "code",
   "execution_count": 169,
   "metadata": {},
   "outputs": [
    {
     "name": "stdout",
     "output_type": "stream",
     "text": [
      "예측확률분포: [0.32694522 0.25621292 0.4168418 ]\n",
      "라벨: 0, 예측결과: 2\n"
     ]
    },
    {
     "data": {
      "image/png": "[encoded data removed]",
      "text/plain": [
       "<Figure size 432x288 with 1 Axes>"
      ]
     },
     "metadata": {
      "needs_background": "light"
     },
     "output_type": "display_data"
    },
    {
     "name": "stdout",
     "output_type": "stream",
     "text": [
      "예측확률분포: [0.34733084 0.23648569 0.41618347]\n",
      "라벨: 0, 예측결과: 2\n"
     ]
    },
    {
     "data": {
      "image/png": "[encoded data removed]",
      "text/plain": [
       "<Figure size 432x288 with 1 Axes>"
      ]
     },
     "metadata": {
      "needs_background": "light"
     },
     "output_type": "display_data"
    },
    {
     "name": "stdout",
     "output_type": "stream",
     "text": [
      "예측확률분포: [0.37346402 0.22544293 0.40109307]\n",
      "라벨: 0, 예측결과: 2\n"
     ]
    },
    {
     "data": {
      "image/png": "[encoded data removed]",
      "text/plain": [
       "<Figure size 432x288 with 1 Axes>"
      ]
     },
     "metadata": {
      "needs_background": "light"
     },
     "output_type": "display_data"
    },
    {
     "name": "stdout",
     "output_type": "stream",
     "text": [
      "예측확률분포: [0.40458435 0.20139569 0.39402   ]\n",
      "라벨: 2, 예측결과: 0\n"
     ]
    },
    {
     "data": {
      "image/png": "[encoded data removed]",
      "text/plain": [
       "<Figure size 432x288 with 1 Axes>"
      ]
     },
     "metadata": {
      "needs_background": "light"
     },
     "output_type": "display_data"
    },
    {
     "name": "stdout",
     "output_type": "stream",
     "text": [
      "예측확률분포: [0.30752173 0.25494334 0.437535  ]\n",
      "라벨: 1, 예측결과: 2\n"
     ]
    },
    {
     "data": {
      "image/png": "[encoded data removed]",
      "text/plain": [
       "<Figure size 432x288 with 1 Axes>"
      ]
     },
     "metadata": {
      "needs_background": "light"
     },
     "output_type": "display_data"
    }
   ],
   "source": [
    "import random\n",
    "\n",
    "predicted_result = model.predict(x_test_reshaped)  # model이 추론한 확률값. \n",
    "predicted_labels = np.argmax(predicted_result, axis=1)\n",
    "\n",
    "\n",
    "wrong_predict_list=[]\n",
    "for i, _ in enumerate(predicted_labels):\n",
    "    # i번째 test_labels과 y_test이 다른 경우만 모아 봅시다. \n",
    "    if predicted_labels[i] != y_test[i]:\n",
    "        wrong_predict_list.append(i)\n",
    "\n",
    "# wrong_predict_list 에서 랜덤하게 5개만 뽑아봅시다.\n",
    "samples = random.choices(population=wrong_predict_list, k=5)\n",
    "\n",
    "for n in samples:\n",
    "    print(\"예측확률분포: \" + str(predicted_result[n]))\n",
    "    print(\"라벨: \" + str(y_test[n]) + \", 예측결과: \" + str(predicted_labels[n]))\n",
    "    plt.imshow(x_test[n], cmap=plt.cm.binary)\n",
    "    plt.show()"
   ]
  }
 ],
 "metadata": {
  "kernelspec": {
   "display_name": "aiffel",
   "language": "python",
   "name": "aiffel"
  },
  "language_info": {
   "codemirror_mode": {
    "name": "ipython",
    "version": 3
   },
   "file_extension": ".py",
   "mimetype": "text/x-python",
   "name": "python",
   "nbconvert_exporter": "python",
   "pygments_lexer": "ipython3",
   "version": "3.7.9"
  }
 },
 "nbformat": 4,
 "nbformat_minor": 4
}
